{
 "cells": [
  {
   "cell_type": "code",
   "execution_count": 1,
   "id": "56dda2b2",
   "metadata": {},
   "outputs": [
    {
     "data": {
      "application/javascript": [
       "\n",
       "            setTimeout(function() {\n",
       "                var nbb_cell_id = 1;\n",
       "                var nbb_unformatted_code = \"import re\\nimport os\\nimport nltk\\nimport tensorflow as tf\\nimport numpy as np\\nimport pandas as pd\\nfrom nltk.corpus import reuters\\nimport collections\\nfrom transformers import pipeline\\n\\n%load_ext nb_black\";\n",
       "                var nbb_formatted_code = \"import re\\nimport os\\nimport nltk\\nimport tensorflow as tf\\nimport numpy as np\\nimport pandas as pd\\nfrom nltk.corpus import reuters\\nimport collections\\nfrom transformers import pipeline\\n\\n%load_ext nb_black\";\n",
       "                var nbb_cells = Jupyter.notebook.get_cells();\n",
       "                for (var i = 0; i < nbb_cells.length; ++i) {\n",
       "                    if (nbb_cells[i].input_prompt_number == nbb_cell_id) {\n",
       "                        if (nbb_cells[i].get_text() == nbb_unformatted_code) {\n",
       "                             nbb_cells[i].set_text(nbb_formatted_code);\n",
       "                        }\n",
       "                        break;\n",
       "                    }\n",
       "                }\n",
       "            }, 500);\n",
       "            "
      ],
      "text/plain": [
       "<IPython.core.display.Javascript object>"
      ]
     },
     "metadata": {},
     "output_type": "display_data"
    }
   ],
   "source": [
    "import re\n",
    "import os\n",
    "import nltk\n",
    "import tensorflow as tf\n",
    "import numpy as np\n",
    "import pandas as pd\n",
    "from nltk.corpus import reuters\n",
    "import collections\n",
    "from transformers import pipeline\n",
    "\n",
    "%load_ext nb_black"
   ]
  },
  {
   "cell_type": "code",
   "execution_count": 2,
   "id": "211df837",
   "metadata": {},
   "outputs": [
    {
     "data": {
      "application/javascript": [
       "\n",
       "            setTimeout(function() {\n",
       "                var nbb_cell_id = 2;\n",
       "                var nbb_unformatted_code = \"documents = reuters.fileids()\\ntrain_docs = list(filter(lambda doc: doc.startswith(\\\"train\\\"), documents))\\ntest_docs = list(filter(lambda doc: doc.startswith(\\\"test\\\"), documents))\\ncategories = reuters.categories()\";\n",
       "                var nbb_formatted_code = \"documents = reuters.fileids()\\ntrain_docs = list(filter(lambda doc: doc.startswith(\\\"train\\\"), documents))\\ntest_docs = list(filter(lambda doc: doc.startswith(\\\"test\\\"), documents))\\ncategories = reuters.categories()\";\n",
       "                var nbb_cells = Jupyter.notebook.get_cells();\n",
       "                for (var i = 0; i < nbb_cells.length; ++i) {\n",
       "                    if (nbb_cells[i].input_prompt_number == nbb_cell_id) {\n",
       "                        if (nbb_cells[i].get_text() == nbb_unformatted_code) {\n",
       "                             nbb_cells[i].set_text(nbb_formatted_code);\n",
       "                        }\n",
       "                        break;\n",
       "                    }\n",
       "                }\n",
       "            }, 500);\n",
       "            "
      ],
      "text/plain": [
       "<IPython.core.display.Javascript object>"
      ]
     },
     "metadata": {},
     "output_type": "display_data"
    }
   ],
   "source": [
    "documents = reuters.fileids()\n",
    "train_docs = list(filter(lambda doc: doc.startswith(\"train\"), documents))\n",
    "test_docs = list(filter(lambda doc: doc.startswith(\"test\"), documents))\n",
    "categories = reuters.categories()"
   ]
  },
  {
   "cell_type": "code",
   "execution_count": 3,
   "id": "a93661bd",
   "metadata": {},
   "outputs": [
    {
     "data": {
      "application/javascript": [
       "\n",
       "            setTimeout(function() {\n",
       "                var nbb_cell_id = 3;\n",
       "                var nbb_unformatted_code = \"title_re = \\\"([A-Z].*[a-z]$)\\\"\\n\\n\\ndef title_split(doc):\\n    prev_word = \\\"\\\"\\n    for word in doc:\\n        if bool(re.match(title_re, word)):\\n            title_pos = doc.index(word)\\n            if prev_word == \\\"A\\\" or word == \\\"USA\\\":\\n                title_pos = title_pos - 1\\n            return \\\" \\\".join(doc[:title_pos])\\n        prev_word = word\\n\\n\\ndef words_split(doc):\\n    prev_word = \\\"\\\"\\n    for word in doc:\\n        if bool(re.match(title_re, word)):\\n            title_pos = doc.index(word)\\n            if prev_word == \\\"A\\\" or word == \\\"USA\\\":\\n                title_pos = title_pos - 1\\n            return \\\" \\\".join(doc[title_pos:])\\n        prev_word = word\";\n",
       "                var nbb_formatted_code = \"title_re = \\\"([A-Z].*[a-z]$)\\\"\\n\\n\\ndef title_split(doc):\\n    prev_word = \\\"\\\"\\n    for word in doc:\\n        if bool(re.match(title_re, word)):\\n            title_pos = doc.index(word)\\n            if prev_word == \\\"A\\\" or word == \\\"USA\\\":\\n                title_pos = title_pos - 1\\n            return \\\" \\\".join(doc[:title_pos])\\n        prev_word = word\\n\\n\\ndef words_split(doc):\\n    prev_word = \\\"\\\"\\n    for word in doc:\\n        if bool(re.match(title_re, word)):\\n            title_pos = doc.index(word)\\n            if prev_word == \\\"A\\\" or word == \\\"USA\\\":\\n                title_pos = title_pos - 1\\n            return \\\" \\\".join(doc[title_pos:])\\n        prev_word = word\";\n",
       "                var nbb_cells = Jupyter.notebook.get_cells();\n",
       "                for (var i = 0; i < nbb_cells.length; ++i) {\n",
       "                    if (nbb_cells[i].input_prompt_number == nbb_cell_id) {\n",
       "                        if (nbb_cells[i].get_text() == nbb_unformatted_code) {\n",
       "                             nbb_cells[i].set_text(nbb_formatted_code);\n",
       "                        }\n",
       "                        break;\n",
       "                    }\n",
       "                }\n",
       "            }, 500);\n",
       "            "
      ],
      "text/plain": [
       "<IPython.core.display.Javascript object>"
      ]
     },
     "metadata": {},
     "output_type": "display_data"
    }
   ],
   "source": [
    "title_re = \"([A-Z].*[a-z]$)\"\n",
    "\n",
    "\n",
    "def title_split(doc):\n",
    "    prev_word = \"\"\n",
    "    for word in doc:\n",
    "        if bool(re.match(title_re, word)):\n",
    "            title_pos = doc.index(word)\n",
    "            if prev_word == \"A\" or word == \"USA\":\n",
    "                title_pos = title_pos - 1\n",
    "            return \" \".join(doc[:title_pos])\n",
    "        prev_word = word\n",
    "\n",
    "\n",
    "def words_split(doc):\n",
    "    prev_word = \"\"\n",
    "    for word in doc:\n",
    "        if bool(re.match(title_re, word)):\n",
    "            title_pos = doc.index(word)\n",
    "            if prev_word == \"A\" or word == \"USA\":\n",
    "                title_pos = title_pos - 1\n",
    "            return \" \".join(doc[title_pos:])\n",
    "        prev_word = word"
   ]
  },
  {
   "cell_type": "code",
   "execution_count": 4,
   "id": "b224e848",
   "metadata": {},
   "outputs": [
    {
     "data": {
      "application/javascript": [
       "\n",
       "            setTimeout(function() {\n",
       "                var nbb_cell_id = 4;\n",
       "                var nbb_unformatted_code = \"train_list = [int(x.split(\\\"/\\\")[1]) for x in train_docs]\\ncat_list = [reuters.categories(x) for x in train_docs]\\ntitle_list = [title_split(reuters.words(x)) for x in train_docs]\\nwords_list = [words_split(reuters.words(x)) for x in train_docs]\";\n",
       "                var nbb_formatted_code = \"train_list = [int(x.split(\\\"/\\\")[1]) for x in train_docs]\\ncat_list = [reuters.categories(x) for x in train_docs]\\ntitle_list = [title_split(reuters.words(x)) for x in train_docs]\\nwords_list = [words_split(reuters.words(x)) for x in train_docs]\";\n",
       "                var nbb_cells = Jupyter.notebook.get_cells();\n",
       "                for (var i = 0; i < nbb_cells.length; ++i) {\n",
       "                    if (nbb_cells[i].input_prompt_number == nbb_cell_id) {\n",
       "                        if (nbb_cells[i].get_text() == nbb_unformatted_code) {\n",
       "                             nbb_cells[i].set_text(nbb_formatted_code);\n",
       "                        }\n",
       "                        break;\n",
       "                    }\n",
       "                }\n",
       "            }, 500);\n",
       "            "
      ],
      "text/plain": [
       "<IPython.core.display.Javascript object>"
      ]
     },
     "metadata": {},
     "output_type": "display_data"
    }
   ],
   "source": [
    "train_list = [int(x.split(\"/\")[1]) for x in train_docs]\n",
    "cat_list = [reuters.categories(x) for x in train_docs]\n",
    "title_list = [title_split(reuters.words(x)) for x in train_docs]\n",
    "words_list = [words_split(reuters.words(x)) for x in train_docs]"
   ]
  },
  {
   "cell_type": "code",
   "execution_count": 5,
   "id": "8b422b71",
   "metadata": {},
   "outputs": [
    {
     "data": {
      "application/javascript": [
       "\n",
       "            setTimeout(function() {\n",
       "                var nbb_cell_id = 5;\n",
       "                var nbb_unformatted_code = \"news_df = pd.DataFrame(\\n    {\\n        \\\"DocID\\\": train_list,\\n        \\\"Categories\\\": cat_list,\\n        \\\"Title\\\": title_list,\\n        \\\"Content\\\": words_list,\\n    }\\n).sort_values(by=\\\"DocID\\\")\";\n",
       "                var nbb_formatted_code = \"news_df = pd.DataFrame(\\n    {\\n        \\\"DocID\\\": train_list,\\n        \\\"Categories\\\": cat_list,\\n        \\\"Title\\\": title_list,\\n        \\\"Content\\\": words_list,\\n    }\\n).sort_values(by=\\\"DocID\\\")\";\n",
       "                var nbb_cells = Jupyter.notebook.get_cells();\n",
       "                for (var i = 0; i < nbb_cells.length; ++i) {\n",
       "                    if (nbb_cells[i].input_prompt_number == nbb_cell_id) {\n",
       "                        if (nbb_cells[i].get_text() == nbb_unformatted_code) {\n",
       "                             nbb_cells[i].set_text(nbb_formatted_code);\n",
       "                        }\n",
       "                        break;\n",
       "                    }\n",
       "                }\n",
       "            }, 500);\n",
       "            "
      ],
      "text/plain": [
       "<IPython.core.display.Javascript object>"
      ]
     },
     "metadata": {},
     "output_type": "display_data"
    }
   ],
   "source": [
    "news_df = pd.DataFrame(\n",
    "    {\n",
    "        \"DocID\": train_list,\n",
    "        \"Categories\": cat_list,\n",
    "        \"Title\": title_list,\n",
    "        \"Content\": words_list,\n",
    "    }\n",
    ").sort_values(by=\"DocID\")"
   ]
  },
  {
   "cell_type": "code",
   "execution_count": 6,
   "id": "4f8c027b",
   "metadata": {},
   "outputs": [
    {
     "data": {
      "application/javascript": [
       "\n",
       "            setTimeout(function() {\n",
       "                var nbb_cell_id = 6;\n",
       "                var nbb_unformatted_code = \"def title_split(row):\\n    split_word = row[\\\"Content\\\"].split()[0]\\n    title_new = split_word + row[\\\"Content\\\"].split(split_word)[1]\\n    row[\\\"Title\\\"] = title_new\\n    row[\\\"Content\\\"] = title_new\\n    return row\";\n",
       "                var nbb_formatted_code = \"def title_split(row):\\n    split_word = row[\\\"Content\\\"].split()[0]\\n    title_new = split_word + row[\\\"Content\\\"].split(split_word)[1]\\n    row[\\\"Title\\\"] = title_new\\n    row[\\\"Content\\\"] = title_new\\n    return row\";\n",
       "                var nbb_cells = Jupyter.notebook.get_cells();\n",
       "                for (var i = 0; i < nbb_cells.length; ++i) {\n",
       "                    if (nbb_cells[i].input_prompt_number == nbb_cell_id) {\n",
       "                        if (nbb_cells[i].get_text() == nbb_unformatted_code) {\n",
       "                             nbb_cells[i].set_text(nbb_formatted_code);\n",
       "                        }\n",
       "                        break;\n",
       "                    }\n",
       "                }\n",
       "            }, 500);\n",
       "            "
      ],
      "text/plain": [
       "<IPython.core.display.Javascript object>"
      ]
     },
     "metadata": {},
     "output_type": "display_data"
    }
   ],
   "source": [
    "def title_split(row):\n",
    "    split_word = row[\"Content\"].split()[0]\n",
    "    title_new = split_word + row[\"Content\"].split(split_word)[1]\n",
    "    row[\"Title\"] = title_new\n",
    "    row[\"Content\"] = title_new\n",
    "    return row"
   ]
  },
  {
   "cell_type": "code",
   "execution_count": 7,
   "id": "4692ae92",
   "metadata": {},
   "outputs": [
    {
     "data": {
      "application/javascript": [
       "\n",
       "            setTimeout(function() {\n",
       "                var nbb_cell_id = 7;\n",
       "                var nbb_unformatted_code = \"title_split_df = news_df[news_df[\\\"Title\\\"] == \\\"\\\"].apply(title_split, axis=1)\\ncols = list(news_df.columns)\\nnews_df.loc[news_df.DocID.isin(title_split_df.DocID), cols] = title_split_df[cols]\";\n",
       "                var nbb_formatted_code = \"title_split_df = news_df[news_df[\\\"Title\\\"] == \\\"\\\"].apply(title_split, axis=1)\\ncols = list(news_df.columns)\\nnews_df.loc[news_df.DocID.isin(title_split_df.DocID), cols] = title_split_df[cols]\";\n",
       "                var nbb_cells = Jupyter.notebook.get_cells();\n",
       "                for (var i = 0; i < nbb_cells.length; ++i) {\n",
       "                    if (nbb_cells[i].input_prompt_number == nbb_cell_id) {\n",
       "                        if (nbb_cells[i].get_text() == nbb_unformatted_code) {\n",
       "                             nbb_cells[i].set_text(nbb_formatted_code);\n",
       "                        }\n",
       "                        break;\n",
       "                    }\n",
       "                }\n",
       "            }, 500);\n",
       "            "
      ],
      "text/plain": [
       "<IPython.core.display.Javascript object>"
      ]
     },
     "metadata": {},
     "output_type": "display_data"
    }
   ],
   "source": [
    "title_split_df = news_df[news_df[\"Title\"] == \"\"].apply(title_split, axis=1)\n",
    "cols = list(news_df.columns)\n",
    "news_df.loc[news_df.DocID.isin(title_split_df.DocID), cols] = title_split_df[cols]"
   ]
  },
  {
   "cell_type": "code",
   "execution_count": 9,
   "id": "e14b0d12",
   "metadata": {},
   "outputs": [
    {
     "data": {
      "application/javascript": [
       "\n",
       "            setTimeout(function() {\n",
       "                var nbb_cell_id = 9;\n",
       "                var nbb_unformatted_code = \"new_cats = [\\n    \\\"acuisition\\\",\\n    \\\"aluminum\\\",\\n    \\\"bottom of the pyramid\\\",\\n    \\\"barley\\\",\\n    \\\"castor oil\\\",\\n    \\\"carcass\\\",\\n    \\\"cattle\\\",\\n    \\\"cocoa\\\",\\n    \\\"coconut\\\",\\n    \\\"coconut oil\\\",\\n    \\\"coffee\\\",\\n    \\\"consumer price index\\\",\\n    \\\"copper\\\",\\n    \\\"copra cake\\\",\\n    \\\"corn\\\",\\n    \\\"cotton\\\",\\n    \\\"computershare\\\",\\n    \\\"crude\\\",\\n    \\\"deutsche fussball liga\\\",\\n    \\\"digital realty trust\\\",\\n    \\\"dravida munnetra kazhagam\\\",\\n    \\\"ellington residential mortgage reit stock\\\",\\n    \\\"fuel\\\",\\n    \\\"gas\\\",\\n    \\\"gold\\\",\\n    \\\"grain\\\",\\n    \\\"groundnut\\\",\\n    \\\"ground nut oil\\\",\\n    \\\"grupo nacional provincial\\\",\\n    \\\"heat\\\",\\n    \\\"hog\\\",\\n    \\\"housing\\\",\\n    \\\"income\\\",\\n    \\\"instalco intressenter debt\\\",\\n    \\\"interest\\\",\\n    \\\"intrepid potash\\\",\\n    \\\"iron steel\\\",\\n    \\\"jet\\\",\\n    \\\"jobs\\\",\\n    \\\"lead\\\",\\n    \\\"leading economic index\\\",\\n    \\\"linseed oil\\\",\\n    \\\"livestock\\\",\\n    \\\"lumber\\\",\\n    \\\"meal feed\\\",\\n    \\\"money foreign exchange\\\",\\n    \\\"money supply\\\",\\n    \\\"natural gas\\\",\\n    \\\"naphtha\\\",\\n    \\\"nickel\\\",\\n    \\\"nokia\\\",\\n    \\\"new zealand dollar\\\",\\n    \\\"oat\\\",\\n    \\\"orange\\\",\\n    \\\"palladium\\\",\\n    \\\"palm oil\\\",\\n    \\\"palm kernel\\\",\\n    \\\"petronas chemicals\\\",\\n    \\\"platinum\\\",\\n    \\\"potato\\\",\\n    \\\"propane\\\",\\n    \\\"rand\\\",\\n    \\\"rapeseed\\\",\\n    \\\"rapeseed oil\\\",\\n    \\\"reserves\\\",\\n    \\\"retail\\\",\\n    \\\"rice\\\",\\n    \\\"rubber\\\",\\n    \\\"rye\\\",\\n    \\\"ship\\\",\\n    \\\"silver\\\",\\n    \\\"sorghum\\\",\\n    \\\"soybean\\\",\\n    \\\"soy meal\\\",\\n    \\\"soy oil\\\",\\n    \\\"strategic metal\\\",\\n    \\\"sugar\\\",\\n    \\\"sunflower meal\\\",\\n    \\\"sunflower oil\\\",\\n    \\\"sunflower seed\\\",\\n    \\\"tea\\\",\\n    \\\"tin\\\",\\n    \\\"trade\\\",\\n    \\\"vagetable oil\\\",\\n    \\\"waterfront philippines\\\",\\n    \\\"wheat\\\",\\n    \\\"yen\\\",\\n    \\\"zinc\\\",\\n]\";\n",
       "                var nbb_formatted_code = \"new_cats = [\\n    \\\"acuisition\\\",\\n    \\\"aluminum\\\",\\n    \\\"bottom of the pyramid\\\",\\n    \\\"barley\\\",\\n    \\\"castor oil\\\",\\n    \\\"carcass\\\",\\n    \\\"cattle\\\",\\n    \\\"cocoa\\\",\\n    \\\"coconut\\\",\\n    \\\"coconut oil\\\",\\n    \\\"coffee\\\",\\n    \\\"consumer price index\\\",\\n    \\\"copper\\\",\\n    \\\"copra cake\\\",\\n    \\\"corn\\\",\\n    \\\"cotton\\\",\\n    \\\"computershare\\\",\\n    \\\"crude\\\",\\n    \\\"deutsche fussball liga\\\",\\n    \\\"digital realty trust\\\",\\n    \\\"dravida munnetra kazhagam\\\",\\n    \\\"ellington residential mortgage reit stock\\\",\\n    \\\"fuel\\\",\\n    \\\"gas\\\",\\n    \\\"gold\\\",\\n    \\\"grain\\\",\\n    \\\"groundnut\\\",\\n    \\\"ground nut oil\\\",\\n    \\\"grupo nacional provincial\\\",\\n    \\\"heat\\\",\\n    \\\"hog\\\",\\n    \\\"housing\\\",\\n    \\\"income\\\",\\n    \\\"instalco intressenter debt\\\",\\n    \\\"interest\\\",\\n    \\\"intrepid potash\\\",\\n    \\\"iron steel\\\",\\n    \\\"jet\\\",\\n    \\\"jobs\\\",\\n    \\\"lead\\\",\\n    \\\"leading economic index\\\",\\n    \\\"linseed oil\\\",\\n    \\\"livestock\\\",\\n    \\\"lumber\\\",\\n    \\\"meal feed\\\",\\n    \\\"money foreign exchange\\\",\\n    \\\"money supply\\\",\\n    \\\"natural gas\\\",\\n    \\\"naphtha\\\",\\n    \\\"nickel\\\",\\n    \\\"nokia\\\",\\n    \\\"new zealand dollar\\\",\\n    \\\"oat\\\",\\n    \\\"orange\\\",\\n    \\\"palladium\\\",\\n    \\\"palm oil\\\",\\n    \\\"palm kernel\\\",\\n    \\\"petronas chemicals\\\",\\n    \\\"platinum\\\",\\n    \\\"potato\\\",\\n    \\\"propane\\\",\\n    \\\"rand\\\",\\n    \\\"rapeseed\\\",\\n    \\\"rapeseed oil\\\",\\n    \\\"reserves\\\",\\n    \\\"retail\\\",\\n    \\\"rice\\\",\\n    \\\"rubber\\\",\\n    \\\"rye\\\",\\n    \\\"ship\\\",\\n    \\\"silver\\\",\\n    \\\"sorghum\\\",\\n    \\\"soybean\\\",\\n    \\\"soy meal\\\",\\n    \\\"soy oil\\\",\\n    \\\"strategic metal\\\",\\n    \\\"sugar\\\",\\n    \\\"sunflower meal\\\",\\n    \\\"sunflower oil\\\",\\n    \\\"sunflower seed\\\",\\n    \\\"tea\\\",\\n    \\\"tin\\\",\\n    \\\"trade\\\",\\n    \\\"vagetable oil\\\",\\n    \\\"waterfront philippines\\\",\\n    \\\"wheat\\\",\\n    \\\"yen\\\",\\n    \\\"zinc\\\",\\n]\";\n",
       "                var nbb_cells = Jupyter.notebook.get_cells();\n",
       "                for (var i = 0; i < nbb_cells.length; ++i) {\n",
       "                    if (nbb_cells[i].input_prompt_number == nbb_cell_id) {\n",
       "                        if (nbb_cells[i].get_text() == nbb_unformatted_code) {\n",
       "                             nbb_cells[i].set_text(nbb_formatted_code);\n",
       "                        }\n",
       "                        break;\n",
       "                    }\n",
       "                }\n",
       "            }, 500);\n",
       "            "
      ],
      "text/plain": [
       "<IPython.core.display.Javascript object>"
      ]
     },
     "metadata": {},
     "output_type": "display_data"
    }
   ],
   "source": [
    "new_cats = [\n",
    "    \"acuisition\",\n",
    "    \"aluminum\",\n",
    "    \"bottom of the pyramid\",\n",
    "    \"barley\",\n",
    "    \"castor oil\",\n",
    "    \"carcass\",\n",
    "    \"cattle\",\n",
    "    \"cocoa\",\n",
    "    \"coconut\",\n",
    "    \"coconut oil\",\n",
    "    \"coffee\",\n",
    "    \"consumer price index\",\n",
    "    \"copper\",\n",
    "    \"copra cake\",\n",
    "    \"corn\",\n",
    "    \"cotton\",\n",
    "    \"computershare\",\n",
    "    \"crude\",\n",
    "    \"deutsche fussball liga\",\n",
    "    \"digital realty trust\",\n",
    "    \"dravida munnetra kazhagam\",\n",
    "    \"ellington residential mortgage reit stock\",\n",
    "    \"fuel\",\n",
    "    \"gas\",\n",
    "    \"gold\",\n",
    "    \"grain\",\n",
    "    \"groundnut\",\n",
    "    \"ground nut oil\",\n",
    "    \"grupo nacional provincial\",\n",
    "    \"heat\",\n",
    "    \"hog\",\n",
    "    \"housing\",\n",
    "    \"income\",\n",
    "    \"instalco intressenter debt\",\n",
    "    \"interest\",\n",
    "    \"intrepid potash\",\n",
    "    \"iron steel\",\n",
    "    \"jet\",\n",
    "    \"jobs\",\n",
    "    \"lead\",\n",
    "    \"leading economic index\",\n",
    "    \"linseed oil\",\n",
    "    \"livestock\",\n",
    "    \"lumber\",\n",
    "    \"meal feed\",\n",
    "    \"money foreign exchange\",\n",
    "    \"money supply\",\n",
    "    \"natural gas\",\n",
    "    \"naphtha\",\n",
    "    \"nickel\",\n",
    "    \"nokia\",\n",
    "    \"new zealand dollar\",\n",
    "    \"oat\",\n",
    "    \"orange\",\n",
    "    \"palladium\",\n",
    "    \"palm oil\",\n",
    "    \"palm kernel\",\n",
    "    \"petronas chemicals\",\n",
    "    \"platinum\",\n",
    "    \"potato\",\n",
    "    \"propane\",\n",
    "    \"rand\",\n",
    "    \"rapeseed\",\n",
    "    \"rapeseed oil\",\n",
    "    \"reserves\",\n",
    "    \"retail\",\n",
    "    \"rice\",\n",
    "    \"rubber\",\n",
    "    \"rye\",\n",
    "    \"ship\",\n",
    "    \"silver\",\n",
    "    \"sorghum\",\n",
    "    \"soybean\",\n",
    "    \"soy meal\",\n",
    "    \"soy oil\",\n",
    "    \"strategic metal\",\n",
    "    \"sugar\",\n",
    "    \"sunflower meal\",\n",
    "    \"sunflower oil\",\n",
    "    \"sunflower seed\",\n",
    "    \"tea\",\n",
    "    \"tin\",\n",
    "    \"trade\",\n",
    "    \"vagetable oil\",\n",
    "    \"waterfront philippines\",\n",
    "    \"wheat\",\n",
    "    \"yen\",\n",
    "    \"zinc\",\n",
    "]"
   ]
  },
  {
   "cell_type": "code",
   "execution_count": 10,
   "id": "71fc492c",
   "metadata": {},
   "outputs": [
    {
     "name": "stderr",
     "output_type": "stream",
     "text": [
      "All model checkpoint layers were used when initializing TFRobertaForSequenceClassification.\n",
      "\n",
      "All the layers of TFRobertaForSequenceClassification were initialized from the model checkpoint at roberta-large-mnli.\n",
      "If your task is similar to the task the model of the checkpoint was trained on, you can already use TFRobertaForSequenceClassification for predictions without further training.\n"
     ]
    },
    {
     "data": {
      "application/javascript": [
       "\n",
       "            setTimeout(function() {\n",
       "                var nbb_cell_id = 10;\n",
       "                var nbb_unformatted_code = \"classifier = pipeline(\\\"zero-shot-classification\\\", model=\\\"roberta-large-mnli\\\")\";\n",
       "                var nbb_formatted_code = \"classifier = pipeline(\\\"zero-shot-classification\\\", model=\\\"roberta-large-mnli\\\")\";\n",
       "                var nbb_cells = Jupyter.notebook.get_cells();\n",
       "                for (var i = 0; i < nbb_cells.length; ++i) {\n",
       "                    if (nbb_cells[i].input_prompt_number == nbb_cell_id) {\n",
       "                        if (nbb_cells[i].get_text() == nbb_unformatted_code) {\n",
       "                             nbb_cells[i].set_text(nbb_formatted_code);\n",
       "                        }\n",
       "                        break;\n",
       "                    }\n",
       "                }\n",
       "            }, 500);\n",
       "            "
      ],
      "text/plain": [
       "<IPython.core.display.Javascript object>"
      ]
     },
     "metadata": {},
     "output_type": "display_data"
    }
   ],
   "source": [
    "classifier = pipeline(\"zero-shot-classification\", model=\"roberta-large-mnli\")"
   ]
  },
  {
   "cell_type": "code",
   "execution_count": 11,
   "id": "a8ed77fc",
   "metadata": {},
   "outputs": [
    {
     "data": {
      "application/javascript": [
       "\n",
       "            setTimeout(function() {\n",
       "                var nbb_cell_id = 11;\n",
       "                var nbb_unformatted_code = \"news_df[\\\"top_label\\\"] = news_df[\\\"Categories\\\"].apply(lambda x: x[0])\\nnews_df[\\\"title_length\\\"] = news_df[\\\"Title\\\"].apply(lambda x: len(x) if x != None else 0)\\nnews_df[\\\"con_length\\\"] = news_df[\\\"Content\\\"].apply(lambda x: len(x) if x != None else 0)\";\n",
       "                var nbb_formatted_code = \"news_df[\\\"top_label\\\"] = news_df[\\\"Categories\\\"].apply(lambda x: x[0])\\nnews_df[\\\"title_length\\\"] = news_df[\\\"Title\\\"].apply(lambda x: len(x) if x != None else 0)\\nnews_df[\\\"con_length\\\"] = news_df[\\\"Content\\\"].apply(lambda x: len(x) if x != None else 0)\";\n",
       "                var nbb_cells = Jupyter.notebook.get_cells();\n",
       "                for (var i = 0; i < nbb_cells.length; ++i) {\n",
       "                    if (nbb_cells[i].input_prompt_number == nbb_cell_id) {\n",
       "                        if (nbb_cells[i].get_text() == nbb_unformatted_code) {\n",
       "                             nbb_cells[i].set_text(nbb_formatted_code);\n",
       "                        }\n",
       "                        break;\n",
       "                    }\n",
       "                }\n",
       "            }, 500);\n",
       "            "
      ],
      "text/plain": [
       "<IPython.core.display.Javascript object>"
      ]
     },
     "metadata": {},
     "output_type": "display_data"
    }
   ],
   "source": [
    "news_df[\"top_label\"] = news_df[\"Categories\"].apply(lambda x: x[0])\n",
    "news_df[\"title_length\"] = news_df[\"Title\"].apply(lambda x: len(x) if x != None else 0)\n",
    "news_df[\"con_length\"] = news_df[\"Content\"].apply(lambda x: len(x) if x != None else 0)"
   ]
  },
  {
   "cell_type": "code",
   "execution_count": 12,
   "id": "64eeeff5",
   "metadata": {},
   "outputs": [
    {
     "data": {
      "application/javascript": [
       "\n",
       "            setTimeout(function() {\n",
       "                var nbb_cell_id = 12;\n",
       "                var nbb_unformatted_code = \"news_filt_df = news_df[news_df[\\\"title_length\\\"] > 40]\\nsample_df = (\\n    news_filt_df.groupby(\\\"top_label\\\")\\n    .apply(lambda x: x.sample(15, replace=True))\\n    .reset_index(drop=True)\\n)\\nsample_df = sample_df.drop(columns=[\\\"Categories\\\"]).drop_duplicates()\";\n",
       "                var nbb_formatted_code = \"news_filt_df = news_df[news_df[\\\"title_length\\\"] > 40]\\nsample_df = (\\n    news_filt_df.groupby(\\\"top_label\\\")\\n    .apply(lambda x: x.sample(15, replace=True))\\n    .reset_index(drop=True)\\n)\\nsample_df = sample_df.drop(columns=[\\\"Categories\\\"]).drop_duplicates()\";\n",
       "                var nbb_cells = Jupyter.notebook.get_cells();\n",
       "                for (var i = 0; i < nbb_cells.length; ++i) {\n",
       "                    if (nbb_cells[i].input_prompt_number == nbb_cell_id) {\n",
       "                        if (nbb_cells[i].get_text() == nbb_unformatted_code) {\n",
       "                             nbb_cells[i].set_text(nbb_formatted_code);\n",
       "                        }\n",
       "                        break;\n",
       "                    }\n",
       "                }\n",
       "            }, 500);\n",
       "            "
      ],
      "text/plain": [
       "<IPython.core.display.Javascript object>"
      ]
     },
     "metadata": {},
     "output_type": "display_data"
    }
   ],
   "source": [
    "news_filt_df = news_df[news_df[\"title_length\"] > 40]\n",
    "sample_df = (\n",
    "    news_filt_df.groupby(\"top_label\")\n",
    "    .apply(lambda x: x.sample(15, replace=True))\n",
    "    .reset_index(drop=True)\n",
    ")\n",
    "sample_df = sample_df.drop(columns=[\"Categories\"]).drop_duplicates()"
   ]
  },
  {
   "cell_type": "code",
   "execution_count": 13,
   "id": "6fd6ab90",
   "metadata": {},
   "outputs": [
    {
     "data": {
      "application/javascript": [
       "\n",
       "            setTimeout(function() {\n",
       "                var nbb_cell_id = 13;\n",
       "                var nbb_unformatted_code = \"class_title_list = list(sample_df[\\\"Title\\\"])\";\n",
       "                var nbb_formatted_code = \"class_title_list = list(sample_df[\\\"Title\\\"])\";\n",
       "                var nbb_cells = Jupyter.notebook.get_cells();\n",
       "                for (var i = 0; i < nbb_cells.length; ++i) {\n",
       "                    if (nbb_cells[i].input_prompt_number == nbb_cell_id) {\n",
       "                        if (nbb_cells[i].get_text() == nbb_unformatted_code) {\n",
       "                             nbb_cells[i].set_text(nbb_formatted_code);\n",
       "                        }\n",
       "                        break;\n",
       "                    }\n",
       "                }\n",
       "            }, 500);\n",
       "            "
      ],
      "text/plain": [
       "<IPython.core.display.Javascript object>"
      ]
     },
     "metadata": {},
     "output_type": "display_data"
    }
   ],
   "source": [
    "class_title_list = list(sample_df[\"Title\"])"
   ]
  },
  {
   "cell_type": "code",
   "execution_count": 14,
   "id": "ee2bbc57",
   "metadata": {},
   "outputs": [
    {
     "data": {
      "application/javascript": [
       "\n",
       "            setTimeout(function() {\n",
       "                var nbb_cell_id = 14;\n",
       "                var nbb_unformatted_code = \"clfd_dict_list2 = [\\n    classifier(title, new_cats, multi_label=True) for title in class_title_list\\n]\\ncategorized_df = pd.DataFrame.from_records(clfd_dict_list2)\\ncategorized_df.to_pickle(\\\"C:/Users/rparg/Documents/Data/Reuters/categorized2.pkl\\\")\";\n",
       "                var nbb_formatted_code = \"clfd_dict_list2 = [\\n    classifier(title, new_cats, multi_label=True) for title in class_title_list\\n]\\ncategorized_df = pd.DataFrame.from_records(clfd_dict_list2)\\ncategorized_df.to_pickle(\\\"C:/Users/rparg/Documents/Data/Reuters/categorized2.pkl\\\")\";\n",
       "                var nbb_cells = Jupyter.notebook.get_cells();\n",
       "                for (var i = 0; i < nbb_cells.length; ++i) {\n",
       "                    if (nbb_cells[i].input_prompt_number == nbb_cell_id) {\n",
       "                        if (nbb_cells[i].get_text() == nbb_unformatted_code) {\n",
       "                             nbb_cells[i].set_text(nbb_formatted_code);\n",
       "                        }\n",
       "                        break;\n",
       "                    }\n",
       "                }\n",
       "            }, 500);\n",
       "            "
      ],
      "text/plain": [
       "<IPython.core.display.Javascript object>"
      ]
     },
     "metadata": {},
     "output_type": "display_data"
    }
   ],
   "source": [
    "clfd_dict_list2 = [\n",
    "    classifier(title, new_cats, multi_label=True) for title in class_title_list\n",
    "]\n",
    "categorized_df = pd.DataFrame.from_records(clfd_dict_list2)\n",
    "categorized_df.to_pickle(\"C:/Users/rparg/Documents/Data/Reuters/categorized2.pkl\")"
   ]
  },
  {
   "cell_type": "code",
   "execution_count": 13,
   "id": "305bbc18",
   "metadata": {},
   "outputs": [
    {
     "data": {
      "application/javascript": [
       "\n",
       "            setTimeout(function() {\n",
       "                var nbb_cell_id = 13;\n",
       "                var nbb_unformatted_code = \"news_con_filt_df = news_df[\\n    (news_df[\\\"con_length\\\"] > 200) & (news_df[\\\"con_length\\\"] < 1000)\\n]\";\n",
       "                var nbb_formatted_code = \"news_con_filt_df = news_df[\\n    (news_df[\\\"con_length\\\"] > 200) & (news_df[\\\"con_length\\\"] < 1000)\\n]\";\n",
       "                var nbb_cells = Jupyter.notebook.get_cells();\n",
       "                for (var i = 0; i < nbb_cells.length; ++i) {\n",
       "                    if (nbb_cells[i].input_prompt_number == nbb_cell_id) {\n",
       "                        if (nbb_cells[i].get_text() == nbb_unformatted_code) {\n",
       "                             nbb_cells[i].set_text(nbb_formatted_code);\n",
       "                        }\n",
       "                        break;\n",
       "                    }\n",
       "                }\n",
       "            }, 500);\n",
       "            "
      ],
      "text/plain": [
       "<IPython.core.display.Javascript object>"
      ]
     },
     "metadata": {},
     "output_type": "display_data"
    }
   ],
   "source": [
    "news_con_filt_df = news_df[\n",
    "    (news_df[\"con_length\"] > 200) & (news_df[\"con_length\"] < 1000)\n",
    "]"
   ]
  },
  {
   "cell_type": "code",
   "execution_count": 14,
   "id": "accd7dd8",
   "metadata": {},
   "outputs": [
    {
     "data": {
      "application/javascript": [
       "\n",
       "            setTimeout(function() {\n",
       "                var nbb_cell_id = 14;\n",
       "                var nbb_unformatted_code = \"sample_con_df = (\\n    news_con_filt_df.groupby(\\\"top_label\\\")\\n    .apply(lambda x: x.sample(4, replace=True))\\n    .reset_index(drop=True)\\n)\\nsample_con_df = sample_con_df.drop(columns=[\\\"Categories\\\"]).drop_duplicates()\";\n",
       "                var nbb_formatted_code = \"sample_con_df = (\\n    news_con_filt_df.groupby(\\\"top_label\\\")\\n    .apply(lambda x: x.sample(4, replace=True))\\n    .reset_index(drop=True)\\n)\\nsample_con_df = sample_con_df.drop(columns=[\\\"Categories\\\"]).drop_duplicates()\";\n",
       "                var nbb_cells = Jupyter.notebook.get_cells();\n",
       "                for (var i = 0; i < nbb_cells.length; ++i) {\n",
       "                    if (nbb_cells[i].input_prompt_number == nbb_cell_id) {\n",
       "                        if (nbb_cells[i].get_text() == nbb_unformatted_code) {\n",
       "                             nbb_cells[i].set_text(nbb_formatted_code);\n",
       "                        }\n",
       "                        break;\n",
       "                    }\n",
       "                }\n",
       "            }, 500);\n",
       "            "
      ],
      "text/plain": [
       "<IPython.core.display.Javascript object>"
      ]
     },
     "metadata": {},
     "output_type": "display_data"
    }
   ],
   "source": [
    "sample_con_df = (\n",
    "    news_con_filt_df.groupby(\"top_label\")\n",
    "    .apply(lambda x: x.sample(4, replace=True))\n",
    "    .reset_index(drop=True)\n",
    ")\n",
    "sample_con_df = sample_con_df.drop(columns=[\"Categories\"]).drop_duplicates()"
   ]
  },
  {
   "cell_type": "code",
   "execution_count": 15,
   "id": "aba53459",
   "metadata": {},
   "outputs": [
    {
     "data": {
      "application/javascript": [
       "\n",
       "            setTimeout(function() {\n",
       "                var nbb_cell_id = 15;\n",
       "                var nbb_unformatted_code = \"class_con_list = list(sample_con_df[\\\"Content\\\"])\";\n",
       "                var nbb_formatted_code = \"class_con_list = list(sample_con_df[\\\"Content\\\"])\";\n",
       "                var nbb_cells = Jupyter.notebook.get_cells();\n",
       "                for (var i = 0; i < nbb_cells.length; ++i) {\n",
       "                    if (nbb_cells[i].input_prompt_number == nbb_cell_id) {\n",
       "                        if (nbb_cells[i].get_text() == nbb_unformatted_code) {\n",
       "                             nbb_cells[i].set_text(nbb_formatted_code);\n",
       "                        }\n",
       "                        break;\n",
       "                    }\n",
       "                }\n",
       "            }, 500);\n",
       "            "
      ],
      "text/plain": [
       "<IPython.core.display.Javascript object>"
      ]
     },
     "metadata": {},
     "output_type": "display_data"
    }
   ],
   "source": [
    "class_con_list = list(sample_con_df[\"Content\"])"
   ]
  },
  {
   "cell_type": "code",
   "execution_count": 16,
   "id": "636ff294",
   "metadata": {},
   "outputs": [
    {
     "data": {
      "application/javascript": [
       "\n",
       "            setTimeout(function() {\n",
       "                var nbb_cell_id = 16;\n",
       "                var nbb_unformatted_code = \"clfd_dict_list2 = [\\n    classifier(title, new_cats, multi_label=True) for title in class_con_list\\n]\\ncategorized_df = pd.DataFrame.from_records(clfd_dict_list2)\\ncategorized_df.to_pickle(\\\"C:/Users/rparg/Documents/Data/Reuters/con_cat.pkl\\\")\";\n",
       "                var nbb_formatted_code = \"clfd_dict_list2 = [\\n    classifier(title, new_cats, multi_label=True) for title in class_con_list\\n]\\ncategorized_df = pd.DataFrame.from_records(clfd_dict_list2)\\ncategorized_df.to_pickle(\\\"C:/Users/rparg/Documents/Data/Reuters/con_cat.pkl\\\")\";\n",
       "                var nbb_cells = Jupyter.notebook.get_cells();\n",
       "                for (var i = 0; i < nbb_cells.length; ++i) {\n",
       "                    if (nbb_cells[i].input_prompt_number == nbb_cell_id) {\n",
       "                        if (nbb_cells[i].get_text() == nbb_unformatted_code) {\n",
       "                             nbb_cells[i].set_text(nbb_formatted_code);\n",
       "                        }\n",
       "                        break;\n",
       "                    }\n",
       "                }\n",
       "            }, 500);\n",
       "            "
      ],
      "text/plain": [
       "<IPython.core.display.Javascript object>"
      ]
     },
     "metadata": {},
     "output_type": "display_data"
    }
   ],
   "source": [
    "clfd_dict_list2 = [\n",
    "    classifier(title, new_cats, multi_label=True) for title in class_con_list\n",
    "]\n",
    "categorized_df = pd.DataFrame.from_records(clfd_dict_list2)\n",
    "categorized_df.to_pickle(\"C:/Users/rparg/Documents/Data/Reuters/con_cat.pkl\")"
   ]
  },
  {
   "cell_type": "code",
   "execution_count": 17,
   "id": "09a31568",
   "metadata": {},
   "outputs": [
    {
     "data": {
      "text/html": [
       "<div>\n",
       "<style scoped>\n",
       "    .dataframe tbody tr th:only-of-type {\n",
       "        vertical-align: middle;\n",
       "    }\n",
       "\n",
       "    .dataframe tbody tr th {\n",
       "        vertical-align: top;\n",
       "    }\n",
       "\n",
       "    .dataframe thead th {\n",
       "        text-align: right;\n",
       "    }\n",
       "</style>\n",
       "<table border=\"1\" class=\"dataframe\">\n",
       "  <thead>\n",
       "    <tr style=\"text-align: right;\">\n",
       "      <th></th>\n",
       "      <th>sequence</th>\n",
       "      <th>labels</th>\n",
       "      <th>scores</th>\n",
       "    </tr>\n",
       "  </thead>\n",
       "  <tbody>\n",
       "    <tr>\n",
       "      <th>0</th>\n",
       "      <td>United Medical Corp said it has reached a defi...</td>\n",
       "      <td>[acuisition, trade, interest, crude, lead, res...</td>\n",
       "      <td>[0.8082118630409241, 0.6202386021614075, 0.555...</td>\n",
       "    </tr>\n",
       "    <tr>\n",
       "      <th>1</th>\n",
       "      <td>Scan - Graphics Inc &gt; said it has completed a ...</td>\n",
       "      <td>[interest, reserves, jobs, rye, trade, acuisit...</td>\n",
       "      <td>[0.9111109972000122, 0.7634175419807434, 0.699...</td>\n",
       "    </tr>\n",
       "    <tr>\n",
       "      <th>2</th>\n",
       "      <td>Allwaste Inc said it entered into an agreement...</td>\n",
       "      <td>[acuisition, interest, reserves, crude, trade,...</td>\n",
       "      <td>[0.8057773113250732, 0.521743893623352, 0.3815...</td>\n",
       "    </tr>\n",
       "    <tr>\n",
       "      <th>3</th>\n",
       "      <td>Waste Management Inc said it amended its offer...</td>\n",
       "      <td>[reserves, jobs, jet, coconut, trade, ship, ac...</td>\n",
       "      <td>[0.6777425408363342, 0.6480847001075745, 0.631...</td>\n",
       "    </tr>\n",
       "    <tr>\n",
       "      <th>4</th>\n",
       "      <td>Non - Communist daily average unwrought alumin...</td>\n",
       "      <td>[aluminum, interest, leading economic index, h...</td>\n",
       "      <td>[0.7101340889930725, 0.631232500076294, 0.2816...</td>\n",
       "    </tr>\n",
       "    <tr>\n",
       "      <th>...</th>\n",
       "      <td>...</td>\n",
       "      <td>...</td>\n",
       "      <td>...</td>\n",
       "    </tr>\n",
       "    <tr>\n",
       "      <th>201</th>\n",
       "      <td>Belgian wholesale prices fell by 5 . 9 pct in ...</td>\n",
       "      <td>[retail, reserves, leading economic index, tra...</td>\n",
       "      <td>[0.5760638117790222, 0.5740767121315002, 0.568...</td>\n",
       "    </tr>\n",
       "    <tr>\n",
       "      <th>202</th>\n",
       "      <td>The wholesale price index rose 1 . 1 pct month...</td>\n",
       "      <td>[leading economic index, reserves, trade, new ...</td>\n",
       "      <td>[0.03100494109094143, 0.018080731853842735, 0....</td>\n",
       "    </tr>\n",
       "    <tr>\n",
       "      <th>203</th>\n",
       "      <td>Producers zinc stocks in Organization for Econ...</td>\n",
       "      <td>[zinc, interest, strategic metal, leading econ...</td>\n",
       "      <td>[0.9961469173431396, 0.9147019982337952, 0.634...</td>\n",
       "    </tr>\n",
       "    <tr>\n",
       "      <th>204</th>\n",
       "      <td>Hudson Bay Mining and Smelting Co Ltd said it ...</td>\n",
       "      <td>[zinc, strategic metal, retail, interest, jobs...</td>\n",
       "      <td>[0.99750816822052, 0.8938364386558533, 0.83465...</td>\n",
       "    </tr>\n",
       "    <tr>\n",
       "      <th>205</th>\n",
       "      <td>Total U . S . slab zinc stocks held by smelter...</td>\n",
       "      <td>[zinc, interest, strategic metal, reserves, in...</td>\n",
       "      <td>[0.996226966381073, 0.7910326719284058, 0.6258...</td>\n",
       "    </tr>\n",
       "  </tbody>\n",
       "</table>\n",
       "<p>206 rows × 3 columns</p>\n",
       "</div>"
      ],
      "text/plain": [
       "                                              sequence  \\\n",
       "0    United Medical Corp said it has reached a defi...   \n",
       "1    Scan - Graphics Inc > said it has completed a ...   \n",
       "2    Allwaste Inc said it entered into an agreement...   \n",
       "3    Waste Management Inc said it amended its offer...   \n",
       "4    Non - Communist daily average unwrought alumin...   \n",
       "..                                                 ...   \n",
       "201  Belgian wholesale prices fell by 5 . 9 pct in ...   \n",
       "202  The wholesale price index rose 1 . 1 pct month...   \n",
       "203  Producers zinc stocks in Organization for Econ...   \n",
       "204  Hudson Bay Mining and Smelting Co Ltd said it ...   \n",
       "205  Total U . S . slab zinc stocks held by smelter...   \n",
       "\n",
       "                                                labels  \\\n",
       "0    [acuisition, trade, interest, crude, lead, res...   \n",
       "1    [interest, reserves, jobs, rye, trade, acuisit...   \n",
       "2    [acuisition, interest, reserves, crude, trade,...   \n",
       "3    [reserves, jobs, jet, coconut, trade, ship, ac...   \n",
       "4    [aluminum, interest, leading economic index, h...   \n",
       "..                                                 ...   \n",
       "201  [retail, reserves, leading economic index, tra...   \n",
       "202  [leading economic index, reserves, trade, new ...   \n",
       "203  [zinc, interest, strategic metal, leading econ...   \n",
       "204  [zinc, strategic metal, retail, interest, jobs...   \n",
       "205  [zinc, interest, strategic metal, reserves, in...   \n",
       "\n",
       "                                                scores  \n",
       "0    [0.8082118630409241, 0.6202386021614075, 0.555...  \n",
       "1    [0.9111109972000122, 0.7634175419807434, 0.699...  \n",
       "2    [0.8057773113250732, 0.521743893623352, 0.3815...  \n",
       "3    [0.6777425408363342, 0.6480847001075745, 0.631...  \n",
       "4    [0.7101340889930725, 0.631232500076294, 0.2816...  \n",
       "..                                                 ...  \n",
       "201  [0.5760638117790222, 0.5740767121315002, 0.568...  \n",
       "202  [0.03100494109094143, 0.018080731853842735, 0....  \n",
       "203  [0.9961469173431396, 0.9147019982337952, 0.634...  \n",
       "204  [0.99750816822052, 0.8938364386558533, 0.83465...  \n",
       "205  [0.996226966381073, 0.7910326719284058, 0.6258...  \n",
       "\n",
       "[206 rows x 3 columns]"
      ]
     },
     "execution_count": 17,
     "metadata": {},
     "output_type": "execute_result"
    },
    {
     "data": {
      "application/javascript": [
       "\n",
       "            setTimeout(function() {\n",
       "                var nbb_cell_id = 17;\n",
       "                var nbb_unformatted_code = \"test_df = pd.read_pickle(\\\"C:/Users/rparg/Documents/Data/Reuters/con_cat.pkl\\\")\\ntest_df\";\n",
       "                var nbb_formatted_code = \"test_df = pd.read_pickle(\\\"C:/Users/rparg/Documents/Data/Reuters/con_cat.pkl\\\")\\ntest_df\";\n",
       "                var nbb_cells = Jupyter.notebook.get_cells();\n",
       "                for (var i = 0; i < nbb_cells.length; ++i) {\n",
       "                    if (nbb_cells[i].input_prompt_number == nbb_cell_id) {\n",
       "                        if (nbb_cells[i].get_text() == nbb_unformatted_code) {\n",
       "                             nbb_cells[i].set_text(nbb_formatted_code);\n",
       "                        }\n",
       "                        break;\n",
       "                    }\n",
       "                }\n",
       "            }, 500);\n",
       "            "
      ],
      "text/plain": [
       "<IPython.core.display.Javascript object>"
      ]
     },
     "metadata": {},
     "output_type": "display_data"
    }
   ],
   "source": [
    "test_df = pd.read_pickle(\"C:/Users/rparg/Documents/Data/Reuters/con_cat.pkl\")\n",
    "test_df"
   ]
  },
  {
   "cell_type": "code",
   "execution_count": null,
   "id": "c82256de",
   "metadata": {},
   "outputs": [],
   "source": []
  }
 ],
 "metadata": {
  "kernelspec": {
   "display_name": "Python 3 (ipykernel)",
   "language": "python",
   "name": "python3"
  },
  "language_info": {
   "codemirror_mode": {
    "name": "ipython",
    "version": 3
   },
   "file_extension": ".py",
   "mimetype": "text/x-python",
   "name": "python",
   "nbconvert_exporter": "python",
   "pygments_lexer": "ipython3",
   "version": "3.9.15"
  }
 },
 "nbformat": 4,
 "nbformat_minor": 5
}
