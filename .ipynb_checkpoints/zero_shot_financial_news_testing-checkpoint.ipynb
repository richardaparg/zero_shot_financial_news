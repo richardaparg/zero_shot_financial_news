{
 "cells": [
  {
   "cell_type": "code",
   "execution_count": 1,
   "id": "56dda2b2",
   "metadata": {},
   "outputs": [
    {
     "data": {
      "application/javascript": [
       "\n",
       "            setTimeout(function() {\n",
       "                var nbb_cell_id = 1;\n",
       "                var nbb_unformatted_code = \"import re\\nimport os\\nimport nltk\\nimport tensorflow as tf\\nimport numpy as np\\nimport pandas as pd\\nfrom nltk.corpus import reuters\\nimport collections\\nfrom transformers import pipeline\\n\\n%load_ext nb_black\";\n",
       "                var nbb_formatted_code = \"import re\\nimport os\\nimport nltk\\nimport tensorflow as tf\\nimport numpy as np\\nimport pandas as pd\\nfrom nltk.corpus import reuters\\nimport collections\\nfrom transformers import pipeline\\n\\n%load_ext nb_black\";\n",
       "                var nbb_cells = Jupyter.notebook.get_cells();\n",
       "                for (var i = 0; i < nbb_cells.length; ++i) {\n",
       "                    if (nbb_cells[i].input_prompt_number == nbb_cell_id) {\n",
       "                        if (nbb_cells[i].get_text() == nbb_unformatted_code) {\n",
       "                             nbb_cells[i].set_text(nbb_formatted_code);\n",
       "                        }\n",
       "                        break;\n",
       "                    }\n",
       "                }\n",
       "            }, 500);\n",
       "            "
      ],
      "text/plain": [
       "<IPython.core.display.Javascript object>"
      ]
     },
     "metadata": {},
     "output_type": "display_data"
    }
   ],
   "source": [
    "import re\n",
    "import os\n",
    "import nltk\n",
    "import tensorflow as tf\n",
    "import numpy as np\n",
    "import pandas as pd\n",
    "from nltk.corpus import reuters\n",
    "import collections\n",
    "from transformers import pipeline\n",
    "\n",
    "%load_ext nb_black"
   ]
  },
  {
   "cell_type": "code",
   "execution_count": 2,
   "id": "211df837",
   "metadata": {},
   "outputs": [
    {
     "data": {
      "application/javascript": [
       "\n",
       "            setTimeout(function() {\n",
       "                var nbb_cell_id = 2;\n",
       "                var nbb_unformatted_code = \"documents = reuters.fileids()\\ntrain_docs = list(filter(lambda doc: doc.startswith(\\\"train\\\"), documents))\\ntest_docs = list(filter(lambda doc: doc.startswith(\\\"test\\\"), documents))\\ncategories = reuters.categories()\";\n",
       "                var nbb_formatted_code = \"documents = reuters.fileids()\\ntrain_docs = list(filter(lambda doc: doc.startswith(\\\"train\\\"), documents))\\ntest_docs = list(filter(lambda doc: doc.startswith(\\\"test\\\"), documents))\\ncategories = reuters.categories()\";\n",
       "                var nbb_cells = Jupyter.notebook.get_cells();\n",
       "                for (var i = 0; i < nbb_cells.length; ++i) {\n",
       "                    if (nbb_cells[i].input_prompt_number == nbb_cell_id) {\n",
       "                        if (nbb_cells[i].get_text() == nbb_unformatted_code) {\n",
       "                             nbb_cells[i].set_text(nbb_formatted_code);\n",
       "                        }\n",
       "                        break;\n",
       "                    }\n",
       "                }\n",
       "            }, 500);\n",
       "            "
      ],
      "text/plain": [
       "<IPython.core.display.Javascript object>"
      ]
     },
     "metadata": {},
     "output_type": "display_data"
    }
   ],
   "source": [
    "documents = reuters.fileids()\n",
    "train_docs = list(filter(lambda doc: doc.startswith(\"train\"), documents))\n",
    "test_docs = list(filter(lambda doc: doc.startswith(\"test\"), documents))\n",
    "categories = reuters.categories()"
   ]
  },
  {
   "cell_type": "code",
   "execution_count": 3,
   "id": "a93661bd",
   "metadata": {},
   "outputs": [
    {
     "data": {
      "application/javascript": [
       "\n",
       "            setTimeout(function() {\n",
       "                var nbb_cell_id = 3;\n",
       "                var nbb_unformatted_code = \"title_re = \\\"([A-Z].*[a-z]$)\\\"\\n\\n\\ndef title_split(doc):\\n    prev_word = \\\"\\\"\\n    for word in doc:\\n        if bool(re.match(title_re, word)):\\n            title_pos = doc.index(word)\\n            if prev_word == \\\"A\\\" or word == \\\"USA\\\":\\n                title_pos = title_pos - 1\\n            return \\\" \\\".join(doc[:title_pos])\\n        prev_word = word\\n\\n\\ndef words_split(doc):\\n    prev_word = \\\"\\\"\\n    for word in doc:\\n        if bool(re.match(title_re, word)):\\n            title_pos = doc.index(word)\\n            if prev_word == \\\"A\\\" or word == \\\"USA\\\":\\n                title_pos = title_pos - 1\\n            return \\\" \\\".join(doc[title_pos:])\\n        prev_word = word\";\n",
       "                var nbb_formatted_code = \"title_re = \\\"([A-Z].*[a-z]$)\\\"\\n\\n\\ndef title_split(doc):\\n    prev_word = \\\"\\\"\\n    for word in doc:\\n        if bool(re.match(title_re, word)):\\n            title_pos = doc.index(word)\\n            if prev_word == \\\"A\\\" or word == \\\"USA\\\":\\n                title_pos = title_pos - 1\\n            return \\\" \\\".join(doc[:title_pos])\\n        prev_word = word\\n\\n\\ndef words_split(doc):\\n    prev_word = \\\"\\\"\\n    for word in doc:\\n        if bool(re.match(title_re, word)):\\n            title_pos = doc.index(word)\\n            if prev_word == \\\"A\\\" or word == \\\"USA\\\":\\n                title_pos = title_pos - 1\\n            return \\\" \\\".join(doc[title_pos:])\\n        prev_word = word\";\n",
       "                var nbb_cells = Jupyter.notebook.get_cells();\n",
       "                for (var i = 0; i < nbb_cells.length; ++i) {\n",
       "                    if (nbb_cells[i].input_prompt_number == nbb_cell_id) {\n",
       "                        if (nbb_cells[i].get_text() == nbb_unformatted_code) {\n",
       "                             nbb_cells[i].set_text(nbb_formatted_code);\n",
       "                        }\n",
       "                        break;\n",
       "                    }\n",
       "                }\n",
       "            }, 500);\n",
       "            "
      ],
      "text/plain": [
       "<IPython.core.display.Javascript object>"
      ]
     },
     "metadata": {},
     "output_type": "display_data"
    }
   ],
   "source": [
    "title_re = \"([A-Z].*[a-z]$)\"\n",
    "\n",
    "\n",
    "def title_split(doc):\n",
    "    prev_word = \"\"\n",
    "    for word in doc:\n",
    "        if bool(re.match(title_re, word)):\n",
    "            title_pos = doc.index(word)\n",
    "            if prev_word == \"A\" or word == \"USA\":\n",
    "                title_pos = title_pos - 1\n",
    "            return \" \".join(doc[:title_pos])\n",
    "        prev_word = word\n",
    "\n",
    "\n",
    "def words_split(doc):\n",
    "    prev_word = \"\"\n",
    "    for word in doc:\n",
    "        if bool(re.match(title_re, word)):\n",
    "            title_pos = doc.index(word)\n",
    "            if prev_word == \"A\" or word == \"USA\":\n",
    "                title_pos = title_pos - 1\n",
    "            return \" \".join(doc[title_pos:])\n",
    "        prev_word = word"
   ]
  },
  {
   "cell_type": "code",
   "execution_count": 4,
   "id": "b224e848",
   "metadata": {},
   "outputs": [
    {
     "data": {
      "application/javascript": [
       "\n",
       "            setTimeout(function() {\n",
       "                var nbb_cell_id = 4;\n",
       "                var nbb_unformatted_code = \"train_list = [int(x.split(\\\"/\\\")[1]) for x in train_docs]\\ncat_list = [reuters.categories(x) for x in train_docs]\\ntitle_list = [title_split(reuters.words(x)) for x in train_docs]\\nwords_list = [words_split(reuters.words(x)) for x in train_docs]\";\n",
       "                var nbb_formatted_code = \"train_list = [int(x.split(\\\"/\\\")[1]) for x in train_docs]\\ncat_list = [reuters.categories(x) for x in train_docs]\\ntitle_list = [title_split(reuters.words(x)) for x in train_docs]\\nwords_list = [words_split(reuters.words(x)) for x in train_docs]\";\n",
       "                var nbb_cells = Jupyter.notebook.get_cells();\n",
       "                for (var i = 0; i < nbb_cells.length; ++i) {\n",
       "                    if (nbb_cells[i].input_prompt_number == nbb_cell_id) {\n",
       "                        if (nbb_cells[i].get_text() == nbb_unformatted_code) {\n",
       "                             nbb_cells[i].set_text(nbb_formatted_code);\n",
       "                        }\n",
       "                        break;\n",
       "                    }\n",
       "                }\n",
       "            }, 500);\n",
       "            "
      ],
      "text/plain": [
       "<IPython.core.display.Javascript object>"
      ]
     },
     "metadata": {},
     "output_type": "display_data"
    }
   ],
   "source": [
    "train_list = [int(x.split(\"/\")[1]) for x in train_docs]\n",
    "cat_list = [reuters.categories(x) for x in train_docs]\n",
    "title_list = [title_split(reuters.words(x)) for x in train_docs]\n",
    "words_list = [words_split(reuters.words(x)) for x in train_docs]"
   ]
  },
  {
   "cell_type": "code",
   "execution_count": 6,
   "id": "8b422b71",
   "metadata": {},
   "outputs": [
    {
     "data": {
      "application/javascript": [
       "\n",
       "            setTimeout(function() {\n",
       "                var nbb_cell_id = 6;\n",
       "                var nbb_unformatted_code = \"news_df = pd.DataFrame(\\n    {\\n        \\\"doc_id\\\": train_list,\\n        \\\"categories\\\": cat_list,\\n        \\\"title\\\": title_list,\\n        \\\"content\\\": words_list,\\n    }\\n)\";\n",
       "                var nbb_formatted_code = \"news_df = pd.DataFrame(\\n    {\\n        \\\"doc_id\\\": train_list,\\n        \\\"categories\\\": cat_list,\\n        \\\"title\\\": title_list,\\n        \\\"content\\\": words_list,\\n    }\\n)\";\n",
       "                var nbb_cells = Jupyter.notebook.get_cells();\n",
       "                for (var i = 0; i < nbb_cells.length; ++i) {\n",
       "                    if (nbb_cells[i].input_prompt_number == nbb_cell_id) {\n",
       "                        if (nbb_cells[i].get_text() == nbb_unformatted_code) {\n",
       "                             nbb_cells[i].set_text(nbb_formatted_code);\n",
       "                        }\n",
       "                        break;\n",
       "                    }\n",
       "                }\n",
       "            }, 500);\n",
       "            "
      ],
      "text/plain": [
       "<IPython.core.display.Javascript object>"
      ]
     },
     "metadata": {},
     "output_type": "display_data"
    }
   ],
   "source": [
    "news_df = pd.DataFrame(\n",
    "    {\n",
    "        \"doc_id\": train_list,\n",
    "        \"categories\": cat_list,\n",
    "        \"title\": title_list,\n",
    "        \"content\": words_list,\n",
    "    }\n",
    ")"
   ]
  },
  {
   "cell_type": "code",
   "execution_count": 10,
   "id": "4f8c027b",
   "metadata": {},
   "outputs": [
    {
     "data": {
      "application/javascript": [
       "\n",
       "            setTimeout(function() {\n",
       "                var nbb_cell_id = 10;\n",
       "                var nbb_unformatted_code = \"def title_split(row):\\n    split_word = row[\\\"content\\\"].split()[0]\\n    title_new = split_word + row[\\\"content\\\"].split(split_word)[1]\\n    row[\\\"title\\\"] = title_new\\n    row[\\\"content\\\"] = title_new\\n    return row\";\n",
       "                var nbb_formatted_code = \"def title_split(row):\\n    split_word = row[\\\"content\\\"].split()[0]\\n    title_new = split_word + row[\\\"content\\\"].split(split_word)[1]\\n    row[\\\"title\\\"] = title_new\\n    row[\\\"content\\\"] = title_new\\n    return row\";\n",
       "                var nbb_cells = Jupyter.notebook.get_cells();\n",
       "                for (var i = 0; i < nbb_cells.length; ++i) {\n",
       "                    if (nbb_cells[i].input_prompt_number == nbb_cell_id) {\n",
       "                        if (nbb_cells[i].get_text() == nbb_unformatted_code) {\n",
       "                             nbb_cells[i].set_text(nbb_formatted_code);\n",
       "                        }\n",
       "                        break;\n",
       "                    }\n",
       "                }\n",
       "            }, 500);\n",
       "            "
      ],
      "text/plain": [
       "<IPython.core.display.Javascript object>"
      ]
     },
     "metadata": {},
     "output_type": "display_data"
    }
   ],
   "source": [
    "def title_split(row):\n",
    "    split_word = row[\"content\"].split()[0]\n",
    "    title_new = split_word + row[\"content\"].split(split_word)[1]\n",
    "    row[\"title\"] = title_new\n",
    "    row[\"content\"] = title_new\n",
    "    return row"
   ]
  },
  {
   "cell_type": "code",
   "execution_count": 11,
   "id": "4692ae92",
   "metadata": {},
   "outputs": [
    {
     "data": {
      "application/javascript": [
       "\n",
       "            setTimeout(function() {\n",
       "                var nbb_cell_id = 11;\n",
       "                var nbb_unformatted_code = \"title_split_df = news_df[news_df[\\\"title\\\"] == \\\"\\\"].apply(title_split, axis=1)\\ncols = list(news_df.columns)\\nnews_df.loc[news_df.doc_id.isin(title_split_df.doc_id), cols] = title_split_df[cols]\";\n",
       "                var nbb_formatted_code = \"title_split_df = news_df[news_df[\\\"title\\\"] == \\\"\\\"].apply(title_split, axis=1)\\ncols = list(news_df.columns)\\nnews_df.loc[news_df.doc_id.isin(title_split_df.doc_id), cols] = title_split_df[cols]\";\n",
       "                var nbb_cells = Jupyter.notebook.get_cells();\n",
       "                for (var i = 0; i < nbb_cells.length; ++i) {\n",
       "                    if (nbb_cells[i].input_prompt_number == nbb_cell_id) {\n",
       "                        if (nbb_cells[i].get_text() == nbb_unformatted_code) {\n",
       "                             nbb_cells[i].set_text(nbb_formatted_code);\n",
       "                        }\n",
       "                        break;\n",
       "                    }\n",
       "                }\n",
       "            }, 500);\n",
       "            "
      ],
      "text/plain": [
       "<IPython.core.display.Javascript object>"
      ]
     },
     "metadata": {},
     "output_type": "display_data"
    }
   ],
   "source": [
    "title_split_df = news_df[news_df[\"title\"] == \"\"].apply(title_split, axis=1)\n",
    "cols = list(news_df.columns)\n",
    "news_df.loc[news_df.doc_id.isin(title_split_df.doc_id), cols] = title_split_df[cols]"
   ]
  },
  {
   "cell_type": "code",
   "execution_count": 12,
   "id": "2ce96915",
   "metadata": {},
   "outputs": [
    {
     "data": {
      "application/javascript": [
       "\n",
       "            setTimeout(function() {\n",
       "                var nbb_cell_id = 12;\n",
       "                var nbb_unformatted_code = \"news_df[\\\"top_label\\\"] = news_df[\\\"categories\\\"].apply(lambda x: x[0])\\nnews_df[\\\"title_length\\\"] = news_df[\\\"title\\\"].apply(lambda x: len(x) if x != None else 0)\\nnews_df[\\\"con_length\\\"] = news_df[\\\"content\\\"].apply(lambda x: len(x) if x != None else 0)\";\n",
       "                var nbb_formatted_code = \"news_df[\\\"top_label\\\"] = news_df[\\\"categories\\\"].apply(lambda x: x[0])\\nnews_df[\\\"title_length\\\"] = news_df[\\\"title\\\"].apply(lambda x: len(x) if x != None else 0)\\nnews_df[\\\"con_length\\\"] = news_df[\\\"content\\\"].apply(lambda x: len(x) if x != None else 0)\";\n",
       "                var nbb_cells = Jupyter.notebook.get_cells();\n",
       "                for (var i = 0; i < nbb_cells.length; ++i) {\n",
       "                    if (nbb_cells[i].input_prompt_number == nbb_cell_id) {\n",
       "                        if (nbb_cells[i].get_text() == nbb_unformatted_code) {\n",
       "                             nbb_cells[i].set_text(nbb_formatted_code);\n",
       "                        }\n",
       "                        break;\n",
       "                    }\n",
       "                }\n",
       "            }, 500);\n",
       "            "
      ],
      "text/plain": [
       "<IPython.core.display.Javascript object>"
      ]
     },
     "metadata": {},
     "output_type": "display_data"
    }
   ],
   "source": [
    "news_df[\"top_label\"] = news_df[\"categories\"].apply(lambda x: x[0])\n",
    "news_df[\"title_length\"] = news_df[\"title\"].apply(lambda x: len(x) if x != None else 0)\n",
    "news_df[\"con_length\"] = news_df[\"content\"].apply(lambda x: len(x) if x != None else 0)"
   ]
  },
  {
   "cell_type": "code",
   "execution_count": 13,
   "id": "b757b34f",
   "metadata": {},
   "outputs": [
    {
     "data": {
      "application/javascript": [
       "\n",
       "            setTimeout(function() {\n",
       "                var nbb_cell_id = 13;\n",
       "                var nbb_unformatted_code = \"news_df.to_pickle(\\\"C:/Users/rparg/Documents/Data/Reuters/news_df.pkl\\\")\";\n",
       "                var nbb_formatted_code = \"news_df.to_pickle(\\\"C:/Users/rparg/Documents/Data/Reuters/news_df.pkl\\\")\";\n",
       "                var nbb_cells = Jupyter.notebook.get_cells();\n",
       "                for (var i = 0; i < nbb_cells.length; ++i) {\n",
       "                    if (nbb_cells[i].input_prompt_number == nbb_cell_id) {\n",
       "                        if (nbb_cells[i].get_text() == nbb_unformatted_code) {\n",
       "                             nbb_cells[i].set_text(nbb_formatted_code);\n",
       "                        }\n",
       "                        break;\n",
       "                    }\n",
       "                }\n",
       "            }, 500);\n",
       "            "
      ],
      "text/plain": [
       "<IPython.core.display.Javascript object>"
      ]
     },
     "metadata": {},
     "output_type": "display_data"
    }
   ],
   "source": [
    "news_df.to_pickle(\"C:/Users/rparg/Documents/Data/Reuters/news_df.pkl\")"
   ]
  },
  {
   "cell_type": "code",
   "execution_count": 8,
   "id": "73e3d38f",
   "metadata": {},
   "outputs": [
    {
     "data": {
      "application/javascript": [
       "\n",
       "            setTimeout(function() {\n",
       "                var nbb_cell_id = 8;\n",
       "                var nbb_unformatted_code = \"cat_dict = {\\n    \\\"acq\\\": \\\"acuisition\\\",\\n    \\\"alu\\\": \\\"aluminum\\\",\\n    \\\"bop\\\": \\\"bottom of the pyramid\\\",\\n    \\\"castor-oil\\\": \\\"castor oil\\\",\\n    \\\"carcass\\\": \\\"livestock\\\",\\n    \\\"cpu\\\": \\\"computershare\\\",\\n    \\\"coconut-oil\\\": \\\"coconut oil\\\",\\n    \\\"copra-cake\\\": \\\"copra cake\\\",\\n    \\\"cpi\\\": \\\"consumer price index\\\",\\n    \\\"dfl\\\": \\\"deutsche fussball liga\\\",\\n    \\\"dlr\\\": \\\"digital realty trust\\\",\\n    \\\"dmk\\\": \\\"dravida munnetra kazhagam\\\",\\n    \\\"earn\\\": \\\"ellington residential mortgage reit stock\\\",\\n    \\\"gnp\\\": \\\"grupo nacional provincial\\\",\\n    \\\"groundnut-oil\\\": \\\"ground nut oil\\\",\\n    \\\"instal-debt\\\": \\\"instalco intressenter debt\\\",\\n    \\\"ipi\\\": \\\"intrepid potash\\\",\\n    \\\"iron-steel\\\": \\\"iron steel\\\",\\n    \\\"l-cattle\\\": \\\"cattle\\\",\\n    \\\"lei\\\": \\\"leading economic index\\\",\\n    \\\"lin-oil\\\": \\\"linseed oil\\\",\\n    \\\"meal-feed\\\": \\\"meal feed\\\",\\n    \\\"money-fx\\\": \\\"money foreign exchange\\\",\\n    \\\"money-supply\\\": \\\"money supply\\\",\\n    \\\"nat-gas\\\": \\\"natural gas\\\",\\n    \\\"nkr\\\": \\\"nokia\\\",\\n    \\\"palm-oil\\\": \\\"palm oil\\\",\\n    \\\"palmkernel\\\": \\\"palm kernel\\\",\\n    \\\"pet-chem\\\": \\\"petronas chemicals\\\",\\n    \\\"rape-oil\\\": \\\"rapeseed oil\\\",\\n    \\\"soy-meal\\\": \\\"soy meal\\\",\\n    \\\"soy-oil\\\": \\\"soy oil\\\",\\n    \\\"strategic-metal\\\": \\\"strategic metal\\\",\\n    \\\"sun-meal\\\": \\\"sunflower meal\\\",\\n    \\\"sun-oil\\\": \\\"sunflower oil\\\",\\n    \\\"sunseed\\\": \\\"sunflower seed\\\",\\n    \\\"veg-oil\\\": \\\"vagetable oil\\\",\\n    \\\"wpi\\\": \\\"waterfront philippines\\\",\\n}\";\n",
       "                var nbb_formatted_code = \"cat_dict = {\\n    \\\"acq\\\": \\\"acuisition\\\",\\n    \\\"alu\\\": \\\"aluminum\\\",\\n    \\\"bop\\\": \\\"bottom of the pyramid\\\",\\n    \\\"castor-oil\\\": \\\"castor oil\\\",\\n    \\\"carcass\\\": \\\"livestock\\\",\\n    \\\"cpu\\\": \\\"computershare\\\",\\n    \\\"coconut-oil\\\": \\\"coconut oil\\\",\\n    \\\"copra-cake\\\": \\\"copra cake\\\",\\n    \\\"cpi\\\": \\\"consumer price index\\\",\\n    \\\"dfl\\\": \\\"deutsche fussball liga\\\",\\n    \\\"dlr\\\": \\\"digital realty trust\\\",\\n    \\\"dmk\\\": \\\"dravida munnetra kazhagam\\\",\\n    \\\"earn\\\": \\\"ellington residential mortgage reit stock\\\",\\n    \\\"gnp\\\": \\\"grupo nacional provincial\\\",\\n    \\\"groundnut-oil\\\": \\\"ground nut oil\\\",\\n    \\\"instal-debt\\\": \\\"instalco intressenter debt\\\",\\n    \\\"ipi\\\": \\\"intrepid potash\\\",\\n    \\\"iron-steel\\\": \\\"iron steel\\\",\\n    \\\"l-cattle\\\": \\\"cattle\\\",\\n    \\\"lei\\\": \\\"leading economic index\\\",\\n    \\\"lin-oil\\\": \\\"linseed oil\\\",\\n    \\\"meal-feed\\\": \\\"meal feed\\\",\\n    \\\"money-fx\\\": \\\"money foreign exchange\\\",\\n    \\\"money-supply\\\": \\\"money supply\\\",\\n    \\\"nat-gas\\\": \\\"natural gas\\\",\\n    \\\"nkr\\\": \\\"nokia\\\",\\n    \\\"palm-oil\\\": \\\"palm oil\\\",\\n    \\\"palmkernel\\\": \\\"palm kernel\\\",\\n    \\\"pet-chem\\\": \\\"petronas chemicals\\\",\\n    \\\"rape-oil\\\": \\\"rapeseed oil\\\",\\n    \\\"soy-meal\\\": \\\"soy meal\\\",\\n    \\\"soy-oil\\\": \\\"soy oil\\\",\\n    \\\"strategic-metal\\\": \\\"strategic metal\\\",\\n    \\\"sun-meal\\\": \\\"sunflower meal\\\",\\n    \\\"sun-oil\\\": \\\"sunflower oil\\\",\\n    \\\"sunseed\\\": \\\"sunflower seed\\\",\\n    \\\"veg-oil\\\": \\\"vagetable oil\\\",\\n    \\\"wpi\\\": \\\"waterfront philippines\\\",\\n}\";\n",
       "                var nbb_cells = Jupyter.notebook.get_cells();\n",
       "                for (var i = 0; i < nbb_cells.length; ++i) {\n",
       "                    if (nbb_cells[i].input_prompt_number == nbb_cell_id) {\n",
       "                        if (nbb_cells[i].get_text() == nbb_unformatted_code) {\n",
       "                             nbb_cells[i].set_text(nbb_formatted_code);\n",
       "                        }\n",
       "                        break;\n",
       "                    }\n",
       "                }\n",
       "            }, 500);\n",
       "            "
      ],
      "text/plain": [
       "<IPython.core.display.Javascript object>"
      ]
     },
     "metadata": {},
     "output_type": "display_data"
    }
   ],
   "source": [
    "cat_dict = {\n",
    "    \"acq\": \"acuisition\",\n",
    "    \"alu\": \"aluminum\",\n",
    "    \"bop\": \"bottom of the pyramid\",\n",
    "    \"castor-oil\": \"castor oil\",\n",
    "    \"carcass\": \"livestock\",\n",
    "    \"cpu\": \"computershare\",\n",
    "    \"coconut-oil\": \"coconut oil\",\n",
    "    \"copra-cake\": \"copra cake\",\n",
    "    \"cpi\": \"consumer price index\",\n",
    "    \"dfl\": \"deutsche fussball liga\",\n",
    "    \"dlr\": \"digital realty trust\",\n",
    "    \"dmk\": \"dravida munnetra kazhagam\",\n",
    "    \"earn\": \"ellington residential mortgage reit stock\",\n",
    "    \"gnp\": \"grupo nacional provincial\",\n",
    "    \"groundnut-oil\": \"ground nut oil\",\n",
    "    \"instal-debt\": \"instalco intressenter debt\",\n",
    "    \"ipi\": \"intrepid potash\",\n",
    "    \"iron-steel\": \"iron steel\",\n",
    "    \"l-cattle\": \"cattle\",\n",
    "    \"lei\": \"leading economic index\",\n",
    "    \"lin-oil\": \"linseed oil\",\n",
    "    \"meal-feed\": \"meal feed\",\n",
    "    \"money-fx\": \"money foreign exchange\",\n",
    "    \"money-supply\": \"money supply\",\n",
    "    \"nat-gas\": \"natural gas\",\n",
    "    \"nkr\": \"nokia\",\n",
    "    \"palm-oil\": \"palm oil\",\n",
    "    \"palmkernel\": \"palm kernel\",\n",
    "    \"pet-chem\": \"petronas chemicals\",\n",
    "    \"rape-oil\": \"rapeseed oil\",\n",
    "    \"soy-meal\": \"soy meal\",\n",
    "    \"soy-oil\": \"soy oil\",\n",
    "    \"strategic-metal\": \"strategic metal\",\n",
    "    \"sun-meal\": \"sunflower meal\",\n",
    "    \"sun-oil\": \"sunflower oil\",\n",
    "    \"sunseed\": \"sunflower seed\",\n",
    "    \"veg-oil\": \"vagetable oil\",\n",
    "    \"wpi\": \"waterfront philippines\",\n",
    "}"
   ]
  },
  {
   "cell_type": "code",
   "execution_count": 9,
   "id": "e14b0d12",
   "metadata": {},
   "outputs": [
    {
     "data": {
      "application/javascript": [
       "\n",
       "            setTimeout(function() {\n",
       "                var nbb_cell_id = 9;\n",
       "                var nbb_unformatted_code = \"new_cats = [\\n    \\\"acuisition\\\",\\n    \\\"aluminum\\\",\\n    \\\"bottom of the pyramid\\\",\\n    \\\"barley\\\",\\n    \\\"castor oil\\\",\\n    \\\"carcass\\\",\\n    \\\"cattle\\\",\\n    \\\"cocoa\\\",\\n    \\\"coconut\\\",\\n    \\\"coconut oil\\\",\\n    \\\"coffee\\\",\\n    \\\"consumer price index\\\",\\n    \\\"copper\\\",\\n    \\\"copra cake\\\",\\n    \\\"corn\\\",\\n    \\\"cotton\\\",\\n    \\\"computershare\\\",\\n    \\\"crude\\\",\\n    \\\"deutsche fussball liga\\\",\\n    \\\"digital realty trust\\\",\\n    \\\"dravida munnetra kazhagam\\\",\\n    \\\"ellington residential mortgage reit stock\\\",\\n    \\\"fuel\\\",\\n    \\\"gas\\\",\\n    \\\"gold\\\",\\n    \\\"grain\\\",\\n    \\\"groundnut\\\",\\n    \\\"ground nut oil\\\",\\n    \\\"grupo nacional provincial\\\",\\n    \\\"heat\\\",\\n    \\\"hog\\\",\\n    \\\"housing\\\",\\n    \\\"income\\\",\\n    \\\"instalco intressenter debt\\\",\\n    \\\"interest\\\",\\n    \\\"intrepid potash\\\",\\n    \\\"iron steel\\\",\\n    \\\"jet\\\",\\n    \\\"jobs\\\",\\n    \\\"lead\\\",\\n    \\\"leading economic index\\\",\\n    \\\"linseed oil\\\",\\n    \\\"livestock\\\",\\n    \\\"lumber\\\",\\n    \\\"meal feed\\\",\\n    \\\"money foreign exchange\\\",\\n    \\\"money supply\\\",\\n    \\\"natural gas\\\",\\n    \\\"naphtha\\\",\\n    \\\"nickel\\\",\\n    \\\"nokia\\\",\\n    \\\"new zealand dollar\\\",\\n    \\\"oat\\\",\\n    \\\"orange\\\",\\n    \\\"palladium\\\",\\n    \\\"palm oil\\\",\\n    \\\"palm kernel\\\",\\n    \\\"petronas chemicals\\\",\\n    \\\"platinum\\\",\\n    \\\"potato\\\",\\n    \\\"propane\\\",\\n    \\\"rand\\\",\\n    \\\"rapeseed\\\",\\n    \\\"rapeseed oil\\\",\\n    \\\"reserves\\\",\\n    \\\"retail\\\",\\n    \\\"rice\\\",\\n    \\\"rubber\\\",\\n    \\\"rye\\\",\\n    \\\"ship\\\",\\n    \\\"silver\\\",\\n    \\\"sorghum\\\",\\n    \\\"soybean\\\",\\n    \\\"soy meal\\\",\\n    \\\"soy oil\\\",\\n    \\\"strategic metal\\\",\\n    \\\"sugar\\\",\\n    \\\"sunflower meal\\\",\\n    \\\"sunflower oil\\\",\\n    \\\"sunflower seed\\\",\\n    \\\"tea\\\",\\n    \\\"tin\\\",\\n    \\\"trade\\\",\\n    \\\"vagetable oil\\\",\\n    \\\"waterfront philippines\\\",\\n    \\\"wheat\\\",\\n    \\\"yen\\\",\\n    \\\"zinc\\\",\\n]\";\n",
       "                var nbb_formatted_code = \"new_cats = [\\n    \\\"acuisition\\\",\\n    \\\"aluminum\\\",\\n    \\\"bottom of the pyramid\\\",\\n    \\\"barley\\\",\\n    \\\"castor oil\\\",\\n    \\\"carcass\\\",\\n    \\\"cattle\\\",\\n    \\\"cocoa\\\",\\n    \\\"coconut\\\",\\n    \\\"coconut oil\\\",\\n    \\\"coffee\\\",\\n    \\\"consumer price index\\\",\\n    \\\"copper\\\",\\n    \\\"copra cake\\\",\\n    \\\"corn\\\",\\n    \\\"cotton\\\",\\n    \\\"computershare\\\",\\n    \\\"crude\\\",\\n    \\\"deutsche fussball liga\\\",\\n    \\\"digital realty trust\\\",\\n    \\\"dravida munnetra kazhagam\\\",\\n    \\\"ellington residential mortgage reit stock\\\",\\n    \\\"fuel\\\",\\n    \\\"gas\\\",\\n    \\\"gold\\\",\\n    \\\"grain\\\",\\n    \\\"groundnut\\\",\\n    \\\"ground nut oil\\\",\\n    \\\"grupo nacional provincial\\\",\\n    \\\"heat\\\",\\n    \\\"hog\\\",\\n    \\\"housing\\\",\\n    \\\"income\\\",\\n    \\\"instalco intressenter debt\\\",\\n    \\\"interest\\\",\\n    \\\"intrepid potash\\\",\\n    \\\"iron steel\\\",\\n    \\\"jet\\\",\\n    \\\"jobs\\\",\\n    \\\"lead\\\",\\n    \\\"leading economic index\\\",\\n    \\\"linseed oil\\\",\\n    \\\"livestock\\\",\\n    \\\"lumber\\\",\\n    \\\"meal feed\\\",\\n    \\\"money foreign exchange\\\",\\n    \\\"money supply\\\",\\n    \\\"natural gas\\\",\\n    \\\"naphtha\\\",\\n    \\\"nickel\\\",\\n    \\\"nokia\\\",\\n    \\\"new zealand dollar\\\",\\n    \\\"oat\\\",\\n    \\\"orange\\\",\\n    \\\"palladium\\\",\\n    \\\"palm oil\\\",\\n    \\\"palm kernel\\\",\\n    \\\"petronas chemicals\\\",\\n    \\\"platinum\\\",\\n    \\\"potato\\\",\\n    \\\"propane\\\",\\n    \\\"rand\\\",\\n    \\\"rapeseed\\\",\\n    \\\"rapeseed oil\\\",\\n    \\\"reserves\\\",\\n    \\\"retail\\\",\\n    \\\"rice\\\",\\n    \\\"rubber\\\",\\n    \\\"rye\\\",\\n    \\\"ship\\\",\\n    \\\"silver\\\",\\n    \\\"sorghum\\\",\\n    \\\"soybean\\\",\\n    \\\"soy meal\\\",\\n    \\\"soy oil\\\",\\n    \\\"strategic metal\\\",\\n    \\\"sugar\\\",\\n    \\\"sunflower meal\\\",\\n    \\\"sunflower oil\\\",\\n    \\\"sunflower seed\\\",\\n    \\\"tea\\\",\\n    \\\"tin\\\",\\n    \\\"trade\\\",\\n    \\\"vagetable oil\\\",\\n    \\\"waterfront philippines\\\",\\n    \\\"wheat\\\",\\n    \\\"yen\\\",\\n    \\\"zinc\\\",\\n]\";\n",
       "                var nbb_cells = Jupyter.notebook.get_cells();\n",
       "                for (var i = 0; i < nbb_cells.length; ++i) {\n",
       "                    if (nbb_cells[i].input_prompt_number == nbb_cell_id) {\n",
       "                        if (nbb_cells[i].get_text() == nbb_unformatted_code) {\n",
       "                             nbb_cells[i].set_text(nbb_formatted_code);\n",
       "                        }\n",
       "                        break;\n",
       "                    }\n",
       "                }\n",
       "            }, 500);\n",
       "            "
      ],
      "text/plain": [
       "<IPython.core.display.Javascript object>"
      ]
     },
     "metadata": {},
     "output_type": "display_data"
    }
   ],
   "source": [
    "new_cats = [\n",
    "    \"acuisition\",\n",
    "    \"aluminum\",\n",
    "    \"bottom of the pyramid\",\n",
    "    \"barley\",\n",
    "    \"castor oil\",\n",
    "    \"carcass\",\n",
    "    \"cattle\",\n",
    "    \"cocoa\",\n",
    "    \"coconut\",\n",
    "    \"coconut oil\",\n",
    "    \"coffee\",\n",
    "    \"consumer price index\",\n",
    "    \"copper\",\n",
    "    \"copra cake\",\n",
    "    \"corn\",\n",
    "    \"cotton\",\n",
    "    \"computershare\",\n",
    "    \"crude\",\n",
    "    \"deutsche fussball liga\",\n",
    "    \"digital realty trust\",\n",
    "    \"dravida munnetra kazhagam\",\n",
    "    \"ellington residential mortgage reit stock\",\n",
    "    \"fuel\",\n",
    "    \"gas\",\n",
    "    \"gold\",\n",
    "    \"grain\",\n",
    "    \"groundnut\",\n",
    "    \"ground nut oil\",\n",
    "    \"grupo nacional provincial\",\n",
    "    \"heat\",\n",
    "    \"hog\",\n",
    "    \"housing\",\n",
    "    \"income\",\n",
    "    \"instalco intressenter debt\",\n",
    "    \"interest\",\n",
    "    \"intrepid potash\",\n",
    "    \"iron steel\",\n",
    "    \"jet\",\n",
    "    \"jobs\",\n",
    "    \"lead\",\n",
    "    \"leading economic index\",\n",
    "    \"linseed oil\",\n",
    "    \"livestock\",\n",
    "    \"lumber\",\n",
    "    \"meal feed\",\n",
    "    \"money foreign exchange\",\n",
    "    \"money supply\",\n",
    "    \"natural gas\",\n",
    "    \"naphtha\",\n",
    "    \"nickel\",\n",
    "    \"nokia\",\n",
    "    \"new zealand dollar\",\n",
    "    \"oat\",\n",
    "    \"orange\",\n",
    "    \"palladium\",\n",
    "    \"palm oil\",\n",
    "    \"palm kernel\",\n",
    "    \"petronas chemicals\",\n",
    "    \"platinum\",\n",
    "    \"potato\",\n",
    "    \"propane\",\n",
    "    \"rand\",\n",
    "    \"rapeseed\",\n",
    "    \"rapeseed oil\",\n",
    "    \"reserves\",\n",
    "    \"retail\",\n",
    "    \"rice\",\n",
    "    \"rubber\",\n",
    "    \"rye\",\n",
    "    \"ship\",\n",
    "    \"silver\",\n",
    "    \"sorghum\",\n",
    "    \"soybean\",\n",
    "    \"soy meal\",\n",
    "    \"soy oil\",\n",
    "    \"strategic metal\",\n",
    "    \"sugar\",\n",
    "    \"sunflower meal\",\n",
    "    \"sunflower oil\",\n",
    "    \"sunflower seed\",\n",
    "    \"tea\",\n",
    "    \"tin\",\n",
    "    \"trade\",\n",
    "    \"vagetable oil\",\n",
    "    \"waterfront philippines\",\n",
    "    \"wheat\",\n",
    "    \"yen\",\n",
    "    \"zinc\",\n",
    "]"
   ]
  },
  {
   "cell_type": "code",
   "execution_count": 10,
   "id": "71fc492c",
   "metadata": {},
   "outputs": [
    {
     "name": "stderr",
     "output_type": "stream",
     "text": [
      "All model checkpoint layers were used when initializing TFRobertaForSequenceClassification.\n",
      "\n",
      "All the layers of TFRobertaForSequenceClassification were initialized from the model checkpoint at roberta-large-mnli.\n",
      "If your task is similar to the task the model of the checkpoint was trained on, you can already use TFRobertaForSequenceClassification for predictions without further training.\n"
     ]
    },
    {
     "data": {
      "application/javascript": [
       "\n",
       "            setTimeout(function() {\n",
       "                var nbb_cell_id = 10;\n",
       "                var nbb_unformatted_code = \"classifier = pipeline(\\\"zero-shot-classification\\\", model=\\\"roberta-large-mnli\\\")\";\n",
       "                var nbb_formatted_code = \"classifier = pipeline(\\\"zero-shot-classification\\\", model=\\\"roberta-large-mnli\\\")\";\n",
       "                var nbb_cells = Jupyter.notebook.get_cells();\n",
       "                for (var i = 0; i < nbb_cells.length; ++i) {\n",
       "                    if (nbb_cells[i].input_prompt_number == nbb_cell_id) {\n",
       "                        if (nbb_cells[i].get_text() == nbb_unformatted_code) {\n",
       "                             nbb_cells[i].set_text(nbb_formatted_code);\n",
       "                        }\n",
       "                        break;\n",
       "                    }\n",
       "                }\n",
       "            }, 500);\n",
       "            "
      ],
      "text/plain": [
       "<IPython.core.display.Javascript object>"
      ]
     },
     "metadata": {},
     "output_type": "display_data"
    }
   ],
   "source": [
    "classifier = pipeline(\"zero-shot-classification\", model=\"roberta-large-mnli\")"
   ]
  },
  {
   "cell_type": "markdown",
   "id": "e2d81e2c",
   "metadata": {},
   "source": [
    "## Zero shot classification based on document titles"
   ]
  },
  {
   "cell_type": "code",
   "execution_count": 12,
   "id": "64eeeff5",
   "metadata": {},
   "outputs": [
    {
     "data": {
      "application/javascript": [
       "\n",
       "            setTimeout(function() {\n",
       "                var nbb_cell_id = 12;\n",
       "                var nbb_unformatted_code = \"news_filt_df = news_df[news_df[\\\"title_length\\\"] > 40]\\nsample_df = (\\n    news_filt_df.groupby(\\\"top_label\\\")\\n    .apply(lambda x: x.sample(15, replace=True))\\n    .reset_index(drop=True)\\n)\\nsample_df = sample_df.drop(columns=[\\\"Categories\\\"]).drop_duplicates()\";\n",
       "                var nbb_formatted_code = \"news_filt_df = news_df[news_df[\\\"title_length\\\"] > 40]\\nsample_df = (\\n    news_filt_df.groupby(\\\"top_label\\\")\\n    .apply(lambda x: x.sample(15, replace=True))\\n    .reset_index(drop=True)\\n)\\nsample_df = sample_df.drop(columns=[\\\"Categories\\\"]).drop_duplicates()\";\n",
       "                var nbb_cells = Jupyter.notebook.get_cells();\n",
       "                for (var i = 0; i < nbb_cells.length; ++i) {\n",
       "                    if (nbb_cells[i].input_prompt_number == nbb_cell_id) {\n",
       "                        if (nbb_cells[i].get_text() == nbb_unformatted_code) {\n",
       "                             nbb_cells[i].set_text(nbb_formatted_code);\n",
       "                        }\n",
       "                        break;\n",
       "                    }\n",
       "                }\n",
       "            }, 500);\n",
       "            "
      ],
      "text/plain": [
       "<IPython.core.display.Javascript object>"
      ]
     },
     "metadata": {},
     "output_type": "display_data"
    }
   ],
   "source": [
    "news_filt_df = news_df[news_df[\"title_length\"] > 40]\n",
    "sample_df = (\n",
    "    news_filt_df.groupby(\"top_label\")\n",
    "    .apply(lambda x: x.sample(15, replace=True))\n",
    "    .reset_index(drop=True)\n",
    ")\n",
    "sample_df = sample_df.drop(columns=[\"Categories\"]).drop_duplicates()\n",
    "sample_df.to_pickle(\"C:/Users/rparg/Documents/Data/Reuters/sample_titles.pkl\")"
   ]
  },
  {
   "cell_type": "code",
   "execution_count": 13,
   "id": "6fd6ab90",
   "metadata": {},
   "outputs": [
    {
     "data": {
      "application/javascript": [
       "\n",
       "            setTimeout(function() {\n",
       "                var nbb_cell_id = 13;\n",
       "                var nbb_unformatted_code = \"class_title_list = list(sample_df[\\\"Title\\\"])\";\n",
       "                var nbb_formatted_code = \"class_title_list = list(sample_df[\\\"Title\\\"])\";\n",
       "                var nbb_cells = Jupyter.notebook.get_cells();\n",
       "                for (var i = 0; i < nbb_cells.length; ++i) {\n",
       "                    if (nbb_cells[i].input_prompt_number == nbb_cell_id) {\n",
       "                        if (nbb_cells[i].get_text() == nbb_unformatted_code) {\n",
       "                             nbb_cells[i].set_text(nbb_formatted_code);\n",
       "                        }\n",
       "                        break;\n",
       "                    }\n",
       "                }\n",
       "            }, 500);\n",
       "            "
      ],
      "text/plain": [
       "<IPython.core.display.Javascript object>"
      ]
     },
     "metadata": {},
     "output_type": "display_data"
    }
   ],
   "source": [
    "class_title_list = list(sample_df[\"Title\"])"
   ]
  },
  {
   "cell_type": "code",
   "execution_count": 14,
   "id": "ee2bbc57",
   "metadata": {},
   "outputs": [
    {
     "data": {
      "application/javascript": [
       "\n",
       "            setTimeout(function() {\n",
       "                var nbb_cell_id = 14;\n",
       "                var nbb_unformatted_code = \"clfd_dict_list2 = [\\n    classifier(title, new_cats, multi_label=True) for title in class_title_list\\n]\\ncategorized_df = pd.DataFrame.from_records(clfd_dict_list2)\\ncategorized_df.to_pickle(\\\"C:/Users/rparg/Documents/Data/Reuters/categorized2.pkl\\\")\";\n",
       "                var nbb_formatted_code = \"clfd_dict_list2 = [\\n    classifier(title, new_cats, multi_label=True) for title in class_title_list\\n]\\ncategorized_df = pd.DataFrame.from_records(clfd_dict_list2)\\ncategorized_df.to_pickle(\\\"C:/Users/rparg/Documents/Data/Reuters/categorized2.pkl\\\")\";\n",
       "                var nbb_cells = Jupyter.notebook.get_cells();\n",
       "                for (var i = 0; i < nbb_cells.length; ++i) {\n",
       "                    if (nbb_cells[i].input_prompt_number == nbb_cell_id) {\n",
       "                        if (nbb_cells[i].get_text() == nbb_unformatted_code) {\n",
       "                             nbb_cells[i].set_text(nbb_formatted_code);\n",
       "                        }\n",
       "                        break;\n",
       "                    }\n",
       "                }\n",
       "            }, 500);\n",
       "            "
      ],
      "text/plain": [
       "<IPython.core.display.Javascript object>"
      ]
     },
     "metadata": {},
     "output_type": "display_data"
    }
   ],
   "source": [
    "clfd_dict_list2 = [\n",
    "    classifier(title, new_cats, multi_label=True) for title in class_title_list\n",
    "]\n",
    "categorized_df = pd.DataFrame.from_records(clfd_dict_list2)\n",
    "categorized_df.to_pickle(\"C:/Users/rparg/Documents/Data/Reuters/categorized2.pkl\")"
   ]
  },
  {
   "cell_type": "markdown",
   "id": "443b1bb2",
   "metadata": {},
   "source": [
    "## Zero shot classification based on document titles"
   ]
  },
  {
   "cell_type": "code",
   "execution_count": 13,
   "id": "305bbc18",
   "metadata": {},
   "outputs": [
    {
     "data": {
      "application/javascript": [
       "\n",
       "            setTimeout(function() {\n",
       "                var nbb_cell_id = 13;\n",
       "                var nbb_unformatted_code = \"news_con_filt_df = news_df[\\n    (news_df[\\\"con_length\\\"] > 200) & (news_df[\\\"con_length\\\"] < 1000)\\n]\";\n",
       "                var nbb_formatted_code = \"news_con_filt_df = news_df[\\n    (news_df[\\\"con_length\\\"] > 200) & (news_df[\\\"con_length\\\"] < 1000)\\n]\";\n",
       "                var nbb_cells = Jupyter.notebook.get_cells();\n",
       "                for (var i = 0; i < nbb_cells.length; ++i) {\n",
       "                    if (nbb_cells[i].input_prompt_number == nbb_cell_id) {\n",
       "                        if (nbb_cells[i].get_text() == nbb_unformatted_code) {\n",
       "                             nbb_cells[i].set_text(nbb_formatted_code);\n",
       "                        }\n",
       "                        break;\n",
       "                    }\n",
       "                }\n",
       "            }, 500);\n",
       "            "
      ],
      "text/plain": [
       "<IPython.core.display.Javascript object>"
      ]
     },
     "metadata": {},
     "output_type": "display_data"
    }
   ],
   "source": [
    "news_con_filt_df = news_df[\n",
    "    (news_df[\"con_length\"] > 200) & (news_df[\"con_length\"] < 1000)\n",
    "]"
   ]
  },
  {
   "cell_type": "code",
   "execution_count": 14,
   "id": "accd7dd8",
   "metadata": {},
   "outputs": [
    {
     "data": {
      "application/javascript": [
       "\n",
       "            setTimeout(function() {\n",
       "                var nbb_cell_id = 14;\n",
       "                var nbb_unformatted_code = \"sample_con_df = (\\n    news_con_filt_df.groupby(\\\"top_label\\\")\\n    .apply(lambda x: x.sample(4, replace=True))\\n    .reset_index(drop=True)\\n)\\nsample_con_df = sample_con_df.drop(columns=[\\\"Categories\\\"]).drop_duplicates()\";\n",
       "                var nbb_formatted_code = \"sample_con_df = (\\n    news_con_filt_df.groupby(\\\"top_label\\\")\\n    .apply(lambda x: x.sample(4, replace=True))\\n    .reset_index(drop=True)\\n)\\nsample_con_df = sample_con_df.drop(columns=[\\\"Categories\\\"]).drop_duplicates()\";\n",
       "                var nbb_cells = Jupyter.notebook.get_cells();\n",
       "                for (var i = 0; i < nbb_cells.length; ++i) {\n",
       "                    if (nbb_cells[i].input_prompt_number == nbb_cell_id) {\n",
       "                        if (nbb_cells[i].get_text() == nbb_unformatted_code) {\n",
       "                             nbb_cells[i].set_text(nbb_formatted_code);\n",
       "                        }\n",
       "                        break;\n",
       "                    }\n",
       "                }\n",
       "            }, 500);\n",
       "            "
      ],
      "text/plain": [
       "<IPython.core.display.Javascript object>"
      ]
     },
     "metadata": {},
     "output_type": "display_data"
    }
   ],
   "source": [
    "sample_con_df = (\n",
    "    news_con_filt_df.groupby(\"top_label\")\n",
    "    .apply(lambda x: x.sample(4, replace=True))\n",
    "    .reset_index(drop=True)\n",
    ")\n",
    "sample_con_df = sample_con_df.drop(columns=[\"Categories\"]).drop_duplicates()\n",
    "sample_con_df.to_pickle(\"C:/Users/rparg/Documents/Data/Reuters/sample_content.pkl\")"
   ]
  },
  {
   "cell_type": "code",
   "execution_count": 15,
   "id": "aba53459",
   "metadata": {},
   "outputs": [
    {
     "data": {
      "application/javascript": [
       "\n",
       "            setTimeout(function() {\n",
       "                var nbb_cell_id = 15;\n",
       "                var nbb_unformatted_code = \"class_con_list = list(sample_con_df[\\\"Content\\\"])\";\n",
       "                var nbb_formatted_code = \"class_con_list = list(sample_con_df[\\\"Content\\\"])\";\n",
       "                var nbb_cells = Jupyter.notebook.get_cells();\n",
       "                for (var i = 0; i < nbb_cells.length; ++i) {\n",
       "                    if (nbb_cells[i].input_prompt_number == nbb_cell_id) {\n",
       "                        if (nbb_cells[i].get_text() == nbb_unformatted_code) {\n",
       "                             nbb_cells[i].set_text(nbb_formatted_code);\n",
       "                        }\n",
       "                        break;\n",
       "                    }\n",
       "                }\n",
       "            }, 500);\n",
       "            "
      ],
      "text/plain": [
       "<IPython.core.display.Javascript object>"
      ]
     },
     "metadata": {},
     "output_type": "display_data"
    }
   ],
   "source": [
    "class_con_list = list(sample_con_df[\"Content\"])"
   ]
  },
  {
   "cell_type": "code",
   "execution_count": 16,
   "id": "636ff294",
   "metadata": {},
   "outputs": [
    {
     "data": {
      "application/javascript": [
       "\n",
       "            setTimeout(function() {\n",
       "                var nbb_cell_id = 16;\n",
       "                var nbb_unformatted_code = \"clfd_dict_list2 = [\\n    classifier(title, new_cats, multi_label=True) for title in class_con_list\\n]\\ncategorized_df = pd.DataFrame.from_records(clfd_dict_list2)\\ncategorized_df.to_pickle(\\\"C:/Users/rparg/Documents/Data/Reuters/con_cat.pkl\\\")\";\n",
       "                var nbb_formatted_code = \"clfd_dict_list2 = [\\n    classifier(title, new_cats, multi_label=True) for title in class_con_list\\n]\\ncategorized_df = pd.DataFrame.from_records(clfd_dict_list2)\\ncategorized_df.to_pickle(\\\"C:/Users/rparg/Documents/Data/Reuters/con_cat.pkl\\\")\";\n",
       "                var nbb_cells = Jupyter.notebook.get_cells();\n",
       "                for (var i = 0; i < nbb_cells.length; ++i) {\n",
       "                    if (nbb_cells[i].input_prompt_number == nbb_cell_id) {\n",
       "                        if (nbb_cells[i].get_text() == nbb_unformatted_code) {\n",
       "                             nbb_cells[i].set_text(nbb_formatted_code);\n",
       "                        }\n",
       "                        break;\n",
       "                    }\n",
       "                }\n",
       "            }, 500);\n",
       "            "
      ],
      "text/plain": [
       "<IPython.core.display.Javascript object>"
      ]
     },
     "metadata": {},
     "output_type": "display_data"
    }
   ],
   "source": [
    "clfd_dict_list2 = [\n",
    "    classifier(title, new_cats, multi_label=True) for title in class_con_list\n",
    "]\n",
    "categorized_df = pd.DataFrame.from_records(clfd_dict_list2)\n",
    "categorized_df.to_pickle(\"C:/Users/rparg/Documents/Data/Reuters/con_cat.pkl\")"
   ]
  },
  {
   "cell_type": "code",
   "execution_count": null,
   "id": "c82256de",
   "metadata": {},
   "outputs": [],
   "source": []
  }
 ],
 "metadata": {
  "kernelspec": {
   "display_name": "Python 3 (ipykernel)",
   "language": "python",
   "name": "python3"
  },
  "language_info": {
   "codemirror_mode": {
    "name": "ipython",
    "version": 3
   },
   "file_extension": ".py",
   "mimetype": "text/x-python",
   "name": "python",
   "nbconvert_exporter": "python",
   "pygments_lexer": "ipython3",
   "version": "3.9.15"
  }
 },
 "nbformat": 4,
 "nbformat_minor": 5
}
