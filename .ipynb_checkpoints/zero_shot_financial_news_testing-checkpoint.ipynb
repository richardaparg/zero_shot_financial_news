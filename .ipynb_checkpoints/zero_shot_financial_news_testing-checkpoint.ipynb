{
 "cells": [
  {
   "cell_type": "code",
   "execution_count": 16,
   "id": "56dda2b2",
   "metadata": {},
   "outputs": [
    {
     "data": {
      "application/javascript": [
       "\n",
       "            setTimeout(function() {\n",
       "                var nbb_cell_id = 16;\n",
       "                var nbb_unformatted_code = \"import re\\nimport os\\nimport nltk\\nimport tensorflow as tf\\nimport numpy as np\\nimport pandas as pd\\nfrom nltk.corpus import reuters\\nimport collections\\nfrom transformers import pipeline\\n\\n%load_ext nb_black\";\n",
       "                var nbb_formatted_code = \"import re\\nimport os\\nimport nltk\\nimport tensorflow as tf\\nimport numpy as np\\nimport pandas as pd\\nfrom nltk.corpus import reuters\\nimport collections\\nfrom transformers import pipeline\\n\\n%load_ext nb_black\";\n",
       "                var nbb_cells = Jupyter.notebook.get_cells();\n",
       "                for (var i = 0; i < nbb_cells.length; ++i) {\n",
       "                    if (nbb_cells[i].input_prompt_number == nbb_cell_id) {\n",
       "                        if (nbb_cells[i].get_text() == nbb_unformatted_code) {\n",
       "                             nbb_cells[i].set_text(nbb_formatted_code);\n",
       "                        }\n",
       "                        break;\n",
       "                    }\n",
       "                }\n",
       "            }, 500);\n",
       "            "
      ],
      "text/plain": [
       "<IPython.core.display.Javascript object>"
      ]
     },
     "metadata": {},
     "output_type": "display_data"
    }
   ],
   "source": [
    "import re\n",
    "import os\n",
    "import nltk\n",
    "import tensorflow as tf\n",
    "import numpy as np\n",
    "import pandas as pd\n",
    "from nltk.corpus import reuters\n",
    "import collections\n",
    "from transformers import pipeline\n",
    "\n",
    "%load_ext nb_black"
   ]
  },
  {
   "cell_type": "code",
   "execution_count": 19,
   "id": "211df837",
   "metadata": {},
   "outputs": [
    {
     "data": {
      "application/javascript": [
       "\n",
       "            setTimeout(function() {\n",
       "                var nbb_cell_id = 19;\n",
       "                var nbb_unformatted_code = \"documents = reuters.fileids()\\ntrain_docs = list(filter(lambda doc: doc.startswith(\\\"train\\\"), documents))\\ntest_docs = list(filter(lambda doc: doc.startswith(\\\"test\\\"), documents))\\ncategories = reuters.categories()\";\n",
       "                var nbb_formatted_code = \"documents = reuters.fileids()\\ntrain_docs = list(filter(lambda doc: doc.startswith(\\\"train\\\"), documents))\\ntest_docs = list(filter(lambda doc: doc.startswith(\\\"test\\\"), documents))\\ncategories = reuters.categories()\";\n",
       "                var nbb_cells = Jupyter.notebook.get_cells();\n",
       "                for (var i = 0; i < nbb_cells.length; ++i) {\n",
       "                    if (nbb_cells[i].input_prompt_number == nbb_cell_id) {\n",
       "                        if (nbb_cells[i].get_text() == nbb_unformatted_code) {\n",
       "                             nbb_cells[i].set_text(nbb_formatted_code);\n",
       "                        }\n",
       "                        break;\n",
       "                    }\n",
       "                }\n",
       "            }, 500);\n",
       "            "
      ],
      "text/plain": [
       "<IPython.core.display.Javascript object>"
      ]
     },
     "metadata": {},
     "output_type": "display_data"
    }
   ],
   "source": [
    "documents = reuters.fileids()\n",
    "train_docs = list(filter(lambda doc: doc.startswith(\"train\"), documents))\n",
    "test_docs = list(filter(lambda doc: doc.startswith(\"test\"), documents))\n",
    "categories = reuters.categories()"
   ]
  },
  {
   "cell_type": "code",
   "execution_count": 20,
   "id": "a93661bd",
   "metadata": {},
   "outputs": [
    {
     "data": {
      "application/javascript": [
       "\n",
       "            setTimeout(function() {\n",
       "                var nbb_cell_id = 20;\n",
       "                var nbb_unformatted_code = \"title_re = \\\"([A-Z].*[a-z]$)\\\"\\n\\n\\ndef title_split(doc):\\n    prev_word = \\\"\\\"\\n    for word in doc:\\n        if bool(re.match(title_re, word)):\\n            title_pos = doc.index(word)\\n            if prev_word == \\\"A\\\" or word == \\\"USA\\\":\\n                title_pos = title_pos - 1\\n            return \\\" \\\".join(doc[:title_pos])\\n        prev_word = word\\n\\n\\ndef words_split(doc):\\n    prev_word = \\\"\\\"\\n    for word in doc:\\n        if bool(re.match(title_re, word)):\\n            title_pos = doc.index(word)\\n            if prev_word == \\\"A\\\" or word == \\\"USA\\\":\\n                title_pos = title_pos - 1\\n            return \\\" \\\".join(doc[title_pos:])\\n        prev_word = word\";\n",
       "                var nbb_formatted_code = \"title_re = \\\"([A-Z].*[a-z]$)\\\"\\n\\n\\ndef title_split(doc):\\n    prev_word = \\\"\\\"\\n    for word in doc:\\n        if bool(re.match(title_re, word)):\\n            title_pos = doc.index(word)\\n            if prev_word == \\\"A\\\" or word == \\\"USA\\\":\\n                title_pos = title_pos - 1\\n            return \\\" \\\".join(doc[:title_pos])\\n        prev_word = word\\n\\n\\ndef words_split(doc):\\n    prev_word = \\\"\\\"\\n    for word in doc:\\n        if bool(re.match(title_re, word)):\\n            title_pos = doc.index(word)\\n            if prev_word == \\\"A\\\" or word == \\\"USA\\\":\\n                title_pos = title_pos - 1\\n            return \\\" \\\".join(doc[title_pos:])\\n        prev_word = word\";\n",
       "                var nbb_cells = Jupyter.notebook.get_cells();\n",
       "                for (var i = 0; i < nbb_cells.length; ++i) {\n",
       "                    if (nbb_cells[i].input_prompt_number == nbb_cell_id) {\n",
       "                        if (nbb_cells[i].get_text() == nbb_unformatted_code) {\n",
       "                             nbb_cells[i].set_text(nbb_formatted_code);\n",
       "                        }\n",
       "                        break;\n",
       "                    }\n",
       "                }\n",
       "            }, 500);\n",
       "            "
      ],
      "text/plain": [
       "<IPython.core.display.Javascript object>"
      ]
     },
     "metadata": {},
     "output_type": "display_data"
    }
   ],
   "source": [
    "title_re = \"([A-Z].*[a-z]$)\"\n",
    "\n",
    "\n",
    "def title_split(doc):\n",
    "    prev_word = \"\"\n",
    "    for word in doc:\n",
    "        if bool(re.match(title_re, word)):\n",
    "            title_pos = doc.index(word)\n",
    "            if prev_word == \"A\" or word == \"USA\":\n",
    "                title_pos = title_pos - 1\n",
    "            return \" \".join(doc[:title_pos])\n",
    "        prev_word = word\n",
    "\n",
    "\n",
    "def words_split(doc):\n",
    "    prev_word = \"\"\n",
    "    for word in doc:\n",
    "        if bool(re.match(title_re, word)):\n",
    "            title_pos = doc.index(word)\n",
    "            if prev_word == \"A\" or word == \"USA\":\n",
    "                title_pos = title_pos - 1\n",
    "            return \" \".join(doc[title_pos:])\n",
    "        prev_word = word"
   ]
  },
  {
   "cell_type": "code",
   "execution_count": 21,
   "id": "b224e848",
   "metadata": {},
   "outputs": [
    {
     "data": {
      "application/javascript": [
       "\n",
       "            setTimeout(function() {\n",
       "                var nbb_cell_id = 21;\n",
       "                var nbb_unformatted_code = \"train_list = [int(x.split(\\\"/\\\")[1]) for x in train_docs]\\ncat_list = [reuters.categories(x) for x in train_docs]\\ntitle_list = [title_split(reuters.words(x)) for x in train_docs]\\nwords_list = [words_split(reuters.words(x)) for x in train_docs]\";\n",
       "                var nbb_formatted_code = \"train_list = [int(x.split(\\\"/\\\")[1]) for x in train_docs]\\ncat_list = [reuters.categories(x) for x in train_docs]\\ntitle_list = [title_split(reuters.words(x)) for x in train_docs]\\nwords_list = [words_split(reuters.words(x)) for x in train_docs]\";\n",
       "                var nbb_cells = Jupyter.notebook.get_cells();\n",
       "                for (var i = 0; i < nbb_cells.length; ++i) {\n",
       "                    if (nbb_cells[i].input_prompt_number == nbb_cell_id) {\n",
       "                        if (nbb_cells[i].get_text() == nbb_unformatted_code) {\n",
       "                             nbb_cells[i].set_text(nbb_formatted_code);\n",
       "                        }\n",
       "                        break;\n",
       "                    }\n",
       "                }\n",
       "            }, 500);\n",
       "            "
      ],
      "text/plain": [
       "<IPython.core.display.Javascript object>"
      ]
     },
     "metadata": {},
     "output_type": "display_data"
    }
   ],
   "source": [
    "train_list = [int(x.split(\"/\")[1]) for x in train_docs]\n",
    "cat_list = [reuters.categories(x) for x in train_docs]\n",
    "title_list = [title_split(reuters.words(x)) for x in train_docs]\n",
    "words_list = [words_split(reuters.words(x)) for x in train_docs]"
   ]
  },
  {
   "cell_type": "code",
   "execution_count": 22,
   "id": "8b422b71",
   "metadata": {},
   "outputs": [
    {
     "data": {
      "application/javascript": [
       "\n",
       "            setTimeout(function() {\n",
       "                var nbb_cell_id = 22;\n",
       "                var nbb_unformatted_code = \"news_df = pd.DataFrame(\\n    {\\n        \\\"doc_id\\\": train_list,\\n        \\\"categories\\\": cat_list,\\n        \\\"title\\\": title_list,\\n        \\\"content\\\": words_list,\\n    }\\n)\";\n",
       "                var nbb_formatted_code = \"news_df = pd.DataFrame(\\n    {\\n        \\\"doc_id\\\": train_list,\\n        \\\"categories\\\": cat_list,\\n        \\\"title\\\": title_list,\\n        \\\"content\\\": words_list,\\n    }\\n)\";\n",
       "                var nbb_cells = Jupyter.notebook.get_cells();\n",
       "                for (var i = 0; i < nbb_cells.length; ++i) {\n",
       "                    if (nbb_cells[i].input_prompt_number == nbb_cell_id) {\n",
       "                        if (nbb_cells[i].get_text() == nbb_unformatted_code) {\n",
       "                             nbb_cells[i].set_text(nbb_formatted_code);\n",
       "                        }\n",
       "                        break;\n",
       "                    }\n",
       "                }\n",
       "            }, 500);\n",
       "            "
      ],
      "text/plain": [
       "<IPython.core.display.Javascript object>"
      ]
     },
     "metadata": {},
     "output_type": "display_data"
    }
   ],
   "source": [
    "news_df = pd.DataFrame(\n",
    "    {\n",
    "        \"doc_id\": train_list,\n",
    "        \"categories\": cat_list,\n",
    "        \"title\": title_list,\n",
    "        \"content\": words_list,\n",
    "    }\n",
    ")"
   ]
  },
  {
   "cell_type": "code",
   "execution_count": 23,
   "id": "4f8c027b",
   "metadata": {},
   "outputs": [
    {
     "data": {
      "application/javascript": [
       "\n",
       "            setTimeout(function() {\n",
       "                var nbb_cell_id = 23;\n",
       "                var nbb_unformatted_code = \"def title_split(row):\\n    split_word = row[\\\"content\\\"].split()[0]\\n    title_new = split_word + row[\\\"content\\\"].split(split_word)[1]\\n    row[\\\"title\\\"] = title_new\\n    row[\\\"content\\\"] = title_new\\n    return row\";\n",
       "                var nbb_formatted_code = \"def title_split(row):\\n    split_word = row[\\\"content\\\"].split()[0]\\n    title_new = split_word + row[\\\"content\\\"].split(split_word)[1]\\n    row[\\\"title\\\"] = title_new\\n    row[\\\"content\\\"] = title_new\\n    return row\";\n",
       "                var nbb_cells = Jupyter.notebook.get_cells();\n",
       "                for (var i = 0; i < nbb_cells.length; ++i) {\n",
       "                    if (nbb_cells[i].input_prompt_number == nbb_cell_id) {\n",
       "                        if (nbb_cells[i].get_text() == nbb_unformatted_code) {\n",
       "                             nbb_cells[i].set_text(nbb_formatted_code);\n",
       "                        }\n",
       "                        break;\n",
       "                    }\n",
       "                }\n",
       "            }, 500);\n",
       "            "
      ],
      "text/plain": [
       "<IPython.core.display.Javascript object>"
      ]
     },
     "metadata": {},
     "output_type": "display_data"
    }
   ],
   "source": [
    "def title_split(row):\n",
    "    split_word = row[\"content\"].split()[0]\n",
    "    title_new = split_word + row[\"content\"].split(split_word)[1]\n",
    "    row[\"title\"] = title_new\n",
    "    row[\"content\"] = title_new\n",
    "    return row"
   ]
  },
  {
   "cell_type": "code",
   "execution_count": 24,
   "id": "4692ae92",
   "metadata": {},
   "outputs": [
    {
     "data": {
      "application/javascript": [
       "\n",
       "            setTimeout(function() {\n",
       "                var nbb_cell_id = 24;\n",
       "                var nbb_unformatted_code = \"title_split_df = news_df[news_df[\\\"title\\\"] == \\\"\\\"].apply(title_split, axis=1)\\ncols = list(news_df.columns)\\nnews_df.loc[news_df.doc_id.isin(title_split_df.doc_id), cols] = title_split_df[cols]\";\n",
       "                var nbb_formatted_code = \"title_split_df = news_df[news_df[\\\"title\\\"] == \\\"\\\"].apply(title_split, axis=1)\\ncols = list(news_df.columns)\\nnews_df.loc[news_df.doc_id.isin(title_split_df.doc_id), cols] = title_split_df[cols]\";\n",
       "                var nbb_cells = Jupyter.notebook.get_cells();\n",
       "                for (var i = 0; i < nbb_cells.length; ++i) {\n",
       "                    if (nbb_cells[i].input_prompt_number == nbb_cell_id) {\n",
       "                        if (nbb_cells[i].get_text() == nbb_unformatted_code) {\n",
       "                             nbb_cells[i].set_text(nbb_formatted_code);\n",
       "                        }\n",
       "                        break;\n",
       "                    }\n",
       "                }\n",
       "            }, 500);\n",
       "            "
      ],
      "text/plain": [
       "<IPython.core.display.Javascript object>"
      ]
     },
     "metadata": {},
     "output_type": "display_data"
    }
   ],
   "source": [
    "title_split_df = news_df[news_df[\"title\"] == \"\"].apply(title_split, axis=1)\n",
    "cols = list(news_df.columns)\n",
    "news_df.loc[news_df.doc_id.isin(title_split_df.doc_id), cols] = title_split_df[cols]"
   ]
  },
  {
   "cell_type": "code",
   "execution_count": 26,
   "id": "a89a6a7c",
   "metadata": {},
   "outputs": [
    {
     "data": {
      "application/javascript": [
       "\n",
       "            setTimeout(function() {\n",
       "                var nbb_cell_id = 26;\n",
       "                var nbb_unformatted_code = \"cat_dict = {\\n    \\\"acq\\\": \\\"acuisition\\\",\\n    \\\"alum\\\": \\\"aluminum\\\",\\n    \\\"bop\\\": \\\"bottom of the pyramid\\\",\\n    \\\"castor-oil\\\": \\\"castor oil\\\",\\n    \\\"carcass\\\": \\\"livestock\\\",\\n    \\\"cpu\\\": \\\"computershare\\\",\\n    \\\"coconut-oil\\\": \\\"coconut oil\\\",\\n    \\\"copra-cake\\\": \\\"copra cake\\\",\\n    \\\"cpi\\\": \\\"consumer price index\\\",\\n    \\\"dfl\\\": \\\"deutsche fussball liga\\\",\\n    \\\"dlr\\\": \\\"digital realty trust\\\",\\n    \\\"dmk\\\": \\\"dravida munnetra kazhagam\\\",\\n    \\\"earn\\\": \\\"ellington residential mortgage reit stock\\\",\\n    \\\"gnp\\\": \\\"grupo nacional provincial\\\",\\n    \\\"groundnut-oil\\\": \\\"ground nut oil\\\",\\n    \\\"instal-debt\\\": \\\"instalco intressenter debt\\\",\\n    \\\"ipi\\\": \\\"intrepid potash\\\",\\n    \\\"iron-steel\\\": \\\"iron steel\\\",\\n    \\\"l-cattle\\\": \\\"cattle\\\",\\n    \\\"lei\\\": \\\"leading economic index\\\",\\n    \\\"lin-oil\\\": \\\"linseed oil\\\",\\n    \\\"meal-feed\\\": \\\"meal feed\\\",\\n    \\\"money-fx\\\": \\\"money foreign exchange\\\",\\n    \\\"money-supply\\\": \\\"money supply\\\",\\n    \\\"nat-gas\\\": \\\"natural gas\\\",\\n    \\\"nkr\\\": \\\"nokia\\\",\\n    \\\"palm-oil\\\": \\\"palm oil\\\",\\n    \\\"palmkernel\\\": \\\"palm kernel\\\",\\n    \\\"pet-chem\\\": \\\"petronas chemicals\\\",\\n    \\\"rape-oil\\\": \\\"rapeseed oil\\\",\\n    \\\"soy-meal\\\": \\\"soy meal\\\",\\n    \\\"soy-oil\\\": \\\"soy oil\\\",\\n    \\\"strategic-metal\\\": \\\"strategic metal\\\",\\n    \\\"sun-meal\\\": \\\"sunflower meal\\\",\\n    \\\"sun-oil\\\": \\\"sunflower oil\\\",\\n    \\\"sunseed\\\": \\\"sunflower seed\\\",\\n    \\\"veg-oil\\\": \\\"vagetable oil\\\",\\n    \\\"wpi\\\": \\\"waterfront philippines\\\",\\n}\";\n",
       "                var nbb_formatted_code = \"cat_dict = {\\n    \\\"acq\\\": \\\"acuisition\\\",\\n    \\\"alum\\\": \\\"aluminum\\\",\\n    \\\"bop\\\": \\\"bottom of the pyramid\\\",\\n    \\\"castor-oil\\\": \\\"castor oil\\\",\\n    \\\"carcass\\\": \\\"livestock\\\",\\n    \\\"cpu\\\": \\\"computershare\\\",\\n    \\\"coconut-oil\\\": \\\"coconut oil\\\",\\n    \\\"copra-cake\\\": \\\"copra cake\\\",\\n    \\\"cpi\\\": \\\"consumer price index\\\",\\n    \\\"dfl\\\": \\\"deutsche fussball liga\\\",\\n    \\\"dlr\\\": \\\"digital realty trust\\\",\\n    \\\"dmk\\\": \\\"dravida munnetra kazhagam\\\",\\n    \\\"earn\\\": \\\"ellington residential mortgage reit stock\\\",\\n    \\\"gnp\\\": \\\"grupo nacional provincial\\\",\\n    \\\"groundnut-oil\\\": \\\"ground nut oil\\\",\\n    \\\"instal-debt\\\": \\\"instalco intressenter debt\\\",\\n    \\\"ipi\\\": \\\"intrepid potash\\\",\\n    \\\"iron-steel\\\": \\\"iron steel\\\",\\n    \\\"l-cattle\\\": \\\"cattle\\\",\\n    \\\"lei\\\": \\\"leading economic index\\\",\\n    \\\"lin-oil\\\": \\\"linseed oil\\\",\\n    \\\"meal-feed\\\": \\\"meal feed\\\",\\n    \\\"money-fx\\\": \\\"money foreign exchange\\\",\\n    \\\"money-supply\\\": \\\"money supply\\\",\\n    \\\"nat-gas\\\": \\\"natural gas\\\",\\n    \\\"nkr\\\": \\\"nokia\\\",\\n    \\\"palm-oil\\\": \\\"palm oil\\\",\\n    \\\"palmkernel\\\": \\\"palm kernel\\\",\\n    \\\"pet-chem\\\": \\\"petronas chemicals\\\",\\n    \\\"rape-oil\\\": \\\"rapeseed oil\\\",\\n    \\\"soy-meal\\\": \\\"soy meal\\\",\\n    \\\"soy-oil\\\": \\\"soy oil\\\",\\n    \\\"strategic-metal\\\": \\\"strategic metal\\\",\\n    \\\"sun-meal\\\": \\\"sunflower meal\\\",\\n    \\\"sun-oil\\\": \\\"sunflower oil\\\",\\n    \\\"sunseed\\\": \\\"sunflower seed\\\",\\n    \\\"veg-oil\\\": \\\"vagetable oil\\\",\\n    \\\"wpi\\\": \\\"waterfront philippines\\\",\\n}\";\n",
       "                var nbb_cells = Jupyter.notebook.get_cells();\n",
       "                for (var i = 0; i < nbb_cells.length; ++i) {\n",
       "                    if (nbb_cells[i].input_prompt_number == nbb_cell_id) {\n",
       "                        if (nbb_cells[i].get_text() == nbb_unformatted_code) {\n",
       "                             nbb_cells[i].set_text(nbb_formatted_code);\n",
       "                        }\n",
       "                        break;\n",
       "                    }\n",
       "                }\n",
       "            }, 500);\n",
       "            "
      ],
      "text/plain": [
       "<IPython.core.display.Javascript object>"
      ]
     },
     "metadata": {},
     "output_type": "display_data"
    }
   ],
   "source": [
    "cat_dict = {\n",
    "    \"acq\": \"acorn capital investment fund limited\",\n",
    "    \"alum\": \"aluminum\",\n",
    "    \"bop\": \"bottom of the pyramid\",\n",
    "    \"castor-oil\": \"castor oil\",\n",
    "    \"carcass\": \"livestock\",\n",
    "    \"cpu\": \"computershare\",\n",
    "    \"coconut-oil\": \"coconut oil\",\n",
    "    \"copra-cake\": \"copra cake\",\n",
    "    \"cpi\": \"consumer price index\",\n",
    "    \"dfl\": \"deutsche fussball liga\",\n",
    "    \"dlr\": \"digital realty trust\",\n",
    "    \"dmk\": \"dravida munnetra kazhagam\",\n",
    "    \"earn\": \"ellington residential mortgage reit stock\",\n",
    "    \"gnp\": \"grupo nacional provincial\",\n",
    "    \"groundnut-oil\": \"ground nut oil\",\n",
    "    \"instal-debt\": \"instalco intressenter debt\",\n",
    "    \"ipi\": \"intrepid potash\",\n",
    "    \"iron-steel\": \"iron steel\",\n",
    "    \"l-cattle\": \"cattle\",\n",
    "    \"lei\": \"leading economic index\",\n",
    "    \"lin-oil\": \"linseed oil\",\n",
    "    \"meal-feed\": \"meal feed\",\n",
    "    \"money-fx\": \"money foreign exchange\",\n",
    "    \"money-supply\": \"money supply\",\n",
    "    \"nat-gas\": \"natural gas\",\n",
    "    \"nkr\": \"nokia\",\n",
    "    \"palm-oil\": \"palm oil\",\n",
    "    \"palmkernel\": \"palm kernel\",\n",
    "    \"pet-chem\": \"petronas chemicals\",\n",
    "    \"rape-oil\": \"rapeseed oil\",\n",
    "    \"soy-meal\": \"soy meal\",\n",
    "    \"soy-oil\": \"soy oil\",\n",
    "    \"strategic-metal\": \"strategic metal\",\n",
    "    \"sun-meal\": \"sunflower meal\",\n",
    "    \"sun-oil\": \"sunflower oil\",\n",
    "    \"sunseed\": \"sunflower seed\",\n",
    "    \"veg-oil\": \"vagetable oil\",\n",
    "    \"wpi\": \"waterfront philippines\",\n",
    "}"
   ]
  },
  {
   "cell_type": "code",
   "execution_count": 27,
   "id": "2ce96915",
   "metadata": {},
   "outputs": [
    {
     "data": {
      "application/javascript": [
       "\n",
       "            setTimeout(function() {\n",
       "                var nbb_cell_id = 27;\n",
       "                var nbb_unformatted_code = \"news_df[\\\"top_label\\\"] = news_df[\\\"categories\\\"].apply(lambda x: x[0])\\nnews_df[\\\"title_length\\\"] = news_df[\\\"title\\\"].apply(lambda x: len(x) if x != None else 0)\\nnews_df[\\\"con_length\\\"] = news_df[\\\"content\\\"].apply(lambda x: len(x) if x != None else 0)\\nnews_df[\\\"top_label\\\"] = news_df[\\\"top_label\\\"].apply(\\n    lambda x: cat_dict[x] if x in cat_dict.keys() else x\\n)\";\n",
       "                var nbb_formatted_code = \"news_df[\\\"top_label\\\"] = news_df[\\\"categories\\\"].apply(lambda x: x[0])\\nnews_df[\\\"title_length\\\"] = news_df[\\\"title\\\"].apply(lambda x: len(x) if x != None else 0)\\nnews_df[\\\"con_length\\\"] = news_df[\\\"content\\\"].apply(lambda x: len(x) if x != None else 0)\\nnews_df[\\\"top_label\\\"] = news_df[\\\"top_label\\\"].apply(\\n    lambda x: cat_dict[x] if x in cat_dict.keys() else x\\n)\";\n",
       "                var nbb_cells = Jupyter.notebook.get_cells();\n",
       "                for (var i = 0; i < nbb_cells.length; ++i) {\n",
       "                    if (nbb_cells[i].input_prompt_number == nbb_cell_id) {\n",
       "                        if (nbb_cells[i].get_text() == nbb_unformatted_code) {\n",
       "                             nbb_cells[i].set_text(nbb_formatted_code);\n",
       "                        }\n",
       "                        break;\n",
       "                    }\n",
       "                }\n",
       "            }, 500);\n",
       "            "
      ],
      "text/plain": [
       "<IPython.core.display.Javascript object>"
      ]
     },
     "metadata": {},
     "output_type": "display_data"
    }
   ],
   "source": [
    "news_df[\"top_label\"] = news_df[\"categories\"].apply(lambda x: x[0])\n",
    "news_df[\"title_length\"] = news_df[\"title\"].apply(lambda x: len(x) if x != None else 0)\n",
    "news_df[\"con_length\"] = news_df[\"content\"].apply(lambda x: len(x) if x != None else 0)\n",
    "news_df[\"top_label\"] = news_df[\"top_label\"].apply(\n",
    "    lambda x: cat_dict[x] if x in cat_dict.keys() else x\n",
    ")"
   ]
  },
  {
   "cell_type": "code",
   "execution_count": 41,
   "id": "b757b34f",
   "metadata": {},
   "outputs": [
    {
     "data": {
      "application/javascript": [
       "\n",
       "            setTimeout(function() {\n",
       "                var nbb_cell_id = 41;\n",
       "                var nbb_unformatted_code = \"news_df.to_pickle(\\\"C:/Users/rparg/Documents/Data/Reuters/news_df.pkl\\\")\";\n",
       "                var nbb_formatted_code = \"news_df.to_pickle(\\\"C:/Users/rparg/Documents/Data/Reuters/news_df.pkl\\\")\";\n",
       "                var nbb_cells = Jupyter.notebook.get_cells();\n",
       "                for (var i = 0; i < nbb_cells.length; ++i) {\n",
       "                    if (nbb_cells[i].input_prompt_number == nbb_cell_id) {\n",
       "                        if (nbb_cells[i].get_text() == nbb_unformatted_code) {\n",
       "                             nbb_cells[i].set_text(nbb_formatted_code);\n",
       "                        }\n",
       "                        break;\n",
       "                    }\n",
       "                }\n",
       "            }, 500);\n",
       "            "
      ],
      "text/plain": [
       "<IPython.core.display.Javascript object>"
      ]
     },
     "metadata": {},
     "output_type": "display_data"
    }
   ],
   "source": [
    "news_df.to_pickle(\"C:/Users/rparg/Documents/Data/Reuters/news_df.pkl\")"
   ]
  },
  {
   "cell_type": "code",
   "execution_count": 28,
   "id": "e14b0d12",
   "metadata": {},
   "outputs": [
    {
     "data": {
      "application/javascript": [
       "\n",
       "            setTimeout(function() {\n",
       "                var nbb_cell_id = 28;\n",
       "                var nbb_unformatted_code = \"new_cats = [\\n    \\\"acuisition\\\",\\n    \\\"aluminum\\\",\\n    \\\"bottom of the pyramid\\\",\\n    \\\"barley\\\",\\n    \\\"castor oil\\\",\\n    \\\"carcass\\\",\\n    \\\"cattle\\\",\\n    \\\"cocoa\\\",\\n    \\\"coconut\\\",\\n    \\\"coconut oil\\\",\\n    \\\"coffee\\\",\\n    \\\"consumer price index\\\",\\n    \\\"copper\\\",\\n    \\\"copra cake\\\",\\n    \\\"corn\\\",\\n    \\\"cotton\\\",\\n    \\\"computershare\\\",\\n    \\\"crude\\\",\\n    \\\"deutsche fussball liga\\\",\\n    \\\"digital realty trust\\\",\\n    \\\"dravida munnetra kazhagam\\\",\\n    \\\"ellington residential mortgage reit stock\\\",\\n    \\\"fuel\\\",\\n    \\\"gas\\\",\\n    \\\"gold\\\",\\n    \\\"grain\\\",\\n    \\\"groundnut\\\",\\n    \\\"ground nut oil\\\",\\n    \\\"grupo nacional provincial\\\",\\n    \\\"heat\\\",\\n    \\\"hog\\\",\\n    \\\"housing\\\",\\n    \\\"income\\\",\\n    \\\"instalco intressenter debt\\\",\\n    \\\"interest\\\",\\n    \\\"intrepid potash\\\",\\n    \\\"iron steel\\\",\\n    \\\"jet\\\",\\n    \\\"jobs\\\",\\n    \\\"lead\\\",\\n    \\\"leading economic index\\\",\\n    \\\"linseed oil\\\",\\n    \\\"livestock\\\",\\n    \\\"lumber\\\",\\n    \\\"meal feed\\\",\\n    \\\"money foreign exchange\\\",\\n    \\\"money supply\\\",\\n    \\\"natural gas\\\",\\n    \\\"naphtha\\\",\\n    \\\"nickel\\\",\\n    \\\"nokia\\\",\\n    \\\"new zealand dollar\\\",\\n    \\\"oat\\\",\\n    \\\"orange\\\",\\n    \\\"palladium\\\",\\n    \\\"palm oil\\\",\\n    \\\"palm kernel\\\",\\n    \\\"petronas chemicals\\\",\\n    \\\"platinum\\\",\\n    \\\"potato\\\",\\n    \\\"propane\\\",\\n    \\\"rand\\\",\\n    \\\"rapeseed\\\",\\n    \\\"rapeseed oil\\\",\\n    \\\"reserves\\\",\\n    \\\"retail\\\",\\n    \\\"rice\\\",\\n    \\\"rubber\\\",\\n    \\\"rye\\\",\\n    \\\"ship\\\",\\n    \\\"silver\\\",\\n    \\\"sorghum\\\",\\n    \\\"soybean\\\",\\n    \\\"soy meal\\\",\\n    \\\"soy oil\\\",\\n    \\\"strategic metal\\\",\\n    \\\"sugar\\\",\\n    \\\"sunflower meal\\\",\\n    \\\"sunflower oil\\\",\\n    \\\"sunflower seed\\\",\\n    \\\"tea\\\",\\n    \\\"tin\\\",\\n    \\\"trade\\\",\\n    \\\"vagetable oil\\\",\\n    \\\"waterfront philippines\\\",\\n    \\\"wheat\\\",\\n    \\\"yen\\\",\\n    \\\"zinc\\\",\\n]\";\n",
       "                var nbb_formatted_code = \"new_cats = [\\n    \\\"acuisition\\\",\\n    \\\"aluminum\\\",\\n    \\\"bottom of the pyramid\\\",\\n    \\\"barley\\\",\\n    \\\"castor oil\\\",\\n    \\\"carcass\\\",\\n    \\\"cattle\\\",\\n    \\\"cocoa\\\",\\n    \\\"coconut\\\",\\n    \\\"coconut oil\\\",\\n    \\\"coffee\\\",\\n    \\\"consumer price index\\\",\\n    \\\"copper\\\",\\n    \\\"copra cake\\\",\\n    \\\"corn\\\",\\n    \\\"cotton\\\",\\n    \\\"computershare\\\",\\n    \\\"crude\\\",\\n    \\\"deutsche fussball liga\\\",\\n    \\\"digital realty trust\\\",\\n    \\\"dravida munnetra kazhagam\\\",\\n    \\\"ellington residential mortgage reit stock\\\",\\n    \\\"fuel\\\",\\n    \\\"gas\\\",\\n    \\\"gold\\\",\\n    \\\"grain\\\",\\n    \\\"groundnut\\\",\\n    \\\"ground nut oil\\\",\\n    \\\"grupo nacional provincial\\\",\\n    \\\"heat\\\",\\n    \\\"hog\\\",\\n    \\\"housing\\\",\\n    \\\"income\\\",\\n    \\\"instalco intressenter debt\\\",\\n    \\\"interest\\\",\\n    \\\"intrepid potash\\\",\\n    \\\"iron steel\\\",\\n    \\\"jet\\\",\\n    \\\"jobs\\\",\\n    \\\"lead\\\",\\n    \\\"leading economic index\\\",\\n    \\\"linseed oil\\\",\\n    \\\"livestock\\\",\\n    \\\"lumber\\\",\\n    \\\"meal feed\\\",\\n    \\\"money foreign exchange\\\",\\n    \\\"money supply\\\",\\n    \\\"natural gas\\\",\\n    \\\"naphtha\\\",\\n    \\\"nickel\\\",\\n    \\\"nokia\\\",\\n    \\\"new zealand dollar\\\",\\n    \\\"oat\\\",\\n    \\\"orange\\\",\\n    \\\"palladium\\\",\\n    \\\"palm oil\\\",\\n    \\\"palm kernel\\\",\\n    \\\"petronas chemicals\\\",\\n    \\\"platinum\\\",\\n    \\\"potato\\\",\\n    \\\"propane\\\",\\n    \\\"rand\\\",\\n    \\\"rapeseed\\\",\\n    \\\"rapeseed oil\\\",\\n    \\\"reserves\\\",\\n    \\\"retail\\\",\\n    \\\"rice\\\",\\n    \\\"rubber\\\",\\n    \\\"rye\\\",\\n    \\\"ship\\\",\\n    \\\"silver\\\",\\n    \\\"sorghum\\\",\\n    \\\"soybean\\\",\\n    \\\"soy meal\\\",\\n    \\\"soy oil\\\",\\n    \\\"strategic metal\\\",\\n    \\\"sugar\\\",\\n    \\\"sunflower meal\\\",\\n    \\\"sunflower oil\\\",\\n    \\\"sunflower seed\\\",\\n    \\\"tea\\\",\\n    \\\"tin\\\",\\n    \\\"trade\\\",\\n    \\\"vagetable oil\\\",\\n    \\\"waterfront philippines\\\",\\n    \\\"wheat\\\",\\n    \\\"yen\\\",\\n    \\\"zinc\\\",\\n]\";\n",
       "                var nbb_cells = Jupyter.notebook.get_cells();\n",
       "                for (var i = 0; i < nbb_cells.length; ++i) {\n",
       "                    if (nbb_cells[i].input_prompt_number == nbb_cell_id) {\n",
       "                        if (nbb_cells[i].get_text() == nbb_unformatted_code) {\n",
       "                             nbb_cells[i].set_text(nbb_formatted_code);\n",
       "                        }\n",
       "                        break;\n",
       "                    }\n",
       "                }\n",
       "            }, 500);\n",
       "            "
      ],
      "text/plain": [
       "<IPython.core.display.Javascript object>"
      ]
     },
     "metadata": {},
     "output_type": "display_data"
    }
   ],
   "source": [
    "new_cats = [\n",
    "    \"Acorn Capital Investment Fund Limited\",\n",
    "    \"aluminum\",\n",
    "    \"bottom of the pyramid\",\n",
    "    \"barley\",\n",
    "    \"castor oil\",\n",
    "    \"carcass\",\n",
    "    \"cattle\",\n",
    "    \"cocoa\",\n",
    "    \"coconut\",\n",
    "    \"coconut oil\",\n",
    "    \"coffee\",\n",
    "    \"consumer price index\",\n",
    "    \"copper\",\n",
    "    \"copra cake\",\n",
    "    \"corn\",\n",
    "    \"cotton\",\n",
    "    \"computershare\",\n",
    "    \"crude\",\n",
    "    \"deutsche fussball liga\",\n",
    "    \"digital realty trust\",\n",
    "    \"dravida munnetra kazhagam\",\n",
    "    \"ellington residential mortgage reit stock\",\n",
    "    \"fuel\",\n",
    "    \"gas\",\n",
    "    \"gold\",\n",
    "    \"grain\",\n",
    "    \"groundnut\",\n",
    "    \"ground nut oil\",\n",
    "    \"grupo nacional provincial\",\n",
    "    \"heat\",\n",
    "    \"hog\",\n",
    "    \"housing\",\n",
    "    \"income\",\n",
    "    \"instalco intressenter debt\",\n",
    "    \"interest\",\n",
    "    \"intrepid potash\",\n",
    "    \"iron steel\",\n",
    "    \"jet\",\n",
    "    \"jobs\",\n",
    "    \"lead\",\n",
    "    \"leading economic index\",\n",
    "    \"linseed oil\",\n",
    "    \"livestock\",\n",
    "    \"lumber\",\n",
    "    \"meal feed\",\n",
    "    \"money foreign exchange\",\n",
    "    \"money supply\",\n",
    "    \"natural gas\",\n",
    "    \"naphtha\",\n",
    "    \"nickel\",\n",
    "    \"nokia\",\n",
    "    \"new zealand dollar\",\n",
    "    \"oat\",\n",
    "    \"orange\",\n",
    "    \"palladium\",\n",
    "    \"palm oil\",\n",
    "    \"palm kernel\",\n",
    "    \"petronas chemicals\",\n",
    "    \"platinum\",\n",
    "    \"potato\",\n",
    "    \"propane\",\n",
    "    \"rand\",\n",
    "    \"rapeseed\",\n",
    "    \"rapeseed oil\",\n",
    "    \"reserves\",\n",
    "    \"retail\",\n",
    "    \"rice\",\n",
    "    \"rubber\",\n",
    "    \"rye\",\n",
    "    \"ship\",\n",
    "    \"silver\",\n",
    "    \"sorghum\",\n",
    "    \"soybean\",\n",
    "    \"soy meal\",\n",
    "    \"soy oil\",\n",
    "    \"strategic metal\",\n",
    "    \"sugar\",\n",
    "    \"sunflower meal\",\n",
    "    \"sunflower oil\",\n",
    "    \"sunflower seed\",\n",
    "    \"tea\",\n",
    "    \"tin\",\n",
    "    \"trade\",\n",
    "    \"vagetable oil\",\n",
    "    \"waterfront philippines\",\n",
    "    \"wheat\",\n",
    "    \"yen\",\n",
    "    \"zinc\",\n",
    "]"
   ]
  },
  {
   "cell_type": "code",
   "execution_count": 32,
   "id": "27efe9c4",
   "metadata": {},
   "outputs": [
    {
     "data": {
      "application/javascript": [
       "\n",
       "            setTimeout(function() {\n",
       "                var nbb_cell_id = 32;\n",
       "                var nbb_unformatted_code = \"news_df = pd.read_pickle(\\\"C:/Users/rparg/Documents/Data/Reuters/news_df.pkl\\\")\";\n",
       "                var nbb_formatted_code = \"news_df = pd.read_pickle(\\\"C:/Users/rparg/Documents/Data/Reuters/news_df.pkl\\\")\";\n",
       "                var nbb_cells = Jupyter.notebook.get_cells();\n",
       "                for (var i = 0; i < nbb_cells.length; ++i) {\n",
       "                    if (nbb_cells[i].input_prompt_number == nbb_cell_id) {\n",
       "                        if (nbb_cells[i].get_text() == nbb_unformatted_code) {\n",
       "                             nbb_cells[i].set_text(nbb_formatted_code);\n",
       "                        }\n",
       "                        break;\n",
       "                    }\n",
       "                }\n",
       "            }, 500);\n",
       "            "
      ],
      "text/plain": [
       "<IPython.core.display.Javascript object>"
      ]
     },
     "metadata": {},
     "output_type": "display_data"
    }
   ],
   "source": [
    "news_df = pd.read_pickle(\"C:/Users/rparg/Documents/Data/Reuters/news_df.pkl\")"
   ]
  },
  {
   "cell_type": "markdown",
   "id": "392bfa07",
   "metadata": {},
   "source": [
    "## Load Zero-Shot Classifier"
   ]
  },
  {
   "cell_type": "code",
   "execution_count": 33,
   "id": "0f7fa222",
   "metadata": {},
   "outputs": [
    {
     "name": "stderr",
     "output_type": "stream",
     "text": [
      "All model checkpoint layers were used when initializing TFRobertaForSequenceClassification.\n",
      "\n",
      "All the layers of TFRobertaForSequenceClassification were initialized from the model checkpoint at roberta-large-mnli.\n",
      "If your task is similar to the task the model of the checkpoint was trained on, you can already use TFRobertaForSequenceClassification for predictions without further training.\n"
     ]
    },
    {
     "data": {
      "application/javascript": [
       "\n",
       "            setTimeout(function() {\n",
       "                var nbb_cell_id = 33;\n",
       "                var nbb_unformatted_code = \"classifier = pipeline(\\\"zero-shot-classification\\\", model=\\\"roberta-large-mnli\\\")\";\n",
       "                var nbb_formatted_code = \"classifier = pipeline(\\\"zero-shot-classification\\\", model=\\\"roberta-large-mnli\\\")\";\n",
       "                var nbb_cells = Jupyter.notebook.get_cells();\n",
       "                for (var i = 0; i < nbb_cells.length; ++i) {\n",
       "                    if (nbb_cells[i].input_prompt_number == nbb_cell_id) {\n",
       "                        if (nbb_cells[i].get_text() == nbb_unformatted_code) {\n",
       "                             nbb_cells[i].set_text(nbb_formatted_code);\n",
       "                        }\n",
       "                        break;\n",
       "                    }\n",
       "                }\n",
       "            }, 500);\n",
       "            "
      ],
      "text/plain": [
       "<IPython.core.display.Javascript object>"
      ]
     },
     "metadata": {},
     "output_type": "display_data"
    }
   ],
   "source": [
    "classifier = pipeline(\"zero-shot-classification\", model=\"roberta-large-mnli\")"
   ]
  },
  {
   "cell_type": "markdown",
   "id": "ea9163df",
   "metadata": {},
   "source": [
    "## Zero-Shot Classification of 16 top-categories with 30+ docs"
   ]
  },
  {
   "cell_type": "code",
   "execution_count": 34,
   "id": "51cc613e",
   "metadata": {},
   "outputs": [
    {
     "data": {
      "text/html": [
       "<div>\n",
       "<style scoped>\n",
       "    .dataframe tbody tr th:only-of-type {\n",
       "        vertical-align: middle;\n",
       "    }\n",
       "\n",
       "    .dataframe tbody tr th {\n",
       "        vertical-align: top;\n",
       "    }\n",
       "\n",
       "    .dataframe thead th {\n",
       "        text-align: right;\n",
       "    }\n",
       "</style>\n",
       "<table border=\"1\" class=\"dataframe\">\n",
       "  <thead>\n",
       "    <tr style=\"text-align: right;\">\n",
       "      <th></th>\n",
       "      <th>doc_id</th>\n",
       "      <th>categories</th>\n",
       "      <th>title</th>\n",
       "      <th>content</th>\n",
       "      <th>title_length</th>\n",
       "      <th>con_length</th>\n",
       "    </tr>\n",
       "    <tr>\n",
       "      <th>top_label</th>\n",
       "      <th></th>\n",
       "      <th></th>\n",
       "      <th></th>\n",
       "      <th></th>\n",
       "      <th></th>\n",
       "      <th></th>\n",
       "    </tr>\n",
       "  </thead>\n",
       "  <tbody>\n",
       "    <tr>\n",
       "      <th>ellington residential mortgage reit stock</th>\n",
       "      <td>2843</td>\n",
       "      <td>2843</td>\n",
       "      <td>2693</td>\n",
       "      <td>2693</td>\n",
       "      <td>2843</td>\n",
       "      <td>2843</td>\n",
       "    </tr>\n",
       "    <tr>\n",
       "      <th>acuisition</th>\n",
       "      <td>1650</td>\n",
       "      <td>1650</td>\n",
       "      <td>1494</td>\n",
       "      <td>1494</td>\n",
       "      <td>1650</td>\n",
       "      <td>1650</td>\n",
       "    </tr>\n",
       "    <tr>\n",
       "      <th>crude</th>\n",
       "      <td>370</td>\n",
       "      <td>370</td>\n",
       "      <td>331</td>\n",
       "      <td>331</td>\n",
       "      <td>370</td>\n",
       "      <td>370</td>\n",
       "    </tr>\n",
       "    <tr>\n",
       "      <th>interest</th>\n",
       "      <td>329</td>\n",
       "      <td>329</td>\n",
       "      <td>285</td>\n",
       "      <td>285</td>\n",
       "      <td>329</td>\n",
       "      <td>329</td>\n",
       "    </tr>\n",
       "    <tr>\n",
       "      <th>money foreign exchange</th>\n",
       "      <td>266</td>\n",
       "      <td>266</td>\n",
       "      <td>238</td>\n",
       "      <td>238</td>\n",
       "      <td>266</td>\n",
       "      <td>266</td>\n",
       "    </tr>\n",
       "    <tr>\n",
       "      <th>trade</th>\n",
       "      <td>253</td>\n",
       "      <td>253</td>\n",
       "      <td>230</td>\n",
       "      <td>230</td>\n",
       "      <td>253</td>\n",
       "      <td>253</td>\n",
       "    </tr>\n",
       "    <tr>\n",
       "      <th>grain</th>\n",
       "      <td>218</td>\n",
       "      <td>218</td>\n",
       "      <td>204</td>\n",
       "      <td>204</td>\n",
       "      <td>218</td>\n",
       "      <td>218</td>\n",
       "    </tr>\n",
       "    <tr>\n",
       "      <th>corn</th>\n",
       "      <td>157</td>\n",
       "      <td>157</td>\n",
       "      <td>137</td>\n",
       "      <td>137</td>\n",
       "      <td>157</td>\n",
       "      <td>157</td>\n",
       "    </tr>\n",
       "    <tr>\n",
       "      <th>digital realty trust</th>\n",
       "      <td>126</td>\n",
       "      <td>126</td>\n",
       "      <td>109</td>\n",
       "      <td>109</td>\n",
       "      <td>126</td>\n",
       "      <td>126</td>\n",
       "    </tr>\n",
       "    <tr>\n",
       "      <th>money supply</th>\n",
       "      <td>125</td>\n",
       "      <td>125</td>\n",
       "      <td>76</td>\n",
       "      <td>76</td>\n",
       "      <td>125</td>\n",
       "      <td>125</td>\n",
       "    </tr>\n",
       "    <tr>\n",
       "      <th>ship</th>\n",
       "      <td>112</td>\n",
       "      <td>112</td>\n",
       "      <td>110</td>\n",
       "      <td>110</td>\n",
       "      <td>112</td>\n",
       "      <td>112</td>\n",
       "    </tr>\n",
       "    <tr>\n",
       "      <th>coffee</th>\n",
       "      <td>101</td>\n",
       "      <td>101</td>\n",
       "      <td>97</td>\n",
       "      <td>97</td>\n",
       "      <td>101</td>\n",
       "      <td>101</td>\n",
       "    </tr>\n",
       "    <tr>\n",
       "      <th>sugar</th>\n",
       "      <td>98</td>\n",
       "      <td>98</td>\n",
       "      <td>91</td>\n",
       "      <td>91</td>\n",
       "      <td>98</td>\n",
       "      <td>98</td>\n",
       "    </tr>\n",
       "    <tr>\n",
       "      <th>gold</th>\n",
       "      <td>83</td>\n",
       "      <td>83</td>\n",
       "      <td>83</td>\n",
       "      <td>83</td>\n",
       "      <td>83</td>\n",
       "      <td>83</td>\n",
       "    </tr>\n",
       "    <tr>\n",
       "      <th>grupo nacional provincial</th>\n",
       "      <td>82</td>\n",
       "      <td>82</td>\n",
       "      <td>76</td>\n",
       "      <td>76</td>\n",
       "      <td>82</td>\n",
       "      <td>82</td>\n",
       "    </tr>\n",
       "    <tr>\n",
       "      <th>bottom of the pyramid</th>\n",
       "      <td>75</td>\n",
       "      <td>75</td>\n",
       "      <td>67</td>\n",
       "      <td>67</td>\n",
       "      <td>75</td>\n",
       "      <td>75</td>\n",
       "    </tr>\n",
       "    <tr>\n",
       "      <th>consumer price index</th>\n",
       "      <td>67</td>\n",
       "      <td>67</td>\n",
       "      <td>63</td>\n",
       "      <td>63</td>\n",
       "      <td>67</td>\n",
       "      <td>67</td>\n",
       "    </tr>\n",
       "    <tr>\n",
       "      <th>livestock</th>\n",
       "      <td>67</td>\n",
       "      <td>67</td>\n",
       "      <td>66</td>\n",
       "      <td>66</td>\n",
       "      <td>67</td>\n",
       "      <td>67</td>\n",
       "    </tr>\n",
       "    <tr>\n",
       "      <th>cocoa</th>\n",
       "      <td>55</td>\n",
       "      <td>55</td>\n",
       "      <td>51</td>\n",
       "      <td>51</td>\n",
       "      <td>55</td>\n",
       "      <td>55</td>\n",
       "    </tr>\n",
       "    <tr>\n",
       "      <th>oilseed</th>\n",
       "      <td>49</td>\n",
       "      <td>49</td>\n",
       "      <td>49</td>\n",
       "      <td>49</td>\n",
       "      <td>49</td>\n",
       "      <td>49</td>\n",
       "    </tr>\n",
       "    <tr>\n",
       "      <th>copper</th>\n",
       "      <td>45</td>\n",
       "      <td>45</td>\n",
       "      <td>45</td>\n",
       "      <td>45</td>\n",
       "      <td>45</td>\n",
       "      <td>45</td>\n",
       "    </tr>\n",
       "    <tr>\n",
       "      <th>reserves</th>\n",
       "      <td>39</td>\n",
       "      <td>39</td>\n",
       "      <td>38</td>\n",
       "      <td>38</td>\n",
       "      <td>39</td>\n",
       "      <td>39</td>\n",
       "    </tr>\n",
       "    <tr>\n",
       "      <th>jobs</th>\n",
       "      <td>39</td>\n",
       "      <td>39</td>\n",
       "      <td>35</td>\n",
       "      <td>35</td>\n",
       "      <td>39</td>\n",
       "      <td>39</td>\n",
       "    </tr>\n",
       "    <tr>\n",
       "      <th>intrepid potash</th>\n",
       "      <td>37</td>\n",
       "      <td>37</td>\n",
       "      <td>33</td>\n",
       "      <td>33</td>\n",
       "      <td>37</td>\n",
       "      <td>37</td>\n",
       "    </tr>\n",
       "    <tr>\n",
       "      <th>barley</th>\n",
       "      <td>37</td>\n",
       "      <td>37</td>\n",
       "      <td>33</td>\n",
       "      <td>33</td>\n",
       "      <td>37</td>\n",
       "      <td>37</td>\n",
       "    </tr>\n",
       "    <tr>\n",
       "      <th>aluminum</th>\n",
       "      <td>35</td>\n",
       "      <td>35</td>\n",
       "      <td>34</td>\n",
       "      <td>34</td>\n",
       "      <td>35</td>\n",
       "      <td>35</td>\n",
       "    </tr>\n",
       "    <tr>\n",
       "      <th>iron steel</th>\n",
       "      <td>32</td>\n",
       "      <td>32</td>\n",
       "      <td>32</td>\n",
       "      <td>32</td>\n",
       "      <td>32</td>\n",
       "      <td>32</td>\n",
       "    </tr>\n",
       "    <tr>\n",
       "      <th>rubber</th>\n",
       "      <td>31</td>\n",
       "      <td>31</td>\n",
       "      <td>31</td>\n",
       "      <td>31</td>\n",
       "      <td>31</td>\n",
       "      <td>31</td>\n",
       "    </tr>\n",
       "    <tr>\n",
       "      <th>cotton</th>\n",
       "      <td>28</td>\n",
       "      <td>28</td>\n",
       "      <td>27</td>\n",
       "      <td>27</td>\n",
       "      <td>28</td>\n",
       "      <td>28</td>\n",
       "    </tr>\n",
       "    <tr>\n",
       "      <th>natural gas</th>\n",
       "      <td>26</td>\n",
       "      <td>26</td>\n",
       "      <td>24</td>\n",
       "      <td>24</td>\n",
       "      <td>26</td>\n",
       "      <td>26</td>\n",
       "    </tr>\n",
       "    <tr>\n",
       "      <th>palm oil</th>\n",
       "      <td>21</td>\n",
       "      <td>21</td>\n",
       "      <td>21</td>\n",
       "      <td>21</td>\n",
       "      <td>21</td>\n",
       "      <td>21</td>\n",
       "    </tr>\n",
       "    <tr>\n",
       "      <th>meal feed</th>\n",
       "      <td>19</td>\n",
       "      <td>19</td>\n",
       "      <td>19</td>\n",
       "      <td>19</td>\n",
       "      <td>19</td>\n",
       "      <td>19</td>\n",
       "    </tr>\n",
       "    <tr>\n",
       "      <th>retail</th>\n",
       "      <td>19</td>\n",
       "      <td>19</td>\n",
       "      <td>15</td>\n",
       "      <td>15</td>\n",
       "      <td>19</td>\n",
       "      <td>19</td>\n",
       "    </tr>\n",
       "    <tr>\n",
       "      <th>vagetable oil</th>\n",
       "      <td>19</td>\n",
       "      <td>19</td>\n",
       "      <td>19</td>\n",
       "      <td>19</td>\n",
       "      <td>19</td>\n",
       "      <td>19</td>\n",
       "    </tr>\n",
       "    <tr>\n",
       "      <th>tin</th>\n",
       "      <td>17</td>\n",
       "      <td>17</td>\n",
       "      <td>17</td>\n",
       "      <td>17</td>\n",
       "      <td>17</td>\n",
       "      <td>17</td>\n",
       "    </tr>\n",
       "  </tbody>\n",
       "</table>\n",
       "</div>"
      ],
      "text/plain": [
       "                                           doc_id  categories  title  content  \\\n",
       "top_label                                                                       \n",
       "ellington residential mortgage reit stock    2843        2843   2693     2693   \n",
       "acuisition                                   1650        1650   1494     1494   \n",
       "crude                                         370         370    331      331   \n",
       "interest                                      329         329    285      285   \n",
       "money foreign exchange                        266         266    238      238   \n",
       "trade                                         253         253    230      230   \n",
       "grain                                         218         218    204      204   \n",
       "corn                                          157         157    137      137   \n",
       "digital realty trust                          126         126    109      109   \n",
       "money supply                                  125         125     76       76   \n",
       "ship                                          112         112    110      110   \n",
       "coffee                                        101         101     97       97   \n",
       "sugar                                          98          98     91       91   \n",
       "gold                                           83          83     83       83   \n",
       "grupo nacional provincial                      82          82     76       76   \n",
       "bottom of the pyramid                          75          75     67       67   \n",
       "consumer price index                           67          67     63       63   \n",
       "livestock                                      67          67     66       66   \n",
       "cocoa                                          55          55     51       51   \n",
       "oilseed                                        49          49     49       49   \n",
       "copper                                         45          45     45       45   \n",
       "reserves                                       39          39     38       38   \n",
       "jobs                                           39          39     35       35   \n",
       "intrepid potash                                37          37     33       33   \n",
       "barley                                         37          37     33       33   \n",
       "aluminum                                       35          35     34       34   \n",
       "iron steel                                     32          32     32       32   \n",
       "rubber                                         31          31     31       31   \n",
       "cotton                                         28          28     27       27   \n",
       "natural gas                                    26          26     24       24   \n",
       "palm oil                                       21          21     21       21   \n",
       "meal feed                                      19          19     19       19   \n",
       "retail                                         19          19     15       15   \n",
       "vagetable oil                                  19          19     19       19   \n",
       "tin                                            17          17     17       17   \n",
       "\n",
       "                                           title_length  con_length  \n",
       "top_label                                                            \n",
       "ellington residential mortgage reit stock          2843        2843  \n",
       "acuisition                                         1650        1650  \n",
       "crude                                               370         370  \n",
       "interest                                            329         329  \n",
       "money foreign exchange                              266         266  \n",
       "trade                                               253         253  \n",
       "grain                                               218         218  \n",
       "corn                                                157         157  \n",
       "digital realty trust                                126         126  \n",
       "money supply                                        125         125  \n",
       "ship                                                112         112  \n",
       "coffee                                              101         101  \n",
       "sugar                                                98          98  \n",
       "gold                                                 83          83  \n",
       "grupo nacional provincial                            82          82  \n",
       "bottom of the pyramid                                75          75  \n",
       "consumer price index                                 67          67  \n",
       "livestock                                            67          67  \n",
       "cocoa                                                55          55  \n",
       "oilseed                                              49          49  \n",
       "copper                                               45          45  \n",
       "reserves                                             39          39  \n",
       "jobs                                                 39          39  \n",
       "intrepid potash                                      37          37  \n",
       "barley                                               37          37  \n",
       "aluminum                                             35          35  \n",
       "iron steel                                           32          32  \n",
       "rubber                                               31          31  \n",
       "cotton                                               28          28  \n",
       "natural gas                                          26          26  \n",
       "palm oil                                             21          21  \n",
       "meal feed                                            19          19  \n",
       "retail                                               19          19  \n",
       "vagetable oil                                        19          19  \n",
       "tin                                                  17          17  "
      ]
     },
     "execution_count": 34,
     "metadata": {},
     "output_type": "execute_result"
    },
    {
     "data": {
      "application/javascript": [
       "\n",
       "            setTimeout(function() {\n",
       "                var nbb_cell_id = 34;\n",
       "                var nbb_unformatted_code = \"cat_count_df = news_df.groupby(by=\\\"top_label\\\").count()\\ncat_count_df.sort_values(by=\\\"doc_id\\\", ascending=False).iloc[:35]\";\n",
       "                var nbb_formatted_code = \"cat_count_df = news_df.groupby(by=\\\"top_label\\\").count()\\ncat_count_df.sort_values(by=\\\"doc_id\\\", ascending=False).iloc[:35]\";\n",
       "                var nbb_cells = Jupyter.notebook.get_cells();\n",
       "                for (var i = 0; i < nbb_cells.length; ++i) {\n",
       "                    if (nbb_cells[i].input_prompt_number == nbb_cell_id) {\n",
       "                        if (nbb_cells[i].get_text() == nbb_unformatted_code) {\n",
       "                             nbb_cells[i].set_text(nbb_formatted_code);\n",
       "                        }\n",
       "                        break;\n",
       "                    }\n",
       "                }\n",
       "            }, 500);\n",
       "            "
      ],
      "text/plain": [
       "<IPython.core.display.Javascript object>"
      ]
     },
     "metadata": {},
     "output_type": "display_data"
    }
   ],
   "source": [
    "cat_count_df = news_df.groupby(by=\"top_label\").count()\n",
    "cat_count_df.sort_values(by=\"doc_id\", ascending=False).iloc[:35]"
   ]
  },
  {
   "cell_type": "code",
   "execution_count": 36,
   "id": "de3ddbcc",
   "metadata": {},
   "outputs": [
    {
     "data": {
      "application/javascript": [
       "\n",
       "            setTimeout(function() {\n",
       "                var nbb_cell_id = 36;\n",
       "                var nbb_unformatted_code = \"sub_cat_list = [\\n    \\\"aluminum\\\",\\n    \\\"barley\\\",\\n    \\\"cocoa\\\",\\n    \\\"coffee\\\",\\n    \\\"copper\\\",\\n    \\\"corn\\\",\\n    \\\"cotton\\\",\\n    \\\"crude\\\",\\n    \\\"gold\\\",\\n    \\\"grain\\\",\\n    \\\"iron steel\\\",\\n    \\\"livestock\\\",\\n    \\\"natural gas\\\",\\n    \\\"palm oil\\\" \\\"rubber\\\",\\n    \\\"sugar\\\",\\n]\\nsub_cat_df = news_df[news_df[\\\"top_label\\\"].isin(sub_cat_list)]\";\n",
       "                var nbb_formatted_code = \"sub_cat_list = [\\n    \\\"aluminum\\\",\\n    \\\"barley\\\",\\n    \\\"cocoa\\\",\\n    \\\"coffee\\\",\\n    \\\"copper\\\",\\n    \\\"corn\\\",\\n    \\\"cotton\\\",\\n    \\\"crude\\\",\\n    \\\"gold\\\",\\n    \\\"grain\\\",\\n    \\\"iron steel\\\",\\n    \\\"livestock\\\",\\n    \\\"natural gas\\\",\\n    \\\"palm oil\\\" \\\"rubber\\\",\\n    \\\"sugar\\\",\\n]\\nsub_cat_df = news_df[news_df[\\\"top_label\\\"].isin(sub_cat_list)]\";\n",
       "                var nbb_cells = Jupyter.notebook.get_cells();\n",
       "                for (var i = 0; i < nbb_cells.length; ++i) {\n",
       "                    if (nbb_cells[i].input_prompt_number == nbb_cell_id) {\n",
       "                        if (nbb_cells[i].get_text() == nbb_unformatted_code) {\n",
       "                             nbb_cells[i].set_text(nbb_formatted_code);\n",
       "                        }\n",
       "                        break;\n",
       "                    }\n",
       "                }\n",
       "            }, 500);\n",
       "            "
      ],
      "text/plain": [
       "<IPython.core.display.Javascript object>"
      ]
     },
     "metadata": {},
     "output_type": "display_data"
    }
   ],
   "source": [
    "sub_cat_list = [\n",
    "    \"aluminum\",\n",
    "    \"barley\",\n",
    "    \"cocoa\",\n",
    "    \"coffee\",\n",
    "    \"copper\",\n",
    "    \"corn\",\n",
    "    \"cotton\",\n",
    "    \"crude\",\n",
    "    \"gold\",\n",
    "    \"grain\",\n",
    "    \"iron steel\",\n",
    "    \"livestock\",\n",
    "    \"natural gas\",\n",
    "    \"palm oil\" \"rubber\",\n",
    "    \"sugar\",\n",
    "]\n",
    "sub_cat_df = news_df[news_df[\"top_label\"].isin(sub_cat_list)]"
   ]
  },
  {
   "cell_type": "code",
   "execution_count": 43,
   "id": "06b15920",
   "metadata": {},
   "outputs": [
    {
     "data": {
      "application/javascript": [
       "\n",
       "            setTimeout(function() {\n",
       "                var nbb_cell_id = 43;\n",
       "                var nbb_unformatted_code = \"sub_cat_df = sub_cat_df[sub_cat_df[\\\"con_length\\\"] > 500]\\nsc_sample_df = (\\n    sub_cat_df.groupby(\\\"top_label\\\")\\n    .apply(lambda x: x.sample(20, replace=True))\\n    .reset_index(drop=True)\\n)\\nsc_sample_df = sc_sample_df.drop(\\n    columns=[\\\"categories\\\", \\\"title_length\\\", \\\"con_length\\\"]\\n).drop_duplicates()\\nsc_sample_df.to_pickle(\\\"C:/Users/rparg/Documents/Data/Reuters/sc_sample.pkl\\\")\";\n",
       "                var nbb_formatted_code = \"sub_cat_df = sub_cat_df[sub_cat_df[\\\"con_length\\\"] > 500]\\nsc_sample_df = (\\n    sub_cat_df.groupby(\\\"top_label\\\")\\n    .apply(lambda x: x.sample(20, replace=True))\\n    .reset_index(drop=True)\\n)\\nsc_sample_df = sc_sample_df.drop(\\n    columns=[\\\"categories\\\", \\\"title_length\\\", \\\"con_length\\\"]\\n).drop_duplicates()\\nsc_sample_df.to_pickle(\\\"C:/Users/rparg/Documents/Data/Reuters/sc_sample.pkl\\\")\";\n",
       "                var nbb_cells = Jupyter.notebook.get_cells();\n",
       "                for (var i = 0; i < nbb_cells.length; ++i) {\n",
       "                    if (nbb_cells[i].input_prompt_number == nbb_cell_id) {\n",
       "                        if (nbb_cells[i].get_text() == nbb_unformatted_code) {\n",
       "                             nbb_cells[i].set_text(nbb_formatted_code);\n",
       "                        }\n",
       "                        break;\n",
       "                    }\n",
       "                }\n",
       "            }, 500);\n",
       "            "
      ],
      "text/plain": [
       "<IPython.core.display.Javascript object>"
      ]
     },
     "metadata": {},
     "output_type": "display_data"
    }
   ],
   "source": [
    "sub_cat_df = sub_cat_df[sub_cat_df[\"con_length\"] > 500]\n",
    "sc_sample_df = (\n",
    "    sub_cat_df.groupby(\"top_label\")\n",
    "    .apply(lambda x: x.sample(20, replace=True))\n",
    "    .reset_index(drop=True)\n",
    ")\n",
    "sc_sample_df = sc_sample_df.drop(\n",
    "    columns=[\"categories\", \"title_length\", \"con_length\"]\n",
    ").drop_duplicates()\n",
    "sc_sample_df.to_pickle(\"C:/Users/rparg/Documents/Data/Reuters/sc_sample.pkl\")"
   ]
  },
  {
   "cell_type": "code",
   "execution_count": 44,
   "id": "4f2c7861",
   "metadata": {},
   "outputs": [
    {
     "data": {
      "application/javascript": [
       "\n",
       "            setTimeout(function() {\n",
       "                var nbb_cell_id = 44;\n",
       "                var nbb_unformatted_code = \"sc_sample_list = list(sc_sample_df[\\\"content\\\"])\";\n",
       "                var nbb_formatted_code = \"sc_sample_list = list(sc_sample_df[\\\"content\\\"])\";\n",
       "                var nbb_cells = Jupyter.notebook.get_cells();\n",
       "                for (var i = 0; i < nbb_cells.length; ++i) {\n",
       "                    if (nbb_cells[i].input_prompt_number == nbb_cell_id) {\n",
       "                        if (nbb_cells[i].get_text() == nbb_unformatted_code) {\n",
       "                             nbb_cells[i].set_text(nbb_formatted_code);\n",
       "                        }\n",
       "                        break;\n",
       "                    }\n",
       "                }\n",
       "            }, 500);\n",
       "            "
      ],
      "text/plain": [
       "<IPython.core.display.Javascript object>"
      ]
     },
     "metadata": {},
     "output_type": "display_data"
    }
   ],
   "source": [
    "sc_sample_list = list(sc_sample_df[\"content\"])"
   ]
  },
  {
   "cell_type": "code",
   "execution_count": null,
   "id": "e3c6b92d",
   "metadata": {},
   "outputs": [],
   "source": [
    "sc_class_list = [\n",
    "    classifier(content, sub_cat_list, multi_label=True) for content in sc_sample_list\n",
    "]\n",
    "categorized_df = pd.DataFrame.from_records(sc_class_list)\n",
    "categorized_df.to_pickle(\"C:/Users/rparg/Documents/Data/Reuters/sc_cat.pkl\")"
   ]
  },
  {
   "cell_type": "markdown",
   "id": "e2d81e2c",
   "metadata": {},
   "source": [
    "## Zero shot classification based on document titles"
   ]
  },
  {
   "cell_type": "code",
   "execution_count": 12,
   "id": "64eeeff5",
   "metadata": {},
   "outputs": [
    {
     "data": {
      "application/javascript": [
       "\n",
       "            setTimeout(function() {\n",
       "                var nbb_cell_id = 12;\n",
       "                var nbb_unformatted_code = \"news_filt_df = news_df[news_df[\\\"title_length\\\"] > 40]\\nsample_df = (\\n    news_filt_df.groupby(\\\"top_label\\\")\\n    .apply(lambda x: x.sample(15, replace=True))\\n    .reset_index(drop=True)\\n)\\nsample_df = sample_df.drop(columns=[\\\"Categories\\\"]).drop_duplicates()\";\n",
       "                var nbb_formatted_code = \"news_filt_df = news_df[news_df[\\\"title_length\\\"] > 40]\\nsample_df = (\\n    news_filt_df.groupby(\\\"top_label\\\")\\n    .apply(lambda x: x.sample(15, replace=True))\\n    .reset_index(drop=True)\\n)\\nsample_df = sample_df.drop(columns=[\\\"Categories\\\"]).drop_duplicates()\";\n",
       "                var nbb_cells = Jupyter.notebook.get_cells();\n",
       "                for (var i = 0; i < nbb_cells.length; ++i) {\n",
       "                    if (nbb_cells[i].input_prompt_number == nbb_cell_id) {\n",
       "                        if (nbb_cells[i].get_text() == nbb_unformatted_code) {\n",
       "                             nbb_cells[i].set_text(nbb_formatted_code);\n",
       "                        }\n",
       "                        break;\n",
       "                    }\n",
       "                }\n",
       "            }, 500);\n",
       "            "
      ],
      "text/plain": [
       "<IPython.core.display.Javascript object>"
      ]
     },
     "metadata": {},
     "output_type": "display_data"
    }
   ],
   "source": [
    "news_filt_df = news_df[news_df[\"title_length\"] > 40]\n",
    "sample_df = (\n",
    "    news_filt_df.groupby(\"top_label\")\n",
    "    .apply(lambda x: x.sample(15, replace=True))\n",
    "    .reset_index(drop=True)\n",
    ")\n",
    "sample_df = sample_df.drop(columns=[\"categories\"]).drop_duplicates()\n",
    "sample_df.to_pickle(\"C:/Users/rparg/Documents/Data/Reuters/sample_titles.pkl\")"
   ]
  },
  {
   "cell_type": "code",
   "execution_count": 13,
   "id": "6fd6ab90",
   "metadata": {},
   "outputs": [
    {
     "data": {
      "application/javascript": [
       "\n",
       "            setTimeout(function() {\n",
       "                var nbb_cell_id = 13;\n",
       "                var nbb_unformatted_code = \"class_title_list = list(sample_df[\\\"Title\\\"])\";\n",
       "                var nbb_formatted_code = \"class_title_list = list(sample_df[\\\"Title\\\"])\";\n",
       "                var nbb_cells = Jupyter.notebook.get_cells();\n",
       "                for (var i = 0; i < nbb_cells.length; ++i) {\n",
       "                    if (nbb_cells[i].input_prompt_number == nbb_cell_id) {\n",
       "                        if (nbb_cells[i].get_text() == nbb_unformatted_code) {\n",
       "                             nbb_cells[i].set_text(nbb_formatted_code);\n",
       "                        }\n",
       "                        break;\n",
       "                    }\n",
       "                }\n",
       "            }, 500);\n",
       "            "
      ],
      "text/plain": [
       "<IPython.core.display.Javascript object>"
      ]
     },
     "metadata": {},
     "output_type": "display_data"
    }
   ],
   "source": [
    "class_title_list = list(sample_df[\"title\"])"
   ]
  },
  {
   "cell_type": "code",
   "execution_count": 14,
   "id": "ee2bbc57",
   "metadata": {},
   "outputs": [
    {
     "data": {
      "application/javascript": [
       "\n",
       "            setTimeout(function() {\n",
       "                var nbb_cell_id = 14;\n",
       "                var nbb_unformatted_code = \"clfd_dict_list2 = [\\n    classifier(title, new_cats, multi_label=True) for title in class_title_list\\n]\\ncategorized_df = pd.DataFrame.from_records(clfd_dict_list2)\\ncategorized_df.to_pickle(\\\"C:/Users/rparg/Documents/Data/Reuters/categorized2.pkl\\\")\";\n",
       "                var nbb_formatted_code = \"clfd_dict_list2 = [\\n    classifier(title, new_cats, multi_label=True) for title in class_title_list\\n]\\ncategorized_df = pd.DataFrame.from_records(clfd_dict_list2)\\ncategorized_df.to_pickle(\\\"C:/Users/rparg/Documents/Data/Reuters/categorized2.pkl\\\")\";\n",
       "                var nbb_cells = Jupyter.notebook.get_cells();\n",
       "                for (var i = 0; i < nbb_cells.length; ++i) {\n",
       "                    if (nbb_cells[i].input_prompt_number == nbb_cell_id) {\n",
       "                        if (nbb_cells[i].get_text() == nbb_unformatted_code) {\n",
       "                             nbb_cells[i].set_text(nbb_formatted_code);\n",
       "                        }\n",
       "                        break;\n",
       "                    }\n",
       "                }\n",
       "            }, 500);\n",
       "            "
      ],
      "text/plain": [
       "<IPython.core.display.Javascript object>"
      ]
     },
     "metadata": {},
     "output_type": "display_data"
    }
   ],
   "source": [
    "clfd_dict_list2 = [\n",
    "    classifier(title, new_cats, multi_label=True) for title in class_title_list\n",
    "]\n",
    "categorized_df = pd.DataFrame.from_records(clfd_dict_list2)\n",
    "categorized_df.to_pickle(\"C:/Users/rparg/Documents/Data/Reuters/categorized2.pkl\")"
   ]
  },
  {
   "cell_type": "markdown",
   "id": "443b1bb2",
   "metadata": {},
   "source": [
    "## Zero shot classification based on document titles"
   ]
  },
  {
   "cell_type": "code",
   "execution_count": 13,
   "id": "305bbc18",
   "metadata": {},
   "outputs": [
    {
     "data": {
      "application/javascript": [
       "\n",
       "            setTimeout(function() {\n",
       "                var nbb_cell_id = 13;\n",
       "                var nbb_unformatted_code = \"news_con_filt_df = news_df[\\n    (news_df[\\\"con_length\\\"] > 200) & (news_df[\\\"con_length\\\"] < 1000)\\n]\";\n",
       "                var nbb_formatted_code = \"news_con_filt_df = news_df[\\n    (news_df[\\\"con_length\\\"] > 200) & (news_df[\\\"con_length\\\"] < 1000)\\n]\";\n",
       "                var nbb_cells = Jupyter.notebook.get_cells();\n",
       "                for (var i = 0; i < nbb_cells.length; ++i) {\n",
       "                    if (nbb_cells[i].input_prompt_number == nbb_cell_id) {\n",
       "                        if (nbb_cells[i].get_text() == nbb_unformatted_code) {\n",
       "                             nbb_cells[i].set_text(nbb_formatted_code);\n",
       "                        }\n",
       "                        break;\n",
       "                    }\n",
       "                }\n",
       "            }, 500);\n",
       "            "
      ],
      "text/plain": [
       "<IPython.core.display.Javascript object>"
      ]
     },
     "metadata": {},
     "output_type": "display_data"
    }
   ],
   "source": [
    "news_con_filt_df = news_df[\n",
    "    (news_df[\"con_length\"] > 200) & (news_df[\"con_length\"] < 1000)\n",
    "]"
   ]
  },
  {
   "cell_type": "code",
   "execution_count": 14,
   "id": "accd7dd8",
   "metadata": {},
   "outputs": [
    {
     "data": {
      "application/javascript": [
       "\n",
       "            setTimeout(function() {\n",
       "                var nbb_cell_id = 14;\n",
       "                var nbb_unformatted_code = \"sample_con_df = (\\n    news_con_filt_df.groupby(\\\"top_label\\\")\\n    .apply(lambda x: x.sample(4, replace=True))\\n    .reset_index(drop=True)\\n)\\nsample_con_df = sample_con_df.drop(columns=[\\\"Categories\\\"]).drop_duplicates()\";\n",
       "                var nbb_formatted_code = \"sample_con_df = (\\n    news_con_filt_df.groupby(\\\"top_label\\\")\\n    .apply(lambda x: x.sample(4, replace=True))\\n    .reset_index(drop=True)\\n)\\nsample_con_df = sample_con_df.drop(columns=[\\\"Categories\\\"]).drop_duplicates()\";\n",
       "                var nbb_cells = Jupyter.notebook.get_cells();\n",
       "                for (var i = 0; i < nbb_cells.length; ++i) {\n",
       "                    if (nbb_cells[i].input_prompt_number == nbb_cell_id) {\n",
       "                        if (nbb_cells[i].get_text() == nbb_unformatted_code) {\n",
       "                             nbb_cells[i].set_text(nbb_formatted_code);\n",
       "                        }\n",
       "                        break;\n",
       "                    }\n",
       "                }\n",
       "            }, 500);\n",
       "            "
      ],
      "text/plain": [
       "<IPython.core.display.Javascript object>"
      ]
     },
     "metadata": {},
     "output_type": "display_data"
    }
   ],
   "source": [
    "sample_con_df = (\n",
    "    news_con_filt_df.groupby(\"top_label\")\n",
    "    .apply(lambda x: x.sample(4, replace=True))\n",
    "    .reset_index(drop=True)\n",
    ")\n",
    "sample_con_df = sample_con_df.drop(columns=[\"categories\"]).drop_duplicates()\n",
    "sample_con_df.to_pickle(\"C:/Users/rparg/Documents/Data/Reuters/sample_content.pkl\")"
   ]
  },
  {
   "cell_type": "code",
   "execution_count": 15,
   "id": "aba53459",
   "metadata": {},
   "outputs": [
    {
     "data": {
      "application/javascript": [
       "\n",
       "            setTimeout(function() {\n",
       "                var nbb_cell_id = 15;\n",
       "                var nbb_unformatted_code = \"class_con_list = list(sample_con_df[\\\"Content\\\"])\";\n",
       "                var nbb_formatted_code = \"class_con_list = list(sample_con_df[\\\"Content\\\"])\";\n",
       "                var nbb_cells = Jupyter.notebook.get_cells();\n",
       "                for (var i = 0; i < nbb_cells.length; ++i) {\n",
       "                    if (nbb_cells[i].input_prompt_number == nbb_cell_id) {\n",
       "                        if (nbb_cells[i].get_text() == nbb_unformatted_code) {\n",
       "                             nbb_cells[i].set_text(nbb_formatted_code);\n",
       "                        }\n",
       "                        break;\n",
       "                    }\n",
       "                }\n",
       "            }, 500);\n",
       "            "
      ],
      "text/plain": [
       "<IPython.core.display.Javascript object>"
      ]
     },
     "metadata": {},
     "output_type": "display_data"
    }
   ],
   "source": [
    "class_con_list = list(sample_con_df[\"content\"])"
   ]
  },
  {
   "cell_type": "code",
   "execution_count": 16,
   "id": "636ff294",
   "metadata": {},
   "outputs": [
    {
     "data": {
      "application/javascript": [
       "\n",
       "            setTimeout(function() {\n",
       "                var nbb_cell_id = 16;\n",
       "                var nbb_unformatted_code = \"clfd_dict_list2 = [\\n    classifier(title, new_cats, multi_label=True) for title in class_con_list\\n]\\ncategorized_df = pd.DataFrame.from_records(clfd_dict_list2)\\ncategorized_df.to_pickle(\\\"C:/Users/rparg/Documents/Data/Reuters/con_cat.pkl\\\")\";\n",
       "                var nbb_formatted_code = \"clfd_dict_list2 = [\\n    classifier(title, new_cats, multi_label=True) for title in class_con_list\\n]\\ncategorized_df = pd.DataFrame.from_records(clfd_dict_list2)\\ncategorized_df.to_pickle(\\\"C:/Users/rparg/Documents/Data/Reuters/con_cat.pkl\\\")\";\n",
       "                var nbb_cells = Jupyter.notebook.get_cells();\n",
       "                for (var i = 0; i < nbb_cells.length; ++i) {\n",
       "                    if (nbb_cells[i].input_prompt_number == nbb_cell_id) {\n",
       "                        if (nbb_cells[i].get_text() == nbb_unformatted_code) {\n",
       "                             nbb_cells[i].set_text(nbb_formatted_code);\n",
       "                        }\n",
       "                        break;\n",
       "                    }\n",
       "                }\n",
       "            }, 500);\n",
       "            "
      ],
      "text/plain": [
       "<IPython.core.display.Javascript object>"
      ]
     },
     "metadata": {},
     "output_type": "display_data"
    }
   ],
   "source": [
    "clfd_dict_list2 = [\n",
    "    classifier(title, new_cats, multi_label=True) for title in class_con_list\n",
    "]\n",
    "categorized_df = pd.DataFrame.from_records(clfd_dict_list2)\n",
    "categorized_df.to_pickle(\"C:/Users/rparg/Documents/Data/Reuters/con_cat.pkl\")"
   ]
  },
  {
   "cell_type": "code",
   "execution_count": null,
   "id": "c82256de",
   "metadata": {},
   "outputs": [],
   "source": []
  }
 ],
 "metadata": {
  "kernelspec": {
   "display_name": "Python 3 (ipykernel)",
   "language": "python",
   "name": "python3"
  },
  "language_info": {
   "codemirror_mode": {
    "name": "ipython",
    "version": 3
   },
   "file_extension": ".py",
   "mimetype": "text/x-python",
   "name": "python",
   "nbconvert_exporter": "python",
   "pygments_lexer": "ipython3",
   "version": "3.9.15"
  }
 },
 "nbformat": 4,
 "nbformat_minor": 5
}
