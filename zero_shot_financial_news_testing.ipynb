{
 "cells": [
  {
   "cell_type": "code",
   "execution_count": 16,
   "id": "56dda2b2",
   "metadata": {},
   "outputs": [
    {
     "data": {
      "application/javascript": [
       "\n",
       "            setTimeout(function() {\n",
       "                var nbb_cell_id = 16;\n",
       "                var nbb_unformatted_code = \"import re\\nimport os\\nimport nltk\\nimport tensorflow as tf\\nimport numpy as np\\nimport pandas as pd\\nfrom nltk.corpus import reuters\\nimport collections\\nfrom transformers import pipeline\\n\\n%load_ext nb_black\";\n",
       "                var nbb_formatted_code = \"import re\\nimport os\\nimport nltk\\nimport tensorflow as tf\\nimport numpy as np\\nimport pandas as pd\\nfrom nltk.corpus import reuters\\nimport collections\\nfrom transformers import pipeline\\n\\n%load_ext nb_black\";\n",
       "                var nbb_cells = Jupyter.notebook.get_cells();\n",
       "                for (var i = 0; i < nbb_cells.length; ++i) {\n",
       "                    if (nbb_cells[i].input_prompt_number == nbb_cell_id) {\n",
       "                        if (nbb_cells[i].get_text() == nbb_unformatted_code) {\n",
       "                             nbb_cells[i].set_text(nbb_formatted_code);\n",
       "                        }\n",
       "                        break;\n",
       "                    }\n",
       "                }\n",
       "            }, 500);\n",
       "            "
      ],
      "text/plain": [
       "<IPython.core.display.Javascript object>"
      ]
     },
     "metadata": {},
     "output_type": "display_data"
    }
   ],
   "source": [
    "import re\n",
    "import os\n",
    "import nltk\n",
    "import tensorflow as tf\n",
    "import numpy as np\n",
    "import pandas as pd\n",
    "from nltk.corpus import reuters\n",
    "import collections\n",
    "from transformers import pipeline\n",
    "\n",
    "%load_ext nb_black"
   ]
  },
  {
   "cell_type": "code",
   "execution_count": 19,
   "id": "211df837",
   "metadata": {},
   "outputs": [
    {
     "data": {
      "application/javascript": [
       "\n",
       "            setTimeout(function() {\n",
       "                var nbb_cell_id = 19;\n",
       "                var nbb_unformatted_code = \"documents = reuters.fileids()\\ntrain_docs = list(filter(lambda doc: doc.startswith(\\\"train\\\"), documents))\\ntest_docs = list(filter(lambda doc: doc.startswith(\\\"test\\\"), documents))\\ncategories = reuters.categories()\";\n",
       "                var nbb_formatted_code = \"documents = reuters.fileids()\\ntrain_docs = list(filter(lambda doc: doc.startswith(\\\"train\\\"), documents))\\ntest_docs = list(filter(lambda doc: doc.startswith(\\\"test\\\"), documents))\\ncategories = reuters.categories()\";\n",
       "                var nbb_cells = Jupyter.notebook.get_cells();\n",
       "                for (var i = 0; i < nbb_cells.length; ++i) {\n",
       "                    if (nbb_cells[i].input_prompt_number == nbb_cell_id) {\n",
       "                        if (nbb_cells[i].get_text() == nbb_unformatted_code) {\n",
       "                             nbb_cells[i].set_text(nbb_formatted_code);\n",
       "                        }\n",
       "                        break;\n",
       "                    }\n",
       "                }\n",
       "            }, 500);\n",
       "            "
      ],
      "text/plain": [
       "<IPython.core.display.Javascript object>"
      ]
     },
     "metadata": {},
     "output_type": "display_data"
    }
   ],
   "source": [
    "documents = reuters.fileids()\n",
    "train_docs = list(filter(lambda doc: doc.startswith(\"train\"), documents))\n",
    "test_docs = list(filter(lambda doc: doc.startswith(\"test\"), documents))\n",
    "categories = reuters.categories()"
   ]
  },
  {
   "cell_type": "code",
   "execution_count": 20,
   "id": "a93661bd",
   "metadata": {},
   "outputs": [
    {
     "data": {
      "application/javascript": [
       "\n",
       "            setTimeout(function() {\n",
       "                var nbb_cell_id = 20;\n",
       "                var nbb_unformatted_code = \"title_re = \\\"([A-Z].*[a-z]$)\\\"\\n\\n\\ndef title_split(doc):\\n    prev_word = \\\"\\\"\\n    for word in doc:\\n        if bool(re.match(title_re, word)):\\n            title_pos = doc.index(word)\\n            if prev_word == \\\"A\\\" or word == \\\"USA\\\":\\n                title_pos = title_pos - 1\\n            return \\\" \\\".join(doc[:title_pos])\\n        prev_word = word\\n\\n\\ndef words_split(doc):\\n    prev_word = \\\"\\\"\\n    for word in doc:\\n        if bool(re.match(title_re, word)):\\n            title_pos = doc.index(word)\\n            if prev_word == \\\"A\\\" or word == \\\"USA\\\":\\n                title_pos = title_pos - 1\\n            return \\\" \\\".join(doc[title_pos:])\\n        prev_word = word\";\n",
       "                var nbb_formatted_code = \"title_re = \\\"([A-Z].*[a-z]$)\\\"\\n\\n\\ndef title_split(doc):\\n    prev_word = \\\"\\\"\\n    for word in doc:\\n        if bool(re.match(title_re, word)):\\n            title_pos = doc.index(word)\\n            if prev_word == \\\"A\\\" or word == \\\"USA\\\":\\n                title_pos = title_pos - 1\\n            return \\\" \\\".join(doc[:title_pos])\\n        prev_word = word\\n\\n\\ndef words_split(doc):\\n    prev_word = \\\"\\\"\\n    for word in doc:\\n        if bool(re.match(title_re, word)):\\n            title_pos = doc.index(word)\\n            if prev_word == \\\"A\\\" or word == \\\"USA\\\":\\n                title_pos = title_pos - 1\\n            return \\\" \\\".join(doc[title_pos:])\\n        prev_word = word\";\n",
       "                var nbb_cells = Jupyter.notebook.get_cells();\n",
       "                for (var i = 0; i < nbb_cells.length; ++i) {\n",
       "                    if (nbb_cells[i].input_prompt_number == nbb_cell_id) {\n",
       "                        if (nbb_cells[i].get_text() == nbb_unformatted_code) {\n",
       "                             nbb_cells[i].set_text(nbb_formatted_code);\n",
       "                        }\n",
       "                        break;\n",
       "                    }\n",
       "                }\n",
       "            }, 500);\n",
       "            "
      ],
      "text/plain": [
       "<IPython.core.display.Javascript object>"
      ]
     },
     "metadata": {},
     "output_type": "display_data"
    }
   ],
   "source": [
    "title_re = \"([A-Z].*[a-z]$)\"\n",
    "\n",
    "\n",
    "def title_split(doc):\n",
    "    prev_word = \"\"\n",
    "    for word in doc:\n",
    "        if bool(re.match(title_re, word)):\n",
    "            title_pos = doc.index(word)\n",
    "            if prev_word == \"A\" or word == \"USA\":\n",
    "                title_pos = title_pos - 1\n",
    "            return \" \".join(doc[:title_pos])\n",
    "        prev_word = word\n",
    "\n",
    "\n",
    "def words_split(doc):\n",
    "    prev_word = \"\"\n",
    "    for word in doc:\n",
    "        if bool(re.match(title_re, word)):\n",
    "            title_pos = doc.index(word)\n",
    "            if prev_word == \"A\" or word == \"USA\":\n",
    "                title_pos = title_pos - 1\n",
    "            return \" \".join(doc[title_pos:])\n",
    "        prev_word = word"
   ]
  },
  {
   "cell_type": "code",
   "execution_count": 21,
   "id": "b224e848",
   "metadata": {},
   "outputs": [
    {
     "data": {
      "application/javascript": [
       "\n",
       "            setTimeout(function() {\n",
       "                var nbb_cell_id = 21;\n",
       "                var nbb_unformatted_code = \"train_list = [int(x.split(\\\"/\\\")[1]) for x in train_docs]\\ncat_list = [reuters.categories(x) for x in train_docs]\\ntitle_list = [title_split(reuters.words(x)) for x in train_docs]\\nwords_list = [words_split(reuters.words(x)) for x in train_docs]\";\n",
       "                var nbb_formatted_code = \"train_list = [int(x.split(\\\"/\\\")[1]) for x in train_docs]\\ncat_list = [reuters.categories(x) for x in train_docs]\\ntitle_list = [title_split(reuters.words(x)) for x in train_docs]\\nwords_list = [words_split(reuters.words(x)) for x in train_docs]\";\n",
       "                var nbb_cells = Jupyter.notebook.get_cells();\n",
       "                for (var i = 0; i < nbb_cells.length; ++i) {\n",
       "                    if (nbb_cells[i].input_prompt_number == nbb_cell_id) {\n",
       "                        if (nbb_cells[i].get_text() == nbb_unformatted_code) {\n",
       "                             nbb_cells[i].set_text(nbb_formatted_code);\n",
       "                        }\n",
       "                        break;\n",
       "                    }\n",
       "                }\n",
       "            }, 500);\n",
       "            "
      ],
      "text/plain": [
       "<IPython.core.display.Javascript object>"
      ]
     },
     "metadata": {},
     "output_type": "display_data"
    }
   ],
   "source": [
    "train_list = [int(x.split(\"/\")[1]) for x in train_docs]\n",
    "cat_list = [reuters.categories(x) for x in train_docs]\n",
    "title_list = [title_split(reuters.words(x)) for x in train_docs]\n",
    "words_list = [words_split(reuters.words(x)) for x in train_docs]"
   ]
  },
  {
   "cell_type": "code",
   "execution_count": 22,
   "id": "8b422b71",
   "metadata": {},
   "outputs": [
    {
     "data": {
      "application/javascript": [
       "\n",
       "            setTimeout(function() {\n",
       "                var nbb_cell_id = 22;\n",
       "                var nbb_unformatted_code = \"news_df = pd.DataFrame(\\n    {\\n        \\\"doc_id\\\": train_list,\\n        \\\"categories\\\": cat_list,\\n        \\\"title\\\": title_list,\\n        \\\"content\\\": words_list,\\n    }\\n)\";\n",
       "                var nbb_formatted_code = \"news_df = pd.DataFrame(\\n    {\\n        \\\"doc_id\\\": train_list,\\n        \\\"categories\\\": cat_list,\\n        \\\"title\\\": title_list,\\n        \\\"content\\\": words_list,\\n    }\\n)\";\n",
       "                var nbb_cells = Jupyter.notebook.get_cells();\n",
       "                for (var i = 0; i < nbb_cells.length; ++i) {\n",
       "                    if (nbb_cells[i].input_prompt_number == nbb_cell_id) {\n",
       "                        if (nbb_cells[i].get_text() == nbb_unformatted_code) {\n",
       "                             nbb_cells[i].set_text(nbb_formatted_code);\n",
       "                        }\n",
       "                        break;\n",
       "                    }\n",
       "                }\n",
       "            }, 500);\n",
       "            "
      ],
      "text/plain": [
       "<IPython.core.display.Javascript object>"
      ]
     },
     "metadata": {},
     "output_type": "display_data"
    }
   ],
   "source": [
    "news_df = pd.DataFrame(\n",
    "    {\n",
    "        \"doc_id\": train_list,\n",
    "        \"categories\": cat_list,\n",
    "        \"title\": title_list,\n",
    "        \"content\": words_list,\n",
    "    }\n",
    ")"
   ]
  },
  {
   "cell_type": "code",
   "execution_count": 23,
   "id": "4f8c027b",
   "metadata": {},
   "outputs": [
    {
     "data": {
      "application/javascript": [
       "\n",
       "            setTimeout(function() {\n",
       "                var nbb_cell_id = 23;\n",
       "                var nbb_unformatted_code = \"def title_split(row):\\n    split_word = row[\\\"content\\\"].split()[0]\\n    title_new = split_word + row[\\\"content\\\"].split(split_word)[1]\\n    row[\\\"title\\\"] = title_new\\n    row[\\\"content\\\"] = title_new\\n    return row\";\n",
       "                var nbb_formatted_code = \"def title_split(row):\\n    split_word = row[\\\"content\\\"].split()[0]\\n    title_new = split_word + row[\\\"content\\\"].split(split_word)[1]\\n    row[\\\"title\\\"] = title_new\\n    row[\\\"content\\\"] = title_new\\n    return row\";\n",
       "                var nbb_cells = Jupyter.notebook.get_cells();\n",
       "                for (var i = 0; i < nbb_cells.length; ++i) {\n",
       "                    if (nbb_cells[i].input_prompt_number == nbb_cell_id) {\n",
       "                        if (nbb_cells[i].get_text() == nbb_unformatted_code) {\n",
       "                             nbb_cells[i].set_text(nbb_formatted_code);\n",
       "                        }\n",
       "                        break;\n",
       "                    }\n",
       "                }\n",
       "            }, 500);\n",
       "            "
      ],
      "text/plain": [
       "<IPython.core.display.Javascript object>"
      ]
     },
     "metadata": {},
     "output_type": "display_data"
    }
   ],
   "source": [
    "def title_split(row):\n",
    "    split_word = row[\"content\"].split()[0]\n",
    "    title_new = split_word + row[\"content\"].split(split_word)[1]\n",
    "    row[\"title\"] = title_new\n",
    "    row[\"content\"] = title_new\n",
    "    return row"
   ]
  },
  {
   "cell_type": "code",
   "execution_count": 24,
   "id": "4692ae92",
   "metadata": {},
   "outputs": [
    {
     "data": {
      "application/javascript": [
       "\n",
       "            setTimeout(function() {\n",
       "                var nbb_cell_id = 24;\n",
       "                var nbb_unformatted_code = \"title_split_df = news_df[news_df[\\\"title\\\"] == \\\"\\\"].apply(title_split, axis=1)\\ncols = list(news_df.columns)\\nnews_df.loc[news_df.doc_id.isin(title_split_df.doc_id), cols] = title_split_df[cols]\";\n",
       "                var nbb_formatted_code = \"title_split_df = news_df[news_df[\\\"title\\\"] == \\\"\\\"].apply(title_split, axis=1)\\ncols = list(news_df.columns)\\nnews_df.loc[news_df.doc_id.isin(title_split_df.doc_id), cols] = title_split_df[cols]\";\n",
       "                var nbb_cells = Jupyter.notebook.get_cells();\n",
       "                for (var i = 0; i < nbb_cells.length; ++i) {\n",
       "                    if (nbb_cells[i].input_prompt_number == nbb_cell_id) {\n",
       "                        if (nbb_cells[i].get_text() == nbb_unformatted_code) {\n",
       "                             nbb_cells[i].set_text(nbb_formatted_code);\n",
       "                        }\n",
       "                        break;\n",
       "                    }\n",
       "                }\n",
       "            }, 500);\n",
       "            "
      ],
      "text/plain": [
       "<IPython.core.display.Javascript object>"
      ]
     },
     "metadata": {},
     "output_type": "display_data"
    }
   ],
   "source": [
    "title_split_df = news_df[news_df[\"title\"] == \"\"].apply(title_split, axis=1)\n",
    "cols = list(news_df.columns)\n",
    "news_df.loc[news_df.doc_id.isin(title_split_df.doc_id), cols] = title_split_df[cols]"
   ]
  },
  {
   "cell_type": "code",
   "execution_count": 26,
   "id": "a89a6a7c",
   "metadata": {},
   "outputs": [
    {
     "data": {
      "application/javascript": [
       "\n",
       "            setTimeout(function() {\n",
       "                var nbb_cell_id = 26;\n",
       "                var nbb_unformatted_code = \"cat_dict = {\\n    \\\"acq\\\": \\\"acuisition\\\",\\n    \\\"alum\\\": \\\"aluminum\\\",\\n    \\\"bop\\\": \\\"bottom of the pyramid\\\",\\n    \\\"castor-oil\\\": \\\"castor oil\\\",\\n    \\\"carcass\\\": \\\"livestock\\\",\\n    \\\"cpu\\\": \\\"computershare\\\",\\n    \\\"coconut-oil\\\": \\\"coconut oil\\\",\\n    \\\"copra-cake\\\": \\\"copra cake\\\",\\n    \\\"cpi\\\": \\\"consumer price index\\\",\\n    \\\"dfl\\\": \\\"deutsche fussball liga\\\",\\n    \\\"dlr\\\": \\\"digital realty trust\\\",\\n    \\\"dmk\\\": \\\"dravida munnetra kazhagam\\\",\\n    \\\"earn\\\": \\\"ellington residential mortgage reit stock\\\",\\n    \\\"gnp\\\": \\\"grupo nacional provincial\\\",\\n    \\\"groundnut-oil\\\": \\\"ground nut oil\\\",\\n    \\\"instal-debt\\\": \\\"instalco intressenter debt\\\",\\n    \\\"ipi\\\": \\\"intrepid potash\\\",\\n    \\\"iron-steel\\\": \\\"iron steel\\\",\\n    \\\"l-cattle\\\": \\\"cattle\\\",\\n    \\\"lei\\\": \\\"leading economic index\\\",\\n    \\\"lin-oil\\\": \\\"linseed oil\\\",\\n    \\\"meal-feed\\\": \\\"meal feed\\\",\\n    \\\"money-fx\\\": \\\"money foreign exchange\\\",\\n    \\\"money-supply\\\": \\\"money supply\\\",\\n    \\\"nat-gas\\\": \\\"natural gas\\\",\\n    \\\"nkr\\\": \\\"nokia\\\",\\n    \\\"palm-oil\\\": \\\"palm oil\\\",\\n    \\\"palmkernel\\\": \\\"palm kernel\\\",\\n    \\\"pet-chem\\\": \\\"petronas chemicals\\\",\\n    \\\"rape-oil\\\": \\\"rapeseed oil\\\",\\n    \\\"soy-meal\\\": \\\"soy meal\\\",\\n    \\\"soy-oil\\\": \\\"soy oil\\\",\\n    \\\"strategic-metal\\\": \\\"strategic metal\\\",\\n    \\\"sun-meal\\\": \\\"sunflower meal\\\",\\n    \\\"sun-oil\\\": \\\"sunflower oil\\\",\\n    \\\"sunseed\\\": \\\"sunflower seed\\\",\\n    \\\"veg-oil\\\": \\\"vagetable oil\\\",\\n    \\\"wpi\\\": \\\"waterfront philippines\\\",\\n}\";\n",
       "                var nbb_formatted_code = \"cat_dict = {\\n    \\\"acq\\\": \\\"acuisition\\\",\\n    \\\"alum\\\": \\\"aluminum\\\",\\n    \\\"bop\\\": \\\"bottom of the pyramid\\\",\\n    \\\"castor-oil\\\": \\\"castor oil\\\",\\n    \\\"carcass\\\": \\\"livestock\\\",\\n    \\\"cpu\\\": \\\"computershare\\\",\\n    \\\"coconut-oil\\\": \\\"coconut oil\\\",\\n    \\\"copra-cake\\\": \\\"copra cake\\\",\\n    \\\"cpi\\\": \\\"consumer price index\\\",\\n    \\\"dfl\\\": \\\"deutsche fussball liga\\\",\\n    \\\"dlr\\\": \\\"digital realty trust\\\",\\n    \\\"dmk\\\": \\\"dravida munnetra kazhagam\\\",\\n    \\\"earn\\\": \\\"ellington residential mortgage reit stock\\\",\\n    \\\"gnp\\\": \\\"grupo nacional provincial\\\",\\n    \\\"groundnut-oil\\\": \\\"ground nut oil\\\",\\n    \\\"instal-debt\\\": \\\"instalco intressenter debt\\\",\\n    \\\"ipi\\\": \\\"intrepid potash\\\",\\n    \\\"iron-steel\\\": \\\"iron steel\\\",\\n    \\\"l-cattle\\\": \\\"cattle\\\",\\n    \\\"lei\\\": \\\"leading economic index\\\",\\n    \\\"lin-oil\\\": \\\"linseed oil\\\",\\n    \\\"meal-feed\\\": \\\"meal feed\\\",\\n    \\\"money-fx\\\": \\\"money foreign exchange\\\",\\n    \\\"money-supply\\\": \\\"money supply\\\",\\n    \\\"nat-gas\\\": \\\"natural gas\\\",\\n    \\\"nkr\\\": \\\"nokia\\\",\\n    \\\"palm-oil\\\": \\\"palm oil\\\",\\n    \\\"palmkernel\\\": \\\"palm kernel\\\",\\n    \\\"pet-chem\\\": \\\"petronas chemicals\\\",\\n    \\\"rape-oil\\\": \\\"rapeseed oil\\\",\\n    \\\"soy-meal\\\": \\\"soy meal\\\",\\n    \\\"soy-oil\\\": \\\"soy oil\\\",\\n    \\\"strategic-metal\\\": \\\"strategic metal\\\",\\n    \\\"sun-meal\\\": \\\"sunflower meal\\\",\\n    \\\"sun-oil\\\": \\\"sunflower oil\\\",\\n    \\\"sunseed\\\": \\\"sunflower seed\\\",\\n    \\\"veg-oil\\\": \\\"vagetable oil\\\",\\n    \\\"wpi\\\": \\\"waterfront philippines\\\",\\n}\";\n",
       "                var nbb_cells = Jupyter.notebook.get_cells();\n",
       "                for (var i = 0; i < nbb_cells.length; ++i) {\n",
       "                    if (nbb_cells[i].input_prompt_number == nbb_cell_id) {\n",
       "                        if (nbb_cells[i].get_text() == nbb_unformatted_code) {\n",
       "                             nbb_cells[i].set_text(nbb_formatted_code);\n",
       "                        }\n",
       "                        break;\n",
       "                    }\n",
       "                }\n",
       "            }, 500);\n",
       "            "
      ],
      "text/plain": [
       "<IPython.core.display.Javascript object>"
      ]
     },
     "metadata": {},
     "output_type": "display_data"
    }
   ],
   "source": [
    "cat_dict = {\n",
    "    \"acq\": \"acorn capital investment fund limited\",\n",
    "    \"alum\": \"aluminum\",\n",
    "    \"bop\": \"bottom of the pyramid\",\n",
    "    \"castor-oil\": \"castor oil\",\n",
    "    \"carcass\": \"livestock\",\n",
    "    \"cpu\": \"computershare\",\n",
    "    \"coconut-oil\": \"coconut oil\",\n",
    "    \"copra-cake\": \"copra cake\",\n",
    "    \"cpi\": \"consumer price index\",\n",
    "    \"dfl\": \"deutsche fussball liga\",\n",
    "    \"dlr\": \"digital realty trust\",\n",
    "    \"dmk\": \"dravida munnetra kazhagam\",\n",
    "    \"earn\": \"ellington residential mortgage reit stock\",\n",
    "    \"gnp\": \"grupo nacional provincial\",\n",
    "    \"groundnut-oil\": \"ground nut oil\",\n",
    "    \"instal-debt\": \"instalco intressenter debt\",\n",
    "    \"ipi\": \"intrepid potash\",\n",
    "    \"iron-steel\": \"iron steel\",\n",
    "    \"l-cattle\": \"cattle\",\n",
    "    \"lei\": \"leading economic index\",\n",
    "    \"lin-oil\": \"linseed oil\",\n",
    "    \"meal-feed\": \"meal feed\",\n",
    "    \"money-fx\": \"money foreign exchange\",\n",
    "    \"money-supply\": \"money supply\",\n",
    "    \"nat-gas\": \"natural gas\",\n",
    "    \"nkr\": \"nokia\",\n",
    "    \"palm-oil\": \"palm oil\",\n",
    "    \"palmkernel\": \"palm kernel\",\n",
    "    \"pet-chem\": \"petronas chemicals\",\n",
    "    \"rape-oil\": \"rapeseed oil\",\n",
    "    \"soy-meal\": \"soy meal\",\n",
    "    \"soy-oil\": \"soy oil\",\n",
    "    \"strategic-metal\": \"strategic metal\",\n",
    "    \"sun-meal\": \"sunflower meal\",\n",
    "    \"sun-oil\": \"sunflower oil\",\n",
    "    \"sunseed\": \"sunflower seed\",\n",
    "    \"veg-oil\": \"vagetable oil\",\n",
    "    \"wpi\": \"waterfront philippines\",\n",
    "}"
   ]
  },
  {
   "cell_type": "code",
   "execution_count": 27,
   "id": "2ce96915",
   "metadata": {},
   "outputs": [
    {
     "data": {
      "application/javascript": [
       "\n",
       "            setTimeout(function() {\n",
       "                var nbb_cell_id = 27;\n",
       "                var nbb_unformatted_code = \"news_df[\\\"top_label\\\"] = news_df[\\\"categories\\\"].apply(lambda x: x[0])\\nnews_df[\\\"title_length\\\"] = news_df[\\\"title\\\"].apply(lambda x: len(x) if x != None else 0)\\nnews_df[\\\"con_length\\\"] = news_df[\\\"content\\\"].apply(lambda x: len(x) if x != None else 0)\\nnews_df[\\\"top_label\\\"] = news_df[\\\"top_label\\\"].apply(\\n    lambda x: cat_dict[x] if x in cat_dict.keys() else x\\n)\";\n",
       "                var nbb_formatted_code = \"news_df[\\\"top_label\\\"] = news_df[\\\"categories\\\"].apply(lambda x: x[0])\\nnews_df[\\\"title_length\\\"] = news_df[\\\"title\\\"].apply(lambda x: len(x) if x != None else 0)\\nnews_df[\\\"con_length\\\"] = news_df[\\\"content\\\"].apply(lambda x: len(x) if x != None else 0)\\nnews_df[\\\"top_label\\\"] = news_df[\\\"top_label\\\"].apply(\\n    lambda x: cat_dict[x] if x in cat_dict.keys() else x\\n)\";\n",
       "                var nbb_cells = Jupyter.notebook.get_cells();\n",
       "                for (var i = 0; i < nbb_cells.length; ++i) {\n",
       "                    if (nbb_cells[i].input_prompt_number == nbb_cell_id) {\n",
       "                        if (nbb_cells[i].get_text() == nbb_unformatted_code) {\n",
       "                             nbb_cells[i].set_text(nbb_formatted_code);\n",
       "                        }\n",
       "                        break;\n",
       "                    }\n",
       "                }\n",
       "            }, 500);\n",
       "            "
      ],
      "text/plain": [
       "<IPython.core.display.Javascript object>"
      ]
     },
     "metadata": {},
     "output_type": "display_data"
    }
   ],
   "source": [
    "news_df[\"top_label\"] = news_df[\"categories\"].apply(lambda x: x[0])\n",
    "news_df[\"title_length\"] = news_df[\"title\"].apply(lambda x: len(x) if x != None else 0)\n",
    "news_df[\"con_length\"] = news_df[\"content\"].apply(lambda x: len(x) if x != None else 0)\n",
    "news_df[\"top_label\"] = news_df[\"top_label\"].apply(\n",
    "    lambda x: cat_dict[x] if x in cat_dict.keys() else x\n",
    ")"
   ]
  },
  {
   "cell_type": "code",
   "execution_count": 41,
   "id": "b757b34f",
   "metadata": {},
   "outputs": [
    {
     "data": {
      "application/javascript": [
       "\n",
       "            setTimeout(function() {\n",
       "                var nbb_cell_id = 41;\n",
       "                var nbb_unformatted_code = \"news_df.to_pickle(\\\"C:/Users/rparg/Documents/Data/Reuters/news_df.pkl\\\")\";\n",
       "                var nbb_formatted_code = \"news_df.to_pickle(\\\"C:/Users/rparg/Documents/Data/Reuters/news_df.pkl\\\")\";\n",
       "                var nbb_cells = Jupyter.notebook.get_cells();\n",
       "                for (var i = 0; i < nbb_cells.length; ++i) {\n",
       "                    if (nbb_cells[i].input_prompt_number == nbb_cell_id) {\n",
       "                        if (nbb_cells[i].get_text() == nbb_unformatted_code) {\n",
       "                             nbb_cells[i].set_text(nbb_formatted_code);\n",
       "                        }\n",
       "                        break;\n",
       "                    }\n",
       "                }\n",
       "            }, 500);\n",
       "            "
      ],
      "text/plain": [
       "<IPython.core.display.Javascript object>"
      ]
     },
     "metadata": {},
     "output_type": "display_data"
    }
   ],
   "source": [
    "news_df.to_pickle(\"C:/Users/rparg/Documents/Data/Reuters/news_df.pkl\")"
   ]
  },
  {
   "cell_type": "code",
   "execution_count": 28,
   "id": "e14b0d12",
   "metadata": {},
   "outputs": [
    {
     "data": {
      "application/javascript": [
       "\n",
       "            setTimeout(function() {\n",
       "                var nbb_cell_id = 28;\n",
       "                var nbb_unformatted_code = \"new_cats = [\\n    \\\"acuisition\\\",\\n    \\\"aluminum\\\",\\n    \\\"bottom of the pyramid\\\",\\n    \\\"barley\\\",\\n    \\\"castor oil\\\",\\n    \\\"carcass\\\",\\n    \\\"cattle\\\",\\n    \\\"cocoa\\\",\\n    \\\"coconut\\\",\\n    \\\"coconut oil\\\",\\n    \\\"coffee\\\",\\n    \\\"consumer price index\\\",\\n    \\\"copper\\\",\\n    \\\"copra cake\\\",\\n    \\\"corn\\\",\\n    \\\"cotton\\\",\\n    \\\"computershare\\\",\\n    \\\"crude\\\",\\n    \\\"deutsche fussball liga\\\",\\n    \\\"digital realty trust\\\",\\n    \\\"dravida munnetra kazhagam\\\",\\n    \\\"ellington residential mortgage reit stock\\\",\\n    \\\"fuel\\\",\\n    \\\"gas\\\",\\n    \\\"gold\\\",\\n    \\\"grain\\\",\\n    \\\"groundnut\\\",\\n    \\\"ground nut oil\\\",\\n    \\\"grupo nacional provincial\\\",\\n    \\\"heat\\\",\\n    \\\"hog\\\",\\n    \\\"housing\\\",\\n    \\\"income\\\",\\n    \\\"instalco intressenter debt\\\",\\n    \\\"interest\\\",\\n    \\\"intrepid potash\\\",\\n    \\\"iron steel\\\",\\n    \\\"jet\\\",\\n    \\\"jobs\\\",\\n    \\\"lead\\\",\\n    \\\"leading economic index\\\",\\n    \\\"linseed oil\\\",\\n    \\\"livestock\\\",\\n    \\\"lumber\\\",\\n    \\\"meal feed\\\",\\n    \\\"money foreign exchange\\\",\\n    \\\"money supply\\\",\\n    \\\"natural gas\\\",\\n    \\\"naphtha\\\",\\n    \\\"nickel\\\",\\n    \\\"nokia\\\",\\n    \\\"new zealand dollar\\\",\\n    \\\"oat\\\",\\n    \\\"orange\\\",\\n    \\\"palladium\\\",\\n    \\\"palm oil\\\",\\n    \\\"palm kernel\\\",\\n    \\\"petronas chemicals\\\",\\n    \\\"platinum\\\",\\n    \\\"potato\\\",\\n    \\\"propane\\\",\\n    \\\"rand\\\",\\n    \\\"rapeseed\\\",\\n    \\\"rapeseed oil\\\",\\n    \\\"reserves\\\",\\n    \\\"retail\\\",\\n    \\\"rice\\\",\\n    \\\"rubber\\\",\\n    \\\"rye\\\",\\n    \\\"ship\\\",\\n    \\\"silver\\\",\\n    \\\"sorghum\\\",\\n    \\\"soybean\\\",\\n    \\\"soy meal\\\",\\n    \\\"soy oil\\\",\\n    \\\"strategic metal\\\",\\n    \\\"sugar\\\",\\n    \\\"sunflower meal\\\",\\n    \\\"sunflower oil\\\",\\n    \\\"sunflower seed\\\",\\n    \\\"tea\\\",\\n    \\\"tin\\\",\\n    \\\"trade\\\",\\n    \\\"vagetable oil\\\",\\n    \\\"waterfront philippines\\\",\\n    \\\"wheat\\\",\\n    \\\"yen\\\",\\n    \\\"zinc\\\",\\n]\";\n",
       "                var nbb_formatted_code = \"new_cats = [\\n    \\\"acuisition\\\",\\n    \\\"aluminum\\\",\\n    \\\"bottom of the pyramid\\\",\\n    \\\"barley\\\",\\n    \\\"castor oil\\\",\\n    \\\"carcass\\\",\\n    \\\"cattle\\\",\\n    \\\"cocoa\\\",\\n    \\\"coconut\\\",\\n    \\\"coconut oil\\\",\\n    \\\"coffee\\\",\\n    \\\"consumer price index\\\",\\n    \\\"copper\\\",\\n    \\\"copra cake\\\",\\n    \\\"corn\\\",\\n    \\\"cotton\\\",\\n    \\\"computershare\\\",\\n    \\\"crude\\\",\\n    \\\"deutsche fussball liga\\\",\\n    \\\"digital realty trust\\\",\\n    \\\"dravida munnetra kazhagam\\\",\\n    \\\"ellington residential mortgage reit stock\\\",\\n    \\\"fuel\\\",\\n    \\\"gas\\\",\\n    \\\"gold\\\",\\n    \\\"grain\\\",\\n    \\\"groundnut\\\",\\n    \\\"ground nut oil\\\",\\n    \\\"grupo nacional provincial\\\",\\n    \\\"heat\\\",\\n    \\\"hog\\\",\\n    \\\"housing\\\",\\n    \\\"income\\\",\\n    \\\"instalco intressenter debt\\\",\\n    \\\"interest\\\",\\n    \\\"intrepid potash\\\",\\n    \\\"iron steel\\\",\\n    \\\"jet\\\",\\n    \\\"jobs\\\",\\n    \\\"lead\\\",\\n    \\\"leading economic index\\\",\\n    \\\"linseed oil\\\",\\n    \\\"livestock\\\",\\n    \\\"lumber\\\",\\n    \\\"meal feed\\\",\\n    \\\"money foreign exchange\\\",\\n    \\\"money supply\\\",\\n    \\\"natural gas\\\",\\n    \\\"naphtha\\\",\\n    \\\"nickel\\\",\\n    \\\"nokia\\\",\\n    \\\"new zealand dollar\\\",\\n    \\\"oat\\\",\\n    \\\"orange\\\",\\n    \\\"palladium\\\",\\n    \\\"palm oil\\\",\\n    \\\"palm kernel\\\",\\n    \\\"petronas chemicals\\\",\\n    \\\"platinum\\\",\\n    \\\"potato\\\",\\n    \\\"propane\\\",\\n    \\\"rand\\\",\\n    \\\"rapeseed\\\",\\n    \\\"rapeseed oil\\\",\\n    \\\"reserves\\\",\\n    \\\"retail\\\",\\n    \\\"rice\\\",\\n    \\\"rubber\\\",\\n    \\\"rye\\\",\\n    \\\"ship\\\",\\n    \\\"silver\\\",\\n    \\\"sorghum\\\",\\n    \\\"soybean\\\",\\n    \\\"soy meal\\\",\\n    \\\"soy oil\\\",\\n    \\\"strategic metal\\\",\\n    \\\"sugar\\\",\\n    \\\"sunflower meal\\\",\\n    \\\"sunflower oil\\\",\\n    \\\"sunflower seed\\\",\\n    \\\"tea\\\",\\n    \\\"tin\\\",\\n    \\\"trade\\\",\\n    \\\"vagetable oil\\\",\\n    \\\"waterfront philippines\\\",\\n    \\\"wheat\\\",\\n    \\\"yen\\\",\\n    \\\"zinc\\\",\\n]\";\n",
       "                var nbb_cells = Jupyter.notebook.get_cells();\n",
       "                for (var i = 0; i < nbb_cells.length; ++i) {\n",
       "                    if (nbb_cells[i].input_prompt_number == nbb_cell_id) {\n",
       "                        if (nbb_cells[i].get_text() == nbb_unformatted_code) {\n",
       "                             nbb_cells[i].set_text(nbb_formatted_code);\n",
       "                        }\n",
       "                        break;\n",
       "                    }\n",
       "                }\n",
       "            }, 500);\n",
       "            "
      ],
      "text/plain": [
       "<IPython.core.display.Javascript object>"
      ]
     },
     "metadata": {},
     "output_type": "display_data"
    }
   ],
   "source": [
    "new_cats = [\n",
    "    \"Acorn Capital Investment Fund Limited\",\n",
    "    \"aluminum\",\n",
    "    \"bottom of the pyramid\",\n",
    "    \"barley\",\n",
    "    \"castor oil\",\n",
    "    \"carcass\",\n",
    "    \"cattle\",\n",
    "    \"cocoa\",\n",
    "    \"coconut\",\n",
    "    \"coconut oil\",\n",
    "    \"coffee\",\n",
    "    \"consumer price index\",\n",
    "    \"copper\",\n",
    "    \"copra cake\",\n",
    "    \"corn\",\n",
    "    \"cotton\",\n",
    "    \"computershare\",\n",
    "    \"crude\",\n",
    "    \"deutsche fussball liga\",\n",
    "    \"digital realty trust\",\n",
    "    \"dravida munnetra kazhagam\",\n",
    "    \"ellington residential mortgage reit stock\",\n",
    "    \"fuel\",\n",
    "    \"gas\",\n",
    "    \"gold\",\n",
    "    \"grain\",\n",
    "    \"groundnut\",\n",
    "    \"ground nut oil\",\n",
    "    \"grupo nacional provincial\",\n",
    "    \"heat\",\n",
    "    \"hog\",\n",
    "    \"housing\",\n",
    "    \"income\",\n",
    "    \"instalco intressenter debt\",\n",
    "    \"interest\",\n",
    "    \"intrepid potash\",\n",
    "    \"iron steel\",\n",
    "    \"jet\",\n",
    "    \"jobs\",\n",
    "    \"lead\",\n",
    "    \"leading economic index\",\n",
    "    \"linseed oil\",\n",
    "    \"livestock\",\n",
    "    \"lumber\",\n",
    "    \"meal feed\",\n",
    "    \"money foreign exchange\",\n",
    "    \"money supply\",\n",
    "    \"natural gas\",\n",
    "    \"naphtha\",\n",
    "    \"nickel\",\n",
    "    \"nokia\",\n",
    "    \"new zealand dollar\",\n",
    "    \"oat\",\n",
    "    \"orange\",\n",
    "    \"palladium\",\n",
    "    \"palm oil\",\n",
    "    \"palm kernel\",\n",
    "    \"petronas chemicals\",\n",
    "    \"platinum\",\n",
    "    \"potato\",\n",
    "    \"propane\",\n",
    "    \"rand\",\n",
    "    \"rapeseed\",\n",
    "    \"rapeseed oil\",\n",
    "    \"reserves\",\n",
    "    \"retail\",\n",
    "    \"rice\",\n",
    "    \"rubber\",\n",
    "    \"rye\",\n",
    "    \"ship\",\n",
    "    \"silver\",\n",
    "    \"sorghum\",\n",
    "    \"soybean\",\n",
    "    \"soy meal\",\n",
    "    \"soy oil\",\n",
    "    \"strategic metal\",\n",
    "    \"sugar\",\n",
    "    \"sunflower meal\",\n",
    "    \"sunflower oil\",\n",
    "    \"sunflower seed\",\n",
    "    \"tea\",\n",
    "    \"tin\",\n",
    "    \"trade\",\n",
    "    \"vagetable oil\",\n",
    "    \"waterfront philippines\",\n",
    "    \"wheat\",\n",
    "    \"yen\",\n",
    "    \"zinc\",\n",
    "]"
   ]
  },
  {
   "cell_type": "code",
   "execution_count": 32,
   "id": "27efe9c4",
   "metadata": {},
   "outputs": [
    {
     "data": {
      "application/javascript": [
       "\n",
       "            setTimeout(function() {\n",
       "                var nbb_cell_id = 32;\n",
       "                var nbb_unformatted_code = \"news_df = pd.read_pickle(\\\"C:/Users/rparg/Documents/Data/Reuters/news_df.pkl\\\")\";\n",
       "                var nbb_formatted_code = \"news_df = pd.read_pickle(\\\"C:/Users/rparg/Documents/Data/Reuters/news_df.pkl\\\")\";\n",
       "                var nbb_cells = Jupyter.notebook.get_cells();\n",
       "                for (var i = 0; i < nbb_cells.length; ++i) {\n",
       "                    if (nbb_cells[i].input_prompt_number == nbb_cell_id) {\n",
       "                        if (nbb_cells[i].get_text() == nbb_unformatted_code) {\n",
       "                             nbb_cells[i].set_text(nbb_formatted_code);\n",
       "                        }\n",
       "                        break;\n",
       "                    }\n",
       "                }\n",
       "            }, 500);\n",
       "            "
      ],
      "text/plain": [
       "<IPython.core.display.Javascript object>"
      ]
     },
     "metadata": {},
     "output_type": "display_data"
    }
   ],
   "source": [
    "news_df = pd.read_pickle(\"C:/Users/rparg/Documents/Data/Reuters/news_df.pkl\")"
   ]
  },
  {
   "cell_type": "markdown",
   "id": "392bfa07",
   "metadata": {},
   "source": [
    "## Load Zero-Shot Classifier"
   ]
  },
  {
   "cell_type": "code",
   "execution_count": 33,
   "id": "0f7fa222",
   "metadata": {},
   "outputs": [
    {
     "name": "stderr",
     "output_type": "stream",
     "text": [
      "All model checkpoint layers were used when initializing TFRobertaForSequenceClassification.\n",
      "\n",
      "All the layers of TFRobertaForSequenceClassification were initialized from the model checkpoint at roberta-large-mnli.\n",
      "If your task is similar to the task the model of the checkpoint was trained on, you can already use TFRobertaForSequenceClassification for predictions without further training.\n"
     ]
    },
    {
     "data": {
      "application/javascript": [
       "\n",
       "            setTimeout(function() {\n",
       "                var nbb_cell_id = 33;\n",
       "                var nbb_unformatted_code = \"classifier = pipeline(\\\"zero-shot-classification\\\", model=\\\"roberta-large-mnli\\\")\";\n",
       "                var nbb_formatted_code = \"classifier = pipeline(\\\"zero-shot-classification\\\", model=\\\"roberta-large-mnli\\\")\";\n",
       "                var nbb_cells = Jupyter.notebook.get_cells();\n",
       "                for (var i = 0; i < nbb_cells.length; ++i) {\n",
       "                    if (nbb_cells[i].input_prompt_number == nbb_cell_id) {\n",
       "                        if (nbb_cells[i].get_text() == nbb_unformatted_code) {\n",
       "                             nbb_cells[i].set_text(nbb_formatted_code);\n",
       "                        }\n",
       "                        break;\n",
       "                    }\n",
       "                }\n",
       "            }, 500);\n",
       "            "
      ],
      "text/plain": [
       "<IPython.core.display.Javascript object>"
      ]
     },
     "metadata": {},
     "output_type": "display_data"
    }
   ],
   "source": [
    "classifier = pipeline(\"zero-shot-classification\", model=\"roberta-large-mnli\")"
   ]
  },
  {
   "cell_type": "markdown",
   "id": "ea9163df",
   "metadata": {},
   "source": [
    "## Zero-Shot Classification of 16 top-categories with 30+ docs"
   ]
  },
  {
   "cell_type": "code",
   "execution_count": 34,
   "id": "51cc613e",
   "metadata": {},
   "outputs": [
    {
     "data": {
      "text/html": [
       "<div>\n",
       "<style scoped>\n",
       "    .dataframe tbody tr th:only-of-type {\n",
       "        vertical-align: middle;\n",
       "    }\n",
       "\n",
       "    .dataframe tbody tr th {\n",
       "        vertical-align: top;\n",
       "    }\n",
       "\n",
       "    .dataframe thead th {\n",
       "        text-align: right;\n",
       "    }\n",
       "</style>\n",
       "<table border=\"1\" class=\"dataframe\">\n",
       "  <thead>\n",
       "    <tr style=\"text-align: right;\">\n",
       "      <th></th>\n",
       "      <th>doc_id</th>\n",
       "      <th>categories</th>\n",
       "      <th>title</th>\n",
       "      <th>content</th>\n",
       "      <th>title_length</th>\n",
       "      <th>con_length</th>\n",
       "    </tr>\n",
       "    <tr>\n",
       "      <th>top_label</th>\n",
       "      <th></th>\n",
       "      <th></th>\n",
       "      <th></th>\n",
       "      <th></th>\n",
       "      <th></th>\n",
       "      <th></th>\n",
       "    </tr>\n",
       "  </thead>\n",
       "  <tbody>\n",
       "    <tr>\n",
       "      <th>ellington residential mortgage reit stock</th>\n",
       "      <td>2843</td>\n",
       "      <td>2843</td>\n",
       "      <td>2693</td>\n",
       "      <td>2693</td>\n",
       "      <td>2843</td>\n",
       "      <td>2843</td>\n",
       "    </tr>\n",
       "    <tr>\n",
       "      <th>acuisition</th>\n",
       "      <td>1650</td>\n",
       "      <td>1650</td>\n",
       "      <td>1494</td>\n",
       "      <td>1494</td>\n",
       "      <td>1650</td>\n",
       "      <td>1650</td>\n",
       "    </tr>\n",
       "    <tr>\n",
       "      <th>crude</th>\n",
       "      <td>370</td>\n",
       "      <td>370</td>\n",
       "      <td>331</td>\n",
       "      <td>331</td>\n",
       "      <td>370</td>\n",
       "      <td>370</td>\n",
       "    </tr>\n",
       "    <tr>\n",
       "      <th>interest</th>\n",
       "      <td>329</td>\n",
       "      <td>329</td>\n",
       "      <td>285</td>\n",
       "      <td>285</td>\n",
       "      <td>329</td>\n",
       "      <td>329</td>\n",
       "    </tr>\n",
       "    <tr>\n",
       "      <th>money foreign exchange</th>\n",
       "      <td>266</td>\n",
       "      <td>266</td>\n",
       "      <td>238</td>\n",
       "      <td>238</td>\n",
       "      <td>266</td>\n",
       "      <td>266</td>\n",
       "    </tr>\n",
       "    <tr>\n",
       "      <th>trade</th>\n",
       "      <td>253</td>\n",
       "      <td>253</td>\n",
       "      <td>230</td>\n",
       "      <td>230</td>\n",
       "      <td>253</td>\n",
       "      <td>253</td>\n",
       "    </tr>\n",
       "    <tr>\n",
       "      <th>grain</th>\n",
       "      <td>218</td>\n",
       "      <td>218</td>\n",
       "      <td>204</td>\n",
       "      <td>204</td>\n",
       "      <td>218</td>\n",
       "      <td>218</td>\n",
       "    </tr>\n",
       "    <tr>\n",
       "      <th>corn</th>\n",
       "      <td>157</td>\n",
       "      <td>157</td>\n",
       "      <td>137</td>\n",
       "      <td>137</td>\n",
       "      <td>157</td>\n",
       "      <td>157</td>\n",
       "    </tr>\n",
       "    <tr>\n",
       "      <th>digital realty trust</th>\n",
       "      <td>126</td>\n",
       "      <td>126</td>\n",
       "      <td>109</td>\n",
       "      <td>109</td>\n",
       "      <td>126</td>\n",
       "      <td>126</td>\n",
       "    </tr>\n",
       "    <tr>\n",
       "      <th>money supply</th>\n",
       "      <td>125</td>\n",
       "      <td>125</td>\n",
       "      <td>76</td>\n",
       "      <td>76</td>\n",
       "      <td>125</td>\n",
       "      <td>125</td>\n",
       "    </tr>\n",
       "    <tr>\n",
       "      <th>ship</th>\n",
       "      <td>112</td>\n",
       "      <td>112</td>\n",
       "      <td>110</td>\n",
       "      <td>110</td>\n",
       "      <td>112</td>\n",
       "      <td>112</td>\n",
       "    </tr>\n",
       "    <tr>\n",
       "      <th>coffee</th>\n",
       "      <td>101</td>\n",
       "      <td>101</td>\n",
       "      <td>97</td>\n",
       "      <td>97</td>\n",
       "      <td>101</td>\n",
       "      <td>101</td>\n",
       "    </tr>\n",
       "    <tr>\n",
       "      <th>sugar</th>\n",
       "      <td>98</td>\n",
       "      <td>98</td>\n",
       "      <td>91</td>\n",
       "      <td>91</td>\n",
       "      <td>98</td>\n",
       "      <td>98</td>\n",
       "    </tr>\n",
       "    <tr>\n",
       "      <th>gold</th>\n",
       "      <td>83</td>\n",
       "      <td>83</td>\n",
       "      <td>83</td>\n",
       "      <td>83</td>\n",
       "      <td>83</td>\n",
       "      <td>83</td>\n",
       "    </tr>\n",
       "    <tr>\n",
       "      <th>grupo nacional provincial</th>\n",
       "      <td>82</td>\n",
       "      <td>82</td>\n",
       "      <td>76</td>\n",
       "      <td>76</td>\n",
       "      <td>82</td>\n",
       "      <td>82</td>\n",
       "    </tr>\n",
       "    <tr>\n",
       "      <th>bottom of the pyramid</th>\n",
       "      <td>75</td>\n",
       "      <td>75</td>\n",
       "      <td>67</td>\n",
       "      <td>67</td>\n",
       "      <td>75</td>\n",
       "      <td>75</td>\n",
       "    </tr>\n",
       "    <tr>\n",
       "      <th>consumer price index</th>\n",
       "      <td>67</td>\n",
       "      <td>67</td>\n",
       "      <td>63</td>\n",
       "      <td>63</td>\n",
       "      <td>67</td>\n",
       "      <td>67</td>\n",
       "    </tr>\n",
       "    <tr>\n",
       "      <th>livestock</th>\n",
       "      <td>67</td>\n",
       "      <td>67</td>\n",
       "      <td>66</td>\n",
       "      <td>66</td>\n",
       "      <td>67</td>\n",
       "      <td>67</td>\n",
       "    </tr>\n",
       "    <tr>\n",
       "      <th>cocoa</th>\n",
       "      <td>55</td>\n",
       "      <td>55</td>\n",
       "      <td>51</td>\n",
       "      <td>51</td>\n",
       "      <td>55</td>\n",
       "      <td>55</td>\n",
       "    </tr>\n",
       "    <tr>\n",
       "      <th>oilseed</th>\n",
       "      <td>49</td>\n",
       "      <td>49</td>\n",
       "      <td>49</td>\n",
       "      <td>49</td>\n",
       "      <td>49</td>\n",
       "      <td>49</td>\n",
       "    </tr>\n",
       "    <tr>\n",
       "      <th>copper</th>\n",
       "      <td>45</td>\n",
       "      <td>45</td>\n",
       "      <td>45</td>\n",
       "      <td>45</td>\n",
       "      <td>45</td>\n",
       "      <td>45</td>\n",
       "    </tr>\n",
       "    <tr>\n",
       "      <th>reserves</th>\n",
       "      <td>39</td>\n",
       "      <td>39</td>\n",
       "      <td>38</td>\n",
       "      <td>38</td>\n",
       "      <td>39</td>\n",
       "      <td>39</td>\n",
       "    </tr>\n",
       "    <tr>\n",
       "      <th>jobs</th>\n",
       "      <td>39</td>\n",
       "      <td>39</td>\n",
       "      <td>35</td>\n",
       "      <td>35</td>\n",
       "      <td>39</td>\n",
       "      <td>39</td>\n",
       "    </tr>\n",
       "    <tr>\n",
       "      <th>intrepid potash</th>\n",
       "      <td>37</td>\n",
       "      <td>37</td>\n",
       "      <td>33</td>\n",
       "      <td>33</td>\n",
       "      <td>37</td>\n",
       "      <td>37</td>\n",
       "    </tr>\n",
       "    <tr>\n",
       "      <th>barley</th>\n",
       "      <td>37</td>\n",
       "      <td>37</td>\n",
       "      <td>33</td>\n",
       "      <td>33</td>\n",
       "      <td>37</td>\n",
       "      <td>37</td>\n",
       "    </tr>\n",
       "    <tr>\n",
       "      <th>aluminum</th>\n",
       "      <td>35</td>\n",
       "      <td>35</td>\n",
       "      <td>34</td>\n",
       "      <td>34</td>\n",
       "      <td>35</td>\n",
       "      <td>35</td>\n",
       "    </tr>\n",
       "    <tr>\n",
       "      <th>iron steel</th>\n",
       "      <td>32</td>\n",
       "      <td>32</td>\n",
       "      <td>32</td>\n",
       "      <td>32</td>\n",
       "      <td>32</td>\n",
       "      <td>32</td>\n",
       "    </tr>\n",
       "    <tr>\n",
       "      <th>rubber</th>\n",
       "      <td>31</td>\n",
       "      <td>31</td>\n",
       "      <td>31</td>\n",
       "      <td>31</td>\n",
       "      <td>31</td>\n",
       "      <td>31</td>\n",
       "    </tr>\n",
       "    <tr>\n",
       "      <th>cotton</th>\n",
       "      <td>28</td>\n",
       "      <td>28</td>\n",
       "      <td>27</td>\n",
       "      <td>27</td>\n",
       "      <td>28</td>\n",
       "      <td>28</td>\n",
       "    </tr>\n",
       "    <tr>\n",
       "      <th>natural gas</th>\n",
       "      <td>26</td>\n",
       "      <td>26</td>\n",
       "      <td>24</td>\n",
       "      <td>24</td>\n",
       "      <td>26</td>\n",
       "      <td>26</td>\n",
       "    </tr>\n",
       "    <tr>\n",
       "      <th>palm oil</th>\n",
       "      <td>21</td>\n",
       "      <td>21</td>\n",
       "      <td>21</td>\n",
       "      <td>21</td>\n",
       "      <td>21</td>\n",
       "      <td>21</td>\n",
       "    </tr>\n",
       "    <tr>\n",
       "      <th>meal feed</th>\n",
       "      <td>19</td>\n",
       "      <td>19</td>\n",
       "      <td>19</td>\n",
       "      <td>19</td>\n",
       "      <td>19</td>\n",
       "      <td>19</td>\n",
       "    </tr>\n",
       "    <tr>\n",
       "      <th>retail</th>\n",
       "      <td>19</td>\n",
       "      <td>19</td>\n",
       "      <td>15</td>\n",
       "      <td>15</td>\n",
       "      <td>19</td>\n",
       "      <td>19</td>\n",
       "    </tr>\n",
       "    <tr>\n",
       "      <th>vagetable oil</th>\n",
       "      <td>19</td>\n",
       "      <td>19</td>\n",
       "      <td>19</td>\n",
       "      <td>19</td>\n",
       "      <td>19</td>\n",
       "      <td>19</td>\n",
       "    </tr>\n",
       "    <tr>\n",
       "      <th>tin</th>\n",
       "      <td>17</td>\n",
       "      <td>17</td>\n",
       "      <td>17</td>\n",
       "      <td>17</td>\n",
       "      <td>17</td>\n",
       "      <td>17</td>\n",
       "    </tr>\n",
       "  </tbody>\n",
       "</table>\n",
       "</div>"
      ],
      "text/plain": [
       "                                           doc_id  categories  title  content  \\\n",
       "top_label                                                                       \n",
       "ellington residential mortgage reit stock    2843        2843   2693     2693   \n",
       "acuisition                                   1650        1650   1494     1494   \n",
       "crude                                         370         370    331      331   \n",
       "interest                                      329         329    285      285   \n",
       "money foreign exchange                        266         266    238      238   \n",
       "trade                                         253         253    230      230   \n",
       "grain                                         218         218    204      204   \n",
       "corn                                          157         157    137      137   \n",
       "digital realty trust                          126         126    109      109   \n",
       "money supply                                  125         125     76       76   \n",
       "ship                                          112         112    110      110   \n",
       "coffee                                        101         101     97       97   \n",
       "sugar                                          98          98     91       91   \n",
       "gold                                           83          83     83       83   \n",
       "grupo nacional provincial                      82          82     76       76   \n",
       "bottom of the pyramid                          75          75     67       67   \n",
       "consumer price index                           67          67     63       63   \n",
       "livestock                                      67          67     66       66   \n",
       "cocoa                                          55          55     51       51   \n",
       "oilseed                                        49          49     49       49   \n",
       "copper                                         45          45     45       45   \n",
       "reserves                                       39          39     38       38   \n",
       "jobs                                           39          39     35       35   \n",
       "intrepid potash                                37          37     33       33   \n",
       "barley                                         37          37     33       33   \n",
       "aluminum                                       35          35     34       34   \n",
       "iron steel                                     32          32     32       32   \n",
       "rubber                                         31          31     31       31   \n",
       "cotton                                         28          28     27       27   \n",
       "natural gas                                    26          26     24       24   \n",
       "palm oil                                       21          21     21       21   \n",
       "meal feed                                      19          19     19       19   \n",
       "retail                                         19          19     15       15   \n",
       "vagetable oil                                  19          19     19       19   \n",
       "tin                                            17          17     17       17   \n",
       "\n",
       "                                           title_length  con_length  \n",
       "top_label                                                            \n",
       "ellington residential mortgage reit stock          2843        2843  \n",
       "acuisition                                         1650        1650  \n",
       "crude                                               370         370  \n",
       "interest                                            329         329  \n",
       "money foreign exchange                              266         266  \n",
       "trade                                               253         253  \n",
       "grain                                               218         218  \n",
       "corn                                                157         157  \n",
       "digital realty trust                                126         126  \n",
       "money supply                                        125         125  \n",
       "ship                                                112         112  \n",
       "coffee                                              101         101  \n",
       "sugar                                                98          98  \n",
       "gold                                                 83          83  \n",
       "grupo nacional provincial                            82          82  \n",
       "bottom of the pyramid                                75          75  \n",
       "consumer price index                                 67          67  \n",
       "livestock                                            67          67  \n",
       "cocoa                                                55          55  \n",
       "oilseed                                              49          49  \n",
       "copper                                               45          45  \n",
       "reserves                                             39          39  \n",
       "jobs                                                 39          39  \n",
       "intrepid potash                                      37          37  \n",
       "barley                                               37          37  \n",
       "aluminum                                             35          35  \n",
       "iron steel                                           32          32  \n",
       "rubber                                               31          31  \n",
       "cotton                                               28          28  \n",
       "natural gas                                          26          26  \n",
       "palm oil                                             21          21  \n",
       "meal feed                                            19          19  \n",
       "retail                                               19          19  \n",
       "vagetable oil                                        19          19  \n",
       "tin                                                  17          17  "
      ]
     },
     "execution_count": 34,
     "metadata": {},
     "output_type": "execute_result"
    },
    {
     "data": {
      "application/javascript": [
       "\n",
       "            setTimeout(function() {\n",
       "                var nbb_cell_id = 34;\n",
       "                var nbb_unformatted_code = \"cat_count_df = news_df.groupby(by=\\\"top_label\\\").count()\\ncat_count_df.sort_values(by=\\\"doc_id\\\", ascending=False).iloc[:35]\";\n",
       "                var nbb_formatted_code = \"cat_count_df = news_df.groupby(by=\\\"top_label\\\").count()\\ncat_count_df.sort_values(by=\\\"doc_id\\\", ascending=False).iloc[:35]\";\n",
       "                var nbb_cells = Jupyter.notebook.get_cells();\n",
       "                for (var i = 0; i < nbb_cells.length; ++i) {\n",
       "                    if (nbb_cells[i].input_prompt_number == nbb_cell_id) {\n",
       "                        if (nbb_cells[i].get_text() == nbb_unformatted_code) {\n",
       "                             nbb_cells[i].set_text(nbb_formatted_code);\n",
       "                        }\n",
       "                        break;\n",
       "                    }\n",
       "                }\n",
       "            }, 500);\n",
       "            "
      ],
      "text/plain": [
       "<IPython.core.display.Javascript object>"
      ]
     },
     "metadata": {},
     "output_type": "display_data"
    }
   ],
   "source": [
    "cat_count_df = news_df.groupby(by=\"top_label\").count()\n",
    "cat_count_df.sort_values(by=\"doc_id\", ascending=False).iloc[:35]"
   ]
  },
  {
   "cell_type": "code",
   "execution_count": 36,
   "id": "de3ddbcc",
   "metadata": {},
   "outputs": [
    {
     "data": {
      "application/javascript": [
       "\n",
       "            setTimeout(function() {\n",
       "                var nbb_cell_id = 36;\n",
       "                var nbb_unformatted_code = \"sub_cat_list = [\\n    \\\"aluminum\\\",\\n    \\\"barley\\\",\\n    \\\"cocoa\\\",\\n    \\\"coffee\\\",\\n    \\\"copper\\\",\\n    \\\"corn\\\",\\n    \\\"cotton\\\",\\n    \\\"crude\\\",\\n    \\\"gold\\\",\\n    \\\"grain\\\",\\n    \\\"iron steel\\\",\\n    \\\"livestock\\\",\\n    \\\"natural gas\\\",\\n    \\\"palm oil\\\" \\\"rubber\\\",\\n    \\\"sugar\\\",\\n]\\nsub_cat_df = news_df[news_df[\\\"top_label\\\"].isin(sub_cat_list)]\";\n",
       "                var nbb_formatted_code = \"sub_cat_list = [\\n    \\\"aluminum\\\",\\n    \\\"barley\\\",\\n    \\\"cocoa\\\",\\n    \\\"coffee\\\",\\n    \\\"copper\\\",\\n    \\\"corn\\\",\\n    \\\"cotton\\\",\\n    \\\"crude\\\",\\n    \\\"gold\\\",\\n    \\\"grain\\\",\\n    \\\"iron steel\\\",\\n    \\\"livestock\\\",\\n    \\\"natural gas\\\",\\n    \\\"palm oil\\\" \\\"rubber\\\",\\n    \\\"sugar\\\",\\n]\\nsub_cat_df = news_df[news_df[\\\"top_label\\\"].isin(sub_cat_list)]\";\n",
       "                var nbb_cells = Jupyter.notebook.get_cells();\n",
       "                for (var i = 0; i < nbb_cells.length; ++i) {\n",
       "                    if (nbb_cells[i].input_prompt_number == nbb_cell_id) {\n",
       "                        if (nbb_cells[i].get_text() == nbb_unformatted_code) {\n",
       "                             nbb_cells[i].set_text(nbb_formatted_code);\n",
       "                        }\n",
       "                        break;\n",
       "                    }\n",
       "                }\n",
       "            }, 500);\n",
       "            "
      ],
      "text/plain": [
       "<IPython.core.display.Javascript object>"
      ]
     },
     "metadata": {},
     "output_type": "display_data"
    }
   ],
   "source": [
    "sub_cat_list = [\n",
    "    \"aluminum\",\n",
    "    \"barley\",\n",
    "    \"cocoa\",\n",
    "    \"coffee\",\n",
    "    \"copper\",\n",
    "    \"corn\",\n",
    "    \"cotton\",\n",
    "    \"crude\",\n",
    "    \"gold\",\n",
    "    \"grain\",\n",
    "    \"iron steel\",\n",
    "    \"livestock\",\n",
    "    \"natural gas\",\n",
    "    \"palm oil\" \"rubber\",\n",
    "    \"sugar\",\n",
    "]\n",
    "sub_cat_df = news_df[news_df[\"top_label\"].isin(sub_cat_list)]"
   ]
  },
  {
   "cell_type": "code",
   "execution_count": 43,
   "id": "06b15920",
   "metadata": {},
   "outputs": [
    {
     "data": {
      "application/javascript": [
       "\n",
       "            setTimeout(function() {\n",
       "                var nbb_cell_id = 43;\n",
       "                var nbb_unformatted_code = \"sub_cat_df = sub_cat_df[sub_cat_df[\\\"con_length\\\"] > 500]\\nsc_sample_df = (\\n    sub_cat_df.groupby(\\\"top_label\\\")\\n    .apply(lambda x: x.sample(20, replace=True))\\n    .reset_index(drop=True)\\n)\\nsc_sample_df = sc_sample_df.drop(\\n    columns=[\\\"categories\\\", \\\"title_length\\\", \\\"con_length\\\"]\\n).drop_duplicates()\\nsc_sample_df.to_pickle(\\\"C:/Users/rparg/Documents/Data/Reuters/sc_sample.pkl\\\")\";\n",
       "                var nbb_formatted_code = \"sub_cat_df = sub_cat_df[sub_cat_df[\\\"con_length\\\"] > 500]\\nsc_sample_df = (\\n    sub_cat_df.groupby(\\\"top_label\\\")\\n    .apply(lambda x: x.sample(20, replace=True))\\n    .reset_index(drop=True)\\n)\\nsc_sample_df = sc_sample_df.drop(\\n    columns=[\\\"categories\\\", \\\"title_length\\\", \\\"con_length\\\"]\\n).drop_duplicates()\\nsc_sample_df.to_pickle(\\\"C:/Users/rparg/Documents/Data/Reuters/sc_sample.pkl\\\")\";\n",
       "                var nbb_cells = Jupyter.notebook.get_cells();\n",
       "                for (var i = 0; i < nbb_cells.length; ++i) {\n",
       "                    if (nbb_cells[i].input_prompt_number == nbb_cell_id) {\n",
       "                        if (nbb_cells[i].get_text() == nbb_unformatted_code) {\n",
       "                             nbb_cells[i].set_text(nbb_formatted_code);\n",
       "                        }\n",
       "                        break;\n",
       "                    }\n",
       "                }\n",
       "            }, 500);\n",
       "            "
      ],
      "text/plain": [
       "<IPython.core.display.Javascript object>"
      ]
     },
     "metadata": {},
     "output_type": "display_data"
    }
   ],
   "source": [
    "sub_cat_df = sub_cat_df[sub_cat_df[\"con_length\"] > 500]\n",
    "sc_sample_df = (\n",
    "    sub_cat_df.groupby(\"top_label\")\n",
    "    .apply(lambda x: x.sample(20, replace=True))\n",
    "    .reset_index(drop=True)\n",
    ")\n",
    "sc_sample_df = sc_sample_df.drop(\n",
    "    columns=[\"categories\", \"title_length\", \"con_length\"]\n",
    ").drop_duplicates()\n",
    "sc_sample_df.to_pickle(\"C:/Users/rparg/Documents/Data/Reuters/sc_sample.pkl\")"
   ]
  },
  {
   "cell_type": "code",
   "execution_count": 44,
   "id": "4f2c7861",
   "metadata": {},
   "outputs": [
    {
     "data": {
      "application/javascript": [
       "\n",
       "            setTimeout(function() {\n",
       "                var nbb_cell_id = 44;\n",
       "                var nbb_unformatted_code = \"sc_sample_list = list(sc_sample_df[\\\"content\\\"])\";\n",
       "                var nbb_formatted_code = \"sc_sample_list = list(sc_sample_df[\\\"content\\\"])\";\n",
       "                var nbb_cells = Jupyter.notebook.get_cells();\n",
       "                for (var i = 0; i < nbb_cells.length; ++i) {\n",
       "                    if (nbb_cells[i].input_prompt_number == nbb_cell_id) {\n",
       "                        if (nbb_cells[i].get_text() == nbb_unformatted_code) {\n",
       "                             nbb_cells[i].set_text(nbb_formatted_code);\n",
       "                        }\n",
       "                        break;\n",
       "                    }\n",
       "                }\n",
       "            }, 500);\n",
       "            "
      ],
      "text/plain": [
       "<IPython.core.display.Javascript object>"
      ]
     },
     "metadata": {},
     "output_type": "display_data"
    }
   ],
   "source": [
    "sc_sample_list = list(sc_sample_df[\"content\"])"
   ]
  },
  {
   "cell_type": "code",
   "execution_count": 46,
   "id": "e3c6b92d",
   "metadata": {},
   "outputs": [
    {
     "ename": "KeyboardInterrupt",
     "evalue": "",
     "output_type": "error",
     "traceback": [
      "\u001b[1;31m---------------------------------------------------------------------------\u001b[0m",
      "\u001b[1;31mKeyboardInterrupt\u001b[0m                         Traceback (most recent call last)",
      "Cell \u001b[1;32mIn[46], line 1\u001b[0m\n\u001b[1;32m----> 1\u001b[0m sc_class_list \u001b[38;5;241m=\u001b[39m [\n\u001b[0;32m      2\u001b[0m     classifier(content, sub_cat_list, multi_label\u001b[38;5;241m=\u001b[39m\u001b[38;5;28;01mTrue\u001b[39;00m) \u001b[38;5;28;01mfor\u001b[39;00m content \u001b[38;5;129;01min\u001b[39;00m sc_sample_list\n\u001b[0;32m      3\u001b[0m ]\n\u001b[0;32m      4\u001b[0m categorized_df \u001b[38;5;241m=\u001b[39m pd\u001b[38;5;241m.\u001b[39mDataFrame\u001b[38;5;241m.\u001b[39mfrom_records(sc_class_list)\n\u001b[0;32m      5\u001b[0m categorized_df\u001b[38;5;241m.\u001b[39mto_pickle(\u001b[38;5;124m\"\u001b[39m\u001b[38;5;124mC:/Users/rparg/Documents/Data/Reuters/sc_cat.pkl\u001b[39m\u001b[38;5;124m\"\u001b[39m)\n",
      "Cell \u001b[1;32mIn[46], line 2\u001b[0m, in \u001b[0;36m<listcomp>\u001b[1;34m(.0)\u001b[0m\n\u001b[0;32m      1\u001b[0m sc_class_list \u001b[38;5;241m=\u001b[39m [\n\u001b[1;32m----> 2\u001b[0m     \u001b[43mclassifier\u001b[49m\u001b[43m(\u001b[49m\u001b[43mcontent\u001b[49m\u001b[43m,\u001b[49m\u001b[43m \u001b[49m\u001b[43msub_cat_list\u001b[49m\u001b[43m,\u001b[49m\u001b[43m \u001b[49m\u001b[43mmulti_label\u001b[49m\u001b[38;5;241;43m=\u001b[39;49m\u001b[38;5;28;43;01mTrue\u001b[39;49;00m\u001b[43m)\u001b[49m \u001b[38;5;28;01mfor\u001b[39;00m content \u001b[38;5;129;01min\u001b[39;00m sc_sample_list\n\u001b[0;32m      3\u001b[0m ]\n\u001b[0;32m      4\u001b[0m categorized_df \u001b[38;5;241m=\u001b[39m pd\u001b[38;5;241m.\u001b[39mDataFrame\u001b[38;5;241m.\u001b[39mfrom_records(sc_class_list)\n\u001b[0;32m      5\u001b[0m categorized_df\u001b[38;5;241m.\u001b[39mto_pickle(\u001b[38;5;124m\"\u001b[39m\u001b[38;5;124mC:/Users/rparg/Documents/Data/Reuters/sc_cat.pkl\u001b[39m\u001b[38;5;124m\"\u001b[39m)\n",
      "File \u001b[1;32m~\\.conda\\envs\\tf\\lib\\site-packages\\transformers\\pipelines\\zero_shot_classification.py:205\u001b[0m, in \u001b[0;36mZeroShotClassificationPipeline.__call__\u001b[1;34m(self, sequences, *args, **kwargs)\u001b[0m\n\u001b[0;32m    202\u001b[0m \u001b[38;5;28;01melse\u001b[39;00m:\n\u001b[0;32m    203\u001b[0m     \u001b[38;5;28;01mraise\u001b[39;00m \u001b[38;5;167;01mValueError\u001b[39;00m(\u001b[38;5;124mf\u001b[39m\u001b[38;5;124m\"\u001b[39m\u001b[38;5;124mUnable to understand extra arguments \u001b[39m\u001b[38;5;132;01m{\u001b[39;00margs\u001b[38;5;132;01m}\u001b[39;00m\u001b[38;5;124m\"\u001b[39m)\n\u001b[1;32m--> 205\u001b[0m \u001b[38;5;28;01mreturn\u001b[39;00m \u001b[38;5;28msuper\u001b[39m()\u001b[38;5;241m.\u001b[39m\u001b[38;5;21m__call__\u001b[39m(sequences, \u001b[38;5;241m*\u001b[39m\u001b[38;5;241m*\u001b[39mkwargs)\n",
      "File \u001b[1;32m~\\.conda\\envs\\tf\\lib\\site-packages\\transformers\\pipelines\\base.py:1084\u001b[0m, in \u001b[0;36mPipeline.__call__\u001b[1;34m(self, inputs, num_workers, batch_size, *args, **kwargs)\u001b[0m\n\u001b[0;32m   1076\u001b[0m     \u001b[38;5;28;01mreturn\u001b[39;00m \u001b[38;5;28mnext\u001b[39m(\n\u001b[0;32m   1077\u001b[0m         \u001b[38;5;28miter\u001b[39m(\n\u001b[0;32m   1078\u001b[0m             \u001b[38;5;28mself\u001b[39m\u001b[38;5;241m.\u001b[39mget_iterator(\n\u001b[1;32m   (...)\u001b[0m\n\u001b[0;32m   1081\u001b[0m         )\n\u001b[0;32m   1082\u001b[0m     )\n\u001b[0;32m   1083\u001b[0m \u001b[38;5;28;01melse\u001b[39;00m:\n\u001b[1;32m-> 1084\u001b[0m     \u001b[38;5;28;01mreturn\u001b[39;00m \u001b[38;5;28;43mself\u001b[39;49m\u001b[38;5;241;43m.\u001b[39;49m\u001b[43mrun_single\u001b[49m\u001b[43m(\u001b[49m\u001b[43minputs\u001b[49m\u001b[43m,\u001b[49m\u001b[43m \u001b[49m\u001b[43mpreprocess_params\u001b[49m\u001b[43m,\u001b[49m\u001b[43m \u001b[49m\u001b[43mforward_params\u001b[49m\u001b[43m,\u001b[49m\u001b[43m \u001b[49m\u001b[43mpostprocess_params\u001b[49m\u001b[43m)\u001b[49m\n",
      "File \u001b[1;32m~\\.conda\\envs\\tf\\lib\\site-packages\\transformers\\pipelines\\base.py:1106\u001b[0m, in \u001b[0;36mChunkPipeline.run_single\u001b[1;34m(self, inputs, preprocess_params, forward_params, postprocess_params)\u001b[0m\n\u001b[0;32m   1104\u001b[0m all_outputs \u001b[38;5;241m=\u001b[39m []\n\u001b[0;32m   1105\u001b[0m \u001b[38;5;28;01mfor\u001b[39;00m model_inputs \u001b[38;5;129;01min\u001b[39;00m \u001b[38;5;28mself\u001b[39m\u001b[38;5;241m.\u001b[39mpreprocess(inputs, \u001b[38;5;241m*\u001b[39m\u001b[38;5;241m*\u001b[39mpreprocess_params):\n\u001b[1;32m-> 1106\u001b[0m     model_outputs \u001b[38;5;241m=\u001b[39m \u001b[38;5;28mself\u001b[39m\u001b[38;5;241m.\u001b[39mforward(model_inputs, \u001b[38;5;241m*\u001b[39m\u001b[38;5;241m*\u001b[39mforward_params)\n\u001b[0;32m   1107\u001b[0m     all_outputs\u001b[38;5;241m.\u001b[39mappend(model_outputs)\n\u001b[0;32m   1108\u001b[0m outputs \u001b[38;5;241m=\u001b[39m \u001b[38;5;28mself\u001b[39m\u001b[38;5;241m.\u001b[39mpostprocess(all_outputs, \u001b[38;5;241m*\u001b[39m\u001b[38;5;241m*\u001b[39mpostprocess_params)\n",
      "File \u001b[1;32m~\\.conda\\envs\\tf\\lib\\site-packages\\transformers\\pipelines\\base.py:987\u001b[0m, in \u001b[0;36mPipeline.forward\u001b[1;34m(self, model_inputs, **forward_params)\u001b[0m\n\u001b[0;32m    985\u001b[0m \u001b[38;5;28;01mif\u001b[39;00m \u001b[38;5;28mself\u001b[39m\u001b[38;5;241m.\u001b[39mframework \u001b[38;5;241m==\u001b[39m \u001b[38;5;124m\"\u001b[39m\u001b[38;5;124mtf\u001b[39m\u001b[38;5;124m\"\u001b[39m:\n\u001b[0;32m    986\u001b[0m     model_inputs[\u001b[38;5;124m\"\u001b[39m\u001b[38;5;124mtraining\u001b[39m\u001b[38;5;124m\"\u001b[39m] \u001b[38;5;241m=\u001b[39m \u001b[38;5;28;01mFalse\u001b[39;00m\n\u001b[1;32m--> 987\u001b[0m     model_outputs \u001b[38;5;241m=\u001b[39m \u001b[38;5;28mself\u001b[39m\u001b[38;5;241m.\u001b[39m_forward(model_inputs, \u001b[38;5;241m*\u001b[39m\u001b[38;5;241m*\u001b[39mforward_params)\n\u001b[0;32m    988\u001b[0m \u001b[38;5;28;01melif\u001b[39;00m \u001b[38;5;28mself\u001b[39m\u001b[38;5;241m.\u001b[39mframework \u001b[38;5;241m==\u001b[39m \u001b[38;5;124m\"\u001b[39m\u001b[38;5;124mpt\u001b[39m\u001b[38;5;124m\"\u001b[39m:\n\u001b[0;32m    989\u001b[0m     inference_context \u001b[38;5;241m=\u001b[39m \u001b[38;5;28mself\u001b[39m\u001b[38;5;241m.\u001b[39mget_inference_context()\n",
      "File \u001b[1;32m~\\.conda\\envs\\tf\\lib\\site-packages\\transformers\\pipelines\\zero_shot_classification.py:224\u001b[0m, in \u001b[0;36mZeroShotClassificationPipeline._forward\u001b[1;34m(self, inputs)\u001b[0m\n\u001b[0;32m    222\u001b[0m sequence \u001b[38;5;241m=\u001b[39m inputs[\u001b[38;5;124m\"\u001b[39m\u001b[38;5;124msequence\u001b[39m\u001b[38;5;124m\"\u001b[39m]\n\u001b[0;32m    223\u001b[0m model_inputs \u001b[38;5;241m=\u001b[39m {k: inputs[k] \u001b[38;5;28;01mfor\u001b[39;00m k \u001b[38;5;129;01min\u001b[39;00m \u001b[38;5;28mself\u001b[39m\u001b[38;5;241m.\u001b[39mtokenizer\u001b[38;5;241m.\u001b[39mmodel_input_names}\n\u001b[1;32m--> 224\u001b[0m outputs \u001b[38;5;241m=\u001b[39m \u001b[38;5;28mself\u001b[39m\u001b[38;5;241m.\u001b[39mmodel(\u001b[38;5;241m*\u001b[39m\u001b[38;5;241m*\u001b[39mmodel_inputs)\n\u001b[0;32m    226\u001b[0m model_outputs \u001b[38;5;241m=\u001b[39m {\n\u001b[0;32m    227\u001b[0m     \u001b[38;5;124m\"\u001b[39m\u001b[38;5;124mcandidate_label\u001b[39m\u001b[38;5;124m\"\u001b[39m: candidate_label,\n\u001b[0;32m    228\u001b[0m     \u001b[38;5;124m\"\u001b[39m\u001b[38;5;124msequence\u001b[39m\u001b[38;5;124m\"\u001b[39m: sequence,\n\u001b[0;32m    229\u001b[0m     \u001b[38;5;124m\"\u001b[39m\u001b[38;5;124mis_last\u001b[39m\u001b[38;5;124m\"\u001b[39m: inputs[\u001b[38;5;124m\"\u001b[39m\u001b[38;5;124mis_last\u001b[39m\u001b[38;5;124m\"\u001b[39m],\n\u001b[0;32m    230\u001b[0m     \u001b[38;5;241m*\u001b[39m\u001b[38;5;241m*\u001b[39moutputs,\n\u001b[0;32m    231\u001b[0m }\n\u001b[0;32m    232\u001b[0m \u001b[38;5;28;01mreturn\u001b[39;00m model_outputs\n",
      "File \u001b[1;32m~\\.conda\\envs\\tf\\lib\\site-packages\\keras\\utils\\traceback_utils.py:64\u001b[0m, in \u001b[0;36mfilter_traceback.<locals>.error_handler\u001b[1;34m(*args, **kwargs)\u001b[0m\n\u001b[0;32m     62\u001b[0m filtered_tb \u001b[38;5;241m=\u001b[39m \u001b[38;5;28;01mNone\u001b[39;00m\n\u001b[0;32m     63\u001b[0m \u001b[38;5;28;01mtry\u001b[39;00m:\n\u001b[1;32m---> 64\u001b[0m   \u001b[38;5;28;01mreturn\u001b[39;00m fn(\u001b[38;5;241m*\u001b[39margs, \u001b[38;5;241m*\u001b[39m\u001b[38;5;241m*\u001b[39mkwargs)\n\u001b[0;32m     65\u001b[0m \u001b[38;5;28;01mexcept\u001b[39;00m \u001b[38;5;167;01mException\u001b[39;00m \u001b[38;5;28;01mas\u001b[39;00m e:  \u001b[38;5;66;03m# pylint: disable=broad-except\u001b[39;00m\n\u001b[0;32m     66\u001b[0m   filtered_tb \u001b[38;5;241m=\u001b[39m _process_traceback_frames(e\u001b[38;5;241m.\u001b[39m__traceback__)\n",
      "File \u001b[1;32m~\\.conda\\envs\\tf\\lib\\site-packages\\keras\\engine\\base_layer.py:1096\u001b[0m, in \u001b[0;36mLayer.__call__\u001b[1;34m(self, *args, **kwargs)\u001b[0m\n\u001b[0;32m   1092\u001b[0m   inputs \u001b[38;5;241m=\u001b[39m \u001b[38;5;28mself\u001b[39m\u001b[38;5;241m.\u001b[39m_maybe_cast_inputs(inputs, input_list)\n\u001b[0;32m   1094\u001b[0m \u001b[38;5;28;01mwith\u001b[39;00m autocast_variable\u001b[38;5;241m.\u001b[39menable_auto_cast_variables(\n\u001b[0;32m   1095\u001b[0m     \u001b[38;5;28mself\u001b[39m\u001b[38;5;241m.\u001b[39m_compute_dtype_object):\n\u001b[1;32m-> 1096\u001b[0m   outputs \u001b[38;5;241m=\u001b[39m call_fn(inputs, \u001b[38;5;241m*\u001b[39margs, \u001b[38;5;241m*\u001b[39m\u001b[38;5;241m*\u001b[39mkwargs)\n\u001b[0;32m   1098\u001b[0m \u001b[38;5;28;01mif\u001b[39;00m \u001b[38;5;28mself\u001b[39m\u001b[38;5;241m.\u001b[39m_activity_regularizer:\n\u001b[0;32m   1099\u001b[0m   \u001b[38;5;28mself\u001b[39m\u001b[38;5;241m.\u001b[39m_handle_activity_regularization(inputs, outputs)\n",
      "File \u001b[1;32m~\\.conda\\envs\\tf\\lib\\site-packages\\keras\\utils\\traceback_utils.py:92\u001b[0m, in \u001b[0;36minject_argument_info_in_traceback.<locals>.error_handler\u001b[1;34m(*args, **kwargs)\u001b[0m\n\u001b[0;32m     90\u001b[0m bound_signature \u001b[38;5;241m=\u001b[39m \u001b[38;5;28;01mNone\u001b[39;00m\n\u001b[0;32m     91\u001b[0m \u001b[38;5;28;01mtry\u001b[39;00m:\n\u001b[1;32m---> 92\u001b[0m   \u001b[38;5;28;01mreturn\u001b[39;00m fn(\u001b[38;5;241m*\u001b[39margs, \u001b[38;5;241m*\u001b[39m\u001b[38;5;241m*\u001b[39mkwargs)\n\u001b[0;32m     93\u001b[0m \u001b[38;5;28;01mexcept\u001b[39;00m \u001b[38;5;167;01mException\u001b[39;00m \u001b[38;5;28;01mas\u001b[39;00m e:  \u001b[38;5;66;03m# pylint: disable=broad-except\u001b[39;00m\n\u001b[0;32m     94\u001b[0m   \u001b[38;5;28;01mif\u001b[39;00m \u001b[38;5;28mhasattr\u001b[39m(e, \u001b[38;5;124m'\u001b[39m\u001b[38;5;124m_keras_call_info_injected\u001b[39m\u001b[38;5;124m'\u001b[39m):\n\u001b[0;32m     95\u001b[0m     \u001b[38;5;66;03m# Only inject info for the innermost failing call\u001b[39;00m\n",
      "File \u001b[1;32m~\\.conda\\envs\\tf\\lib\\site-packages\\transformers\\modeling_tf_utils.py:433\u001b[0m, in \u001b[0;36munpack_inputs.<locals>.run_call_with_unpacked_inputs\u001b[1;34m(self, *args, **kwargs)\u001b[0m\n\u001b[0;32m    430\u001b[0m     config \u001b[38;5;241m=\u001b[39m \u001b[38;5;28mself\u001b[39m\u001b[38;5;241m.\u001b[39mconfig\n\u001b[0;32m    432\u001b[0m unpacked_inputs \u001b[38;5;241m=\u001b[39m input_processing(func, config, \u001b[38;5;241m*\u001b[39m\u001b[38;5;241m*\u001b[39mfn_args_and_kwargs)\n\u001b[1;32m--> 433\u001b[0m \u001b[38;5;28;01mreturn\u001b[39;00m func(\u001b[38;5;28mself\u001b[39m, \u001b[38;5;241m*\u001b[39m\u001b[38;5;241m*\u001b[39munpacked_inputs)\n",
      "File \u001b[1;32m~\\.conda\\envs\\tf\\lib\\site-packages\\transformers\\models\\roberta\\modeling_tf_roberta.py:1360\u001b[0m, in \u001b[0;36mTFRobertaForSequenceClassification.call\u001b[1;34m(self, input_ids, attention_mask, token_type_ids, position_ids, head_mask, inputs_embeds, output_attentions, output_hidden_states, return_dict, labels, training)\u001b[0m\n\u001b[0;32m   1331\u001b[0m \u001b[38;5;129m@unpack_inputs\u001b[39m\n\u001b[0;32m   1332\u001b[0m \u001b[38;5;129m@add_start_docstrings_to_model_forward\u001b[39m(ROBERTA_INPUTS_DOCSTRING\u001b[38;5;241m.\u001b[39mformat(\u001b[38;5;124m\"\u001b[39m\u001b[38;5;124mbatch_size, sequence_length\u001b[39m\u001b[38;5;124m\"\u001b[39m))\n\u001b[0;32m   1333\u001b[0m \u001b[38;5;129m@add_code_sample_docstrings\u001b[39m(\n\u001b[1;32m   (...)\u001b[0m\n\u001b[0;32m   1352\u001b[0m     training: Optional[\u001b[38;5;28mbool\u001b[39m] \u001b[38;5;241m=\u001b[39m \u001b[38;5;28;01mFalse\u001b[39;00m,\n\u001b[0;32m   1353\u001b[0m ) \u001b[38;5;241m-\u001b[39m\u001b[38;5;241m>\u001b[39m Union[TFSequenceClassifierOutput, Tuple[tf\u001b[38;5;241m.\u001b[39mTensor]]:\n\u001b[0;32m   1354\u001b[0m     \u001b[38;5;124mr\u001b[39m\u001b[38;5;124;03m\"\"\"\u001b[39;00m\n\u001b[0;32m   1355\u001b[0m \u001b[38;5;124;03m    labels (`tf.Tensor` of shape `(batch_size,)`, *optional*):\u001b[39;00m\n\u001b[0;32m   1356\u001b[0m \u001b[38;5;124;03m        Labels for computing the sequence classification/regression loss. Indices should be in `[0, ...,\u001b[39;00m\n\u001b[0;32m   1357\u001b[0m \u001b[38;5;124;03m        config.num_labels - 1]`. If `config.num_labels == 1` a regression loss is computed (Mean-Square loss), If\u001b[39;00m\n\u001b[0;32m   1358\u001b[0m \u001b[38;5;124;03m        `config.num_labels > 1` a classification loss is computed (Cross-Entropy).\u001b[39;00m\n\u001b[0;32m   1359\u001b[0m \u001b[38;5;124;03m    \"\"\"\u001b[39;00m\n\u001b[1;32m-> 1360\u001b[0m     outputs \u001b[38;5;241m=\u001b[39m \u001b[38;5;28;43mself\u001b[39;49m\u001b[38;5;241;43m.\u001b[39;49m\u001b[43mroberta\u001b[49m\u001b[43m(\u001b[49m\n\u001b[0;32m   1361\u001b[0m \u001b[43m        \u001b[49m\u001b[43minput_ids\u001b[49m\u001b[43m,\u001b[49m\n\u001b[0;32m   1362\u001b[0m \u001b[43m        \u001b[49m\u001b[43mattention_mask\u001b[49m\u001b[38;5;241;43m=\u001b[39;49m\u001b[43mattention_mask\u001b[49m\u001b[43m,\u001b[49m\n\u001b[0;32m   1363\u001b[0m \u001b[43m        \u001b[49m\u001b[43mtoken_type_ids\u001b[49m\u001b[38;5;241;43m=\u001b[39;49m\u001b[43mtoken_type_ids\u001b[49m\u001b[43m,\u001b[49m\n\u001b[0;32m   1364\u001b[0m \u001b[43m        \u001b[49m\u001b[43mposition_ids\u001b[49m\u001b[38;5;241;43m=\u001b[39;49m\u001b[43mposition_ids\u001b[49m\u001b[43m,\u001b[49m\n\u001b[0;32m   1365\u001b[0m \u001b[43m        \u001b[49m\u001b[43mhead_mask\u001b[49m\u001b[38;5;241;43m=\u001b[39;49m\u001b[43mhead_mask\u001b[49m\u001b[43m,\u001b[49m\n\u001b[0;32m   1366\u001b[0m \u001b[43m        \u001b[49m\u001b[43minputs_embeds\u001b[49m\u001b[38;5;241;43m=\u001b[39;49m\u001b[43minputs_embeds\u001b[49m\u001b[43m,\u001b[49m\n\u001b[0;32m   1367\u001b[0m \u001b[43m        \u001b[49m\u001b[43moutput_attentions\u001b[49m\u001b[38;5;241;43m=\u001b[39;49m\u001b[43moutput_attentions\u001b[49m\u001b[43m,\u001b[49m\n\u001b[0;32m   1368\u001b[0m \u001b[43m        \u001b[49m\u001b[43moutput_hidden_states\u001b[49m\u001b[38;5;241;43m=\u001b[39;49m\u001b[43moutput_hidden_states\u001b[49m\u001b[43m,\u001b[49m\n\u001b[0;32m   1369\u001b[0m \u001b[43m        \u001b[49m\u001b[43mreturn_dict\u001b[49m\u001b[38;5;241;43m=\u001b[39;49m\u001b[43mreturn_dict\u001b[49m\u001b[43m,\u001b[49m\n\u001b[0;32m   1370\u001b[0m \u001b[43m        \u001b[49m\u001b[43mtraining\u001b[49m\u001b[38;5;241;43m=\u001b[39;49m\u001b[43mtraining\u001b[49m\u001b[43m,\u001b[49m\n\u001b[0;32m   1371\u001b[0m \u001b[43m    \u001b[49m\u001b[43m)\u001b[49m\n\u001b[0;32m   1372\u001b[0m     sequence_output \u001b[38;5;241m=\u001b[39m outputs[\u001b[38;5;241m0\u001b[39m]\n\u001b[0;32m   1373\u001b[0m     logits \u001b[38;5;241m=\u001b[39m \u001b[38;5;28mself\u001b[39m\u001b[38;5;241m.\u001b[39mclassifier(sequence_output, training\u001b[38;5;241m=\u001b[39mtraining)\n",
      "File \u001b[1;32m~\\.conda\\envs\\tf\\lib\\site-packages\\keras\\utils\\traceback_utils.py:64\u001b[0m, in \u001b[0;36mfilter_traceback.<locals>.error_handler\u001b[1;34m(*args, **kwargs)\u001b[0m\n\u001b[0;32m     62\u001b[0m filtered_tb \u001b[38;5;241m=\u001b[39m \u001b[38;5;28;01mNone\u001b[39;00m\n\u001b[0;32m     63\u001b[0m \u001b[38;5;28;01mtry\u001b[39;00m:\n\u001b[1;32m---> 64\u001b[0m   \u001b[38;5;28;01mreturn\u001b[39;00m fn(\u001b[38;5;241m*\u001b[39margs, \u001b[38;5;241m*\u001b[39m\u001b[38;5;241m*\u001b[39mkwargs)\n\u001b[0;32m     65\u001b[0m \u001b[38;5;28;01mexcept\u001b[39;00m \u001b[38;5;167;01mException\u001b[39;00m \u001b[38;5;28;01mas\u001b[39;00m e:  \u001b[38;5;66;03m# pylint: disable=broad-except\u001b[39;00m\n\u001b[0;32m     66\u001b[0m   filtered_tb \u001b[38;5;241m=\u001b[39m _process_traceback_frames(e\u001b[38;5;241m.\u001b[39m__traceback__)\n",
      "File \u001b[1;32m~\\.conda\\envs\\tf\\lib\\site-packages\\keras\\engine\\base_layer.py:1096\u001b[0m, in \u001b[0;36mLayer.__call__\u001b[1;34m(self, *args, **kwargs)\u001b[0m\n\u001b[0;32m   1092\u001b[0m   inputs \u001b[38;5;241m=\u001b[39m \u001b[38;5;28mself\u001b[39m\u001b[38;5;241m.\u001b[39m_maybe_cast_inputs(inputs, input_list)\n\u001b[0;32m   1094\u001b[0m \u001b[38;5;28;01mwith\u001b[39;00m autocast_variable\u001b[38;5;241m.\u001b[39menable_auto_cast_variables(\n\u001b[0;32m   1095\u001b[0m     \u001b[38;5;28mself\u001b[39m\u001b[38;5;241m.\u001b[39m_compute_dtype_object):\n\u001b[1;32m-> 1096\u001b[0m   outputs \u001b[38;5;241m=\u001b[39m call_fn(inputs, \u001b[38;5;241m*\u001b[39margs, \u001b[38;5;241m*\u001b[39m\u001b[38;5;241m*\u001b[39mkwargs)\n\u001b[0;32m   1098\u001b[0m \u001b[38;5;28;01mif\u001b[39;00m \u001b[38;5;28mself\u001b[39m\u001b[38;5;241m.\u001b[39m_activity_regularizer:\n\u001b[0;32m   1099\u001b[0m   \u001b[38;5;28mself\u001b[39m\u001b[38;5;241m.\u001b[39m_handle_activity_regularization(inputs, outputs)\n",
      "File \u001b[1;32m~\\.conda\\envs\\tf\\lib\\site-packages\\keras\\utils\\traceback_utils.py:92\u001b[0m, in \u001b[0;36minject_argument_info_in_traceback.<locals>.error_handler\u001b[1;34m(*args, **kwargs)\u001b[0m\n\u001b[0;32m     90\u001b[0m bound_signature \u001b[38;5;241m=\u001b[39m \u001b[38;5;28;01mNone\u001b[39;00m\n\u001b[0;32m     91\u001b[0m \u001b[38;5;28;01mtry\u001b[39;00m:\n\u001b[1;32m---> 92\u001b[0m   \u001b[38;5;28;01mreturn\u001b[39;00m fn(\u001b[38;5;241m*\u001b[39margs, \u001b[38;5;241m*\u001b[39m\u001b[38;5;241m*\u001b[39mkwargs)\n\u001b[0;32m     93\u001b[0m \u001b[38;5;28;01mexcept\u001b[39;00m \u001b[38;5;167;01mException\u001b[39;00m \u001b[38;5;28;01mas\u001b[39;00m e:  \u001b[38;5;66;03m# pylint: disable=broad-except\u001b[39;00m\n\u001b[0;32m     94\u001b[0m   \u001b[38;5;28;01mif\u001b[39;00m \u001b[38;5;28mhasattr\u001b[39m(e, \u001b[38;5;124m'\u001b[39m\u001b[38;5;124m_keras_call_info_injected\u001b[39m\u001b[38;5;124m'\u001b[39m):\n\u001b[0;32m     95\u001b[0m     \u001b[38;5;66;03m# Only inject info for the innermost failing call\u001b[39;00m\n",
      "File \u001b[1;32m~\\.conda\\envs\\tf\\lib\\site-packages\\transformers\\modeling_tf_utils.py:433\u001b[0m, in \u001b[0;36munpack_inputs.<locals>.run_call_with_unpacked_inputs\u001b[1;34m(self, *args, **kwargs)\u001b[0m\n\u001b[0;32m    430\u001b[0m     config \u001b[38;5;241m=\u001b[39m \u001b[38;5;28mself\u001b[39m\u001b[38;5;241m.\u001b[39mconfig\n\u001b[0;32m    432\u001b[0m unpacked_inputs \u001b[38;5;241m=\u001b[39m input_processing(func, config, \u001b[38;5;241m*\u001b[39m\u001b[38;5;241m*\u001b[39mfn_args_and_kwargs)\n\u001b[1;32m--> 433\u001b[0m \u001b[38;5;28;01mreturn\u001b[39;00m func(\u001b[38;5;28mself\u001b[39m, \u001b[38;5;241m*\u001b[39m\u001b[38;5;241m*\u001b[39munpacked_inputs)\n",
      "File \u001b[1;32m~\\.conda\\envs\\tf\\lib\\site-packages\\transformers\\models\\roberta\\modeling_tf_roberta.py:745\u001b[0m, in \u001b[0;36mTFRobertaMainLayer.call\u001b[1;34m(self, input_ids, attention_mask, token_type_ids, position_ids, head_mask, inputs_embeds, encoder_hidden_states, encoder_attention_mask, past_key_values, use_cache, output_attentions, output_hidden_states, return_dict, training)\u001b[0m\n\u001b[0;32m    742\u001b[0m \u001b[38;5;28;01melse\u001b[39;00m:\n\u001b[0;32m    743\u001b[0m     head_mask \u001b[38;5;241m=\u001b[39m [\u001b[38;5;28;01mNone\u001b[39;00m] \u001b[38;5;241m*\u001b[39m \u001b[38;5;28mself\u001b[39m\u001b[38;5;241m.\u001b[39mconfig\u001b[38;5;241m.\u001b[39mnum_hidden_layers\n\u001b[1;32m--> 745\u001b[0m encoder_outputs \u001b[38;5;241m=\u001b[39m \u001b[38;5;28;43mself\u001b[39;49m\u001b[38;5;241;43m.\u001b[39;49m\u001b[43mencoder\u001b[49m\u001b[43m(\u001b[49m\n\u001b[0;32m    746\u001b[0m \u001b[43m    \u001b[49m\u001b[43mhidden_states\u001b[49m\u001b[38;5;241;43m=\u001b[39;49m\u001b[43membedding_output\u001b[49m\u001b[43m,\u001b[49m\n\u001b[0;32m    747\u001b[0m \u001b[43m    \u001b[49m\u001b[43mattention_mask\u001b[49m\u001b[38;5;241;43m=\u001b[39;49m\u001b[43mextended_attention_mask\u001b[49m\u001b[43m,\u001b[49m\n\u001b[0;32m    748\u001b[0m \u001b[43m    \u001b[49m\u001b[43mhead_mask\u001b[49m\u001b[38;5;241;43m=\u001b[39;49m\u001b[43mhead_mask\u001b[49m\u001b[43m,\u001b[49m\n\u001b[0;32m    749\u001b[0m \u001b[43m    \u001b[49m\u001b[43mencoder_hidden_states\u001b[49m\u001b[38;5;241;43m=\u001b[39;49m\u001b[43mencoder_hidden_states\u001b[49m\u001b[43m,\u001b[49m\n\u001b[0;32m    750\u001b[0m \u001b[43m    \u001b[49m\u001b[43mencoder_attention_mask\u001b[49m\u001b[38;5;241;43m=\u001b[39;49m\u001b[43mencoder_extended_attention_mask\u001b[49m\u001b[43m,\u001b[49m\n\u001b[0;32m    751\u001b[0m \u001b[43m    \u001b[49m\u001b[43mpast_key_values\u001b[49m\u001b[38;5;241;43m=\u001b[39;49m\u001b[43mpast_key_values\u001b[49m\u001b[43m,\u001b[49m\n\u001b[0;32m    752\u001b[0m \u001b[43m    \u001b[49m\u001b[43muse_cache\u001b[49m\u001b[38;5;241;43m=\u001b[39;49m\u001b[43muse_cache\u001b[49m\u001b[43m,\u001b[49m\n\u001b[0;32m    753\u001b[0m \u001b[43m    \u001b[49m\u001b[43moutput_attentions\u001b[49m\u001b[38;5;241;43m=\u001b[39;49m\u001b[43moutput_attentions\u001b[49m\u001b[43m,\u001b[49m\n\u001b[0;32m    754\u001b[0m \u001b[43m    \u001b[49m\u001b[43moutput_hidden_states\u001b[49m\u001b[38;5;241;43m=\u001b[39;49m\u001b[43moutput_hidden_states\u001b[49m\u001b[43m,\u001b[49m\n\u001b[0;32m    755\u001b[0m \u001b[43m    \u001b[49m\u001b[43mreturn_dict\u001b[49m\u001b[38;5;241;43m=\u001b[39;49m\u001b[43mreturn_dict\u001b[49m\u001b[43m,\u001b[49m\n\u001b[0;32m    756\u001b[0m \u001b[43m    \u001b[49m\u001b[43mtraining\u001b[49m\u001b[38;5;241;43m=\u001b[39;49m\u001b[43mtraining\u001b[49m\u001b[43m,\u001b[49m\n\u001b[0;32m    757\u001b[0m \u001b[43m\u001b[49m\u001b[43m)\u001b[49m\n\u001b[0;32m    759\u001b[0m sequence_output \u001b[38;5;241m=\u001b[39m encoder_outputs[\u001b[38;5;241m0\u001b[39m]\n\u001b[0;32m    760\u001b[0m pooled_output \u001b[38;5;241m=\u001b[39m \u001b[38;5;28mself\u001b[39m\u001b[38;5;241m.\u001b[39mpooler(hidden_states\u001b[38;5;241m=\u001b[39msequence_output) \u001b[38;5;28;01mif\u001b[39;00m \u001b[38;5;28mself\u001b[39m\u001b[38;5;241m.\u001b[39mpooler \u001b[38;5;129;01mis\u001b[39;00m \u001b[38;5;129;01mnot\u001b[39;00m \u001b[38;5;28;01mNone\u001b[39;00m \u001b[38;5;28;01melse\u001b[39;00m \u001b[38;5;28;01mNone\u001b[39;00m\n",
      "File \u001b[1;32m~\\.conda\\envs\\tf\\lib\\site-packages\\keras\\utils\\traceback_utils.py:64\u001b[0m, in \u001b[0;36mfilter_traceback.<locals>.error_handler\u001b[1;34m(*args, **kwargs)\u001b[0m\n\u001b[0;32m     62\u001b[0m filtered_tb \u001b[38;5;241m=\u001b[39m \u001b[38;5;28;01mNone\u001b[39;00m\n\u001b[0;32m     63\u001b[0m \u001b[38;5;28;01mtry\u001b[39;00m:\n\u001b[1;32m---> 64\u001b[0m   \u001b[38;5;28;01mreturn\u001b[39;00m fn(\u001b[38;5;241m*\u001b[39margs, \u001b[38;5;241m*\u001b[39m\u001b[38;5;241m*\u001b[39mkwargs)\n\u001b[0;32m     65\u001b[0m \u001b[38;5;28;01mexcept\u001b[39;00m \u001b[38;5;167;01mException\u001b[39;00m \u001b[38;5;28;01mas\u001b[39;00m e:  \u001b[38;5;66;03m# pylint: disable=broad-except\u001b[39;00m\n\u001b[0;32m     66\u001b[0m   filtered_tb \u001b[38;5;241m=\u001b[39m _process_traceback_frames(e\u001b[38;5;241m.\u001b[39m__traceback__)\n",
      "File \u001b[1;32m~\\.conda\\envs\\tf\\lib\\site-packages\\keras\\engine\\base_layer.py:1096\u001b[0m, in \u001b[0;36mLayer.__call__\u001b[1;34m(self, *args, **kwargs)\u001b[0m\n\u001b[0;32m   1092\u001b[0m   inputs \u001b[38;5;241m=\u001b[39m \u001b[38;5;28mself\u001b[39m\u001b[38;5;241m.\u001b[39m_maybe_cast_inputs(inputs, input_list)\n\u001b[0;32m   1094\u001b[0m \u001b[38;5;28;01mwith\u001b[39;00m autocast_variable\u001b[38;5;241m.\u001b[39menable_auto_cast_variables(\n\u001b[0;32m   1095\u001b[0m     \u001b[38;5;28mself\u001b[39m\u001b[38;5;241m.\u001b[39m_compute_dtype_object):\n\u001b[1;32m-> 1096\u001b[0m   outputs \u001b[38;5;241m=\u001b[39m call_fn(inputs, \u001b[38;5;241m*\u001b[39margs, \u001b[38;5;241m*\u001b[39m\u001b[38;5;241m*\u001b[39mkwargs)\n\u001b[0;32m   1098\u001b[0m \u001b[38;5;28;01mif\u001b[39;00m \u001b[38;5;28mself\u001b[39m\u001b[38;5;241m.\u001b[39m_activity_regularizer:\n\u001b[0;32m   1099\u001b[0m   \u001b[38;5;28mself\u001b[39m\u001b[38;5;241m.\u001b[39m_handle_activity_regularization(inputs, outputs)\n",
      "File \u001b[1;32m~\\.conda\\envs\\tf\\lib\\site-packages\\keras\\utils\\traceback_utils.py:92\u001b[0m, in \u001b[0;36minject_argument_info_in_traceback.<locals>.error_handler\u001b[1;34m(*args, **kwargs)\u001b[0m\n\u001b[0;32m     90\u001b[0m bound_signature \u001b[38;5;241m=\u001b[39m \u001b[38;5;28;01mNone\u001b[39;00m\n\u001b[0;32m     91\u001b[0m \u001b[38;5;28;01mtry\u001b[39;00m:\n\u001b[1;32m---> 92\u001b[0m   \u001b[38;5;28;01mreturn\u001b[39;00m fn(\u001b[38;5;241m*\u001b[39margs, \u001b[38;5;241m*\u001b[39m\u001b[38;5;241m*\u001b[39mkwargs)\n\u001b[0;32m     93\u001b[0m \u001b[38;5;28;01mexcept\u001b[39;00m \u001b[38;5;167;01mException\u001b[39;00m \u001b[38;5;28;01mas\u001b[39;00m e:  \u001b[38;5;66;03m# pylint: disable=broad-except\u001b[39;00m\n\u001b[0;32m     94\u001b[0m   \u001b[38;5;28;01mif\u001b[39;00m \u001b[38;5;28mhasattr\u001b[39m(e, \u001b[38;5;124m'\u001b[39m\u001b[38;5;124m_keras_call_info_injected\u001b[39m\u001b[38;5;124m'\u001b[39m):\n\u001b[0;32m     95\u001b[0m     \u001b[38;5;66;03m# Only inject info for the innermost failing call\u001b[39;00m\n",
      "File \u001b[1;32m~\\.conda\\envs\\tf\\lib\\site-packages\\transformers\\models\\roberta\\modeling_tf_roberta.py:542\u001b[0m, in \u001b[0;36mTFRobertaEncoder.call\u001b[1;34m(self, hidden_states, attention_mask, head_mask, encoder_hidden_states, encoder_attention_mask, past_key_values, use_cache, output_attentions, output_hidden_states, return_dict, training)\u001b[0m\n\u001b[0;32m    538\u001b[0m     all_hidden_states \u001b[38;5;241m=\u001b[39m all_hidden_states \u001b[38;5;241m+\u001b[39m (hidden_states,)\n\u001b[0;32m    540\u001b[0m past_key_value \u001b[38;5;241m=\u001b[39m past_key_values[i] \u001b[38;5;28;01mif\u001b[39;00m past_key_values \u001b[38;5;129;01mis\u001b[39;00m \u001b[38;5;129;01mnot\u001b[39;00m \u001b[38;5;28;01mNone\u001b[39;00m \u001b[38;5;28;01melse\u001b[39;00m \u001b[38;5;28;01mNone\u001b[39;00m\n\u001b[1;32m--> 542\u001b[0m layer_outputs \u001b[38;5;241m=\u001b[39m \u001b[43mlayer_module\u001b[49m\u001b[43m(\u001b[49m\n\u001b[0;32m    543\u001b[0m \u001b[43m    \u001b[49m\u001b[43mhidden_states\u001b[49m\u001b[38;5;241;43m=\u001b[39;49m\u001b[43mhidden_states\u001b[49m\u001b[43m,\u001b[49m\n\u001b[0;32m    544\u001b[0m \u001b[43m    \u001b[49m\u001b[43mattention_mask\u001b[49m\u001b[38;5;241;43m=\u001b[39;49m\u001b[43mattention_mask\u001b[49m\u001b[43m,\u001b[49m\n\u001b[0;32m    545\u001b[0m \u001b[43m    \u001b[49m\u001b[43mhead_mask\u001b[49m\u001b[38;5;241;43m=\u001b[39;49m\u001b[43mhead_mask\u001b[49m\u001b[43m[\u001b[49m\u001b[43mi\u001b[49m\u001b[43m]\u001b[49m\u001b[43m,\u001b[49m\n\u001b[0;32m    546\u001b[0m \u001b[43m    \u001b[49m\u001b[43mencoder_hidden_states\u001b[49m\u001b[38;5;241;43m=\u001b[39;49m\u001b[43mencoder_hidden_states\u001b[49m\u001b[43m,\u001b[49m\n\u001b[0;32m    547\u001b[0m \u001b[43m    \u001b[49m\u001b[43mencoder_attention_mask\u001b[49m\u001b[38;5;241;43m=\u001b[39;49m\u001b[43mencoder_attention_mask\u001b[49m\u001b[43m,\u001b[49m\n\u001b[0;32m    548\u001b[0m \u001b[43m    \u001b[49m\u001b[43mpast_key_value\u001b[49m\u001b[38;5;241;43m=\u001b[39;49m\u001b[43mpast_key_value\u001b[49m\u001b[43m,\u001b[49m\n\u001b[0;32m    549\u001b[0m \u001b[43m    \u001b[49m\u001b[43moutput_attentions\u001b[49m\u001b[38;5;241;43m=\u001b[39;49m\u001b[43moutput_attentions\u001b[49m\u001b[43m,\u001b[49m\n\u001b[0;32m    550\u001b[0m \u001b[43m    \u001b[49m\u001b[43mtraining\u001b[49m\u001b[38;5;241;43m=\u001b[39;49m\u001b[43mtraining\u001b[49m\u001b[43m,\u001b[49m\n\u001b[0;32m    551\u001b[0m \u001b[43m\u001b[49m\u001b[43m)\u001b[49m\n\u001b[0;32m    552\u001b[0m hidden_states \u001b[38;5;241m=\u001b[39m layer_outputs[\u001b[38;5;241m0\u001b[39m]\n\u001b[0;32m    554\u001b[0m \u001b[38;5;28;01mif\u001b[39;00m use_cache:\n",
      "File \u001b[1;32m~\\.conda\\envs\\tf\\lib\\site-packages\\keras\\utils\\traceback_utils.py:64\u001b[0m, in \u001b[0;36mfilter_traceback.<locals>.error_handler\u001b[1;34m(*args, **kwargs)\u001b[0m\n\u001b[0;32m     62\u001b[0m filtered_tb \u001b[38;5;241m=\u001b[39m \u001b[38;5;28;01mNone\u001b[39;00m\n\u001b[0;32m     63\u001b[0m \u001b[38;5;28;01mtry\u001b[39;00m:\n\u001b[1;32m---> 64\u001b[0m   \u001b[38;5;28;01mreturn\u001b[39;00m fn(\u001b[38;5;241m*\u001b[39margs, \u001b[38;5;241m*\u001b[39m\u001b[38;5;241m*\u001b[39mkwargs)\n\u001b[0;32m     65\u001b[0m \u001b[38;5;28;01mexcept\u001b[39;00m \u001b[38;5;167;01mException\u001b[39;00m \u001b[38;5;28;01mas\u001b[39;00m e:  \u001b[38;5;66;03m# pylint: disable=broad-except\u001b[39;00m\n\u001b[0;32m     66\u001b[0m   filtered_tb \u001b[38;5;241m=\u001b[39m _process_traceback_frames(e\u001b[38;5;241m.\u001b[39m__traceback__)\n",
      "File \u001b[1;32m~\\.conda\\envs\\tf\\lib\\site-packages\\keras\\engine\\base_layer.py:1096\u001b[0m, in \u001b[0;36mLayer.__call__\u001b[1;34m(self, *args, **kwargs)\u001b[0m\n\u001b[0;32m   1092\u001b[0m   inputs \u001b[38;5;241m=\u001b[39m \u001b[38;5;28mself\u001b[39m\u001b[38;5;241m.\u001b[39m_maybe_cast_inputs(inputs, input_list)\n\u001b[0;32m   1094\u001b[0m \u001b[38;5;28;01mwith\u001b[39;00m autocast_variable\u001b[38;5;241m.\u001b[39menable_auto_cast_variables(\n\u001b[0;32m   1095\u001b[0m     \u001b[38;5;28mself\u001b[39m\u001b[38;5;241m.\u001b[39m_compute_dtype_object):\n\u001b[1;32m-> 1096\u001b[0m   outputs \u001b[38;5;241m=\u001b[39m call_fn(inputs, \u001b[38;5;241m*\u001b[39margs, \u001b[38;5;241m*\u001b[39m\u001b[38;5;241m*\u001b[39mkwargs)\n\u001b[0;32m   1098\u001b[0m \u001b[38;5;28;01mif\u001b[39;00m \u001b[38;5;28mself\u001b[39m\u001b[38;5;241m.\u001b[39m_activity_regularizer:\n\u001b[0;32m   1099\u001b[0m   \u001b[38;5;28mself\u001b[39m\u001b[38;5;241m.\u001b[39m_handle_activity_regularization(inputs, outputs)\n",
      "File \u001b[1;32m~\\.conda\\envs\\tf\\lib\\site-packages\\keras\\utils\\traceback_utils.py:92\u001b[0m, in \u001b[0;36minject_argument_info_in_traceback.<locals>.error_handler\u001b[1;34m(*args, **kwargs)\u001b[0m\n\u001b[0;32m     90\u001b[0m bound_signature \u001b[38;5;241m=\u001b[39m \u001b[38;5;28;01mNone\u001b[39;00m\n\u001b[0;32m     91\u001b[0m \u001b[38;5;28;01mtry\u001b[39;00m:\n\u001b[1;32m---> 92\u001b[0m   \u001b[38;5;28;01mreturn\u001b[39;00m fn(\u001b[38;5;241m*\u001b[39margs, \u001b[38;5;241m*\u001b[39m\u001b[38;5;241m*\u001b[39mkwargs)\n\u001b[0;32m     93\u001b[0m \u001b[38;5;28;01mexcept\u001b[39;00m \u001b[38;5;167;01mException\u001b[39;00m \u001b[38;5;28;01mas\u001b[39;00m e:  \u001b[38;5;66;03m# pylint: disable=broad-except\u001b[39;00m\n\u001b[0;32m     94\u001b[0m   \u001b[38;5;28;01mif\u001b[39;00m \u001b[38;5;28mhasattr\u001b[39m(e, \u001b[38;5;124m'\u001b[39m\u001b[38;5;124m_keras_call_info_injected\u001b[39m\u001b[38;5;124m'\u001b[39m):\n\u001b[0;32m     95\u001b[0m     \u001b[38;5;66;03m# Only inject info for the innermost failing call\u001b[39;00m\n",
      "File \u001b[1;32m~\\.conda\\envs\\tf\\lib\\site-packages\\transformers\\models\\roberta\\modeling_tf_roberta.py:498\u001b[0m, in \u001b[0;36mTFRobertaLayer.call\u001b[1;34m(self, hidden_states, attention_mask, head_mask, encoder_hidden_states, encoder_attention_mask, past_key_value, output_attentions, training)\u001b[0m\n\u001b[0;32m    495\u001b[0m     present_key_value \u001b[38;5;241m=\u001b[39m present_key_value \u001b[38;5;241m+\u001b[39m cross_attn_present_key_value\n\u001b[0;32m    497\u001b[0m intermediate_output \u001b[38;5;241m=\u001b[39m \u001b[38;5;28mself\u001b[39m\u001b[38;5;241m.\u001b[39mintermediate(hidden_states\u001b[38;5;241m=\u001b[39mattention_output)\n\u001b[1;32m--> 498\u001b[0m layer_output \u001b[38;5;241m=\u001b[39m \u001b[38;5;28;43mself\u001b[39;49m\u001b[38;5;241;43m.\u001b[39;49m\u001b[43mbert_output\u001b[49m\u001b[43m(\u001b[49m\n\u001b[0;32m    499\u001b[0m \u001b[43m    \u001b[49m\u001b[43mhidden_states\u001b[49m\u001b[38;5;241;43m=\u001b[39;49m\u001b[43mintermediate_output\u001b[49m\u001b[43m,\u001b[49m\u001b[43m \u001b[49m\u001b[43minput_tensor\u001b[49m\u001b[38;5;241;43m=\u001b[39;49m\u001b[43mattention_output\u001b[49m\u001b[43m,\u001b[49m\u001b[43m \u001b[49m\u001b[43mtraining\u001b[49m\u001b[38;5;241;43m=\u001b[39;49m\u001b[43mtraining\u001b[49m\n\u001b[0;32m    500\u001b[0m \u001b[43m\u001b[49m\u001b[43m)\u001b[49m\n\u001b[0;32m    501\u001b[0m outputs \u001b[38;5;241m=\u001b[39m (layer_output,) \u001b[38;5;241m+\u001b[39m outputs  \u001b[38;5;66;03m# add attentions if we output them\u001b[39;00m\n\u001b[0;32m    503\u001b[0m \u001b[38;5;66;03m# if decoder, return the attn key/values as the last output\u001b[39;00m\n",
      "File \u001b[1;32m~\\.conda\\envs\\tf\\lib\\site-packages\\keras\\utils\\traceback_utils.py:64\u001b[0m, in \u001b[0;36mfilter_traceback.<locals>.error_handler\u001b[1;34m(*args, **kwargs)\u001b[0m\n\u001b[0;32m     62\u001b[0m filtered_tb \u001b[38;5;241m=\u001b[39m \u001b[38;5;28;01mNone\u001b[39;00m\n\u001b[0;32m     63\u001b[0m \u001b[38;5;28;01mtry\u001b[39;00m:\n\u001b[1;32m---> 64\u001b[0m   \u001b[38;5;28;01mreturn\u001b[39;00m fn(\u001b[38;5;241m*\u001b[39margs, \u001b[38;5;241m*\u001b[39m\u001b[38;5;241m*\u001b[39mkwargs)\n\u001b[0;32m     65\u001b[0m \u001b[38;5;28;01mexcept\u001b[39;00m \u001b[38;5;167;01mException\u001b[39;00m \u001b[38;5;28;01mas\u001b[39;00m e:  \u001b[38;5;66;03m# pylint: disable=broad-except\u001b[39;00m\n\u001b[0;32m     66\u001b[0m   filtered_tb \u001b[38;5;241m=\u001b[39m _process_traceback_frames(e\u001b[38;5;241m.\u001b[39m__traceback__)\n",
      "File \u001b[1;32m~\\.conda\\envs\\tf\\lib\\site-packages\\keras\\engine\\base_layer.py:1096\u001b[0m, in \u001b[0;36mLayer.__call__\u001b[1;34m(self, *args, **kwargs)\u001b[0m\n\u001b[0;32m   1092\u001b[0m   inputs \u001b[38;5;241m=\u001b[39m \u001b[38;5;28mself\u001b[39m\u001b[38;5;241m.\u001b[39m_maybe_cast_inputs(inputs, input_list)\n\u001b[0;32m   1094\u001b[0m \u001b[38;5;28;01mwith\u001b[39;00m autocast_variable\u001b[38;5;241m.\u001b[39menable_auto_cast_variables(\n\u001b[0;32m   1095\u001b[0m     \u001b[38;5;28mself\u001b[39m\u001b[38;5;241m.\u001b[39m_compute_dtype_object):\n\u001b[1;32m-> 1096\u001b[0m   outputs \u001b[38;5;241m=\u001b[39m call_fn(inputs, \u001b[38;5;241m*\u001b[39margs, \u001b[38;5;241m*\u001b[39m\u001b[38;5;241m*\u001b[39mkwargs)\n\u001b[0;32m   1098\u001b[0m \u001b[38;5;28;01mif\u001b[39;00m \u001b[38;5;28mself\u001b[39m\u001b[38;5;241m.\u001b[39m_activity_regularizer:\n\u001b[0;32m   1099\u001b[0m   \u001b[38;5;28mself\u001b[39m\u001b[38;5;241m.\u001b[39m_handle_activity_regularization(inputs, outputs)\n",
      "File \u001b[1;32m~\\.conda\\envs\\tf\\lib\\site-packages\\keras\\utils\\traceback_utils.py:92\u001b[0m, in \u001b[0;36minject_argument_info_in_traceback.<locals>.error_handler\u001b[1;34m(*args, **kwargs)\u001b[0m\n\u001b[0;32m     90\u001b[0m bound_signature \u001b[38;5;241m=\u001b[39m \u001b[38;5;28;01mNone\u001b[39;00m\n\u001b[0;32m     91\u001b[0m \u001b[38;5;28;01mtry\u001b[39;00m:\n\u001b[1;32m---> 92\u001b[0m   \u001b[38;5;28;01mreturn\u001b[39;00m fn(\u001b[38;5;241m*\u001b[39margs, \u001b[38;5;241m*\u001b[39m\u001b[38;5;241m*\u001b[39mkwargs)\n\u001b[0;32m     93\u001b[0m \u001b[38;5;28;01mexcept\u001b[39;00m \u001b[38;5;167;01mException\u001b[39;00m \u001b[38;5;28;01mas\u001b[39;00m e:  \u001b[38;5;66;03m# pylint: disable=broad-except\u001b[39;00m\n\u001b[0;32m     94\u001b[0m   \u001b[38;5;28;01mif\u001b[39;00m \u001b[38;5;28mhasattr\u001b[39m(e, \u001b[38;5;124m'\u001b[39m\u001b[38;5;124m_keras_call_info_injected\u001b[39m\u001b[38;5;124m'\u001b[39m):\n\u001b[0;32m     95\u001b[0m     \u001b[38;5;66;03m# Only inject info for the innermost failing call\u001b[39;00m\n",
      "File \u001b[1;32m~\\.conda\\envs\\tf\\lib\\site-packages\\transformers\\models\\roberta\\modeling_tf_roberta.py:416\u001b[0m, in \u001b[0;36mTFRobertaOutput.call\u001b[1;34m(self, hidden_states, input_tensor, training)\u001b[0m\n\u001b[0;32m    415\u001b[0m \u001b[38;5;28;01mdef\u001b[39;00m \u001b[38;5;21mcall\u001b[39m(\u001b[38;5;28mself\u001b[39m, hidden_states: tf\u001b[38;5;241m.\u001b[39mTensor, input_tensor: tf\u001b[38;5;241m.\u001b[39mTensor, training: \u001b[38;5;28mbool\u001b[39m \u001b[38;5;241m=\u001b[39m \u001b[38;5;28;01mFalse\u001b[39;00m) \u001b[38;5;241m-\u001b[39m\u001b[38;5;241m>\u001b[39m tf\u001b[38;5;241m.\u001b[39mTensor:\n\u001b[1;32m--> 416\u001b[0m     hidden_states \u001b[38;5;241m=\u001b[39m \u001b[38;5;28;43mself\u001b[39;49m\u001b[38;5;241;43m.\u001b[39;49m\u001b[43mdense\u001b[49m\u001b[43m(\u001b[49m\u001b[43minputs\u001b[49m\u001b[38;5;241;43m=\u001b[39;49m\u001b[43mhidden_states\u001b[49m\u001b[43m)\u001b[49m\n\u001b[0;32m    417\u001b[0m     hidden_states \u001b[38;5;241m=\u001b[39m \u001b[38;5;28mself\u001b[39m\u001b[38;5;241m.\u001b[39mdropout(inputs\u001b[38;5;241m=\u001b[39mhidden_states, training\u001b[38;5;241m=\u001b[39mtraining)\n\u001b[0;32m    418\u001b[0m     hidden_states \u001b[38;5;241m=\u001b[39m \u001b[38;5;28mself\u001b[39m\u001b[38;5;241m.\u001b[39mLayerNorm(inputs\u001b[38;5;241m=\u001b[39mhidden_states \u001b[38;5;241m+\u001b[39m input_tensor)\n",
      "File \u001b[1;32m~\\.conda\\envs\\tf\\lib\\site-packages\\keras\\utils\\traceback_utils.py:64\u001b[0m, in \u001b[0;36mfilter_traceback.<locals>.error_handler\u001b[1;34m(*args, **kwargs)\u001b[0m\n\u001b[0;32m     62\u001b[0m filtered_tb \u001b[38;5;241m=\u001b[39m \u001b[38;5;28;01mNone\u001b[39;00m\n\u001b[0;32m     63\u001b[0m \u001b[38;5;28;01mtry\u001b[39;00m:\n\u001b[1;32m---> 64\u001b[0m   \u001b[38;5;28;01mreturn\u001b[39;00m fn(\u001b[38;5;241m*\u001b[39margs, \u001b[38;5;241m*\u001b[39m\u001b[38;5;241m*\u001b[39mkwargs)\n\u001b[0;32m     65\u001b[0m \u001b[38;5;28;01mexcept\u001b[39;00m \u001b[38;5;167;01mException\u001b[39;00m \u001b[38;5;28;01mas\u001b[39;00m e:  \u001b[38;5;66;03m# pylint: disable=broad-except\u001b[39;00m\n\u001b[0;32m     66\u001b[0m   filtered_tb \u001b[38;5;241m=\u001b[39m _process_traceback_frames(e\u001b[38;5;241m.\u001b[39m__traceback__)\n",
      "File \u001b[1;32m~\\.conda\\envs\\tf\\lib\\site-packages\\keras\\engine\\base_layer.py:1096\u001b[0m, in \u001b[0;36mLayer.__call__\u001b[1;34m(self, *args, **kwargs)\u001b[0m\n\u001b[0;32m   1092\u001b[0m   inputs \u001b[38;5;241m=\u001b[39m \u001b[38;5;28mself\u001b[39m\u001b[38;5;241m.\u001b[39m_maybe_cast_inputs(inputs, input_list)\n\u001b[0;32m   1094\u001b[0m \u001b[38;5;28;01mwith\u001b[39;00m autocast_variable\u001b[38;5;241m.\u001b[39menable_auto_cast_variables(\n\u001b[0;32m   1095\u001b[0m     \u001b[38;5;28mself\u001b[39m\u001b[38;5;241m.\u001b[39m_compute_dtype_object):\n\u001b[1;32m-> 1096\u001b[0m   outputs \u001b[38;5;241m=\u001b[39m call_fn(inputs, \u001b[38;5;241m*\u001b[39margs, \u001b[38;5;241m*\u001b[39m\u001b[38;5;241m*\u001b[39mkwargs)\n\u001b[0;32m   1098\u001b[0m \u001b[38;5;28;01mif\u001b[39;00m \u001b[38;5;28mself\u001b[39m\u001b[38;5;241m.\u001b[39m_activity_regularizer:\n\u001b[0;32m   1099\u001b[0m   \u001b[38;5;28mself\u001b[39m\u001b[38;5;241m.\u001b[39m_handle_activity_regularization(inputs, outputs)\n",
      "File \u001b[1;32m~\\.conda\\envs\\tf\\lib\\site-packages\\keras\\utils\\traceback_utils.py:92\u001b[0m, in \u001b[0;36minject_argument_info_in_traceback.<locals>.error_handler\u001b[1;34m(*args, **kwargs)\u001b[0m\n\u001b[0;32m     90\u001b[0m bound_signature \u001b[38;5;241m=\u001b[39m \u001b[38;5;28;01mNone\u001b[39;00m\n\u001b[0;32m     91\u001b[0m \u001b[38;5;28;01mtry\u001b[39;00m:\n\u001b[1;32m---> 92\u001b[0m   \u001b[38;5;28;01mreturn\u001b[39;00m fn(\u001b[38;5;241m*\u001b[39margs, \u001b[38;5;241m*\u001b[39m\u001b[38;5;241m*\u001b[39mkwargs)\n\u001b[0;32m     93\u001b[0m \u001b[38;5;28;01mexcept\u001b[39;00m \u001b[38;5;167;01mException\u001b[39;00m \u001b[38;5;28;01mas\u001b[39;00m e:  \u001b[38;5;66;03m# pylint: disable=broad-except\u001b[39;00m\n\u001b[0;32m     94\u001b[0m   \u001b[38;5;28;01mif\u001b[39;00m \u001b[38;5;28mhasattr\u001b[39m(e, \u001b[38;5;124m'\u001b[39m\u001b[38;5;124m_keras_call_info_injected\u001b[39m\u001b[38;5;124m'\u001b[39m):\n\u001b[0;32m     95\u001b[0m     \u001b[38;5;66;03m# Only inject info for the innermost failing call\u001b[39;00m\n",
      "File \u001b[1;32m~\\.conda\\envs\\tf\\lib\\site-packages\\keras\\layers\\core\\dense.py:222\u001b[0m, in \u001b[0;36mDense.call\u001b[1;34m(self, inputs)\u001b[0m\n\u001b[0;32m    219\u001b[0m     outputs \u001b[38;5;241m=\u001b[39m tf\u001b[38;5;241m.\u001b[39mmatmul(a\u001b[38;5;241m=\u001b[39minputs, b\u001b[38;5;241m=\u001b[39m\u001b[38;5;28mself\u001b[39m\u001b[38;5;241m.\u001b[39mkernel)\n\u001b[0;32m    220\u001b[0m \u001b[38;5;66;03m# Broadcast kernel to inputs.\u001b[39;00m\n\u001b[0;32m    221\u001b[0m \u001b[38;5;28;01melse\u001b[39;00m:\n\u001b[1;32m--> 222\u001b[0m   outputs \u001b[38;5;241m=\u001b[39m \u001b[43mtf\u001b[49m\u001b[38;5;241;43m.\u001b[39;49m\u001b[43mtensordot\u001b[49m\u001b[43m(\u001b[49m\u001b[43minputs\u001b[49m\u001b[43m,\u001b[49m\u001b[43m \u001b[49m\u001b[38;5;28;43mself\u001b[39;49m\u001b[38;5;241;43m.\u001b[39;49m\u001b[43mkernel\u001b[49m\u001b[43m,\u001b[49m\u001b[43m \u001b[49m\u001b[43m[\u001b[49m\u001b[43m[\u001b[49m\u001b[43mrank\u001b[49m\u001b[43m \u001b[49m\u001b[38;5;241;43m-\u001b[39;49m\u001b[43m \u001b[49m\u001b[38;5;241;43m1\u001b[39;49m\u001b[43m]\u001b[49m\u001b[43m,\u001b[49m\u001b[43m \u001b[49m\u001b[43m[\u001b[49m\u001b[38;5;241;43m0\u001b[39;49m\u001b[43m]\u001b[49m\u001b[43m]\u001b[49m\u001b[43m)\u001b[49m\n\u001b[0;32m    223\u001b[0m   \u001b[38;5;66;03m# Reshape the output back to the original ndim of the input.\u001b[39;00m\n\u001b[0;32m    224\u001b[0m   \u001b[38;5;28;01mif\u001b[39;00m \u001b[38;5;129;01mnot\u001b[39;00m tf\u001b[38;5;241m.\u001b[39mexecuting_eagerly():\n",
      "File \u001b[1;32m~\\.conda\\envs\\tf\\lib\\site-packages\\tensorflow\\python\\util\\traceback_utils.py:150\u001b[0m, in \u001b[0;36mfilter_traceback.<locals>.error_handler\u001b[1;34m(*args, **kwargs)\u001b[0m\n\u001b[0;32m    148\u001b[0m filtered_tb \u001b[38;5;241m=\u001b[39m \u001b[38;5;28;01mNone\u001b[39;00m\n\u001b[0;32m    149\u001b[0m \u001b[38;5;28;01mtry\u001b[39;00m:\n\u001b[1;32m--> 150\u001b[0m   \u001b[38;5;28;01mreturn\u001b[39;00m fn(\u001b[38;5;241m*\u001b[39margs, \u001b[38;5;241m*\u001b[39m\u001b[38;5;241m*\u001b[39mkwargs)\n\u001b[0;32m    151\u001b[0m \u001b[38;5;28;01mexcept\u001b[39;00m \u001b[38;5;167;01mException\u001b[39;00m \u001b[38;5;28;01mas\u001b[39;00m e:\n\u001b[0;32m    152\u001b[0m   filtered_tb \u001b[38;5;241m=\u001b[39m _process_traceback_frames(e\u001b[38;5;241m.\u001b[39m__traceback__)\n",
      "File \u001b[1;32m~\\.conda\\envs\\tf\\lib\\site-packages\\tensorflow\\python\\util\\dispatch.py:1082\u001b[0m, in \u001b[0;36madd_dispatch_support.<locals>.decorator.<locals>.op_dispatch_handler\u001b[1;34m(*args, **kwargs)\u001b[0m\n\u001b[0;32m   1080\u001b[0m \u001b[38;5;66;03m# Fallback dispatch system (dispatch v1):\u001b[39;00m\n\u001b[0;32m   1081\u001b[0m \u001b[38;5;28;01mtry\u001b[39;00m:\n\u001b[1;32m-> 1082\u001b[0m   \u001b[38;5;28;01mreturn\u001b[39;00m dispatch_target(\u001b[38;5;241m*\u001b[39margs, \u001b[38;5;241m*\u001b[39m\u001b[38;5;241m*\u001b[39mkwargs)\n\u001b[0;32m   1083\u001b[0m \u001b[38;5;28;01mexcept\u001b[39;00m (\u001b[38;5;167;01mTypeError\u001b[39;00m, \u001b[38;5;167;01mValueError\u001b[39;00m):\n\u001b[0;32m   1084\u001b[0m   \u001b[38;5;66;03m# Note: convert_to_eager_tensor currently raises a ValueError, not a\u001b[39;00m\n\u001b[0;32m   1085\u001b[0m   \u001b[38;5;66;03m# TypeError, when given unexpected types.  So we need to catch both.\u001b[39;00m\n\u001b[0;32m   1086\u001b[0m   result \u001b[38;5;241m=\u001b[39m dispatch(op_dispatch_handler, args, kwargs)\n",
      "File \u001b[1;32m~\\.conda\\envs\\tf\\lib\\site-packages\\tensorflow\\python\\ops\\math_ops.py:5124\u001b[0m, in \u001b[0;36mtensordot\u001b[1;34m(a, b, axes, name)\u001b[0m\n\u001b[0;32m   5121\u001b[0m a_reshape, a_free_dims, a_free_dims_static \u001b[38;5;241m=\u001b[39m _tensordot_reshape(a, a_axes)\n\u001b[0;32m   5122\u001b[0m b_reshape, b_free_dims, b_free_dims_static \u001b[38;5;241m=\u001b[39m _tensordot_reshape(\n\u001b[0;32m   5123\u001b[0m     b, b_axes, \u001b[38;5;28;01mTrue\u001b[39;00m)\n\u001b[1;32m-> 5124\u001b[0m ab_matmul \u001b[38;5;241m=\u001b[39m \u001b[43mmatmul\u001b[49m\u001b[43m(\u001b[49m\u001b[43ma_reshape\u001b[49m\u001b[43m,\u001b[49m\u001b[43m \u001b[49m\u001b[43mb_reshape\u001b[49m\u001b[43m)\u001b[49m\n\u001b[0;32m   5125\u001b[0m \u001b[38;5;28;01mif\u001b[39;00m \u001b[38;5;28misinstance\u001b[39m(a_free_dims, \u001b[38;5;28mlist\u001b[39m) \u001b[38;5;129;01mand\u001b[39;00m \u001b[38;5;28misinstance\u001b[39m(b_free_dims, \u001b[38;5;28mlist\u001b[39m):\n\u001b[0;32m   5126\u001b[0m   \u001b[38;5;28;01mif\u001b[39;00m (ab_matmul\u001b[38;5;241m.\u001b[39mget_shape()\u001b[38;5;241m.\u001b[39mis_fully_defined() \u001b[38;5;129;01mand\u001b[39;00m\n\u001b[0;32m   5127\u001b[0m       ab_matmul\u001b[38;5;241m.\u001b[39mget_shape()\u001b[38;5;241m.\u001b[39mas_list() \u001b[38;5;241m==\u001b[39m a_free_dims \u001b[38;5;241m+\u001b[39m b_free_dims):\n",
      "File \u001b[1;32m~\\.conda\\envs\\tf\\lib\\site-packages\\tensorflow\\python\\util\\traceback_utils.py:150\u001b[0m, in \u001b[0;36mfilter_traceback.<locals>.error_handler\u001b[1;34m(*args, **kwargs)\u001b[0m\n\u001b[0;32m    148\u001b[0m filtered_tb \u001b[38;5;241m=\u001b[39m \u001b[38;5;28;01mNone\u001b[39;00m\n\u001b[0;32m    149\u001b[0m \u001b[38;5;28;01mtry\u001b[39;00m:\n\u001b[1;32m--> 150\u001b[0m   \u001b[38;5;28;01mreturn\u001b[39;00m fn(\u001b[38;5;241m*\u001b[39margs, \u001b[38;5;241m*\u001b[39m\u001b[38;5;241m*\u001b[39mkwargs)\n\u001b[0;32m    151\u001b[0m \u001b[38;5;28;01mexcept\u001b[39;00m \u001b[38;5;167;01mException\u001b[39;00m \u001b[38;5;28;01mas\u001b[39;00m e:\n\u001b[0;32m    152\u001b[0m   filtered_tb \u001b[38;5;241m=\u001b[39m _process_traceback_frames(e\u001b[38;5;241m.\u001b[39m__traceback__)\n",
      "File \u001b[1;32m~\\.conda\\envs\\tf\\lib\\site-packages\\tensorflow\\python\\util\\dispatch.py:1082\u001b[0m, in \u001b[0;36madd_dispatch_support.<locals>.decorator.<locals>.op_dispatch_handler\u001b[1;34m(*args, **kwargs)\u001b[0m\n\u001b[0;32m   1080\u001b[0m \u001b[38;5;66;03m# Fallback dispatch system (dispatch v1):\u001b[39;00m\n\u001b[0;32m   1081\u001b[0m \u001b[38;5;28;01mtry\u001b[39;00m:\n\u001b[1;32m-> 1082\u001b[0m   \u001b[38;5;28;01mreturn\u001b[39;00m dispatch_target(\u001b[38;5;241m*\u001b[39margs, \u001b[38;5;241m*\u001b[39m\u001b[38;5;241m*\u001b[39mkwargs)\n\u001b[0;32m   1083\u001b[0m \u001b[38;5;28;01mexcept\u001b[39;00m (\u001b[38;5;167;01mTypeError\u001b[39;00m, \u001b[38;5;167;01mValueError\u001b[39;00m):\n\u001b[0;32m   1084\u001b[0m   \u001b[38;5;66;03m# Note: convert_to_eager_tensor currently raises a ValueError, not a\u001b[39;00m\n\u001b[0;32m   1085\u001b[0m   \u001b[38;5;66;03m# TypeError, when given unexpected types.  So we need to catch both.\u001b[39;00m\n\u001b[0;32m   1086\u001b[0m   result \u001b[38;5;241m=\u001b[39m dispatch(op_dispatch_handler, args, kwargs)\n",
      "File \u001b[1;32m~\\.conda\\envs\\tf\\lib\\site-packages\\tensorflow\\python\\ops\\math_ops.py:3713\u001b[0m, in \u001b[0;36mmatmul\u001b[1;34m(a, b, transpose_a, transpose_b, adjoint_a, adjoint_b, a_is_sparse, b_is_sparse, output_type, name)\u001b[0m\n\u001b[0;32m   3710\u001b[0m   \u001b[38;5;28;01mreturn\u001b[39;00m gen_math_ops\u001b[38;5;241m.\u001b[39mbatch_mat_mul_v3(\n\u001b[0;32m   3711\u001b[0m       a, b, adj_x\u001b[38;5;241m=\u001b[39madjoint_a, adj_y\u001b[38;5;241m=\u001b[39madjoint_b, Tout\u001b[38;5;241m=\u001b[39moutput_type, name\u001b[38;5;241m=\u001b[39mname)\n\u001b[0;32m   3712\u001b[0m \u001b[38;5;28;01melse\u001b[39;00m:\n\u001b[1;32m-> 3713\u001b[0m   \u001b[38;5;28;01mreturn\u001b[39;00m \u001b[43mgen_math_ops\u001b[49m\u001b[38;5;241;43m.\u001b[39;49m\u001b[43mmat_mul\u001b[49m\u001b[43m(\u001b[49m\n\u001b[0;32m   3714\u001b[0m \u001b[43m      \u001b[49m\u001b[43ma\u001b[49m\u001b[43m,\u001b[49m\u001b[43m \u001b[49m\u001b[43mb\u001b[49m\u001b[43m,\u001b[49m\u001b[43m \u001b[49m\u001b[43mtranspose_a\u001b[49m\u001b[38;5;241;43m=\u001b[39;49m\u001b[43mtranspose_a\u001b[49m\u001b[43m,\u001b[49m\u001b[43m \u001b[49m\u001b[43mtranspose_b\u001b[49m\u001b[38;5;241;43m=\u001b[39;49m\u001b[43mtranspose_b\u001b[49m\u001b[43m,\u001b[49m\u001b[43m \u001b[49m\u001b[43mname\u001b[49m\u001b[38;5;241;43m=\u001b[39;49m\u001b[43mname\u001b[49m\u001b[43m)\u001b[49m\n",
      "File \u001b[1;32m~\\.conda\\envs\\tf\\lib\\site-packages\\tensorflow\\python\\ops\\gen_math_ops.py:6012\u001b[0m, in \u001b[0;36mmat_mul\u001b[1;34m(a, b, transpose_a, transpose_b, name)\u001b[0m\n\u001b[0;32m   6010\u001b[0m \u001b[38;5;28;01mif\u001b[39;00m tld\u001b[38;5;241m.\u001b[39mis_eager:\n\u001b[0;32m   6011\u001b[0m   \u001b[38;5;28;01mtry\u001b[39;00m:\n\u001b[1;32m-> 6012\u001b[0m     _result \u001b[38;5;241m=\u001b[39m \u001b[43mpywrap_tfe\u001b[49m\u001b[38;5;241;43m.\u001b[39;49m\u001b[43mTFE_Py_FastPathExecute\u001b[49m\u001b[43m(\u001b[49m\n\u001b[0;32m   6013\u001b[0m \u001b[43m      \u001b[49m\u001b[43m_ctx\u001b[49m\u001b[43m,\u001b[49m\u001b[43m \u001b[49m\u001b[38;5;124;43m\"\u001b[39;49m\u001b[38;5;124;43mMatMul\u001b[39;49m\u001b[38;5;124;43m\"\u001b[39;49m\u001b[43m,\u001b[49m\u001b[43m \u001b[49m\u001b[43mname\u001b[49m\u001b[43m,\u001b[49m\u001b[43m \u001b[49m\u001b[43ma\u001b[49m\u001b[43m,\u001b[49m\u001b[43m \u001b[49m\u001b[43mb\u001b[49m\u001b[43m,\u001b[49m\u001b[43m \u001b[49m\u001b[38;5;124;43m\"\u001b[39;49m\u001b[38;5;124;43mtranspose_a\u001b[39;49m\u001b[38;5;124;43m\"\u001b[39;49m\u001b[43m,\u001b[49m\u001b[43m \u001b[49m\u001b[43mtranspose_a\u001b[49m\u001b[43m,\u001b[49m\u001b[43m \u001b[49m\u001b[38;5;124;43m\"\u001b[39;49m\u001b[38;5;124;43mtranspose_b\u001b[39;49m\u001b[38;5;124;43m\"\u001b[39;49m\u001b[43m,\u001b[49m\n\u001b[0;32m   6014\u001b[0m \u001b[43m      \u001b[49m\u001b[43mtranspose_b\u001b[49m\u001b[43m)\u001b[49m\n\u001b[0;32m   6015\u001b[0m     \u001b[38;5;28;01mreturn\u001b[39;00m _result\n\u001b[0;32m   6016\u001b[0m   \u001b[38;5;28;01mexcept\u001b[39;00m _core\u001b[38;5;241m.\u001b[39m_NotOkStatusException \u001b[38;5;28;01mas\u001b[39;00m e:\n",
      "\u001b[1;31mKeyboardInterrupt\u001b[0m: "
     ]
    },
    {
     "data": {
      "application/javascript": [
       "\n",
       "            setTimeout(function() {\n",
       "                var nbb_cell_id = 46;\n",
       "                var nbb_unformatted_code = \"sc_class_list = [\\n    classifier(content, sub_cat_list, multi_label=True) for content in sc_sample_list\\n]\\ncategorized_df = pd.DataFrame.from_records(sc_class_list)\\ncategorized_df.to_pickle(\\\"C:/Users/rparg/Documents/Data/Reuters/sc_cat.pkl\\\")\";\n",
       "                var nbb_formatted_code = \"sc_class_list = [\\n    classifier(content, sub_cat_list, multi_label=True) for content in sc_sample_list\\n]\\ncategorized_df = pd.DataFrame.from_records(sc_class_list)\\ncategorized_df.to_pickle(\\\"C:/Users/rparg/Documents/Data/Reuters/sc_cat.pkl\\\")\";\n",
       "                var nbb_cells = Jupyter.notebook.get_cells();\n",
       "                for (var i = 0; i < nbb_cells.length; ++i) {\n",
       "                    if (nbb_cells[i].input_prompt_number == nbb_cell_id) {\n",
       "                        if (nbb_cells[i].get_text() == nbb_unformatted_code) {\n",
       "                             nbb_cells[i].set_text(nbb_formatted_code);\n",
       "                        }\n",
       "                        break;\n",
       "                    }\n",
       "                }\n",
       "            }, 500);\n",
       "            "
      ],
      "text/plain": [
       "<IPython.core.display.Javascript object>"
      ]
     },
     "metadata": {},
     "output_type": "display_data"
    }
   ],
   "source": [
    "sc_class_list = [\n",
    "    classifier(content, sub_cat_list, multi_label=True) for content in sc_sample_list\n",
    "]\n",
    "categorized_df = pd.DataFrame.from_records(sc_class_list)\n",
    "categorized_df.to_pickle(\"C:/Users/rparg/Documents/Data/Reuters/sc_cat.pkl\")"
   ]
  },
  {
   "cell_type": "markdown",
   "id": "e2d81e2c",
   "metadata": {},
   "source": [
    "## Zero shot classification based on document titles"
   ]
  },
  {
   "cell_type": "code",
   "execution_count": null,
   "id": "4f6f9892",
   "metadata": {},
   "outputs": [],
   "source": []
  },
  {
   "cell_type": "code",
   "execution_count": 12,
   "id": "64eeeff5",
   "metadata": {},
   "outputs": [
    {
     "data": {
      "application/javascript": [
       "\n",
       "            setTimeout(function() {\n",
       "                var nbb_cell_id = 12;\n",
       "                var nbb_unformatted_code = \"news_filt_df = news_df[news_df[\\\"title_length\\\"] > 40]\\nsample_df = (\\n    news_filt_df.groupby(\\\"top_label\\\")\\n    .apply(lambda x: x.sample(15, replace=True))\\n    .reset_index(drop=True)\\n)\\nsample_df = sample_df.drop(columns=[\\\"Categories\\\"]).drop_duplicates()\";\n",
       "                var nbb_formatted_code = \"news_filt_df = news_df[news_df[\\\"title_length\\\"] > 40]\\nsample_df = (\\n    news_filt_df.groupby(\\\"top_label\\\")\\n    .apply(lambda x: x.sample(15, replace=True))\\n    .reset_index(drop=True)\\n)\\nsample_df = sample_df.drop(columns=[\\\"Categories\\\"]).drop_duplicates()\";\n",
       "                var nbb_cells = Jupyter.notebook.get_cells();\n",
       "                for (var i = 0; i < nbb_cells.length; ++i) {\n",
       "                    if (nbb_cells[i].input_prompt_number == nbb_cell_id) {\n",
       "                        if (nbb_cells[i].get_text() == nbb_unformatted_code) {\n",
       "                             nbb_cells[i].set_text(nbb_formatted_code);\n",
       "                        }\n",
       "                        break;\n",
       "                    }\n",
       "                }\n",
       "            }, 500);\n",
       "            "
      ],
      "text/plain": [
       "<IPython.core.display.Javascript object>"
      ]
     },
     "metadata": {},
     "output_type": "display_data"
    }
   ],
   "source": [
    "news_filt_df = news_df[news_df[\"title_length\"] > 40]\n",
    "sample_df = (\n",
    "    news_filt_df.groupby(\"top_label\")\n",
    "    .apply(lambda x: x.sample(15, replace=True))\n",
    "    .reset_index(drop=True)\n",
    ")\n",
    "sample_df = sample_df.drop(columns=[\"categories\"]).drop_duplicates()\n",
    "sample_df.to_pickle(\"C:/Users/rparg/Documents/Data/Reuters/sample_titles.pkl\")"
   ]
  },
  {
   "cell_type": "code",
   "execution_count": 13,
   "id": "6fd6ab90",
   "metadata": {},
   "outputs": [
    {
     "data": {
      "application/javascript": [
       "\n",
       "            setTimeout(function() {\n",
       "                var nbb_cell_id = 13;\n",
       "                var nbb_unformatted_code = \"class_title_list = list(sample_df[\\\"Title\\\"])\";\n",
       "                var nbb_formatted_code = \"class_title_list = list(sample_df[\\\"Title\\\"])\";\n",
       "                var nbb_cells = Jupyter.notebook.get_cells();\n",
       "                for (var i = 0; i < nbb_cells.length; ++i) {\n",
       "                    if (nbb_cells[i].input_prompt_number == nbb_cell_id) {\n",
       "                        if (nbb_cells[i].get_text() == nbb_unformatted_code) {\n",
       "                             nbb_cells[i].set_text(nbb_formatted_code);\n",
       "                        }\n",
       "                        break;\n",
       "                    }\n",
       "                }\n",
       "            }, 500);\n",
       "            "
      ],
      "text/plain": [
       "<IPython.core.display.Javascript object>"
      ]
     },
     "metadata": {},
     "output_type": "display_data"
    }
   ],
   "source": [
    "class_title_list = list(sample_df[\"title\"])"
   ]
  },
  {
   "cell_type": "code",
   "execution_count": 14,
   "id": "ee2bbc57",
   "metadata": {},
   "outputs": [
    {
     "data": {
      "application/javascript": [
       "\n",
       "            setTimeout(function() {\n",
       "                var nbb_cell_id = 14;\n",
       "                var nbb_unformatted_code = \"clfd_dict_list2 = [\\n    classifier(title, new_cats, multi_label=True) for title in class_title_list\\n]\\ncategorized_df = pd.DataFrame.from_records(clfd_dict_list2)\\ncategorized_df.to_pickle(\\\"C:/Users/rparg/Documents/Data/Reuters/categorized2.pkl\\\")\";\n",
       "                var nbb_formatted_code = \"clfd_dict_list2 = [\\n    classifier(title, new_cats, multi_label=True) for title in class_title_list\\n]\\ncategorized_df = pd.DataFrame.from_records(clfd_dict_list2)\\ncategorized_df.to_pickle(\\\"C:/Users/rparg/Documents/Data/Reuters/categorized2.pkl\\\")\";\n",
       "                var nbb_cells = Jupyter.notebook.get_cells();\n",
       "                for (var i = 0; i < nbb_cells.length; ++i) {\n",
       "                    if (nbb_cells[i].input_prompt_number == nbb_cell_id) {\n",
       "                        if (nbb_cells[i].get_text() == nbb_unformatted_code) {\n",
       "                             nbb_cells[i].set_text(nbb_formatted_code);\n",
       "                        }\n",
       "                        break;\n",
       "                    }\n",
       "                }\n",
       "            }, 500);\n",
       "            "
      ],
      "text/plain": [
       "<IPython.core.display.Javascript object>"
      ]
     },
     "metadata": {},
     "output_type": "display_data"
    }
   ],
   "source": [
    "clfd_dict_list2 = [\n",
    "    classifier(title, new_cats, multi_label=True) for title in class_title_list\n",
    "]\n",
    "categorized_df = pd.DataFrame.from_records(clfd_dict_list2)\n",
    "categorized_df.to_pickle(\"C:/Users/rparg/Documents/Data/Reuters/categorized2.pkl\")"
   ]
  },
  {
   "cell_type": "markdown",
   "id": "443b1bb2",
   "metadata": {},
   "source": [
    "## Zero shot classification based on document titles"
   ]
  },
  {
   "cell_type": "code",
   "execution_count": 13,
   "id": "305bbc18",
   "metadata": {},
   "outputs": [
    {
     "data": {
      "application/javascript": [
       "\n",
       "            setTimeout(function() {\n",
       "                var nbb_cell_id = 13;\n",
       "                var nbb_unformatted_code = \"news_con_filt_df = news_df[\\n    (news_df[\\\"con_length\\\"] > 200) & (news_df[\\\"con_length\\\"] < 1000)\\n]\";\n",
       "                var nbb_formatted_code = \"news_con_filt_df = news_df[\\n    (news_df[\\\"con_length\\\"] > 200) & (news_df[\\\"con_length\\\"] < 1000)\\n]\";\n",
       "                var nbb_cells = Jupyter.notebook.get_cells();\n",
       "                for (var i = 0; i < nbb_cells.length; ++i) {\n",
       "                    if (nbb_cells[i].input_prompt_number == nbb_cell_id) {\n",
       "                        if (nbb_cells[i].get_text() == nbb_unformatted_code) {\n",
       "                             nbb_cells[i].set_text(nbb_formatted_code);\n",
       "                        }\n",
       "                        break;\n",
       "                    }\n",
       "                }\n",
       "            }, 500);\n",
       "            "
      ],
      "text/plain": [
       "<IPython.core.display.Javascript object>"
      ]
     },
     "metadata": {},
     "output_type": "display_data"
    }
   ],
   "source": [
    "news_con_filt_df = news_df[\n",
    "    (news_df[\"con_length\"] > 200) & (news_df[\"con_length\"] < 1000)\n",
    "]"
   ]
  },
  {
   "cell_type": "code",
   "execution_count": 14,
   "id": "accd7dd8",
   "metadata": {},
   "outputs": [
    {
     "data": {
      "application/javascript": [
       "\n",
       "            setTimeout(function() {\n",
       "                var nbb_cell_id = 14;\n",
       "                var nbb_unformatted_code = \"sample_con_df = (\\n    news_con_filt_df.groupby(\\\"top_label\\\")\\n    .apply(lambda x: x.sample(4, replace=True))\\n    .reset_index(drop=True)\\n)\\nsample_con_df = sample_con_df.drop(columns=[\\\"Categories\\\"]).drop_duplicates()\";\n",
       "                var nbb_formatted_code = \"sample_con_df = (\\n    news_con_filt_df.groupby(\\\"top_label\\\")\\n    .apply(lambda x: x.sample(4, replace=True))\\n    .reset_index(drop=True)\\n)\\nsample_con_df = sample_con_df.drop(columns=[\\\"Categories\\\"]).drop_duplicates()\";\n",
       "                var nbb_cells = Jupyter.notebook.get_cells();\n",
       "                for (var i = 0; i < nbb_cells.length; ++i) {\n",
       "                    if (nbb_cells[i].input_prompt_number == nbb_cell_id) {\n",
       "                        if (nbb_cells[i].get_text() == nbb_unformatted_code) {\n",
       "                             nbb_cells[i].set_text(nbb_formatted_code);\n",
       "                        }\n",
       "                        break;\n",
       "                    }\n",
       "                }\n",
       "            }, 500);\n",
       "            "
      ],
      "text/plain": [
       "<IPython.core.display.Javascript object>"
      ]
     },
     "metadata": {},
     "output_type": "display_data"
    }
   ],
   "source": [
    "sample_con_df = (\n",
    "    news_con_filt_df.groupby(\"top_label\")\n",
    "    .apply(lambda x: x.sample(4, replace=True))\n",
    "    .reset_index(drop=True)\n",
    ")\n",
    "sample_con_df = sample_con_df.drop(columns=[\"categories\"]).drop_duplicates()\n",
    "sample_con_df.to_pickle(\"C:/Users/rparg/Documents/Data/Reuters/sample_content.pkl\")"
   ]
  },
  {
   "cell_type": "code",
   "execution_count": 15,
   "id": "aba53459",
   "metadata": {},
   "outputs": [
    {
     "data": {
      "application/javascript": [
       "\n",
       "            setTimeout(function() {\n",
       "                var nbb_cell_id = 15;\n",
       "                var nbb_unformatted_code = \"class_con_list = list(sample_con_df[\\\"Content\\\"])\";\n",
       "                var nbb_formatted_code = \"class_con_list = list(sample_con_df[\\\"Content\\\"])\";\n",
       "                var nbb_cells = Jupyter.notebook.get_cells();\n",
       "                for (var i = 0; i < nbb_cells.length; ++i) {\n",
       "                    if (nbb_cells[i].input_prompt_number == nbb_cell_id) {\n",
       "                        if (nbb_cells[i].get_text() == nbb_unformatted_code) {\n",
       "                             nbb_cells[i].set_text(nbb_formatted_code);\n",
       "                        }\n",
       "                        break;\n",
       "                    }\n",
       "                }\n",
       "            }, 500);\n",
       "            "
      ],
      "text/plain": [
       "<IPython.core.display.Javascript object>"
      ]
     },
     "metadata": {},
     "output_type": "display_data"
    }
   ],
   "source": [
    "class_con_list = list(sample_con_df[\"content\"])"
   ]
  },
  {
   "cell_type": "code",
   "execution_count": 16,
   "id": "636ff294",
   "metadata": {},
   "outputs": [
    {
     "data": {
      "application/javascript": [
       "\n",
       "            setTimeout(function() {\n",
       "                var nbb_cell_id = 16;\n",
       "                var nbb_unformatted_code = \"clfd_dict_list2 = [\\n    classifier(title, new_cats, multi_label=True) for title in class_con_list\\n]\\ncategorized_df = pd.DataFrame.from_records(clfd_dict_list2)\\ncategorized_df.to_pickle(\\\"C:/Users/rparg/Documents/Data/Reuters/con_cat.pkl\\\")\";\n",
       "                var nbb_formatted_code = \"clfd_dict_list2 = [\\n    classifier(title, new_cats, multi_label=True) for title in class_con_list\\n]\\ncategorized_df = pd.DataFrame.from_records(clfd_dict_list2)\\ncategorized_df.to_pickle(\\\"C:/Users/rparg/Documents/Data/Reuters/con_cat.pkl\\\")\";\n",
       "                var nbb_cells = Jupyter.notebook.get_cells();\n",
       "                for (var i = 0; i < nbb_cells.length; ++i) {\n",
       "                    if (nbb_cells[i].input_prompt_number == nbb_cell_id) {\n",
       "                        if (nbb_cells[i].get_text() == nbb_unformatted_code) {\n",
       "                             nbb_cells[i].set_text(nbb_formatted_code);\n",
       "                        }\n",
       "                        break;\n",
       "                    }\n",
       "                }\n",
       "            }, 500);\n",
       "            "
      ],
      "text/plain": [
       "<IPython.core.display.Javascript object>"
      ]
     },
     "metadata": {},
     "output_type": "display_data"
    }
   ],
   "source": [
    "clfd_dict_list2 = [\n",
    "    classifier(title, new_cats, multi_label=True) for title in class_con_list\n",
    "]\n",
    "categorized_df = pd.DataFrame.from_records(clfd_dict_list2)\n",
    "categorized_df.to_pickle(\"C:/Users/rparg/Documents/Data/Reuters/con_cat.pkl\")"
   ]
  },
  {
   "cell_type": "code",
   "execution_count": null,
   "id": "c82256de",
   "metadata": {},
   "outputs": [],
   "source": []
  }
 ],
 "metadata": {
  "kernelspec": {
   "display_name": "Python 3 (ipykernel)",
   "language": "python",
   "name": "python3"
  },
  "language_info": {
   "codemirror_mode": {
    "name": "ipython",
    "version": 3
   },
   "file_extension": ".py",
   "mimetype": "text/x-python",
   "name": "python",
   "nbconvert_exporter": "python",
   "pygments_lexer": "ipython3",
   "version": "3.9.15"
  }
 },
 "nbformat": 4,
 "nbformat_minor": 5
}
