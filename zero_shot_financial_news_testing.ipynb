{
 "cells": [
  {
   "cell_type": "code",
   "execution_count": 1,
   "id": "56dda2b2",
   "metadata": {},
   "outputs": [
    {
     "data": {
      "application/javascript": [
       "\n",
       "            setTimeout(function() {\n",
       "                var nbb_cell_id = 1;\n",
       "                var nbb_unformatted_code = \"import re\\nimport os\\nimport nltk\\nimport tensorflow as tf\\nimport numpy as np\\nimport pandas as pd\\nfrom nltk.corpus import reuters\\nimport collections\\nfrom transformers import pipeline\\n\\n%load_ext nb_black\";\n",
       "                var nbb_formatted_code = \"import re\\nimport os\\nimport nltk\\nimport tensorflow as tf\\nimport numpy as np\\nimport pandas as pd\\nfrom nltk.corpus import reuters\\nimport collections\\nfrom transformers import pipeline\\n\\n%load_ext nb_black\";\n",
       "                var nbb_cells = Jupyter.notebook.get_cells();\n",
       "                for (var i = 0; i < nbb_cells.length; ++i) {\n",
       "                    if (nbb_cells[i].input_prompt_number == nbb_cell_id) {\n",
       "                        if (nbb_cells[i].get_text() == nbb_unformatted_code) {\n",
       "                             nbb_cells[i].set_text(nbb_formatted_code);\n",
       "                        }\n",
       "                        break;\n",
       "                    }\n",
       "                }\n",
       "            }, 500);\n",
       "            "
      ],
      "text/plain": [
       "<IPython.core.display.Javascript object>"
      ]
     },
     "metadata": {},
     "output_type": "display_data"
    }
   ],
   "source": [
    "import re\n",
    "import os\n",
    "import nltk\n",
    "import tensorflow as tf\n",
    "import numpy as np\n",
    "import pandas as pd\n",
    "from nltk.corpus import reuters\n",
    "import collections\n",
    "from transformers import pipeline\n",
    "\n",
    "%load_ext nb_black"
   ]
  },
  {
   "cell_type": "code",
   "execution_count": 2,
   "id": "211df837",
   "metadata": {},
   "outputs": [
    {
     "data": {
      "application/javascript": [
       "\n",
       "            setTimeout(function() {\n",
       "                var nbb_cell_id = 2;\n",
       "                var nbb_unformatted_code = \"documents = reuters.fileids()\\ntrain_docs = list(filter(lambda doc: doc.startswith(\\\"train\\\"), documents))\\ntest_docs = list(filter(lambda doc: doc.startswith(\\\"test\\\"), documents))\\ncategories = reuters.categories()\";\n",
       "                var nbb_formatted_code = \"documents = reuters.fileids()\\ntrain_docs = list(filter(lambda doc: doc.startswith(\\\"train\\\"), documents))\\ntest_docs = list(filter(lambda doc: doc.startswith(\\\"test\\\"), documents))\\ncategories = reuters.categories()\";\n",
       "                var nbb_cells = Jupyter.notebook.get_cells();\n",
       "                for (var i = 0; i < nbb_cells.length; ++i) {\n",
       "                    if (nbb_cells[i].input_prompt_number == nbb_cell_id) {\n",
       "                        if (nbb_cells[i].get_text() == nbb_unformatted_code) {\n",
       "                             nbb_cells[i].set_text(nbb_formatted_code);\n",
       "                        }\n",
       "                        break;\n",
       "                    }\n",
       "                }\n",
       "            }, 500);\n",
       "            "
      ],
      "text/plain": [
       "<IPython.core.display.Javascript object>"
      ]
     },
     "metadata": {},
     "output_type": "display_data"
    }
   ],
   "source": [
    "documents = reuters.fileids()\n",
    "train_docs = list(filter(lambda doc: doc.startswith(\"train\"), documents))\n",
    "test_docs = list(filter(lambda doc: doc.startswith(\"test\"), documents))\n",
    "categories = reuters.categories()"
   ]
  },
  {
   "cell_type": "code",
   "execution_count": 3,
   "id": "a93661bd",
   "metadata": {},
   "outputs": [
    {
     "data": {
      "application/javascript": [
       "\n",
       "            setTimeout(function() {\n",
       "                var nbb_cell_id = 3;\n",
       "                var nbb_unformatted_code = \"title_re = \\\"([A-Z].*[a-z]$)\\\"\\n\\n\\ndef title_split(doc):\\n    prev_word = \\\"\\\"\\n    for word in doc:\\n        if bool(re.match(title_re, word)):\\n            title_pos = doc.index(word)\\n            if prev_word == \\\"A\\\" or word == \\\"USA\\\":\\n                title_pos = title_pos - 1\\n            return \\\" \\\".join(doc[:title_pos])\\n        prev_word = word\\n\\n\\ndef words_split(doc):\\n    prev_word = \\\"\\\"\\n    for word in doc:\\n        if bool(re.match(title_re, word)):\\n            title_pos = doc.index(word)\\n            if prev_word == \\\"A\\\" or word == \\\"USA\\\":\\n                title_pos = title_pos - 1\\n            return \\\" \\\".join(doc[title_pos:])\\n        prev_word = word\";\n",
       "                var nbb_formatted_code = \"title_re = \\\"([A-Z].*[a-z]$)\\\"\\n\\n\\ndef title_split(doc):\\n    prev_word = \\\"\\\"\\n    for word in doc:\\n        if bool(re.match(title_re, word)):\\n            title_pos = doc.index(word)\\n            if prev_word == \\\"A\\\" or word == \\\"USA\\\":\\n                title_pos = title_pos - 1\\n            return \\\" \\\".join(doc[:title_pos])\\n        prev_word = word\\n\\n\\ndef words_split(doc):\\n    prev_word = \\\"\\\"\\n    for word in doc:\\n        if bool(re.match(title_re, word)):\\n            title_pos = doc.index(word)\\n            if prev_word == \\\"A\\\" or word == \\\"USA\\\":\\n                title_pos = title_pos - 1\\n            return \\\" \\\".join(doc[title_pos:])\\n        prev_word = word\";\n",
       "                var nbb_cells = Jupyter.notebook.get_cells();\n",
       "                for (var i = 0; i < nbb_cells.length; ++i) {\n",
       "                    if (nbb_cells[i].input_prompt_number == nbb_cell_id) {\n",
       "                        if (nbb_cells[i].get_text() == nbb_unformatted_code) {\n",
       "                             nbb_cells[i].set_text(nbb_formatted_code);\n",
       "                        }\n",
       "                        break;\n",
       "                    }\n",
       "                }\n",
       "            }, 500);\n",
       "            "
      ],
      "text/plain": [
       "<IPython.core.display.Javascript object>"
      ]
     },
     "metadata": {},
     "output_type": "display_data"
    }
   ],
   "source": [
    "title_re = \"([A-Z].*[a-z]$)\"\n",
    "\n",
    "\n",
    "def title_split(doc):\n",
    "    prev_word = \"\"\n",
    "    for word in doc:\n",
    "        if bool(re.match(title_re, word)):\n",
    "            title_pos = doc.index(word)\n",
    "            if prev_word == \"A\" or word == \"USA\":\n",
    "                title_pos = title_pos - 1\n",
    "            return \" \".join(doc[:title_pos])\n",
    "        prev_word = word\n",
    "\n",
    "\n",
    "def words_split(doc):\n",
    "    prev_word = \"\"\n",
    "    for word in doc:\n",
    "        if bool(re.match(title_re, word)):\n",
    "            title_pos = doc.index(word)\n",
    "            if prev_word == \"A\" or word == \"USA\":\n",
    "                title_pos = title_pos - 1\n",
    "            return \" \".join(doc[title_pos:])\n",
    "        prev_word = word"
   ]
  },
  {
   "cell_type": "code",
   "execution_count": 4,
   "id": "b224e848",
   "metadata": {},
   "outputs": [
    {
     "data": {
      "application/javascript": [
       "\n",
       "            setTimeout(function() {\n",
       "                var nbb_cell_id = 4;\n",
       "                var nbb_unformatted_code = \"train_list = [int(x.split(\\\"/\\\")[1]) for x in train_docs]\\ncat_list = [reuters.categories(x) for x in train_docs]\\ntitle_list = [title_split(reuters.words(x)) for x in train_docs]\\nwords_list = [words_split(reuters.words(x)) for x in train_docs]\";\n",
       "                var nbb_formatted_code = \"train_list = [int(x.split(\\\"/\\\")[1]) for x in train_docs]\\ncat_list = [reuters.categories(x) for x in train_docs]\\ntitle_list = [title_split(reuters.words(x)) for x in train_docs]\\nwords_list = [words_split(reuters.words(x)) for x in train_docs]\";\n",
       "                var nbb_cells = Jupyter.notebook.get_cells();\n",
       "                for (var i = 0; i < nbb_cells.length; ++i) {\n",
       "                    if (nbb_cells[i].input_prompt_number == nbb_cell_id) {\n",
       "                        if (nbb_cells[i].get_text() == nbb_unformatted_code) {\n",
       "                             nbb_cells[i].set_text(nbb_formatted_code);\n",
       "                        }\n",
       "                        break;\n",
       "                    }\n",
       "                }\n",
       "            }, 500);\n",
       "            "
      ],
      "text/plain": [
       "<IPython.core.display.Javascript object>"
      ]
     },
     "metadata": {},
     "output_type": "display_data"
    }
   ],
   "source": [
    "train_list = [int(x.split(\"/\")[1]) for x in train_docs]\n",
    "cat_list = [reuters.categories(x) for x in train_docs]\n",
    "title_list = [title_split(reuters.words(x)) for x in train_docs]\n",
    "words_list = [words_split(reuters.words(x)) for x in train_docs]"
   ]
  },
  {
   "cell_type": "code",
   "execution_count": 5,
   "id": "8b422b71",
   "metadata": {},
   "outputs": [
    {
     "data": {
      "application/javascript": [
       "\n",
       "            setTimeout(function() {\n",
       "                var nbb_cell_id = 5;\n",
       "                var nbb_unformatted_code = \"news_df = pd.DataFrame(\\n    {\\n        \\\"DocID\\\": train_list,\\n        \\\"Categories\\\": cat_list,\\n        \\\"Title\\\": title_list,\\n        \\\"Content\\\": words_list,\\n    }\\n).sort_values(by=\\\"DocID\\\")\";\n",
       "                var nbb_formatted_code = \"news_df = pd.DataFrame(\\n    {\\n        \\\"DocID\\\": train_list,\\n        \\\"Categories\\\": cat_list,\\n        \\\"Title\\\": title_list,\\n        \\\"Content\\\": words_list,\\n    }\\n).sort_values(by=\\\"DocID\\\")\";\n",
       "                var nbb_cells = Jupyter.notebook.get_cells();\n",
       "                for (var i = 0; i < nbb_cells.length; ++i) {\n",
       "                    if (nbb_cells[i].input_prompt_number == nbb_cell_id) {\n",
       "                        if (nbb_cells[i].get_text() == nbb_unformatted_code) {\n",
       "                             nbb_cells[i].set_text(nbb_formatted_code);\n",
       "                        }\n",
       "                        break;\n",
       "                    }\n",
       "                }\n",
       "            }, 500);\n",
       "            "
      ],
      "text/plain": [
       "<IPython.core.display.Javascript object>"
      ]
     },
     "metadata": {},
     "output_type": "display_data"
    }
   ],
   "source": [
    "news_df = pd.DataFrame(\n",
    "    {\n",
    "        \"DocID\": train_list,\n",
    "        \"Categories\": cat_list,\n",
    "        \"Title\": title_list,\n",
    "        \"Content\": words_list,\n",
    "    }\n",
    ").sort_values(by=\"DocID\")"
   ]
  },
  {
   "cell_type": "code",
   "execution_count": 6,
   "id": "4f8c027b",
   "metadata": {},
   "outputs": [
    {
     "data": {
      "application/javascript": [
       "\n",
       "            setTimeout(function() {\n",
       "                var nbb_cell_id = 6;\n",
       "                var nbb_unformatted_code = \"def title_split(row):\\n    split_word = row[\\\"Content\\\"].split()[0]\\n    title_new = split_word + row[\\\"Content\\\"].split(split_word)[1]\\n    row[\\\"Title\\\"] = title_new\\n    row[\\\"Content\\\"] = title_new\\n    return row\";\n",
       "                var nbb_formatted_code = \"def title_split(row):\\n    split_word = row[\\\"Content\\\"].split()[0]\\n    title_new = split_word + row[\\\"Content\\\"].split(split_word)[1]\\n    row[\\\"Title\\\"] = title_new\\n    row[\\\"Content\\\"] = title_new\\n    return row\";\n",
       "                var nbb_cells = Jupyter.notebook.get_cells();\n",
       "                for (var i = 0; i < nbb_cells.length; ++i) {\n",
       "                    if (nbb_cells[i].input_prompt_number == nbb_cell_id) {\n",
       "                        if (nbb_cells[i].get_text() == nbb_unformatted_code) {\n",
       "                             nbb_cells[i].set_text(nbb_formatted_code);\n",
       "                        }\n",
       "                        break;\n",
       "                    }\n",
       "                }\n",
       "            }, 500);\n",
       "            "
      ],
      "text/plain": [
       "<IPython.core.display.Javascript object>"
      ]
     },
     "metadata": {},
     "output_type": "display_data"
    }
   ],
   "source": [
    "def title_split(row):\n",
    "    split_word = row[\"Content\"].split()[0]\n",
    "    title_new = split_word + row[\"Content\"].split(split_word)[1]\n",
    "    row[\"Title\"] = title_new\n",
    "    row[\"Content\"] = title_new\n",
    "    return row"
   ]
  },
  {
   "cell_type": "code",
   "execution_count": 7,
   "id": "4692ae92",
   "metadata": {},
   "outputs": [
    {
     "data": {
      "application/javascript": [
       "\n",
       "            setTimeout(function() {\n",
       "                var nbb_cell_id = 7;\n",
       "                var nbb_unformatted_code = \"title_split_df = news_df[news_df[\\\"Title\\\"] == \\\"\\\"].apply(title_split, axis=1)\\ncols = list(news_df.columns)\\nnews_df.loc[news_df.DocID.isin(title_split_df.DocID), cols] = title_split_df[cols]\";\n",
       "                var nbb_formatted_code = \"title_split_df = news_df[news_df[\\\"Title\\\"] == \\\"\\\"].apply(title_split, axis=1)\\ncols = list(news_df.columns)\\nnews_df.loc[news_df.DocID.isin(title_split_df.DocID), cols] = title_split_df[cols]\";\n",
       "                var nbb_cells = Jupyter.notebook.get_cells();\n",
       "                for (var i = 0; i < nbb_cells.length; ++i) {\n",
       "                    if (nbb_cells[i].input_prompt_number == nbb_cell_id) {\n",
       "                        if (nbb_cells[i].get_text() == nbb_unformatted_code) {\n",
       "                             nbb_cells[i].set_text(nbb_formatted_code);\n",
       "                        }\n",
       "                        break;\n",
       "                    }\n",
       "                }\n",
       "            }, 500);\n",
       "            "
      ],
      "text/plain": [
       "<IPython.core.display.Javascript object>"
      ]
     },
     "metadata": {},
     "output_type": "display_data"
    }
   ],
   "source": [
    "title_split_df = news_df[news_df[\"Title\"] == \"\"].apply(title_split, axis=1)\n",
    "cols = list(news_df.columns)\n",
    "news_df.loc[news_df.DocID.isin(title_split_df.DocID), cols] = title_split_df[cols]"
   ]
  },
  {
   "cell_type": "code",
   "execution_count": 8,
   "id": "73e3d38f",
   "metadata": {},
   "outputs": [
    {
     "data": {
      "application/javascript": [
       "\n",
       "            setTimeout(function() {\n",
       "                var nbb_cell_id = 8;\n",
       "                var nbb_unformatted_code = \"cat_dict = {\\n    \\\"acq\\\": \\\"acuisition\\\",\\n    \\\"alu\\\": \\\"aluminum\\\",\\n    \\\"bop\\\": \\\"bottom of the pyramid\\\",\\n    \\\"castor-oil\\\": \\\"castor oil\\\",\\n    \\\"carcass\\\": \\\"livestock\\\",\\n    \\\"cpu\\\": \\\"computershare\\\",\\n    \\\"coconut-oil\\\": \\\"coconut oil\\\",\\n    \\\"copra-cake\\\": \\\"copra cake\\\",\\n    \\\"cpi\\\": \\\"consumer price index\\\",\\n    \\\"dfl\\\": \\\"deutsche fussball liga\\\",\\n    \\\"dlr\\\": \\\"digital realty trust\\\",\\n    \\\"dmk\\\": \\\"dravida munnetra kazhagam\\\",\\n    \\\"earn\\\": \\\"ellington residential mortgage reit stock\\\",\\n    \\\"gnp\\\": \\\"grupo nacional provincial\\\",\\n    \\\"groundnut-oil\\\": \\\"ground nut oil\\\",\\n    \\\"instal-debt\\\": \\\"instalco intressenter debt\\\",\\n    \\\"ipi\\\": \\\"intrepid potash\\\",\\n    \\\"iron-steel\\\": \\\"iron steel\\\",\\n    \\\"l-cattle\\\": \\\"cattle\\\",\\n    \\\"lei\\\": \\\"leading economic index\\\",\\n    \\\"lin-oil\\\": \\\"linseed oil\\\",\\n    \\\"meal-feed\\\": \\\"meal feed\\\",\\n    \\\"money-fx\\\": \\\"money foreign exchange\\\",\\n    \\\"money-supply\\\": \\\"money supply\\\",\\n    \\\"nat-gas\\\": \\\"natural gas\\\",\\n    \\\"nkr\\\": \\\"nokia\\\",\\n    \\\"palm-oil\\\": \\\"palm oil\\\",\\n    \\\"palmkernel\\\": \\\"palm kernel\\\",\\n    \\\"pet-chem\\\": \\\"petronas chemicals\\\",\\n    \\\"rape-oil\\\": \\\"rapeseed oil\\\",\\n    \\\"soy-meal\\\": \\\"soy meal\\\",\\n    \\\"soy-oil\\\": \\\"soy oil\\\",\\n    \\\"strategic-metal\\\": \\\"strategic metal\\\",\\n    \\\"sun-meal\\\": \\\"sunflower meal\\\",\\n    \\\"sun-oil\\\": \\\"sunflower oil\\\",\\n    \\\"sunseed\\\": \\\"sunflower seed\\\",\\n    \\\"veg-oil\\\": \\\"vagetable oil\\\",\\n    \\\"wpi\\\": \\\"waterfront philippines\\\",\\n}\";\n",
       "                var nbb_formatted_code = \"cat_dict = {\\n    \\\"acq\\\": \\\"acuisition\\\",\\n    \\\"alu\\\": \\\"aluminum\\\",\\n    \\\"bop\\\": \\\"bottom of the pyramid\\\",\\n    \\\"castor-oil\\\": \\\"castor oil\\\",\\n    \\\"carcass\\\": \\\"livestock\\\",\\n    \\\"cpu\\\": \\\"computershare\\\",\\n    \\\"coconut-oil\\\": \\\"coconut oil\\\",\\n    \\\"copra-cake\\\": \\\"copra cake\\\",\\n    \\\"cpi\\\": \\\"consumer price index\\\",\\n    \\\"dfl\\\": \\\"deutsche fussball liga\\\",\\n    \\\"dlr\\\": \\\"digital realty trust\\\",\\n    \\\"dmk\\\": \\\"dravida munnetra kazhagam\\\",\\n    \\\"earn\\\": \\\"ellington residential mortgage reit stock\\\",\\n    \\\"gnp\\\": \\\"grupo nacional provincial\\\",\\n    \\\"groundnut-oil\\\": \\\"ground nut oil\\\",\\n    \\\"instal-debt\\\": \\\"instalco intressenter debt\\\",\\n    \\\"ipi\\\": \\\"intrepid potash\\\",\\n    \\\"iron-steel\\\": \\\"iron steel\\\",\\n    \\\"l-cattle\\\": \\\"cattle\\\",\\n    \\\"lei\\\": \\\"leading economic index\\\",\\n    \\\"lin-oil\\\": \\\"linseed oil\\\",\\n    \\\"meal-feed\\\": \\\"meal feed\\\",\\n    \\\"money-fx\\\": \\\"money foreign exchange\\\",\\n    \\\"money-supply\\\": \\\"money supply\\\",\\n    \\\"nat-gas\\\": \\\"natural gas\\\",\\n    \\\"nkr\\\": \\\"nokia\\\",\\n    \\\"palm-oil\\\": \\\"palm oil\\\",\\n    \\\"palmkernel\\\": \\\"palm kernel\\\",\\n    \\\"pet-chem\\\": \\\"petronas chemicals\\\",\\n    \\\"rape-oil\\\": \\\"rapeseed oil\\\",\\n    \\\"soy-meal\\\": \\\"soy meal\\\",\\n    \\\"soy-oil\\\": \\\"soy oil\\\",\\n    \\\"strategic-metal\\\": \\\"strategic metal\\\",\\n    \\\"sun-meal\\\": \\\"sunflower meal\\\",\\n    \\\"sun-oil\\\": \\\"sunflower oil\\\",\\n    \\\"sunseed\\\": \\\"sunflower seed\\\",\\n    \\\"veg-oil\\\": \\\"vagetable oil\\\",\\n    \\\"wpi\\\": \\\"waterfront philippines\\\",\\n}\";\n",
       "                var nbb_cells = Jupyter.notebook.get_cells();\n",
       "                for (var i = 0; i < nbb_cells.length; ++i) {\n",
       "                    if (nbb_cells[i].input_prompt_number == nbb_cell_id) {\n",
       "                        if (nbb_cells[i].get_text() == nbb_unformatted_code) {\n",
       "                             nbb_cells[i].set_text(nbb_formatted_code);\n",
       "                        }\n",
       "                        break;\n",
       "                    }\n",
       "                }\n",
       "            }, 500);\n",
       "            "
      ],
      "text/plain": [
       "<IPython.core.display.Javascript object>"
      ]
     },
     "metadata": {},
     "output_type": "display_data"
    }
   ],
   "source": [
    "cat_dict = {\n",
    "    \"acq\": \"acuisition\",\n",
    "    \"alu\": \"aluminum\",\n",
    "    \"bop\": \"bottom of the pyramid\",\n",
    "    \"castor-oil\": \"castor oil\",\n",
    "    \"carcass\": \"livestock\",\n",
    "    \"cpu\": \"computershare\",\n",
    "    \"coconut-oil\": \"coconut oil\",\n",
    "    \"copra-cake\": \"copra cake\",\n",
    "    \"cpi\": \"consumer price index\",\n",
    "    \"dfl\": \"deutsche fussball liga\",\n",
    "    \"dlr\": \"digital realty trust\",\n",
    "    \"dmk\": \"dravida munnetra kazhagam\",\n",
    "    \"earn\": \"ellington residential mortgage reit stock\",\n",
    "    \"gnp\": \"grupo nacional provincial\",\n",
    "    \"groundnut-oil\": \"ground nut oil\",\n",
    "    \"instal-debt\": \"instalco intressenter debt\",\n",
    "    \"ipi\": \"intrepid potash\",\n",
    "    \"iron-steel\": \"iron steel\",\n",
    "    \"l-cattle\": \"cattle\",\n",
    "    \"lei\": \"leading economic index\",\n",
    "    \"lin-oil\": \"linseed oil\",\n",
    "    \"meal-feed\": \"meal feed\",\n",
    "    \"money-fx\": \"money foreign exchange\",\n",
    "    \"money-supply\": \"money supply\",\n",
    "    \"nat-gas\": \"natural gas\",\n",
    "    \"nkr\": \"nokia\",\n",
    "    \"palm-oil\": \"palm oil\",\n",
    "    \"palmkernel\": \"palm kernel\",\n",
    "    \"pet-chem\": \"petronas chemicals\",\n",
    "    \"rape-oil\": \"rapeseed oil\",\n",
    "    \"soy-meal\": \"soy meal\",\n",
    "    \"soy-oil\": \"soy oil\",\n",
    "    \"strategic-metal\": \"strategic metal\",\n",
    "    \"sun-meal\": \"sunflower meal\",\n",
    "    \"sun-oil\": \"sunflower oil\",\n",
    "    \"sunseed\": \"sunflower seed\",\n",
    "    \"veg-oil\": \"vagetable oil\",\n",
    "    \"wpi\": \"waterfront philippines\",\n",
    "}"
   ]
  },
  {
   "cell_type": "code",
   "execution_count": 9,
   "id": "e14b0d12",
   "metadata": {},
   "outputs": [
    {
     "data": {
      "application/javascript": [
       "\n",
       "            setTimeout(function() {\n",
       "                var nbb_cell_id = 9;\n",
       "                var nbb_unformatted_code = \"new_cats = [\\n    \\\"acuisition\\\",\\n    \\\"aluminum\\\",\\n    \\\"bottom of the pyramid\\\",\\n    \\\"barley\\\",\\n    \\\"castor oil\\\",\\n    \\\"carcass\\\",\\n    \\\"cattle\\\",\\n    \\\"cocoa\\\",\\n    \\\"coconut\\\",\\n    \\\"coconut oil\\\",\\n    \\\"coffee\\\",\\n    \\\"consumer price index\\\",\\n    \\\"copper\\\",\\n    \\\"copra cake\\\",\\n    \\\"corn\\\",\\n    \\\"cotton\\\",\\n    \\\"computershare\\\",\\n    \\\"crude\\\",\\n    \\\"deutsche fussball liga\\\",\\n    \\\"digital realty trust\\\",\\n    \\\"dravida munnetra kazhagam\\\",\\n    \\\"ellington residential mortgage reit stock\\\",\\n    \\\"fuel\\\",\\n    \\\"gas\\\",\\n    \\\"gold\\\",\\n    \\\"grain\\\",\\n    \\\"groundnut\\\",\\n    \\\"ground nut oil\\\",\\n    \\\"grupo nacional provincial\\\",\\n    \\\"heat\\\",\\n    \\\"hog\\\",\\n    \\\"housing\\\",\\n    \\\"income\\\",\\n    \\\"instalco intressenter debt\\\",\\n    \\\"interest\\\",\\n    \\\"intrepid potash\\\",\\n    \\\"iron steel\\\",\\n    \\\"jet\\\",\\n    \\\"jobs\\\",\\n    \\\"lead\\\",\\n    \\\"leading economic index\\\",\\n    \\\"linseed oil\\\",\\n    \\\"livestock\\\",\\n    \\\"lumber\\\",\\n    \\\"meal feed\\\",\\n    \\\"money foreign exchange\\\",\\n    \\\"money supply\\\",\\n    \\\"natural gas\\\",\\n    \\\"naphtha\\\",\\n    \\\"nickel\\\",\\n    \\\"nokia\\\",\\n    \\\"new zealand dollar\\\",\\n    \\\"oat\\\",\\n    \\\"orange\\\",\\n    \\\"palladium\\\",\\n    \\\"palm oil\\\",\\n    \\\"palm kernel\\\",\\n    \\\"petronas chemicals\\\",\\n    \\\"platinum\\\",\\n    \\\"potato\\\",\\n    \\\"propane\\\",\\n    \\\"rand\\\",\\n    \\\"rapeseed\\\",\\n    \\\"rapeseed oil\\\",\\n    \\\"reserves\\\",\\n    \\\"retail\\\",\\n    \\\"rice\\\",\\n    \\\"rubber\\\",\\n    \\\"rye\\\",\\n    \\\"ship\\\",\\n    \\\"silver\\\",\\n    \\\"sorghum\\\",\\n    \\\"soybean\\\",\\n    \\\"soy meal\\\",\\n    \\\"soy oil\\\",\\n    \\\"strategic metal\\\",\\n    \\\"sugar\\\",\\n    \\\"sunflower meal\\\",\\n    \\\"sunflower oil\\\",\\n    \\\"sunflower seed\\\",\\n    \\\"tea\\\",\\n    \\\"tin\\\",\\n    \\\"trade\\\",\\n    \\\"vagetable oil\\\",\\n    \\\"waterfront philippines\\\",\\n    \\\"wheat\\\",\\n    \\\"yen\\\",\\n    \\\"zinc\\\",\\n]\";\n",
       "                var nbb_formatted_code = \"new_cats = [\\n    \\\"acuisition\\\",\\n    \\\"aluminum\\\",\\n    \\\"bottom of the pyramid\\\",\\n    \\\"barley\\\",\\n    \\\"castor oil\\\",\\n    \\\"carcass\\\",\\n    \\\"cattle\\\",\\n    \\\"cocoa\\\",\\n    \\\"coconut\\\",\\n    \\\"coconut oil\\\",\\n    \\\"coffee\\\",\\n    \\\"consumer price index\\\",\\n    \\\"copper\\\",\\n    \\\"copra cake\\\",\\n    \\\"corn\\\",\\n    \\\"cotton\\\",\\n    \\\"computershare\\\",\\n    \\\"crude\\\",\\n    \\\"deutsche fussball liga\\\",\\n    \\\"digital realty trust\\\",\\n    \\\"dravida munnetra kazhagam\\\",\\n    \\\"ellington residential mortgage reit stock\\\",\\n    \\\"fuel\\\",\\n    \\\"gas\\\",\\n    \\\"gold\\\",\\n    \\\"grain\\\",\\n    \\\"groundnut\\\",\\n    \\\"ground nut oil\\\",\\n    \\\"grupo nacional provincial\\\",\\n    \\\"heat\\\",\\n    \\\"hog\\\",\\n    \\\"housing\\\",\\n    \\\"income\\\",\\n    \\\"instalco intressenter debt\\\",\\n    \\\"interest\\\",\\n    \\\"intrepid potash\\\",\\n    \\\"iron steel\\\",\\n    \\\"jet\\\",\\n    \\\"jobs\\\",\\n    \\\"lead\\\",\\n    \\\"leading economic index\\\",\\n    \\\"linseed oil\\\",\\n    \\\"livestock\\\",\\n    \\\"lumber\\\",\\n    \\\"meal feed\\\",\\n    \\\"money foreign exchange\\\",\\n    \\\"money supply\\\",\\n    \\\"natural gas\\\",\\n    \\\"naphtha\\\",\\n    \\\"nickel\\\",\\n    \\\"nokia\\\",\\n    \\\"new zealand dollar\\\",\\n    \\\"oat\\\",\\n    \\\"orange\\\",\\n    \\\"palladium\\\",\\n    \\\"palm oil\\\",\\n    \\\"palm kernel\\\",\\n    \\\"petronas chemicals\\\",\\n    \\\"platinum\\\",\\n    \\\"potato\\\",\\n    \\\"propane\\\",\\n    \\\"rand\\\",\\n    \\\"rapeseed\\\",\\n    \\\"rapeseed oil\\\",\\n    \\\"reserves\\\",\\n    \\\"retail\\\",\\n    \\\"rice\\\",\\n    \\\"rubber\\\",\\n    \\\"rye\\\",\\n    \\\"ship\\\",\\n    \\\"silver\\\",\\n    \\\"sorghum\\\",\\n    \\\"soybean\\\",\\n    \\\"soy meal\\\",\\n    \\\"soy oil\\\",\\n    \\\"strategic metal\\\",\\n    \\\"sugar\\\",\\n    \\\"sunflower meal\\\",\\n    \\\"sunflower oil\\\",\\n    \\\"sunflower seed\\\",\\n    \\\"tea\\\",\\n    \\\"tin\\\",\\n    \\\"trade\\\",\\n    \\\"vagetable oil\\\",\\n    \\\"waterfront philippines\\\",\\n    \\\"wheat\\\",\\n    \\\"yen\\\",\\n    \\\"zinc\\\",\\n]\";\n",
       "                var nbb_cells = Jupyter.notebook.get_cells();\n",
       "                for (var i = 0; i < nbb_cells.length; ++i) {\n",
       "                    if (nbb_cells[i].input_prompt_number == nbb_cell_id) {\n",
       "                        if (nbb_cells[i].get_text() == nbb_unformatted_code) {\n",
       "                             nbb_cells[i].set_text(nbb_formatted_code);\n",
       "                        }\n",
       "                        break;\n",
       "                    }\n",
       "                }\n",
       "            }, 500);\n",
       "            "
      ],
      "text/plain": [
       "<IPython.core.display.Javascript object>"
      ]
     },
     "metadata": {},
     "output_type": "display_data"
    }
   ],
   "source": [
    "new_cats = [\n",
    "    \"acuisition\",\n",
    "    \"aluminum\",\n",
    "    \"bottom of the pyramid\",\n",
    "    \"barley\",\n",
    "    \"castor oil\",\n",
    "    \"carcass\",\n",
    "    \"cattle\",\n",
    "    \"cocoa\",\n",
    "    \"coconut\",\n",
    "    \"coconut oil\",\n",
    "    \"coffee\",\n",
    "    \"consumer price index\",\n",
    "    \"copper\",\n",
    "    \"copra cake\",\n",
    "    \"corn\",\n",
    "    \"cotton\",\n",
    "    \"computershare\",\n",
    "    \"crude\",\n",
    "    \"deutsche fussball liga\",\n",
    "    \"digital realty trust\",\n",
    "    \"dravida munnetra kazhagam\",\n",
    "    \"ellington residential mortgage reit stock\",\n",
    "    \"fuel\",\n",
    "    \"gas\",\n",
    "    \"gold\",\n",
    "    \"grain\",\n",
    "    \"groundnut\",\n",
    "    \"ground nut oil\",\n",
    "    \"grupo nacional provincial\",\n",
    "    \"heat\",\n",
    "    \"hog\",\n",
    "    \"housing\",\n",
    "    \"income\",\n",
    "    \"instalco intressenter debt\",\n",
    "    \"interest\",\n",
    "    \"intrepid potash\",\n",
    "    \"iron steel\",\n",
    "    \"jet\",\n",
    "    \"jobs\",\n",
    "    \"lead\",\n",
    "    \"leading economic index\",\n",
    "    \"linseed oil\",\n",
    "    \"livestock\",\n",
    "    \"lumber\",\n",
    "    \"meal feed\",\n",
    "    \"money foreign exchange\",\n",
    "    \"money supply\",\n",
    "    \"natural gas\",\n",
    "    \"naphtha\",\n",
    "    \"nickel\",\n",
    "    \"nokia\",\n",
    "    \"new zealand dollar\",\n",
    "    \"oat\",\n",
    "    \"orange\",\n",
    "    \"palladium\",\n",
    "    \"palm oil\",\n",
    "    \"palm kernel\",\n",
    "    \"petronas chemicals\",\n",
    "    \"platinum\",\n",
    "    \"potato\",\n",
    "    \"propane\",\n",
    "    \"rand\",\n",
    "    \"rapeseed\",\n",
    "    \"rapeseed oil\",\n",
    "    \"reserves\",\n",
    "    \"retail\",\n",
    "    \"rice\",\n",
    "    \"rubber\",\n",
    "    \"rye\",\n",
    "    \"ship\",\n",
    "    \"silver\",\n",
    "    \"sorghum\",\n",
    "    \"soybean\",\n",
    "    \"soy meal\",\n",
    "    \"soy oil\",\n",
    "    \"strategic metal\",\n",
    "    \"sugar\",\n",
    "    \"sunflower meal\",\n",
    "    \"sunflower oil\",\n",
    "    \"sunflower seed\",\n",
    "    \"tea\",\n",
    "    \"tin\",\n",
    "    \"trade\",\n",
    "    \"vagetable oil\",\n",
    "    \"waterfront philippines\",\n",
    "    \"wheat\",\n",
    "    \"yen\",\n",
    "    \"zinc\",\n",
    "]"
   ]
  },
  {
   "cell_type": "code",
   "execution_count": 10,
   "id": "71fc492c",
   "metadata": {},
   "outputs": [
    {
     "name": "stderr",
     "output_type": "stream",
     "text": [
      "All model checkpoint layers were used when initializing TFRobertaForSequenceClassification.\n",
      "\n",
      "All the layers of TFRobertaForSequenceClassification were initialized from the model checkpoint at roberta-large-mnli.\n",
      "If your task is similar to the task the model of the checkpoint was trained on, you can already use TFRobertaForSequenceClassification for predictions without further training.\n"
     ]
    },
    {
     "data": {
      "application/javascript": [
       "\n",
       "            setTimeout(function() {\n",
       "                var nbb_cell_id = 10;\n",
       "                var nbb_unformatted_code = \"classifier = pipeline(\\\"zero-shot-classification\\\", model=\\\"roberta-large-mnli\\\")\";\n",
       "                var nbb_formatted_code = \"classifier = pipeline(\\\"zero-shot-classification\\\", model=\\\"roberta-large-mnli\\\")\";\n",
       "                var nbb_cells = Jupyter.notebook.get_cells();\n",
       "                for (var i = 0; i < nbb_cells.length; ++i) {\n",
       "                    if (nbb_cells[i].input_prompt_number == nbb_cell_id) {\n",
       "                        if (nbb_cells[i].get_text() == nbb_unformatted_code) {\n",
       "                             nbb_cells[i].set_text(nbb_formatted_code);\n",
       "                        }\n",
       "                        break;\n",
       "                    }\n",
       "                }\n",
       "            }, 500);\n",
       "            "
      ],
      "text/plain": [
       "<IPython.core.display.Javascript object>"
      ]
     },
     "metadata": {},
     "output_type": "display_data"
    }
   ],
   "source": [
    "classifier = pipeline(\"zero-shot-classification\", model=\"roberta-large-mnli\")"
   ]
  },
  {
   "cell_type": "code",
   "execution_count": 17,
   "id": "a8ed77fc",
   "metadata": {},
   "outputs": [
    {
     "data": {
      "application/javascript": [
       "\n",
       "            setTimeout(function() {\n",
       "                var nbb_cell_id = 17;\n",
       "                var nbb_unformatted_code = \"news_df[\\\"top_label\\\"] = news_df[\\\"Categories\\\"].apply(lambda x: x[0])\\nnews_df[\\\"title_length\\\"] = news_df[\\\"Title\\\"].apply(lambda x: len(x) if x != None else 0)\\nnews_df[\\\"con_length\\\"] = news_df[\\\"Content\\\"].apply(lambda x: len(x) if x != None else 0)\";\n",
       "                var nbb_formatted_code = \"news_df[\\\"top_label\\\"] = news_df[\\\"Categories\\\"].apply(lambda x: x[0])\\nnews_df[\\\"title_length\\\"] = news_df[\\\"Title\\\"].apply(lambda x: len(x) if x != None else 0)\\nnews_df[\\\"con_length\\\"] = news_df[\\\"Content\\\"].apply(lambda x: len(x) if x != None else 0)\";\n",
       "                var nbb_cells = Jupyter.notebook.get_cells();\n",
       "                for (var i = 0; i < nbb_cells.length; ++i) {\n",
       "                    if (nbb_cells[i].input_prompt_number == nbb_cell_id) {\n",
       "                        if (nbb_cells[i].get_text() == nbb_unformatted_code) {\n",
       "                             nbb_cells[i].set_text(nbb_formatted_code);\n",
       "                        }\n",
       "                        break;\n",
       "                    }\n",
       "                }\n",
       "            }, 500);\n",
       "            "
      ],
      "text/plain": [
       "<IPython.core.display.Javascript object>"
      ]
     },
     "metadata": {},
     "output_type": "display_data"
    }
   ],
   "source": [
    "news_df[\"top_label\"] = news_df[\"Categories\"].apply(lambda x: x[0])\n",
    "news_df[\"title_length\"] = news_df[\"Title\"].apply(lambda x: len(x) if x != None else 0)\n",
    "news_df[\"con_length\"] = news_df[\"Content\"].apply(lambda x: len(x) if x != None else 0)"
   ]
  },
  {
   "cell_type": "code",
   "execution_count": 20,
   "id": "66d3b50d",
   "metadata": {},
   "outputs": [
    {
     "data": {
      "text/plain": [
       "485.0"
      ]
     },
     "execution_count": 20,
     "metadata": {},
     "output_type": "execute_result"
    },
    {
     "data": {
      "application/javascript": [
       "\n",
       "            setTimeout(function() {\n",
       "                var nbb_cell_id = 20;\n",
       "                var nbb_unformatted_code = \"news_df[\\\"con_length\\\"].median()\";\n",
       "                var nbb_formatted_code = \"news_df[\\\"con_length\\\"].median()\";\n",
       "                var nbb_cells = Jupyter.notebook.get_cells();\n",
       "                for (var i = 0; i < nbb_cells.length; ++i) {\n",
       "                    if (nbb_cells[i].input_prompt_number == nbb_cell_id) {\n",
       "                        if (nbb_cells[i].get_text() == nbb_unformatted_code) {\n",
       "                             nbb_cells[i].set_text(nbb_formatted_code);\n",
       "                        }\n",
       "                        break;\n",
       "                    }\n",
       "                }\n",
       "            }, 500);\n",
       "            "
      ],
      "text/plain": [
       "<IPython.core.display.Javascript object>"
      ]
     },
     "metadata": {},
     "output_type": "display_data"
    }
   ],
   "source": [
    "news_df[\"con_length\"].median()"
   ]
  },
  {
   "cell_type": "code",
   "execution_count": 12,
   "id": "256e28b5",
   "metadata": {},
   "outputs": [
    {
     "data": {
      "application/javascript": [
       "\n",
       "            setTimeout(function() {\n",
       "                var nbb_cell_id = 12;\n",
       "                var nbb_unformatted_code = \"news_filt_df = news_df[news_df[\\\"title_length\\\"] > 40]\\nsample_df = (\\n    news_filt_df.groupby(\\\"top_label\\\")\\n    .apply(lambda x: x.sample(15, replace=True))\\n    .reset_index(drop=True)\\n)\\nsample_df = sample_df.drop(columns=[\\\"Categories\\\"]).drop_duplicates()\";\n",
       "                var nbb_formatted_code = \"news_filt_df = news_df[news_df[\\\"title_length\\\"] > 40]\\nsample_df = (\\n    news_filt_df.groupby(\\\"top_label\\\")\\n    .apply(lambda x: x.sample(15, replace=True))\\n    .reset_index(drop=True)\\n)\\nsample_df = sample_df.drop(columns=[\\\"Categories\\\"]).drop_duplicates()\";\n",
       "                var nbb_cells = Jupyter.notebook.get_cells();\n",
       "                for (var i = 0; i < nbb_cells.length; ++i) {\n",
       "                    if (nbb_cells[i].input_prompt_number == nbb_cell_id) {\n",
       "                        if (nbb_cells[i].get_text() == nbb_unformatted_code) {\n",
       "                             nbb_cells[i].set_text(nbb_formatted_code);\n",
       "                        }\n",
       "                        break;\n",
       "                    }\n",
       "                }\n",
       "            }, 500);\n",
       "            "
      ],
      "text/plain": [
       "<IPython.core.display.Javascript object>"
      ]
     },
     "metadata": {},
     "output_type": "display_data"
    }
   ],
   "source": [
    "news_filt_df = news_df[news_df[\"title_length\"] > 40]\n",
    "sample_df = (\n",
    "    news_filt_df.groupby(\"top_label\")\n",
    "    .apply(lambda x: x.sample(15, replace=True))\n",
    "    .reset_index(drop=True)\n",
    ")\n",
    "sample_df = sample_df.drop(columns=[\"Categories\"]).drop_duplicates()"
   ]
  },
  {
   "cell_type": "code",
   "execution_count": 13,
   "id": "11c7daee",
   "metadata": {},
   "outputs": [
    {
     "data": {
      "application/javascript": [
       "\n",
       "            setTimeout(function() {\n",
       "                var nbb_cell_id = 13;\n",
       "                var nbb_unformatted_code = \"class_title_list = list(sample_df[\\\"Title\\\"])\";\n",
       "                var nbb_formatted_code = \"class_title_list = list(sample_df[\\\"Title\\\"])\";\n",
       "                var nbb_cells = Jupyter.notebook.get_cells();\n",
       "                for (var i = 0; i < nbb_cells.length; ++i) {\n",
       "                    if (nbb_cells[i].input_prompt_number == nbb_cell_id) {\n",
       "                        if (nbb_cells[i].get_text() == nbb_unformatted_code) {\n",
       "                             nbb_cells[i].set_text(nbb_formatted_code);\n",
       "                        }\n",
       "                        break;\n",
       "                    }\n",
       "                }\n",
       "            }, 500);\n",
       "            "
      ],
      "text/plain": [
       "<IPython.core.display.Javascript object>"
      ]
     },
     "metadata": {},
     "output_type": "display_data"
    }
   ],
   "source": [
    "class_title_list = list(sample_df[\"Title\"])"
   ]
  },
  {
   "cell_type": "code",
   "execution_count": 14,
   "id": "347949d0",
   "metadata": {},
   "outputs": [
    {
     "data": {
      "application/javascript": [
       "\n",
       "            setTimeout(function() {\n",
       "                var nbb_cell_id = 14;\n",
       "                var nbb_unformatted_code = \"clfd_dict_list2 = [\\n    classifier(title, new_cats, multi_label=True) for title in class_title_list\\n]\\ncategorized_df = pd.DataFrame.from_records(clfd_dict_list2)\\ncategorized_df.to_pickle(\\\"C:/Users/rparg/Documents/Data/Reuters/categorized2.pkl\\\")\";\n",
       "                var nbb_formatted_code = \"clfd_dict_list2 = [\\n    classifier(title, new_cats, multi_label=True) for title in class_title_list\\n]\\ncategorized_df = pd.DataFrame.from_records(clfd_dict_list2)\\ncategorized_df.to_pickle(\\\"C:/Users/rparg/Documents/Data/Reuters/categorized2.pkl\\\")\";\n",
       "                var nbb_cells = Jupyter.notebook.get_cells();\n",
       "                for (var i = 0; i < nbb_cells.length; ++i) {\n",
       "                    if (nbb_cells[i].input_prompt_number == nbb_cell_id) {\n",
       "                        if (nbb_cells[i].get_text() == nbb_unformatted_code) {\n",
       "                             nbb_cells[i].set_text(nbb_formatted_code);\n",
       "                        }\n",
       "                        break;\n",
       "                    }\n",
       "                }\n",
       "            }, 500);\n",
       "            "
      ],
      "text/plain": [
       "<IPython.core.display.Javascript object>"
      ]
     },
     "metadata": {},
     "output_type": "display_data"
    }
   ],
   "source": [
    "clfd_dict_list2 = [\n",
    "    classifier(title, new_cats, multi_label=True) for title in class_title_list\n",
    "]\n",
    "categorized_df = pd.DataFrame.from_records(clfd_dict_list2)\n",
    "categorized_df.to_pickle(\"C:/Users/rparg/Documents/Data/Reuters/categorized2.pkl\")"
   ]
  },
  {
   "cell_type": "code",
   "execution_count": 22,
   "id": "c4fd87fd",
   "metadata": {},
   "outputs": [
    {
     "data": {
      "application/javascript": [
       "\n",
       "            setTimeout(function() {\n",
       "                var nbb_cell_id = 22;\n",
       "                var nbb_unformatted_code = \"news_con_filt_df = news_df[(news_df[\\\"con_length\\\"] > 200) & (news_df[\\\"con_length\\\"] < 1000)]\";\n",
       "                var nbb_formatted_code = \"news_con_filt_df = news_df[\\n    (news_df[\\\"con_length\\\"] > 200) & (news_df[\\\"con_length\\\"] < 1000)\\n]\";\n",
       "                var nbb_cells = Jupyter.notebook.get_cells();\n",
       "                for (var i = 0; i < nbb_cells.length; ++i) {\n",
       "                    if (nbb_cells[i].input_prompt_number == nbb_cell_id) {\n",
       "                        if (nbb_cells[i].get_text() == nbb_unformatted_code) {\n",
       "                             nbb_cells[i].set_text(nbb_formatted_code);\n",
       "                        }\n",
       "                        break;\n",
       "                    }\n",
       "                }\n",
       "            }, 500);\n",
       "            "
      ],
      "text/plain": [
       "<IPython.core.display.Javascript object>"
      ]
     },
     "metadata": {},
     "output_type": "display_data"
    }
   ],
   "source": [
    "news_con_filt_df = news_df[\n",
    "    (news_df[\"con_length\"] > 200) & (news_df[\"con_length\"] < 1000)\n",
    "]"
   ]
  },
  {
   "cell_type": "code",
   "execution_count": 27,
   "id": "6022f5f5",
   "metadata": {},
   "outputs": [
    {
     "data": {
      "application/javascript": [
       "\n",
       "            setTimeout(function() {\n",
       "                var nbb_cell_id = 27;\n",
       "                var nbb_unformatted_code = \"sample_con_df = (\\n    news_con_filt_df.groupby(\\\"top_label\\\")\\n    .apply(lambda x: x.sample(4, replace=True))\\n    .reset_index(drop=True)\\n)\\nsample_con_df = sample_con_df.drop(columns=[\\\"Categories\\\"]).drop_duplicates()\";\n",
       "                var nbb_formatted_code = \"sample_con_df = (\\n    news_con_filt_df.groupby(\\\"top_label\\\")\\n    .apply(lambda x: x.sample(4, replace=True))\\n    .reset_index(drop=True)\\n)\\nsample_con_df = sample_con_df.drop(columns=[\\\"Categories\\\"]).drop_duplicates()\";\n",
       "                var nbb_cells = Jupyter.notebook.get_cells();\n",
       "                for (var i = 0; i < nbb_cells.length; ++i) {\n",
       "                    if (nbb_cells[i].input_prompt_number == nbb_cell_id) {\n",
       "                        if (nbb_cells[i].get_text() == nbb_unformatted_code) {\n",
       "                             nbb_cells[i].set_text(nbb_formatted_code);\n",
       "                        }\n",
       "                        break;\n",
       "                    }\n",
       "                }\n",
       "            }, 500);\n",
       "            "
      ],
      "text/plain": [
       "<IPython.core.display.Javascript object>"
      ]
     },
     "metadata": {},
     "output_type": "display_data"
    }
   ],
   "source": [
    "sample_con_df = (\n",
    "    news_con_filt_df.groupby(\"top_label\")\n",
    "    .apply(lambda x: x.sample(4, replace=True))\n",
    "    .reset_index(drop=True)\n",
    ")\n",
    "sample_con_df = sample_con_df.drop(columns=[\"Categories\"]).drop_duplicates()"
   ]
  },
  {
   "cell_type": "code",
   "execution_count": 31,
   "id": "ba9b6ae2",
   "metadata": {},
   "outputs": [
    {
     "data": {
      "application/javascript": [
       "\n",
       "            setTimeout(function() {\n",
       "                var nbb_cell_id = 31;\n",
       "                var nbb_unformatted_code = \"class_con_list = list(sample_con_df[\\\"Content\\\"])\";\n",
       "                var nbb_formatted_code = \"class_con_list = list(sample_con_df[\\\"Content\\\"])\";\n",
       "                var nbb_cells = Jupyter.notebook.get_cells();\n",
       "                for (var i = 0; i < nbb_cells.length; ++i) {\n",
       "                    if (nbb_cells[i].input_prompt_number == nbb_cell_id) {\n",
       "                        if (nbb_cells[i].get_text() == nbb_unformatted_code) {\n",
       "                             nbb_cells[i].set_text(nbb_formatted_code);\n",
       "                        }\n",
       "                        break;\n",
       "                    }\n",
       "                }\n",
       "            }, 500);\n",
       "            "
      ],
      "text/plain": [
       "<IPython.core.display.Javascript object>"
      ]
     },
     "metadata": {},
     "output_type": "display_data"
    }
   ],
   "source": [
    "class_con_list = list(sample_con_df[\"Content\"])"
   ]
  },
  {
   "cell_type": "code",
   "execution_count": 32,
   "id": "9c5f520a",
   "metadata": {},
   "outputs": [
    {
     "data": {
      "text/plain": [
       "[\"Waste Management Inc said it amended its offer to buy the outstanding shares of ChemLawn Corp to 35 dlrs a share . On Thursday the company said it was prepared to bid 33 dlrs a share , up from its original 27 dlrs a share offer . As a result of the price increase , made through Waste Management ' s wholly owned subsidiary , WMX Acquisition Corp , the offer has been extended and the withdrawal rights will not expire at midnight EDT April Two , unless further extended . Waste Management also said it amended its offer to provide that the tender offer price will not be reduced by ChemLawn ' s 10 cts a share dividend payable to holders of record April 1 , 1987 .\",\n",
       " 'An investor group including New York - based Mutual Shares Corp and Mutual Qualified Income Fund Inc told the Securities and Exchange Commission it raised its stake in Gelco Corp common stock to 575 , 859 shares or 8 . 2 pct of the total outstanding . The group said its most recent purchases included 241 , 000 shares bought between January 21 and March 10 . The group said it purchased the shares for investment purposes .',\n",
       " \"United Security Financial Corp of Illinois said it has signed a letter of intent to buy Robert Co . Brown and Co Inc ' s & lt ; RCBI > MAGIC Insurance Group unit . Robert C . Brown and Co would receive newly issued United Security stock . United Security said it is anticipated that such stock would represent a substantial majority of the shares outstanding after the merger . United Security ' s principal subsidiary is United Security Life Insurance Co of Illinois . The MAGIC Group owns Pilgrim Life Insurance Co of America and Middle Atlantic Life Insurance Co .\",\n",
       " 'Maryland National Corp , the parent of Maryland National Bank which earlier this month merged with American Security Bank , said its shareholders will vote on a new name for the regional bank holding company at its April 29 annual meeting . It said MNC Financial Inc is the proposed new name for the parent company . The banks merged on March 16 , and have combined assets of about 14 billion dlrs . Maryland said the new name only will be used for the parent and it does not plan to change the names of Maryland National Bank , American Security Bank or non - bank affiliates .',\n",
       " 'The London Metal Exchange , LME , issued turnovers for March 1987 , with figures for corresponding period 1986 in brackets . All in tonnes except Silver which in troy ounces . Copper higher grade nil ( 2 , 526 , 425 ), Standard cathodes nil ( 6 , 325 ), Grade A 2 , 429 , 200 ( nil ), Standard Copper 17 , 050 ( nil ), Lead 443 , 850 ( 538 , 750 ), Zinc High grade 598 , 550 ( 304 , 825 ), Silver large 10 , 350 , 000 ( 17 , 400 , 000 ), Small nil ( 2 , 000 ), Aluminium 1 , 693 , 375 ( 1 , 301 , 850 ), Nickel 62 , 004 ( 65 , 040 ). Cumulative figures for January - March were as follows - Copper higher grade nil ( 7 , 703 , 625 ), Standard cathodes nil ( 24 , 700 ), Grade A 6 , 455 , 525 ( nil ), Standard Copper 62 , 075 ( nil ), Lead 1 , 567 , 000 ( 1 , 979 , 750 ), Zinc High grade 1 , 746 , 675 ( 1 , 356 , 400 ), Silver large 41 , 770 , 000 ( 65 , 620 , 000 ), Small nil ( 8 , 000 ), Aluminium 4 , 984 , 650 ( 4 , 974 , 950 ), Nickel 199 , 944 ( 179 , 328 ).',\n",
       " 'Alcan Aluminium Ltd ) is closing its aluminum smelter in Ludwigshafen , West Germany this June due to high operating costs , an Alcan spokesman said . The smelter , near Frankfurt , had annual capacity of about 44 , 000 metric tons but was operating at about half that in January , spokesman Fernand Leclerc said . Leclerc said Alcan decided it would cost too much to modernize the plant . He said there is a possibility the company will sell the smelter , which currently employs 320 people , before its scheduled closing .',\n",
       " 'Singapore welcomed the London Metal Exchange \\' s ( LME ) decision to list Singapore as a delivery point for the LME \\' s new dollar - denominated aluminium contract . Tay Thiam Peng , manager for international trading at the Trade Development Board , said the decision would boost Singapore \\' s image as a major delivery port . \" We hope this will encourage more metal traders to set up shop here and that Singapore can become a delivery port for other metals as well ,\" he said . The new contract , to start trading on June 1 , is LME \\' s first dollar - contract .',\n",
       " \"The U . S .- owned & lt ; Surinam Aluminum Company > ( SURALCO ) offered workers a lump sum and up to five months ' wages to quit the firm because jungle - based rebels have disrupted bauxite mining and alumina smelting , ANP said . The Dutch news agency said SURALCO , a subsidiary of the Aluminum Company of America ( ALCOA ) wanted to reduce its work force because it had been hard hit by guerrilla attacks that cut power lines to the area in January . All bauxite mining at Moengo ceased four months ago and SURALCO ' s Paranam alumina smelter is using imported bauxite .\",\n",
       " 'The Commodity Credit Corporation ( CCC ) accepted a bid for an export bonus to cover the sale of 30 , 000 long tons of barley to Israel , the U . S . Agriculture Department said . The department said the barley is for delivery April 15 / May 15 and the bonus awarded was 41 . 24 dlrs per ton . The bonus was made to Cargill , Inc and will be paid in the form of commodities from CCC stocks . An additional 133 , 800 tons of U . S . barley are still available to Israel under the Export Enhancement Program announced June 17 , 1986 , it said .',\n",
       " 'The Soviet Union featured prominently in U . K . Grain exports outside the EC for the period July 1 / March 13 , taking a combined total of 1 . 10 mln tonnes of wheat and barley out of all - destination U . K . Exports of 7 . 16 mln tonnes , the Home Grown Cereals Authority said , quoting provisional Customs and Excise figures . The Soviet total comprises 634 , 000 tonnes of wheat and 472 , 000 tonnes of barley . Grain traders said the figures understate shipments already made by several thousand tonnes and they expect total U . K . Grain exports to the USSR this season to reach 2 . 5 mln tonnes , comprising 1 . 5 mln wheat / 1 . 0 mln barley .',\n",
       " 'French cereal exports through the port of Rouen fell 6 . 4 pct to 725 , 023 tonnes during the period February 1 to 25 , from 774 , 704 for the period February 1 to 26 last year , trade sources said . Main destinations were Saudi Arabia with 158 , 109 tonnes of barley , the Soviet Union 147 , 214 of wheat , Italy 104 , 704 of wheat , Spain 91 , 381 of wheat and maize , China 52 , 500 of wheat and Algeria 41 , 000 of wheat . Between February 26 and today , five ships have loaded 137 , 000 tonnes of cereals , the sources added . The 137 , 000 tonnes comprised 59 , 500 tonnes of wheat for China , 53 , 000 of wheat for the Soviet Union and 24 , 500 of wheat for Algeria . By this Friday , sources estimated a further 233 , 600 tonnes of cereals will have been loaded , comprising 47 , 000 tonnes of barley , 78 , 600 of wheat and 25 , 000 of rapeseed for the Soviet Union , 30 , 000 of wheat for Sri Lanka , 28 , 000 of wheat for China and 25 , 000 of wheat for Poland .',\n",
       " 'The U . S . Agriculture Department gave the following breakdown of grain remaining in the farmer - owned grain reserve as of April 1 , in mln bushels , by reserve number -- I II III IV V VI Wheat nil nil 0 . 1 0 . 3 10 . 5 479 . 7 Corn -- -- -- 4 . 1 1 , 231 . 9 -- Sorghum - x -- -- -- 0 . 1 38 . 8 -- Barley -- -- -- 0 . 1 73 . 9 -- x - mln cwts . Note - USDA says above totals may not match total in reserve numbers .',\n",
       " 'Sweden had a 1986 current balance of payments surplus of 7 . 6 billion crowns compared with a deficit of 10 . 1 billion the preceding year , according to preliminary figures from the central bank . The December current account had a 100 mln crowns deficit against a yearago 200 mln deficit . December trade balance was 2 . 3 billion surplus against yearago two billion . The trade balance showed a 1986 surplus of 33 . 2 billion crowns compared with a 15 . 8 billion surplus in 1985 , the bank said .',\n",
       " \"Peru registered a 16 mln dlr trade deficit in 1986 , its first trade shortfall in four years , a central bank statement said . The figure compared with a surpluses of 1 . 17 billion dlrs in 1985 , 1 . 01 billion in 1984 and 293 mln in 1983 . The last trade deficit was a 428 mln shortfall in 1982 . Peru ' s exports fell to 2 . 51 billion dlrs last year from 2 . 98 billion in 1985 . Last year ' s imports were 2 . 53 billion dlrs against 1 . 81 billion dlrs in 1985 .\",\n",
       " \"South Korea ' s customs - cleared trade surplus narrowed to 110 mln dlrs in February from 525 mln in January , provisional trade ministry figures show . In February 1986 there was a deficit of 264 mln dlrs . February exports rose to 2 . 87 billion dlrs , fob , from 2 . 83 billion in January and 2 . 30 billion in February 1986 . CIF imports were 2 . 76 billion against 2 . 31 billion in January and 2 . 57 billion in February last year .\",\n",
       " 'The French 1986 current account balance of payments surplus has been revised slightly upwards to 25 . 8 billion francs from the 25 . 4 billion franc figure announced last month , the Finance Ministry said . This compares with a 1 . 5 billion deficit in 1985 , and while it is the first surplus since 1979 , is substantially lower than the 50 billion surplus forecast by the previous socialist government before they lost office in March last year . Net long - term capital outflows rose sharply to 70 . 5 billion francs last year from 8 . 8 billion in 1985 , largely due to a major program of foreign debt repayment , the ministry said . In the fourth quarter alone the unadjusted surplus rose to 14 . 1 billion francs from 6 . 6 billion the previous quarter , but the adjusted surplus fell to 7 . 4 billion from 9 . 1 billion . Fourth quarter medium and long - term foreign debt repayments exceeded new credits by 11 billion francs .',\n",
       " 'The United States department of agriculture estimated live poultry slaughter for the week ending April 1 as follows , in thousands - Current Previous Class week week Bro / Fry 92 , 552 95 , 563 Lt Fowl 2 , 840 3 , 354 Hvy Fowl 651 789 Check Total 96 , 043 99 , 706',\n",
       " 'Iowa Beef Processors Inc said \" hundreds \" of its employees returned to work at its Dakota City , Nebraska beef processing plant without incident . Last week , Iowa Beef said it would lift a lockout in effect at the plant since mid - December , which affected 2 , 800 members of the United Food and Commercial Workers Union . Both union and non - union meatpackers who returned to work , agreed to comply with Iowa Beef \\' s last contract offer . \" Start - up went well today and operations will continue to pick up as employees return and others are hired ,\" according to a company statement . Picketing UFCWU members at the plant did not disrupt operations , a company spokesman said . \" Our employees are asked to continue to return to work at 8AM unless otherwise notified ,\" he said . Iowa Beef , a subsidiary of Occidental Petroleum Corp , said it is beginning to take applications for permanent positions at the plant .',\n",
       " 'Exotic Newcastle , a highly contagious disease of pet birds and poultry , has been confirmed in two pet - bird dealer facilities in Maryland , and New York , the U . S . Agriculture Department said . The department said no domestic poultry are involved in the outbreak . State quarantines have been placed on the two facilities , in Hunt Valley , Maryland , and Schenectady , New York . The most serious U . S . outbreak of the disease occurred in 1971 - 73 in southern California , where the disease spread from infected pet birds to a dense poultry population and nearly 12 mln birds , mostly laying hens , were destroyed at a cost of 56 mln dlrs , the department said .',\n",
       " \"India ' s castor oil exports are provisionally estimated at 30 , 000 tonnes in fiscal 1986 / 87 , ending March 31 , against 54 , 000 tonnes in 1985 / 86 due to a shortfall in the domestic castorseed crop , private traders said . Drought in parts of the country is expected to reduce the castorseed crop to a provisionally estimated 350 , 000 tonnes in 1986 / 87 from 550 , 000 tonnes in 1985 / 86 , they told Reuters .\",\n",
       " 'The International Cocoa Council , ICCO , adjourned for the day after a detailed proposal on buffer stock rules was distributed and executive committee officials were elected , delegates said . Producers , EC consumers and all consumers are scheduled to hold separate meetings tomorrow to review the proposal , written by ICCO executive director Kobena Erbynn , they said . The buffer stock working group is to meet again on rules Monday morning , and the full council is to reconvene Tuesday , delegates said . Heinz Hofer of Switzerland was elected executive committee chairman and Mette Mogstad of Norway vice chairman , they added .',\n",
       " 'Haiti and Czechoslovakia have joined the International Cocoa Organization ( ICCO ), bringing membership in the United Nations charter body to 18 importing countries and 17 exporters , ICCO officials said . Haiti has provisionally applied to the ICCO as an exporting member , and accounts for 0 . 92 pct of world cocoa exports , they said . Czechoslovakia joined as an importer .',\n",
       " 'The Coffee , Sugar and Cocoa Exchange amended regulations governing expanded trading limits on coffee , cocoa and sugar contracts to provide uniformity . Effective today , the exchange will permit normal daily price limits in those commodities to expand whenever the first two limited contract months move the limit in the same direction for two consecutive sessions . The normal daily limits will be reinstated once the first two limited deliveries close by less than the normal limit for two successive trading days . Previously exchange rules required the first three limited months to move the limit in coffee and cocoa . It had required the first two limited sugar deliveries to make such moves for three consecutive sessions .',\n",
       " 'The International Cocoa Organization ( ICCO ) council agreed standard price differentials for different origin cocoas to form part of the buffer stock buying and selling procedure , consumer delegates said . The buffer stock manager will accept offers for different origin cocoas according to a sliding scale of price differentials , under which Ghana cocoa will be pegged at a 137 stg premium to Malaysian . Thus , if the buffer stock manager was buying cocoa based on a Malaysian price of 1 , 200 stg a tonne , he would accept Ghana offers up to 1 , 337 stg . Differentials were fixed as follows , Country Differential stg / tonne Malaysia 0 Brazil 55 Ivory Coast 67 Cameroun 77 Nigeria 120 Togo 130 Ghana 137 Nigeria \\' s differential is on \" landed weight \" terms . Shipping weight terms will be accepted at a 15 stg discount to this rate .',\n",
       " 'Coconut product exports fell to 163 , 924 copra tonnes in January from 196 , 610 tonnes in December and 167 , 747 tonnes in January last year , government figures show . Coconut product sales earned 44 . 54 mln dlrs compared with 45 . 30 mln in December and 49 . 09 mln a year earlier .',\n",
       " 'Newly - installed Philippine Coconut Authority Chairman Jose Romero has announced the appointment of lawyer Leandro Garcia as administrator , replacing Colonel Felix Duenas who is returning to military duty . The new constitution does not allow military men to hold positions in civilian agencies . Duenas and four other military men who were assigned to the authority in 1978 , will return to the ministry of defence where they worked prior to their appointments at the coconut agency .',\n",
       " 'Philippine coconut oil exports to Europe would be virtually wiped out if the European Community ( EC ) implements a new tax on vegetable oils , Philippine Coconut Authority ( PCA ) chairman Jose Romero said . But he told reporters he did not think the EC would impose the tax because of objections from the U . S . \" There \\' s just so much flak coming from many countries , spearheaded by the United States , whose soybean exports would be adversely affected . This would spark a trade war ,\" he said . The tax , to be imposed from July , would add about 375 dlrs a tonne to vegetable oils entering the EC . The Philippines exported 43 , 540 tonnes of coconut oil worth 11 . 7 mln dlrs to Europe in January , against total exports of 86 , 959 tonnes worth 23 . 8 mln . It also exports copra and copra meal . Agriculture Secretary Carlos Dominguez has also raised objections to the proposed EC tax . He said it could cause the collapse of world demand and prices and destroy the domestic industry .',\n",
       " \"The Sri Lankan cabinet approved recommendations to upgrade the quality of coconut fibre products , the government said . It said the recommendations also suggested that encouragement be given for the manufacture of value - added products from coconut fibre and a market development programme be launched for traditional and value - added products . It also suggested the setting up of a marketing mission on coconut fibre to be sent this month to principal target markets . Sri Lanka is the world ' s second largest exporter of dessicated coconut after the Philippines .\",\n",
       " 'Contract terms for trade in coconut oil are to be changed from long tons to tonnes with effect from the Aug / Sep contract onwards , Dutch vegetable oil traders said . Operators have already started to take account of the expected change and reported at least one trade in tonnes for Aug / Sept shipment yesterday . The Federation of Oils Seeds and Fats Associations , FOSFA , in London said it had previously advised traders to adopt the metric system for coconut oil transactions to bring the commodity into line with other vegetable oils .',\n",
       " 'An additional margin of 1 , 000 dlrs will be required on all July 1987 delivery coffee \" C \" contracts as of the opening of trade Monday , March 23 , the Coffee , Sugar and Cocoa Exchange , CSCE , said . The March contract ends trading this week , making May and July the two \" spot ,\" or unlimited , contract months next week . Members will then have to obtain a minimum 3 , 500 dlrs for net long or net short positions in the May and July contracts , including a 2 , 500 original margin plus the additional 1 , 000 dlr spot charge .',\n",
       " 'Talks on coffee export quotas at the International Coffee Organization ( ICO ) special council session will resume at noon gmt today , following a last minute decision taken early this morning to extend the meeting 24 hours , ICO officials said . An 18 member contact group will meet at midday to examine new ideas , and the full council is to convene at 1900gmt , they said . The extension resulted from a last ditch effort by Colombia to salvage the talks , which by late yesterday looked perilously close to ending without agreement on quotas , delegates said .',\n",
       " 'Brazilian Coffee Institute ( IBC ) president Jorio Dauster said he will attend a meeting in Managua this weekend . He told Reuters by telephone from Brasilia that the meeting , involving Brazil , Colombia and Central American coffee producers , will be strictly to review the coffee market situation . \" The meeting is set for Saturday but could also continue on Sunday ,\" he said .',\n",
       " 'Brazil will not announce any changes to its coffee export policy , Brazilian Coffee Institute ( IBC ) president Jorio Dauster said . He told Reuters Brazil was not planning to modify the position it held before the recent International Coffee Organisation meeting . Earlier this month , talks in London to set new ICO export quotas failed . Commenting on the outcome of a coffee producers \\' meeting in Managua last weekend , Dauster said that they discussed nothing involving the market . \" In the meeting we agreed to work on behalf of the union of the producers in matters related to an international agreement ,\" Dauster said . The Managua meeting was attended by representatives from Brazil , Mexico , Guatemala , El Salvador , Honduras , Costa Rica , Nicaragua and Panama , the latter represented at the meeting merely as an observer .',\n",
       " \"Noranda Inc said production will remain shut down at its fire - damaged copper mine here until it can completely examine the mine . If it decides to keep the mine open it would take four or five months before it could resume full production . Company spokesman Dale Coffin said the investigation could take from a few days to several weeks but would not be more specific . Noranda said when it resumes production it plans to operate the mine at about one - third of the normal 72 , 000 tonnes annual finished capacity . The fire , which started Wednesday and burned itself out late yesterday weakened part of the mine ' s support structure , Coffin said . One miner was killed and 56 others were trapped underground for about 24 hours before being brought safely out .\",\n",
       " 'January from 191 , 200 short tons at the end of December , according to the American Bureau of Metal Statistics . Consumption by brass mills increased to 60 , 700 short tons in January from 48 , 900 short tons in December . Mills consumed 29 , 600 tons of refinery shapes in January versus 24 , 000 tons in December . Scrap consumption increased to 31 , 100 tons in January from 24 , 900 tons in December . Total brass mill shipments increased to 69 , 600 tons in January from 54 , 400 tons in December , while receipts rose to 63 , 800 tons from 47 , 100 tons .',\n",
       " 'The U . S . Mint said it is seeking offers on 3 , 701 , 000 lbs of electrolytic copper and 629 , 000 lbs of electrolytic cut nickel cathodes or briquettes that it intends to purchase . It said both metals are for delivery in the week of May 11 to Olin Corp , East Alton , Ill . Offers for the copper are due by 1100 hrs EDT , April 21 , while offers on the nickel are due at 1100 hrs EDT on April 14 . The Mint said that firms , in submitting their offers , select to receive payment by standard check or be wire transfer . Awards are determined by whichever of the two methods is most cost advantageous , based on the cost of money at that time . The minimum acceptance periods for each solicitation is three calendar days for the copper and 10 calendar days for the nickel , the Mint said .',\n",
       " \"Indonesia is unlikely to import copra from the Philippines in 1987 after importing 30 , 000 tonnes in 1986 , the U . S . Embassy ' s annual agriculture report said . The report said the 31 pct devaluation of the Indonesian rupiah , an increase in import duties on copra and increases in the price of Philippines copra have reduced the margin between prices in the two countries . Indonesia ' s copra production is forecast at 1 . 32 mln tonnes in calendar 1987 , up from 1 . 30 mln tonnes in 1986 .\",\n",
       " 'Honduras has been authorized to buy about 75 , 000 tonnes of U . S . wheat , about 15 , 000 tonnes of U . S . corn , and about 6 , 000 tonnes of U . S . tallow under an existing PL 480 agreement , the U . S . Agriculture Department said . The department said it may buy the wheat , valued at 8 . 5 mln dlrs , the corn , valued at 1 . 5 mln , and the tallow , valued at 2 . 0 mln dlrs , between March 24 and August 31 , 1987 , and ship it from U . S . ports and / or Canadian transshipment points by this September 30 . The purchase authorizations cover the entire quantity provided under the agreement , signed March 11 .',\n",
       " 'The U . S . Agriculture Department said private U . S . exporters reported sales of 104 , 000 tonnes of corn to unknown destinations for shipment in the 1986 / 87 marketing year . The marketing year for corn began September 1 , it said .',\n",
       " 'Zambia \\' s marketed maize production will probably fall to less than 630 , 000 tonnes in 1986 / 87 ( May - Apr ), from 918 , 000 last year , because of poor rainfall in major producing areas , Agriculture Minister Kingsley Chinkuli said . He told Parliament that in the southern provinces the harvest would be over 50 pct down on the level in the previous marketing year . \" The nation would be lucky to produce over seven mln bags ( 630 , 000 tonnes ) of maize this year ,\" he stated . Chinkuli added that Zambia was setting up an irrigation fund with Canadian aid to lessen the effects of poor rainfall .',\n",
       " \"Tanzania seeks to export a surplus of 200 , 000 tonnes of maize from last year ' s bumper harvest , agriculture minister Paul Bomani said yesterday . The 1986 maize crop was officially estimated at 2 . 1 mln tonnes , but only a fraction of this was marketed , with most grain consumed by the farmers who grew it . The state - owned National Milling Corp ( NMC ) meanwhile said it is trying to sell 190 , 742 tonnes of maize stored in different parts of the country . NMC acting general manager John Rubibira said Tanzania has only 56 , 000 tonnes of silo storage capacity , concentrated in Dar es Salaam , Arusha in the north and Iringa in central Tanzania . In addition , the country has 450 , 000 tonnes of flat storage capacity , he added . Rubibira said the government is planning to build new silos in the main maize producing areas of Iringa , Mbeya , Ruvuma and Rukwa .\",\n",
       " \"Pakistan and Sweden have signed a commodity exchange agreement for 88 mln dlrs each way , the Pakistan government announced . Pakistan ' s exports under the agreement will include raw cotton , cotton products , cotton textiles , steel products , molasses , naphtha and fresh and dried fruits . Swedish exports to Pakistan will include medical and laboratory equipment , electrical telecommunication equipment , diesel engine spares , mining and security equipment , road - building and construction machinery , fertilisers and palm oil .\",\n",
       " 'Pakistan cotton production during the current crop season ( Sept / March ) reached 7 . 7 mln bales of 375 pounds each , up 500 , 000 from last season , Shafi Niaz , Chairman of the Agricultural Prices Commission , said . Official sources said Pakistan was likely to use 3 . 4 mln bales of cotton during the current financial year ending June after 2 . 96 mln in 1985 / 86 and 2 . 70 mln in 1984 / 85 . They said consumption would increase due to a rise in demand for cotton yarn in domestic markets and abroad . Pakistan produced 540 mln kilos of yarn in fiscal year 1985 / 86 and exported 157 mln . The State - owned cotton export corporation was likely to export 3 . 8 mln bales of cotton during the current fiscal year compared with 3 . 86 mln last year , cotton traders said . The traders said there would be 1 . 3 mln bales of cotton carryover this fiscal year compared with just over a mln bales last year .',\n",
       " \"Indian and Australian businessmen signed a memorandum of understanding to boost two - way trade and joint industrial ventures in both countries , spokesmen of the Indo - Australia Business Council told reporters . The Indian Council said it hoped India ' s exports to Australia would improve in the next few months and reduce the trade balance which is heavily in Australia ' s favour . In 1986 Australia sold 428 mln Australian dlrs ' worth of goods , including steel and coking coal , to India and bought 170 . 5 mln worth of items , including cotton textiles , from India .\",\n",
       " 'Egypt rejected all offers at a vegetable oil import tender yesterday for unspecified amounts of sunflowerseed oil and / or cottonseed oil , traders said . It has asked for a renewal of offers on March 24 . Exporters said they were not prepared to offer material on Egypt \\' s new landed contract terms which include a clause , \" free from radioactive contamination .\" Offers submitted were on old contract terms , all of which were rejected .',\n",
       " 'New Zealand \\' s inflation rate could fall to eight pct in the coming year , Prime Minister David Lange said . He said forecasts to be released soon by research groups would predict a rate of around eight or nine pct in the 12 months to the end of March 1988 , against 18 . 2 pct in calendar 1986 . \" I predict it will be something between eight and 10 per cent ,\" he told a news conference . Lange would not name the forecasting groups .',\n",
       " 'South African year - on - year consumer price inflation rose slightly to 16 . 3 pct in February after falling sharply to 16 . 1 pct in January from 18 . 1 pct in December , Central Statistics Office figures show . The monthly rise in the all items index ( base 1980 ) was 1 . 09 pct to 251 . 0 in February after a 1 . 4 pct increase to 248 . 3 in January . A year ago the index stood at 215 . 8 and year on year consumer price inflation at 18 . 05 pct .',\n",
       " 'It said that the accumulated inflation for the first three months of 1987 was 18 . 5 pct compared to 15 . 4 pct for the same period last year . Inflation for the 12 - month period ending march 1987 was 67 . 4 pct compared to 120 . 8 pct for the 12 - month period ending march 1986 .',\n",
       " 'The Dutch cost of living index ( base 1980 ) fell 1 . 2 pct to 121 . 5 in the year to mid - February after a 1 . 3 pct fall in the year to mid - January 1987 , the Economics Ministry said . The February index was 0 . 2 pct up on January . Clothing , shoe and vegetable prices rose in February while prices of coffee , heating oil and most car fuels fell , the Ministry added .',\n",
       " 'Utilization of Canadian manufacturing capacity rose to 77 . 2 pct in the fourth quarter of 1986 from 77 pct in the third quarter , Statistics Canada said . \" Although the change was small , this marked the first quarter since the third quarter of 1985 in which the utilization rates for manufacturing as a whole rose ,\" the federal agency said . Increased residential construction led to strong increases in the building materials sector , led by a 3 . 3 pct increase in non - metallic mineral industries .',\n",
       " 'Goodyear Tire and Rubber Co said the All American Pipeline of its Celeron Corp subsidiary will start line fill activities on March 30 as it begins operating . The company said about five mln barrels of oil will be required to pack the completed segment of the line , which runs 1 , 225 miles from near Santa Barbara , Calif ., to existing pipeline connections in West Texas . Construction has also staqrted this week on a 43 - mile , 16 - inch diameter gathering line to deliver 75 , 000 to 100 , 000 barrels a day of oil from the San Joaquin Valley in California . The 30 - inch main underground line can transport over 300 , 000 barrels daily .',\n",
       " 'The Brazilian state oil company Petrobras has made a second oil discovery in the Amazon region , President Jose Sarney said . He said the well had an initial flow of 150 , 000 cubic meters of gas and 220 barrels of oil per day . It is situated 14 kilometres from the first well to be discovered in the region last year , which is currently yielding 500 , 000 cubic meters of gas and 900 barrels of oil daily . The wells , the biggest onshore well in the country , are on the banks of the river Uruc in the Amazon basin 3 , 600 kilometres ( 2 , 250 miles ) north of Brasilia .',\n",
       " 'Iraq said its warplanes hit two ships off the Iranian coast in attacks last night and early today . The planes \" dealt accurate and effective blows to both maritime targets before they returned safely to base ,\" a military spokesman told the Iraqi new agency INA . There was no immediate confirmation of the attacks from Persian Gulf shipping sources . The last confirmed Iraqi attack on shipping was on March 8 , when an Iranian tanker was hit by a missile south of Iran \\' s Kharg island oil export terminal . Gulf shipping sources yesterday reported an Iranian warship had set the Cypriot supertanker Pivot on fire with a missile . They said there were no injuries on board and the ship headed for the Gulf Emirate of Fujairah under its own power after the fire was put out . The Pivot was the 18th ship hit this year in the maritime extension of the 6 - 1 / 2 year - old Iran - Iraq war .',\n",
       " 'Distillate fuel stocks held in primary storage fell by 4 . 4 mln barrels in the week ended Feb 27 to 127 . 10 mln barrels from 131 . 50 mln the previous week , the American Petroleum Institute ( API ) said . In its weekly statistical bulletin , the oil industry trade group said gasoline stocks fell 30 , 000 barrels to 252 . 92 mln barrels from a revised 252 . 95 mln , while crude oil stocks rose 700 , 000 barrels to 329 . 38 mln from a revised 328 . 68 mln . It said residual fuel stocks fell 380 , 000 barrels to 38 . 04 mln from 38 . 42 mln barrels . API said refinery runs in the week fell to 12 . 17 mln barrels per day from a revised 12 . 42 mln and refinery use of operating capacity was 78 . 1 pct , off from a revised 79 . 7 pct . Crude oil imports in the week fell to 3 . 98 mln bpd from a revised 4 . 22 mln , API added .',\n",
       " 'The Bundesbank declined to comment on rumours in Tokyo that it was intervening heavily to support the dollar , but dealers here said they had not seen the German central bank in the market all morning . The dollar was quoted at around 1 . 8040 marks shortly after midday in nervous but quiet trading , up from its 1 . 7975 / 85 opening . Spreads against the mark remained around 10 basis points , with some banks quoting only five point spreads . Dealers said spreads would widen and the dollar would move more sharply if the Bundesbank did intervene .',\n",
       " \"Turkey ' s Central Bank set a lira / dollar rate for April 3 of 782 . 50 / 786 . 41 to the dollar , down from 780 . 00 / 783 . 90 . It set a lira / D - mark rate of 428 . 30 / 430 . 44 to the mark , up from 429 . 15 / 431 . 30 .\",\n",
       " 'The Bank of Japan bought a small amount of dollars at around 145 . 95 yen shortly after the Tokyo market opened , dealers said . But the dollar then fell on speculative selling by trading houses , they said . The dollar had opened here at 145 . 95 yen against 145 . 85 / 90 yen in New York and 146 . 00 yen at the close here yesterday .',\n",
       " \"The Bank of Japan intervened in the market in the early afternoon , buying dollars around 147 . 30 yen and continuing to buy them as high as 147 . 50 yen , dealers said . The Bank intervened just after the dollar started rising on buying by securities houses at around 147 . 05 yen , and hoped to accelerate the dollar ' s advance , they said . The dollar rose as high as 147 . 50 yen .\",\n",
       " 'Citicorp said that on behalf of its Citibank N . A . Subsidiary , it is issuing 100 , 000 naked currency warrants priced at 67 - 1 / 2 marks each to purchase Australian dlrs for marks at a rate of 1 . 1825 marks per Australian dlr . The current rate is 1 . 2850 marks per Australian dlr . Each warrant is for a nominal amount of 1 , 000 marks and the minimum purchase will be for 100 warrants . The warrants expire on January 8 , 1988 . Payment is due on April 8 and the warrants will be listed on the Luxembourg Stock Exchange .',\n",
       " 'Shr profit two cts vs profit two cts Net profit 216 , 000 vs profit 265 , 000 Revs 1 , 661 , 000 vs 1 , 376 , 000 12 mths Shr profit four cts vs loss two cts Net profit 528 , 000 vs loss 290 , 000 Revs 5 , 881 , 000 vs 5 , 541 , 000 NOTE : full name of company is pension insurance group of america inc .',\n",
       " 'Oper shr profit one ct vs profit two cts Oper net profit 63 , 000 vs profit 84 , 000 Sales 5 , 009 , 000 vs 4 , 042 , 000 1st half Oper shr profit two cts vs loss 17 cts Oper net profit 87 , 000 vs loss 794 , 000 Sales 9 , 838 , 000 vs 7 , 368 , 000 Backlog 17 . 8 mln vs 11 . 4 mln NOTE : Current year net excludes tax credits of 32 , 000 dlrs in quarter and 45 , 000 dlrs in half .',\n",
       " 'Oper shr 93 cts vs 32 cts Oper net 2 , 443 , 810 vs 847 , 609 Revs 30 . 3 mln vs 21 . 0 mln 12 mths Oper shr 1 . 16 dlrs vs 85 cts Oper net 3 , 066 , 407 vs 2 , 250 , 781 Revs 70 . 9 mln vs 61 . 8 mln NOTE : qtr 1985 excludes gain 96 , 327 dlrs for discontinued operations of Lebanon Packaging . Year 1986 and year prior excludes loss 62 , 216 dlrs , and gain 281 , 367 dlrs , respectively , for discontinued operations on Lebanon sale .',\n",
       " 'Shr 22 cts vs 25 cts Net 472 , 000 vs 454 , 000 Revs 16 . 2 mln vs 15 . 2 mln Avg shrs 2 , 135 , 315 vs 1 , 835 , 325 12 mths Shr 71 cts vs 70 cts Net 1 , 393 , 000 vs 1 , 285 , 000 Rwevs 61 , 805 , 000 vs 55 , 367 , 000 Avg shares 1 , 960 , 319 vs 1 , 835 , 325',\n",
       " 'The Belcher Co of New York , a subsidiary of Coastal Corp & lt ; CGP >, said it will raise the posted prices for number six fuel in New York 25 cts to 1 . 75 dlrs a barrel , depending on grades . Effective March 19 , the new prices are 0 . 3 pct sulphur 22 . 50 dlrs , up one dlr , 0 . 5 pct sulphur 21 . 75 dlrs , up 1 . 75 dlrs , 0 . 7 pct sulphur 21 dlrs , up 1 . 25 dlrs . One pct sulphur 20 . 25 dlrs , up one dlr , two pct sulphur 18 . 25 dlrs , up 25 cts , 2 . 2 pct sulphur 18 dlrs , up 25 cts , 2 . 5 pct sulphur 17 . 75 dlrs , up 30 cts , and 2 . 8 pct sulphur 17 . 50 dlrs , up 50 cts .',\n",
       " 'Texas Eastern Corp said it has completed the purchase of an idle petroleum products terminal near Norris City , Ill ., from & lt ; Growmark Inc > for undisclosed terms and will reopen it in September after remodeling . The company said the terminal will handle leaded and unleaded regular gasolines , number two fuel oil , ethanol and natural gasoline .',\n",
       " 'Caltex Petroleum Corp , a joint venture between Chevron Corp & lt ; CHV > and Texaco Inc & lt ; TX >, said it raised posted prices for several petroleum products in Singapore , effective today . The company said its naphtha posting is up three cts a gallon to 43 cts . It said it is raising jet and kerosene postings 2 . 5 cts , bringing jet to 52 . 5 cts and kerosene to 51 . 5 cts . Diesel grades are up two cts , Caltex said , bringing both diesel gas oil ( one pct sulfur ) and 52 - 57 D . I . ( 55 cetane ) to 52 cts a gallon , and diesel gas oil ( 0 . 5 pct ) to 52 cts . The company said it is increasing medium and heavy fuel oil postings by one dlr a barrel . Medium is now 15 . 50 dlrs a barrel , and heavy fuel is 14 . 75 dlrs .',\n",
       " \"Pacific Resources Inc said it signed a definitive agreement with Royal Dutch / Shell Group unit Shell Oil Co to buy Shell ' s marketing , terminaling and distribution assets in Hawaii for 32 mln dlrs . The purchase would include Shell ' s interest in 39 retail gasoline stations and four petroleum product terminals , PRI said . The company said it expects the transaction to be completed by September 1 , 1987 . The pact includes provisions allowing the continued use of the Shell trademark , credit cards and the sale of Shell brand products by the gasoline stations , PRI said . PRI said all Shell - brand products sold under this agreement will be manufactured to Shell specifications .\",\n",
       " \"Sweden announced tax increases on petrol and heating oil from July 1 , 1987 to help finance a 1 . 7 pct rise in defence spending over the next five years . A Finance Ministry statement said the increase should boost the price of petrol by 0 . 13 crowns to an average of 4 . 21 crowns per litre while light - grade heating oil would go up by 30 crowns per cubic metre to an average of 1 , 665 crowns . It said oil companies should absorb part of the tax rise internally and not pass it on to consumers as compensation for a reduction in the stocks that the industry is required to keep for Sweden ' s national petroleum reserve .\",\n",
       " 'Sonex Research Inc said its modified 1986 British Ford Escort passed the European emissions test , but reported the engine consumed 35 pct more fuel than the stock engine . Sonex said its engine is not equipped with a catalytic converter and does not use exhaust gas recirculation or an emission air pump . It said the company expected to realize a reduced fuel economy , but is working on improving fuel consumption . The company said after it installs the new fuel system , it will retest the automobile . In a separate announcement , the company said it received confirmation from the European Patent Office that Sonex successfully defended its BETA European Patent from a competitor .',\n",
       " 'The government will find it very difficult to achieve its new gross national product ( GNP ) forecast of three pct growth in the fiscal year ending March 31 , Economic Planning Agency officials said . They made the comment to reporters after news that GNP rose 0 . 8 pct in the October / December quarter , after a 0 . 7 pct increase the previous three months . For Japan to achieve three pct growth in 1986 / 87 , GNP in the January / March period would have to grow 2 . 6 pct from October / December , the officials said . The government lowered its GNP forecast for 1986 / 87 from four pct last December .',\n",
       " 'President Reagan said the 1 . 1 pct U . S . economic growth rate during the final quarter of 1986 \" wasn \\' t all that bad .\" The Commerce Department said the rate of growth of the Gross National Product in the October - December period was only slightly less than a preliminary estimate of 1 . 3 pct made earlier . At the same time , it said inflation , as measured by the GNP price deflator , rose by 0 . 7 pct during the period . Asked his reaction to the GNP report during a White House photo session , Reagan replied , \" It wasn \\' t all that bad .\"',\n",
       " \"Austrian gross domestic product growth for this year is likely to be between 0 . 5 and 1 . 5 pct , Helmut Kramer , head of the semi - official Institute for Economic Research ( WIFO ) said . This compared with a two pct growth forecast made by the WIFO last December . Kramer made the forecast at a meeting today on Austria ' s economic outlook also attended by Chancellor Franz Vranitzky , Finance Minister Ferdinand Lacina and National Bank President Stefan Koren .\",\n",
       " 'The Economic Planning Agency will announce gross national product ( GNP ) figures for the October / December quarter today at 1700 hrs local time ( 0800 gmt ), Agency officials told Reuters . In the July / September quarter , GNP rose 0 . 6 pct from the previous three months .',\n",
       " 'Carolin Mines Ltd said recent assays of tailings at its Hope , British Columbia mine indicated that ounces of gold per ton ranged from 0 . 64 to 0 . 50 . There were only trace amounts of platinum and palladium , the company said . Carolin said the results sharply disagreed with an earlier assay performed by Intergold U . S . A . Inc which showed one ounce of gold per ton and 1 / 2 ounce of platinum per ton . Carolin also said it expects to receive results of further tests and assays of the tailings within two to three weeks .',\n",
       " \"Or Val Mines Ltd said a recent drill hole from the surfrace has intersected high - grade ore in a downdip extension of the Discovery Vein in its D ' Or Val Mine in northern Quebec . The company said 42 . 3 feet of the hole graded 0 . 92 ounce per short ton of gold , including a 17 . 5 foot section grading 2 . 17 ounces . It said the zone is just below the projection of the seventh level of the mine about 1 , 450 feet below the surface and 820 feet west of the shaft . D ' Or Val said this find and other recent ones will make substantial contributions to the mine ' s ore reserves and grade .\",\n",
       " 'Viceroy Resource Corp said recent drilling on the Lesley Ann deposit extended the high - grade mineralization over a width of 600 feet . Assays ranged from 0 . 35 ounces of gold per ton over a 150 - foot interval at a depth of 350 to 500 feet to 1 . 1 ounces of gold per ton over a 65 - foot interval at a depth of 200 to 410 feet .',\n",
       " 'Lac Minerals Ltd and Cambior Inc said they completed a second hole at their jointly owned Doyon mine in Quebec , which showed two significant gold intersections . One intersection graded 0 . 33 ounce gold per short ton over 44 feet at depth of 1 , 411 feet , while the other graded 0 . 22 ounce gold per ton over 23 feet at 2 , 064 feet , the companies said . The hole is 460 feet east of the previously reported first hole . Another hole is being drilled 460 feet to the west of the first drill hole and results are expected in late March or early April .',\n",
       " \"China ' s wheat imports in January were 218 , 000 tonnes , down from 393 , 000 in January 1986 , the China Daily Business Weekly said , quoting customs figures . It said imports of sugar were 25 , 165 tonnes , down from 54 , 000 , but exports of rice rose to 71 , 144 tonnes from 20 , 000 . It gave no more details .\",\n",
       " 'The Oklahoma weekly USDA crop report said cold weather slowed crop development and caused some cattle deaths . Wheat growth was halted by cold weather , and rain early in the week prevented fertilizer application and weed spraying . Fields in the west were short of nitrogen , and moderate insect activity was noted in the southwest region . Wheat condition was rated 15 pct fair , 84 pct good and one pct excellent . Row crop activity was very slow amid wet conditions . Topsoil moisture was rated 30 pct adequate and 70 pct surplus , and subsoil moisture was rated 100 pct adequate . Only two days were suitable for fieldwork .',\n",
       " 'The Commodity Credit Corportion , CCC , has accepted a bid for an export bonus to cover the sale of 15 , 000 tonnes of U . S . wheat to West African countries , the U . S . Agriculture Department said . The dark northern spring wheat is for shipment May 15 - June 15 , 1987 . The bonus of 40 . 05 dlrs per tonne was made to Peavey Company and will be paid in the form of commodities from the CCC inventory , it said . An additional 315 , 500 tonnes of wheat are still available to West African countries under the Export Enhancement Program initiative announced October 30 , 1986 , it said .',\n",
       " 'Sri lanka will tender overnight for 52 , 500 tonnes of U . S ., Canadian and / or Australian wheats for April 8 / 16 shipment , under the Export Enhancement Program if U . S . origin , U . S . exporters said .',\n",
       " 'The U . S . Commodity Credit Corporation ( CCC ) sold 6 , 034 short tons of 1986 - crop farmers stock peanuts for domestic crushing , the U . S . Agriculture Department said . The peanuts were from the Southwest area and were sold at between 8 . 05 cts per lb ( total kernel content ), and 11 . 7225 cts per lb , the department said . The CCC will offering additional 1986 - peanuts for sale at a later date , the department said .',\n",
       " 'The Agricultural Stabilization and Conservation Service ( ASCS ) bought 2 . 3 mln pounds of peanut products at a cost of 2 . 1 mln dlrs and 7 . 4 mln pounds of vegetable oil / shortening for 2 . 0 mln dlrs , for domestic distribution April 1 - 15 and April 16 - 30 , an ASCS spokesman said .',\n",
       " \"Oil traders in New York said Exxon Corp ' s Exxon U . S . A . unit reduced the price it charges contract barge customers for heating oil in New York harbor 0 . 75 cent a gallon , effective today . They said the reduction brings Exxon ' s contract barge price to 43 . 25 cts . The price decrease follows sharp declines in heating oil prices on spot and futures markets , traders said .\",\n",
       " \"Sun Co ' s Sun Refining and Marketing Co subsidiary said it raised the price it charges contract barge customers for heating oil in New York harbor by 0 . 50 cent a gallon , effective today . The increase brings the contract barge price to 50 . 50 cts a gallon , Sun said .\",\n",
       " \"Chicago Mercantile Exchange floor traders and commission house representatives are guesstimating today ' s hog slaughter at about 295 , 000 to 308 , 000 head versus 305 , 000 week ago and 308 , 000 a year ago . Cattle slaughter is guesstimated at about 128 , 000 to 132 , 000 head versus 130 , 000 week ago and 126 , 000 a year ago .\",\n",
       " \"Chicago Mercantile Exchange floor traders and commission house representatives are guesstimating today ' s hog slaughter at about 290 , 000 to 310 , 000 head versus 309 , 000 week ago and 328 , 000 a year ago . Cattle slaughter is guesstimated at about 128 , 000 to 131 , 000 head versus 129 , 000 week ago and 127 , 000 a year ago .\",\n",
       " 'International Minerals and Chemical Corp said its board approved a 50 mln dlrs budget over the next several years to build production facilities for a newly developed product to be used to improve the lean weight of hogs . The new product , porcine somatotropin ( PST ) is described as a natural bio - synthetic protein that improves the lean weight and rate of weight gain , as well as reduces the cost of feed for market hogs , the company said . Specific details of the PST production project , including sites for proposed facilities and engineering plans , were not disclosed . International Minerals said it set a completion target for the spring of 1989 , by which time necessary Food and Drug Administration approvals are expected to be obtained .',\n",
       " \"Completions of new homes fell 0 . 2 pct in January to a seasonally adjusted rate of 1 . 884 mln units from 1 . 888 mln in December , the Commerce Department said . The January fall came after a strong 6 . 4 pct rise from November ' s rate of 1 . 774 mln units and brought completions to 6 . 7 pct above the January , 1986 level of 1 . 765 mln units . In January , completions of single - family units rose 0 . 4 pct to a seasonally adjusted 1 . 183 mln units from 1 . 178 mln units in December while multi - family units fell 1 . 3 pct to 701 , 000 units in January , the department said .\",\n",
       " 'Commerce Secretary Malcolm Baldrige predicted 1987 will be the fifth successive year for growth in housing starts after a 2 . 6 pct rise overall in February starts to a seasonally adjusted annual rate of 1 . 851 mln units . \" This year should be the fifth solid year in a row for homebuilding activity -- with single - family units stronger than multi - family units ,\" he said in a statement . Single - family starts rose last month from January levels by 5 . 6 pct to 1 . 317 mln units on a seasonally adjusted basis while multi - family unit starts fell 4 . 1 pct to 534 , 000 units , the department reported .',\n",
       " \"Completions of new homes fell 0 . 2 pct in January to a seasonally adjusted rate of 1 . 884 mln units from 1 . 888 mln in December , the Commerce Department said . The January fall came after a strong 6 . 4 pct rise from November ' s rate of 1 . 774 mln units and brought completions to 6 . 7 pct above the January , 1986 , level of 1 . 765 mln units . In January , completions of single - family units rose 0 . 4 pct to a seasonally adjusted 1 . 183 mln units from 1 . 178 mln units in December while multi - family units fell 1 . 3 pct to 701 , 000 units in January , the department said .\",\n",
       " \"Completions of new homes fell 0 . 2 pct in January to a seasonally adjusted rate of 1 . 884 mln units from 1 . 888 mln in December , the Commerce Department said . The January fall came after a strong 6 . 4 pct rise from November ' s rate of 1 . 774 mln units and brought completions to 6 . 7 pct above the January , 1986 level of 1 . 765 mln units . In January , completions of single - family units rose 0 . 4 pct to a seasonally adjusted 1 . 183 mln units from 1 . 178 mln units in December while multi - family units fell 1 . 3 pct to 701 , 000 units in January , the department said .\",\n",
       " 'The average weekly earnings of U . S . workers after adjustment for inflation and seasonal changes rose 0 . 6 pct in February after being unchanged in January , the Labor department said . The department had earlier reported that real earnings fell 0 . 3 pct in January but revised the figure to show earnings unchanged . Between February this year and February , 1986 , real earnings rose 0 . 5 pct , the department said . The rise in February real earnings resulted from a 0 . 5 pct increase in average hourly earnings and a 0 . 6 pct increase in average weekly hours . That was partly offset by a 0 . 4 pct rise in the consumer price index , which measures inflation , the department said . Before seasonal adjustment , weekly earnings last month averaged 307 . 59 dlrs , up from 305 . 13 dlrs in January and up from 300 . 66 dlrs in February , 1986 . Reuter ...',\n",
       " 'January after a revised rise of 144 mln dlrs in December , the Federal Reserve Board said . The annual rate of growth in January was 1 . 1 pct , up from 0 . 3 pct in December . Previously the Fed said consumer credit rose 105 mln dlrs in December . Among the credit categories , auto credit fell in January to 1 . 02 billion dlrs from 2 . 06 billion dlrs in December , the Fed said . Revolving credit in January fell by 366 mln dlrs after rising by 552 mln dlrs in December . Mobile home credit was up by 130 mln dlrs after falling by 21 mln dlrs in December . The category referred to as \" other ,\" covering bank and credit union loans , fell by 250 mln dlrs in January after declining by 2 . 44 billion dlrs in December , the Fed said . Before seasonal adjustment , consumer credit outstanding totaled 580 . 37 billion dlrs at the end of January , compared with 531 . 29 billion dlrs at the end of January , 1986 .',\n",
       " 'February after a revised rise of 789 mln dlrs in January , the Federal Reserve Board said . The annual rate of growth in February was 3 . 7 pct , up from 1 . 6 pct in January . Previously the Fed said consumer credit rose 536 mln dlrs in January . Among the credit categories , auto credit rose in February by 717 mln dlrs after increasing 416 mln dlrs in January , the Fed said . Revolving credit in February rose 1 . 04 billion dlrs after falling by 23 mln dlrs in January . Mobile home credit was down by 59 mln dlrs in February after rising 141 mln dlrs in January . The category referred to as \" other ,\" covering bank and credit union loans , increased by 74 mln dlrs in February after rising by 255 mln dlrs in January , the Fed said . Before seasonal adjustment , consumer credit outstanding totaled 576 . 05 billion dlrs at the end of February , compared with 530 . 41 billion dlrs at the end of February , 1986 .',\n",
       " \"The Commodity Credit Corporation ( CCC ) interest rate on loans disbursed in April will carry a six pct ionterest rate , the U . S . Agriculture Department said . The April rate is up from March ' s 5 - 7 / 8 pct and reflects the interest rate charged CCC by the U . S . Treasury , the department said .\",\n",
       " 'The Bank of England said it had offered borrowing facilities to those discount houses wishing to use them at 1430 GMT . The Bank also said it provided the money market 456 mln stg assistance in the afternoon session bringing its total help so far today to 493 mln stg . This compares with its forecast of a shortage in the system today of around 700 mln stg . The central bank purchased bank bills outright comprising 41 mln stg in band one at 10 - 7 / 8 pct 361 mln stg in band two at 10 - 13 / 16 pct and 54 mln stg in band three at 10 - 3 / 4 pct . Money market dealers said the Bank of England has recently used the offer of borrowing facilities to signal that it does not want to see an early reduction in U . K . Base lending rates . The Bank does this by lending to the discount houses at rates of interest higher than its prevailing money market dealing rates .',\n",
       " 'The Bank of England said it gave the market further assistance of two mln stg during the afternoon , buying that amount of band two bank bills at 10 - 5 / 16 pct . The bank has given the market assistance worth 1 . 503 billion stg today to offset a shortage it estimated at a revised 1 . 60 billion .',\n",
       " 'Citibank NA > said it has cut its British base lending rate to 10 . 5 pct from 11 pct , with effect from tomorrow . This move follows similar cuts by four major British clearing banks , led by National Westminster Bank Plc & lt ; NWBL . L >. Lower rates were signalled by the Bank of England this morning in an attempt to curb recent upward pressure on the pound , market sources said .',\n",
       " 'Soviet economist said the practice of padding figures was significantly inflating the country \\' s industrial production data . \" According to the information of state monitoring organs , the padding of figures makes up one - and - a - half to three per cent of the volume of production ,\" Alexei Sergeyev told the official newspaper Sovetskaya Rossiya . \" In my opinion , it is significantly higher ,\" Sergeyev , who works at the Economics Institute of the Soviet Union \\' s Academy of Sciences , said . Most Western economists have for years allowed for a certain padding of figures when analysing Soviet statistics for industrial production . Sergeyev said about 600 mln roubles was lost annually in raw material industries by paying wages and bonuses for work which was not in fact performed . He said the elimination of figure - padding and other malpractices would save billions of roubles and would pay for the Soviet Union \\' s social development program up to the year 2000 .',\n",
       " 'Industrial production rose 4 . 8 pct on a seasonally - adjusted basis in January compared with December while rising 2 . 8 pct from January last year , Central Bureau of Statistics figures show . In December , industrial production fell by 2 . 8 pct from November while rising 2 . 9 pct compared with December 1985 . The industrial production index , base 1980 , stood at 109 in January compared with a downward revised 104 in December , which was initially put at 105 . In January last year , the index stood at 106 and in December 1985 at 101 .',\n",
       " \"Hungary ' s economy and hard currency trade have failed so far this year to reverse a two - year unfavourable trend , the official Hungarian news agency MTI said . Industrial production in January and February was only 1 . 3 pct up on the same 1986 period , MTI said , while hard currency exports fell six pct as imports rose 10 pct . Hungary ' s hard currency trade fell into a deficit of 539 . 4 mln dlrs last year from a surplus of 295 . 3 mln in 1985 and 1 . 2 billion in 1984 . MTI quoted a government spokesman saying last December ' s wage freeze decree would expire on April 1 as envisaged . Gross domestic product grew a sluggish one pct in 1986 after stagnating in 1985 and growing 2 . 6 pct in 1984 .\",\n",
       " 'The EC Commission said it was adopting an \" open attitude \" about whether a system of production quotas should remain for the indefinite future on heavy steel products which account for about 45 pct of all EC steel goods . In a statement , the Commission reiterated its view that the industry needs to lose between 25 and 30 mln tonnes of capacity by 1990 . It had previously said the quota system , started in 1980 , should be wound up completely by the end of next year . The industry has argued for the maintenance of existing quotas , which cover almost 70 pct of all output , saying almost all steelmakers are losing money due to the depressed market .',\n",
       " 'Nippon Steel Corp & lt ; NSTC . TOK > said it will cut its capital spending by 36 . 4 pct to 105 billion yen in the year starting April 1 from a year earlier due to the postponement of furnace improvements . & lt ; Nisshin Steel Co Ltd > said it will spend 10 . 7 billion yen in 1987 / 88 for rationalisation and facility improvements , down from 32 . 1 billion a year earlier , after completion of large construction projects in 1986 / 87 . But capital spending by Nippon Kokan K . K . & lt ; NKKT . TOK > to improve and increase its production facilities will rise to 94 . 90 billion yen from 64 billion , the company said .',\n",
       " 'The state - owned Minerals and Metals Trading Corp will send a team to Japan next week to negotiate an iron ore export contract for 1987 / 88 beginning April 1 , trade sources said . Japan , the biggest buyer of Indian iron ore with imports of around 23 mln tonnes a year , has asked India to reduce prices from the current average of 18 dlrs a tonne , the sources said . \" Japan has said it may be forced to reduce ore imports from India next year if New Delhi fails to reduce the price ,\" one source said , but declined to give further details .',\n",
       " 'Steel output in the major non - Communist producing countries fell sharply in February , continuing a long - running trend , International Iron and Steel Institute figures showed . Production in the 30 countries which report their figures to it was 6 . 9 pct below the February 1986 level at 32 . 03 mln tonnes . Output in the United States fell 18 . 5 pct to 5 . 30 mln tonnes , that in Japan 7 . 8 pct to 7 . 27 mln and that in the European Community 6 . 5 pct to 9 . 91 mln . The figures continue to indicate a switch away from these traditional major producing countries to the more advanced developing countries . Brazilian February output rose 9 . 2 pct from year - earlier levels to 1 . 73 mln tonnes and that in South Korea was up 7 . 5 pct at 1 . 17 mln tonnes . The 30 countries covered by the figures account for about 97 pct of world non - Communist steel production , the Institute said .',\n",
       " 'Texaco Refining and Marketing Inc is being awarded a 84 . 1 mln dlr Defense Logistics Agency contract for jet fuel , the Defense Department said . It said work on the contract , which was awarded as part of a multi - contract procurement program , is expected to be completed by March 31 , 1988 .',\n",
       " 'Finnish unemployment was 6 . 7 pct in December last year compared with 6 . 8 pct in November and 6 . 1 pct in December 1985 , the Central Statistical Office said . It said 173 , 000 people were unemployed in December 1986 , 174 , 000 in November and 157 , 000 in December 1985 .',\n",
       " 'New applications for unemployment insurance benefits rose to a seasonally adjusted 355 , 000 in the week ended March 21 from 341 , 000 in the prior week , the Labor Department said . The number of people actually receiving benefits under regular state programs totaled 2 , 480 , 000 in the week ended March 14 , the latest period for which that figure was available . That was up from 2 , 454 , 000 the previous week .',\n",
       " 'Belgian unemployment , based on the number of jobless drawing unemployment benefit , fell to 11 . 8 pct of the working population at the end of March from 12 . 1 pct at end of February , the National Statistics Office said . The rate compares with 12 . 0 pct at the end of March , 1986 . The total number of jobless stood at 495 , 208 , compared with 508 , 392 in February and 504 , 652 in March last year .',\n",
       " 'Treasurer Paul Keating forecast economic growth at slightly under two pct in the financial year ending June this year , down from the 2 . 25 pct forecast contained in the 1986 / 87 budget delivered last August . Australia \\' s terms of trade also fell , by 18 pct , over the past two years , he told Parliament . Terms of trade are the difference between import and export price indexes . Despite the figures , the budget forecast of about 1 . 75 pct annual growth in employment would be met , Keating said . Unemployment is currently at 8 . 2 pct of the workforce . \" This government is dragging Australia through a trading holocaust the kind of which we have not seen since the Second World War ,\" Keating said . \" We are not pushing this place into a recession . We are not only holding our gains on unemployment , we are bringing unemployment down ,\" he said , adding that the government had help the country avoid recession .',\n",
       " 'World animal health experts called for a campaign to eradicate the lethal cattle disease Rinderpest in Bangladesh , Bhutan , India , Nepal and Pakistan , a statement from a Food and Agriculture Organization ( FAO ) meeting here said . Some 230 mln dlrs is needed over two years to vaccinate the entire susceptible cattle population in Bangladesh and Pakistan and high - risk areas of the other three countries . In India some 240 mln cattle are estimated to be at risk from the disease . The experts recommended the campaign be funded mostly by the governments of the five nations , with help from the FAO . Similar campaigns are needed in Egypt , Yemen , Iraq and Iran .',\n",
       " \"Consumption of lead and zinc in all forms during January rose to 26 , 314 and 18 , 778 tonnes , from 24 , 967 and 17 , 929 tonnes respectively in December , latest figures by the World Bureau of Metal Statistics ( WBMS ) show . Refined lead consumption rose to 23 , 992 tonnes from 23 , 194 , while scrap offtake was 2 , 322 tonnes against 1 , 773 . Slab zinc consumption was 14 , 257 tonnes against 14 , 190 during December , while offtake of scrap and re - melted metal was 4 , 521 tonnes against 3 , 739 . Meanwhile production of refined lead in January rose to 28 , 188 tonnes from 23 , 693 in December , but slab zinc production fell to 4 , 490 tonnes from 5 , 793 , the WBMS figures showed . Stocks of slab zinc totalled 14 , 780 tonnes , down from December ' s 15 , 008 .\",\n",
       " 'Lead stocks held by U . S . refiners rose to 37 , 295 short tons at the end of February from 34 , 224 short tons ( revised higher ) at the end of January , the American Bureau of Metal Statistics reported . Production of lead decreased to 33 , 619 short tons in February from 38 , 759 short tons in January . Shipments from plants increased to 30 , 467 short tons in February from 27 , 041 short tons ( revised lower ) in January , the ABMS said .',\n",
       " 'Commerce Secretary Malcolm Baldrige said after the release of a sharply lower January leading indicator index that a pickup in exports is needed . \" The best tonic for the economy now would be a pickup in net exports ,\" he said in a statement after the department reported the index fell 1 . 0 pct in January from December , the sharpest drop since a 1 . 7 pct fall in July , 1984 . The main reasons for the January decline after a 2 . 3 pct December rise were declines in building permits , new orders for plant and equipment and for consumer and industrial goods .',\n",
       " 'The White House welcomed last month \\' s 0 . 7 pct increase in the Index of Leading Economic Indicators , the government \\' s key barometer of future economic growth . The increase reversed a decline in January of 0 . 5 pct . Presidential spokesman Marlin Fitzwater said the new figures signalling more economic growth in coming months showed that the index was \" back on track \" after its downturn at the first of the year .',\n",
       " \"Canada ' s leading composite indicator advanced 0 . 4 pct in December after gaining 0 . 4 pct in the two previous months , Statistics Canada said . The unfiltered index rose 0 . 8 pct in the month , a turnaround from the 0 . 3 pct decline in November , the federal agency said . The manufacturing groups continued to post advances while goods production rose 1 . 6 pct , the third increase in the last four months . The advances , however , were offset by a deceleration in household demand .\",\n",
       " 'Agriculture Department animal health officials are conducting a national survey of live - bird markets and auctions to check for signs of avian influenza , an infectious viral disease of poultry , the department said . The survey will locate poultry dealers and live - bird markets that sell live birds directly to the consumer and once the dealers and markets are identified , there will be tests to determine any past or present exposure to avian influenza viruses , it said . In 1983 - 84 , an outbreak of avian influenza in Pennsylvania , Maryland , Virginia and New Jersey cost taxpayers 65 mln dlrs to control and required the destruction of more than 17 mln birds , it said . The survey is expected to be completed by April 15 .',\n",
       " \"Chicago Mercantile Exchange floor traders ' immediate reaction to the cold storage report for pork bellies was neutral to slightly negative . Frozen pork belly stocks at 34 . 5 mln lbs on March 1 compared with a revised 34 . 9 mln lbs on February 1 for a net out movement of 0 . 5 mln lbs . The number on hand compared with trade guesses of 33 . 5 to 36 mln lbs and the year ago figure of 51 . 2 mln lbs . Traders said the figure was toward the upper end of expectations and may provide slight downward pressure because of recent sharp gains in futures .\",\n",
       " 'Officials are studying the possible link between the use of antibiotics in calf feeds and the spread of drug - resistant strains of salmonella in humans , a Ministry of Agriculture official said . A study published in the New England Journal of Medicine yesterday stated that the spread of an unusual strain of salmonella that is resistant to the drug chloramphenicol had been shown to be linked to farms that used the drug to promote the growth of cattle . The U . K . Ministry of Agriculture is working with the Department of Health and the Public Health Laboratory to investigate the whole subject of resistant strains of salmonella . \" The Ministry of Agriculture is concerned about the possible effects on human and animal health ,\" the official said . The government is also studying a recommendation from the Farm Animal Welfare Council ( FAWC ) to restrict the trade of calves under 56 days old through markets . The FAWC says this would help reduce the spread of salmonella .',\n",
       " 'The Commodity Credit Corporation has accepted a bid for an export bonus to cover the sale of 760 head of dairy cattle to Egypt , the U . S . Agriculture Department said . The delivery period for the cattle is April , 1987 - June , 1988 , it said . The bonus of 1 , 870 . 00 dlrs per head was made to Esmah Nevada Inc and will be paid in the form of commodities from the CCC inventory . An additional 7 , 199 head of dairy cattle are still available to Egypt under the Export Enhancement Program initiative announced September 12 , 1986 , the department said .',\n",
       " 'The Commerce Department said that all Canadian firms had begun to pay an agreed to 15 pct surcharge on softwood shipped to U . S . markets . It made the statement after talks with Canadian officials about press reports and speculation in Canada that some exporters were not paying the charge . Canada and the United States agreed last December to the 15 pct charge , ending a lengthy trade dispute over alleged Canadian subsidies to Canada \\' s softwood exporters . Commerce officials would not say if they found any Canadian companies had been evading the charge , but that following the talks they were convinced all exporters were complying with the agreement . Undersecretary of Commerce Bruce Smart said \" We are gratified to learn that companies in Canada have begun paying the export charge on lumber .\" He added the agreement was important to the health of the U . S . lumber industry and he intended to see that it was fully carried out .',\n",
       " 'Agriculture Undersecretary Daniel Amstutz said he was \" totally sympathetic \" with U . S . wood producers \\' desire to have their exports eligible for government credit guarantees . But he told the Senate Appropriations Agriculture subcommittee that including wood products in the department \\' s short - or intermediate - term export guarantee programs would conflict with U . S . multilateral trade obligations . Currently , U . S . wood products are not eligible for government export credit guarantee because they are considered \" manufactured products ,\" Amstutz said . He said USDA had devoted an \" enormous amount \" of time to considering making wood products eligible for the guarantees and that Congress was considering a measure to do so .',\n",
       " 'The Commerce Department said all Canadian firms have begun to pay an agreed 15 pct surcharge on softwood shipped to U . S . markets . It made the statement after talks with Canadian officials about rumors in Canada that some exporters were not paying the charge . Canada and the U . S . agreed last December to the 15 pct charge , ending a lengthy trade dispute over alleged Canadian subsidies to Canada \\' s softwood exporters . Commerce officials declined to say if any Canadian companies had been evading the charge , but said following the talks they were convinced all exporters were complying with the agreement . Undersecretary of Commerce Bruce Smart said \" We are gratified to learn that companies in Canada have begun paying the export charge on lumber .\" He added the agreement was important to the health of the U . S . lumber industry and he intended to see that it was fully carried out .',\n",
       " \"The U . S . Agriculture Department said its summary report on the Feed Situation and Outlook , scheduled for release April 24 , has been delayed until May 15 . The department said the delay will enable analysts to incorporate into the report USDA ' s first supply and demand estimates for the 1987 / 88 marketing year and data on farm program participation .\",\n",
       " 'The U . K . Produced 820 , 400 tonnes of oilcake and meal and 431 , 000 tonnes of crude vegetable oil in calendar 1986 , Ministry of Agriculture figures show . They compare with 785 , 800 tonnes of oilcake and meal and 407 , 400 tonnes of crude vegetable oil produced in 1985 . Total oilseeds crushed rose to 1 . 27 mln tonnes from 1 . 21 mln in 1985 .',\n",
       " 'Feed compounds , balancers and concentrates produced in Britain in the five weeks ended January 31 totalled 973 , 400 tonnes , against 966 , 200 tonnes produced in the same 1986 period , Ministry of Agriculture figures show . However , cattle / calf feed output , the largest single component , was 7 . 2 pct down at 435 , 900 tonnes against 469 , 900 tonnes . Pig feed was 170 , 800 tonnes versus 171 , 600 , and poultry feed 287 , 600 compared with 256 , 600 . Other smaller components included in the total all showed increases .',\n",
       " 'France today repaid 21 . 95 billion francs of short - term currency intervention debt to the European Monetary Cooperation Fund , EMCF , the Finance Ministry said . It said the debt was part of a 33 . 90 billion franc liability incurred through the activation of EMCF swap facilities to defend the franc before the January 11 European Monetary System realignment . The realignment , following several weeks of speculative pressure , produced a three pct revaluation of the West German mark and the Dutch guilder against the French franc and a two pct revaluation of the Belgian franc .',\n",
       " 'The Bank of Finland called a news conference at 1200 GMT to announce new measures for the \" development of the system of monetary control .\" A spokesman for the Bank declined to give further details . Banking sources said they expected the bank to announce it will actively take part in the interbank market and buy and sell certificates of deposit . The state treasury issues government paper with a maturity of up to one year . The central bank has so far not issued its own paper , the sources said .',\n",
       " 'A Finance Ministry official said the ministry has recently conducted a survey on foreign exchange transactions by institutional investors but declined to say if it was aimed at moderating their dollar sales . However , financial market sources said they had heard the ministry has asked life insurance and securities firms to refrain from selling dollars , but they were unable to confirm this directly . Dealers said life insurance firms were not major sellers of dollars in recent trading sessions because they had already sold them to hedge risks . Dealers said securities houses and trust banks on the other hand have aggressively sold the dollar .',\n",
       " 'Treasury Secretary James Baker said the agreement among the industrial countries reached in Paris last month should foster stability of exchange rates at around current levels . In testimony before the House Appropriations Committee , Baker outlined many of the measures taken designed to achieve more balanced growth and a reduction of trade imbalances during the Paris meeting . \" These measures should also foster greater stability of exchange rates around current levels ,\" he said . Baker reiterated that the ministers at the Paris meeting agreed that their currencies were within ranges \" broadly consistent with underlying economic fundamentals and that further substantial exchange rate shifts could damage growth and adjustment prospects .\" He added : \" In these circumstances , we agreed to cooperate closely to foster stability of exchange rates around current levels .\"',\n",
       " \"February 23 week , the Federal Reserve said . The previous week ' s M - 1 level was revised to 736 . 6 billion dlrs from 736 . 7 billion dlrs , while the four - week moving average of M - 1 rose to 736 . 7 billion dlrs from 735 . 0 billion . Economists polled by Reuters had forecast M - 1 in a range from down 500 mln dlrs to up 4 . 5 billion dlrs . The average forecast called for a 2 . 2 billion dlr M - 1 rise .\",\n",
       " \"The annual growth of Australia ' s m3 money supply rose by 11 . 2 pct in the year ended February compared with January ' s 10 . 7 pct , the Reserve Bank said . This was down from 14 . 0 pct in February last year . In February m3 rose by 0 . 6 pct compared with 0 . 8 in January and a February 1986 rise of 0 . 1 pct . More\",\n",
       " \"Japan ' s broadly defined money supply average of M - 2 plus certificate of deposits ( CDs ) rose a preliminary 8 . 8 pct in February from a year earlier , compared with an 8 . 6 pct rise in January , the Bank of Japan said . The seasonally adjusted February average of M - 2 plus CDs supply rose 0 . 8 pct from January , it said . Unadjusted M - 2 plus CDs stood at an average 336 , 000 billion yen in February compared with 337 , 100 billion yen in January .\",\n",
       " 'Business loans on the books of major U . S . banks , excluding acceptances , fell 660 mln dlrs to 277 . 93 billion dlrs in the week ended March 11 , the Federal Reserve Board said . The Fed said that business loans including acceptances declined 492 mln dlrs to 280 . 56 billion dlrs .',\n",
       " 'Delhi Petroleum Pty Ltd > said a second gas flow has been recorded in the Epsilon formation of the Toolachee Block on PEL five and six signifying a new pool discovery . The Kerna Four appraisal well flowed gas at 235 , 038 cubic meters a day with four kiloliters of condensate through a 13mm surface choke over an interval of 2 , 374 to 2 , 399 meters . DST 1 , in the Epsilon formation , was earlier reported as flowing gas at 237 , 862 cm / day , Delhi said in a statement . The well is two km south south east of Kerna 3 , 15 km south east of the Dullingari field and 75 km east of Moomba . Delhi said the remaining objective of the well is the Patchawarra formation . Other interest holders in the Kerna Four well are : Santos Ltd & lt ; STOS . S > 50 pct , Delhi 30 , & lt ; Vamgas Ltd > 10 , & lt ; South Australian Oil and Gas Corp Pty Ltd > 10 pct .',\n",
       " \"Transcontinental Gas Pipe Line Corp said that it is not willing to accept the Federal Energy Regulatory Commission ' s conditioned approval of its proposed offer of settlement dated May 13 . Transco said it filed a revised settlement proposal which would permit it to become an open access transporter while restructuring gas sales services . The new offer includes a gas supply inventory charge to customers who fail to buy 60 pct of their annual contract quantities and 35 pct of their summer contract quantities .\",\n",
       " \"Noble Affiliates Inc said it found natural gas on Ship Shoal 80 , located about 10 miles offshore Louisiana in the Gulf of Mexico . The discovery well , Samedan Oil Corp ' s OCS - G 5537 Well Number One , was drilled in 25 feet of water to a total depth of 7 , 500 feet and found 38 feet of net gas pay in a 48 - foot gross sand interval , the company said . The well tested gas at a rate of 6 . 2 mln cubic feet a day through a 26 / 64 - inch choke with 1 , 548 pounds flowing tubing pressure . Gas sales should begin in the first quarter of 1988 , it said . Samedan , a Noble unit , is operator and owns a 60 pct working interest in the well . Other owners are a New England Electric System & lt ; NES > unit , with a 25 pct stake , and Southwestern Energy Production Co , with 15 pct .\",\n",
       " \"Trinidad and Tobago is finalizing arrangements with Union Carbide & lt ; UK > of the United States and Snamprogetti of Italy for the construction of a 1 , 500 tonnes per day methanol plant , Energy Minister Kelvin Ramnath said . Ramnath said the ministry is now holding talks with Union Carbide on the price of natural gas to be used in the plant , which will be constructed near the Trinidad and Tobago oil company ( Trintoc ) refinery at Point Fortin on the west coast . Snamprogetti built the first methanol refinery on trinidad five years ago . Trintoc is likely to put up land , refinery plant and machinery as equity . If negotiations go smoothly , ramnath said , construction could begin by next january . The government of prime minister A . N . R . Robinson is hoping to lue new investors to the twin - island state ' s petrochemical industry , in order to make use of new findings of natural gas .\",\n",
       " \"Sumitomo Metal Mining Co said it will raise its monthly nickel output to around 1 , 750 tonnes from April 1 from 1 , 650 now because of increased domestic demand , mainly from stainless steel makers . Sumitomo produced 1 , 800 tonnes of a nickel a month until end - 1986 , but cut output in January because of stagnant demand , a company official said . Calendar 1987 production is likely to fall to around 20 , 000 tonnes from 22 , 000 in 1986 as a result of the first quarter reduction , he said . Sumitomo is Japan ' s only nickel producer .\",\n",
       " 'The Finnish metal and mining group Outokumpu Oy said it will close its nickel refinery at Harjavalta in central Finland for six weeks in July and August this year due to current low prices on the nickel market . \" We consider nickel prices as bad at the moment , although they have been rising slightly since January ,\" refinery sales manager Pekka Purra said . He said the closure will mean a drop in production of 3 , 000 tonnes in 1987 from last year \\' s output of 17 , 800 tonnes . The closure was also a move to cut labour costs as no extra staff have to be employed during holidays to keep the plant open .',\n",
       " 'The joint committee of Taiwan soybean importers awarded a contract to Cigra Inc of Chicago to supply a 54 , 000 tonne cargo of U . S . Soybeans , a committee spokesman told Reuters . The cargo , priced at 213 . 87 U . S . Dlrs per tonne c and f Taiwan , is for delivery between April 20 and May 5 .',\n",
       " \"Japanese crushers , starting to buy U . S . Soybeans for April shipment , have recently made purchases of some 48 , 000 tonnes , trade sources said . The sources said they could not estimate the total volume to be purchased for April shipping because Japan ' s crushing program for April and June is unclear . They had predicted earlier that crushers ' April shipment U . S . Bean purchases would drop to 260 , 000 to 270 , 000 from the monthly average of 300 , 000 to 330 , 000 tonnes due to low soybean meal prices .\",\n",
       " \"Zimbabwe ' s Grain Marketing Board has banned the packing of oilseeds in locally - made polypropylene bags and will supply jute bags instead , board officials said . It said the quality of oilseeds such as soybeans , groundnuts and sunflower seed packed in polypropylene bags deteriorated after two weeks . Zimbabwe began producing 10 mln polypropylene grain bags this year to replace jute bags imported mainly from Bangladesh .\",\n",
       " 'Soybeans produced in the United States face a competitive price problem because of the loan rate provisions of the 1985 farm bill , U . S . Undersecretary of Agriculture Daniel Amstutz said . Amstutz told a House Agriculture Appropriations subcommittee hearing that soybeans are caught in a \" squeeze \" because the Farm Bill allowed steep cuts in grain loan rates while limiting the soybean reduction . As a result , he said U . S .- produced soybeans \" have a price problem \" in competing with other soybean producing countries . Amstutz called the situation a \" dilemma \" for the USDA , and said \" we have spent hours in ASCS ( Agriculture Stabilization and Conservation Service ) looking at this .\" He did not say what may be done to rectify the situation .',\n",
       " \"Agriculture Department ' s National Agricultural Statistics Services ( NASS ) said it will change its citrus estimate program for California and Arizona , starting in 1988 . NASS said it will discontinue California forecasts for lemons during December , February , March , May and June and for grapefruit and tangerines for those months plus November . Forecasts for lemons will be issued in October , November , January , April and July and for grapefruit in October , January , April , and July and for tangerines in October , January and April . There will be no change in the estimating program for California oranges . Arizona forecasts will be dropped for lemons , oranges , grapefruit and tangerines in November , December February , March , May and June , with forecasts retained in October , January , April and July , it said . There will be no changes in the estimating program for citrus in Texas or Florida .\",\n",
       " 'Brazil may not be issued until tomorrow , Commerce Department officials said . They said the department has until midnight tonight to set the duty , but may not make the finding public until tomorrow . A preliminary duty of 8 . 54 pct was set last Oct . 17 . The final duty will be based on more detailed information , the officials said .',\n",
       " \"There has been no rise in the price of Frozen Concentrated Orange Juice , FCOJ , a spokesman for the Banco do Brasil ' s Foreign Trade Department , Cacex , said . He was responding to rumours in the international market that Brazil had raised its FCOJ prices in range of 1 , 075 to 1 , 150 dlrs per tonne .\",\n",
       " \"The U . S . Agriculture Department projected an average yield of 1 . 47 gallons of frozen concentrated orange juice per box ( 42 . 0 degree brix equivalent ) from Florida ' s 1986 / 87 crop . That compares with 1 . 46 gallons per box previously and 1 . 38 gallons per box from the 1985 / 86 crop . The crop reporting board said the estimates for the 1986 / 87 season are based on maturity and yields tests as of March 1 .\",\n",
       " 'The Indian State Trading Corp bought one , or possibly two , 6 , 000 tonne cargoes of Malaysian refined bleached deodorised palm olein at its vegetable oil import tender today for Mar 15 / Apr 15 shipment at 355 dlrs per tonne cif , traders said .',\n",
       " 'The Palm Oil Registration and Licensing Authority ( PORLA ) reports trade in crude palm oil ( cpo ) on April 2 as follows in ringgit per tonne delivered unless stated . April 752 . 50 south and central 751 north average 752 . 50 down 6 . 50 . May 750 south down 11 . Refined palm oil traded in bulk US dlrs per tonne fob . RBD palm oil May 320 . RBD palm olein April 336 May 337 . 50 June 337 . RBD palm stearin May 275 . The cpo market was lower in light trading , with April traded between 747 . 50 and 755 ringgit per tonne . The refined palm oil market was slightly easier and April delivery of RBD palm olein to Singapore traded at 856 . 50 ringgit per tonne .',\n",
       " 'Ciba - Geigy AG & lt ; CIGZ . Z > said it would establish a joint venture with Phillips Petroleum Co . In Europe to manufacture a high performance engineering thermoplastic . Initially , the Swiss chemicals firm will manufacture polyphenylene sulfide compounds using resins from Phillips . The two firms will later set up a joint venture to produce the polyphenylene resins and compounds , which will be marketed independently under their respective trademarks . A Ciba - Geigy spokesman declined to say how much the venture would cost . Polyphenylene sulfide is widely used in the electronic , automotive , and petroleum fields .',\n",
       " \"Dow Chemical Co ' s Thermoplastic Resin Department said it is amending a recent price increase for Magnum ABS ( A ) resins announced March 3 for an effective date of April 1 . Dow said that effective April 15 the selling prices for most grades of Magnum ABS resins for the injection molding , custom sheet and automotive markets will rise six cts a pound , instead of the three cts a pound announced previously . Dow also said that the selling prices for performance grades of the resins to the same markets will increase eight cts a pound , rather than five cts as announced before . The company said that Magnum ABS resins for pipe extension will increase three cts a pound , effective April 9 , as previously reported . Dow said it altered the increase to reflect changes in the industry over the past month .\",\n",
       " 'Dow Chemical Co said it increased prices by nine cts a pound ( solids ) for styrene - butadiene latex and plastic pigments , effective May One . Dow did not release the percentage increase . It said the increase will affect the floor covering markets , paper , paperboard and specialty markets . It said the increase is in addition to a previously announced seven cts a pound ( solids ) increase , effective March One .',\n",
       " 'Tonen Sekiyukagaku KK > and & lt ; Exxon Chemical Co >, a petrochemical division of Exxon Corp & lt ; XON >, said they agreed to accelerate a study to set up an equally - owned joint venture to make waterwhite resin in Japan . Details of the venture , to be based on Exxon Chemical technology , will be set later , the companies said . Waterwhite resins are widely used in adhesive applications for baby nappies , medical tapes , and other bonding agents . Tonen is a wholly - owned subsidiary of Toa Nenryo Kogyo KK & lt ; TNEN . T > which is owned 25 pct by Exxon Corp .',\n",
       " 'The Irish Agriculture Department issued a Colorado beetle alert today after three of the beetles were found in a box of parsley imported from France . Officials said a colony of the black and amber coloured beetles can destroy a potato field in a day . The females lay up to 2 , 500 eggs each . Some of the 80 boxes in the parsley consignment had already been distributed to markets and the department called on all shopkeepers and the catering trade to be on the alert .',\n",
       " 'The U . S . Agriculture Department estimated 1987 winter potato production , based on March 1 conditions , at 2 , 788 , 000 cwts ( 100 lbs ), vs 2 , 764 , 000 cwts indicated last month and 2 , 991 , 000 cwts last year . The department estimated winter potato area for harvest at 11 , 900 acres , vs 11 , 900 acres last month and 12 , 300 acres in 1986 . The yield per harvested acre for winter potatoes is estimated at 234 cwts per acre , vs 243 cwts last year . The department also projected 1987 spring potato crop area planted at 79 , 300 cwts , vs 77 , 400 cwts last year , and area for harvest at 76 , 700 acres , vs 75 , 900 acres harvested last year .',\n",
       " 'The Indian State Trading Corporation ( STC ) bought a 20 , 000 tonne cargo of optional origin rapeseed oil at its vegetable oil import tender yesterday , traders said . The oil was for June 20 / July 20 shipment at 321 dlrs per tonne cif . Traders said the STC attempted to buy eight cargoes of processed palm oil but its price ideas were too low for exporters . It also failed to secure soyoil for the same reason , they said .',\n",
       " 'The Mexican Secretariat of Commerce has told the U . S . that recent implementation of a 10 pct ad valorem tariff for fixed vegetable oils , fluid or solid , crude , refined or purified , was not targeted at sunflower oil , the U . S . Agriculture Department said . In its World Production and Trade Report , the department said the increase in tariffs on this category which includes sunflower , corn and rapeseed oils , was a reaction to importers using basket categories to avoid paying tariffs on specific high - tariff products .',\n",
       " \"Denmark ' s net official reserves rose to 36 . 34 billion crowns in February from 28 . 00 billion in January , against a revised 45 . 85 billion in February 1986 , the central bank said in its monthly balance sheet report . Total net reserves , including reserves held by commercial and major savings banks , rose to 38 . 26 billion crowns from 30 . 11 billion in January compared with a revised 35 . 99 billion in February last year . The bank said provisional figures showed net registered private and public capital imports of 10 . 3 billion crowns in February .\",\n",
       " 'Sight deposits by commercial banks at the Swiss National Bank rose by 3 . 10 billion Swiss francs to 10 . 53 billion in the last 10 days of February , the National Bank said . Foreign exchange reserves fell 3 . 06 billion francs to 30 . 64 billion . Sight deposits are an important measure of Swiss money market liquidity . The decline in foreign exchange reserves reflected the dismantling of swap arrangements , the National Bank said . Banknotes in circulation rose by 834 mln francs to 24 . 79 billion while other deposits on call - mainly government funds - fell 1 . 60 billion francs to 1 . 04 billion .',\n",
       " \"State - owned ( Taiwan Power co ) will boost its domestic borrowings to further cut its foreign debt in line with a government policy to trim the island ' s huge foreign exchange reserves , a company official said . The company ' s foreign debt , mainly from the Japanese and U . S . Banks , was cut nearly by half to 66 . 2 billion taiwan dlrs equivalent in calendar 1986 from 124 . 6 billion in 1985 , he said . Its domestic borrowings however rose to 105 . 2 billion taiwan dlrs from 80 . 6 billion in the same period , he added . Taiwan ' s foreign exchange reserves now stood at 50 billion U . S . Dlrs , due to its 1986 record trade surplus of 15 . 6 billion .\",\n",
       " 'Weekly figures published by the Bank of France showed its gross foreign assets rose by about two billion francs last week , when it was reported by banks to have intervened on the foreign exchange markets to support the dollar against the yen . The figures showed its gold , foreign currency and other external assets rose to 415 . 1 billion francs from 413 billion , mainly reflecting a rise to 116 . 7 billion from 114 . 7 billion in foreign exchange holdings .',\n",
       " \"West German retailers expect another good year in 1987 even though they will not be able to repeat the sharp increase in turnover they enjoyed in 1986 , the General Association of the German Retail Trade ( HDE ) said . HDE President Wolfgang Hinrichs said retailers would be satisfied with a real turnover increase of between 2 . 5 pct to three pct in 1987 after last year ' s steep 3 . 7 pct rise . Hinrichs said the 1986 turnover increase had brought the first hesitant signs of improvement in earnings in the West German retail sector .\",\n",
       " 'Turkish retail prices rose 2 . 7 pct in February after 2 . 9 pct in January and 1 . 7 pct in February 1986 , the State Statistics Institute said . Prices in the year to February rose 31 . 6 pct , compared with 30 . 3 pct in the year to January and 38 . 8 pct in the 12 months to February 1986 . The index ( base 1978 / 79 ), covering 14 towns and five regions , was 1 , 886 . 8 in February , 1 , 837 . 2 in January and 1 , 434 . 0 in February 1986 .',\n",
       " 'The volume of U . K . Retail sales rose a provisional , seasonally adjusted 2 . 2 pct in February after falling a final 2 . 2 pct in January , figures released by the Department of Trade and Industry show . The February sales index , base 1980 , was put at a preliminary 125 . 0 after a final 122 . 3 in January . In the three months from December to February , the level of sales was little changed over the previous three months but was nearly six pct higher than the same year ago period . On a non - seasonally adjusted value basis , retail sales in February were a provisional 9 . 0 pct higher than a year earlier . The Department noted the latest figures were similar to the average in the fourth quarter last year but well above the January index , which was depressed by the effects of severe weather . The February trading period comprised the four weeks February 1 to 28 . Final February retail sales figures will be published on April 6 .',\n",
       " 'The White House welcomed the February retail sales figures showing a 4 . 1 pct rise , following a slow performance in January . Spokesman Marlin Fitzwater told reporters : \" The February sales growth was broad - based and good news for the economy .\" Commerce Department figures showed a larger than expected rise following depressed levels of sales and factory orders in January .',\n",
       " 'Producers and consumers representing most of world trade in natural rubber adopted a new International Natural Rubber Agreement ( INRA ) aimed at stabilizing world prices over the next five years . Negotiations for a new INRA , to succeed the present one which runs out next October , began nearly two years ago . Agreement on the new five - year pact , which uses a buffer stock to keep prices stable by selling or buying rubber as rates rise or fall , was reached at a two - week session here under the auspices of the United Nations Conference on Trade and Development ( UNCTAD ).',\n",
       " \"Japan ' s rubber stocks fell to 44 , 980 tonnes in March from 46 , 198 in February and from 53 , 784 in March 1986 , the Japan Rubber Trade Association said . The stocks ( in tonnes ), with February and year - earlier comparisons , were - March 87 Feb 87 March 86 Crude Rubber 41 , 536 42 , 094 49 , 551 Synthetic 3 , 334 3 , 978 4 , 044 Latex 110 126 189\",\n",
       " 'Shin - Etsu Chemical Co Ltd said it had developed an ultra thermal resistance rubber which can be used at 250 centigrade continuously without losing its properties . Shin - Etsu put potential demand for the product at two tonnes a month mainly for microwave ovens and as a sealant . But increasing use of the product in parts attached to car engines will raise demand and the company will boost output to 10 tonnes by March 1988 from two now , he said .',\n",
       " \"Bermuda Star Line Inc said it has leased a 23 , 500 ton passenger vessel from Orley Shipping Co Inc , of Liberia for a term with options extending for 15 years . The vessel , SS Liberte , will be renamed the Canadian Star and will be used for cruises to Montreal from New York , beginning in June . Orley SHipping is partially owned by Common Brothers PLC , a U . K . maritime firm which owns 60 pct of Bermuda Star ' s shares and arranged debt financing for the ship ' s purchase . Orley acquired the vessel from Banstead Shipping Ltd . Terms were not disclosed .\",\n",
       " 'South Africa / Salvador , Brazil 15 , 000 long tons manganese ore 2 , 500 / 1 , 500 end April . Callao / Crotone 5 , 000 mt minerals 4 , 000 / 2 , 000 spot . Geraldton / Tampico 13 , 500 mt bulk mineral sands fio 10 , 000 / 2 , 000 1 - 10 / 5 . Itea / Dunkirk 20 , 000 mt bauxite seven days all purposes 10 - 13 / 4 . Tampico / North Spain 15 , 000 mt ore two days shinc / 3 , 000 shex 5 - 25 / 4 . One port German North Sea / USG 10 , 500 mt bulk ore 2 , 500 / 4 , 000 7 - 13 / 4 .',\n",
       " 'The Panama Canal Commission , a U . S . government agency , said in its daily operations report that there was a backlog of 41 ships waiting to enter the canal early today . Over the next two days it expects -- 4 / 01 4 / 02 Due : 34 34 Scheduled to Transit : 41 39 End - Day Backlog : 34 29 Average waiting time tomorrow -- Super Tankers Regular Vessels North End : 25 hrs 11 hrs South End : 24 hrs 31 hrs',\n",
       " 'India is reported to have bought two white sugar cargoes for April / May shipment at its tender today near 227 dlrs a tonne cost and freight and could be seeking a third cargo , traders said . A British operator is believed to have sold one of the cargoes , while an Austrian concern is thought to have featured in the second cargo sale , they said .',\n",
       " \"December from 2 , 181 , 082 in November , the Interior Department ' s Bureau of Mines said . U . S . imports of silver in December were 8 , 458 , 000 ounces , vs 19 , 950 , 000 in November , and 8 , 840 , 000 in December , 1985 . Silver exports totaled 1 , 549 , 000 ounces in December , vs 2 , 346 , 000 in November and 1 , 504 , 000 ounces in December , 1985 . Silver mining production in the 12 - month period Jan - Dec , 1986 totaled 31 , 720 , 769 ounces , vs 39 , 357 , 197 ounces produced over the same period in 1985 . Imports of silver in Jan - Dec , 1986 totaled 144 , 890 , 000 ounces , vs 152 , 601 , 000 ounces in Jan - Dec , 1985 , while silver exports stood at 25 , 114 , 000 ounces and 24 , 756 , 000 ounces over the respective periods , the bureau said .\",\n",
       " 'The Commodity Exchange Inc said it is increasing the minimum margins for silver futures contracts , effective at the opening of business Thursday , April 2 . The margins for speculative trading will be increased to 2 , 000 dlrs per contract from 1 , 300 dlrs and trade hedge margins will rise to 1 , 400 dlrs from 900 dlrs , the Comex said . Margins are unchanged for gold , copper , and aluminum contracts , it said .',\n",
       " 'Bangladesh floated an international tender for the purchase of 10 , 000 tonnes of refined soyabean oil for delivery at Chittagong / Chalna port by April 24 , Food Ministry officials said . The tender closes March 28 at 0500 GMT .',\n",
       " 'Agriculture Secretary Richard Lyng warned the European Community yesterday it will face serious retaliation if it enacts a new tax on products such as U . S . Soybean oil . Speaking at a news conference before a scheduled speech , Lyng said he did not think the tax , which is still in the discussion stage , would be approved . He said the U . S . Would take serious retaliatory action because if implemented , the tax would have a considerable impact on U . S . Farmers .',\n",
       " \"California Micro Devices Corp said it has signed an agreement with Grumman Corp ' s Tachonics Corp unit to develop and product gallium arsenide seminconductor chips . Under the pact , California Micro Devices will design the chips and Tachonics will manufacture them . Initial products to be developed will be gate arrays with 500 to 2 , 500 gate complexity and radiation hardening capabilities , the company said .\",\n",
       " \"Japan ' s Agency of Natural Resources and Energy said it will begin experiments with Thailand at the end of March to start commercial production of rare metals in 1989 under a joint project . An agency official said it will set up a 500 mln yen pilot plant in Bangkok which will extract high quality rare metals such as titanium and niobium from sand left over from tin production processes in Thailand . The plant wilq use about a tonne of sand per day , although it is unclear how much rare metal will be extracted , the official said .\",\n",
       " \"The Treasury Department said it would temporarily permit imports of South African uranium ore and oxide pending clarification of anti - apartheid sanctions laws passed by Congress last fall . The decision was announced late Friday . It applies , until July 1 , to uranium ore and oxide imported into the U . S . for processing and re - export to third countries . The Treasury said it took the action because it felt that when Congress passed the comprehensive South African sanctions bill last fall over President Reagan ' s veto it had not intended to hurt U . S . industry . In addition , the Treasury said it would permit U . S .- made goods to be imported temporarily from South African state - controlled organizations for repair or servicing .\",\n",
       " \"An Agriculture Ministry survey has estimated the nation ' s 1986 / 87 crop sugar cane output at 2 . 14 mln tonnes , down from 2 . 62 mln a year earlier . Ministry officials said the decline was due to bad weather and a reduction in the land under sugar cane this season , which totals 34 , 800 hectares , down from 35 , 700 in 1985 / 86 , they said . Harvesting stretches from December 1986 to April 1987 Japan ' s final output will be announced at the beginning of June , they said .\",\n",
       " \"Cuban sugar output this season ( 1986 / 87 ) is put at around 7 . 5 mln tonnes raw value by broker C . Czarnikow in its monthly sugar market review . Allowing for around 700 , 000 tonnes for the current year ' s domestic usage it would leave around 6 . 8 mln tonnes for export of which , Czarnikow estimates , about 3 . 7 mln tonnes will be taken by the USSR , 1 . 530 mln by other socialist countries and the remainder for delivery to non - socialist bloc destinations . Czarnikow also estimated USSR 1986 / 87 production at 8 . 75 mln tonnes raw value which when added to the 3 . 7 mln imports from Cuba and set against its estimated domestic and export needs of 14 . 2 mln tonnes will leave a gap of 1 . 75 mln tonnes to be acquired from the world market . Soviet purchases to date may not be far short of that quantity , Czarnikow said .\",\n",
       " \"European Currency Units ( Ecus ) per 100 kilos at today ' s European Community ( EC ) tender , the U . K . Intervention Board said . Out of this , traders in France received 18 , 000 tonnes , in Denmark 15 , 000 , in West Germany 12 , 250 , in the Netherlands 12 , 000 and in Belgium 3 , 250 tonnes , it added . Earlier today , London traders had expected the subsidy for the current season whites campaign for licences to end - Aug to be between 44 . 10 and 44 . 50 Ecus per 100 kilos . Traders had also forecast today ' s total authorised sugar tonnage export awards to be between 60 , 000 and 70 , 000 tonnes versus 71 , 000 last week when the restitution was 43 . 248 Ecus . Cumulative export authorisations for the current 1986 / 87 season now stand at 1 , 915 , 270 tonnes ( 40 weeks ).\",\n",
       " 'The European Commission confirmed it authorised the export of 60 , 500 tonnes of current series white sugar at a maximum rebate of 43 . 147 European Currency Units ( ECUs ) per 100 kilos . Out of this , traders in the U . K . Received 43 , 500 tonnes , in the Netherlands 12 , 000 , in Denmark 4 , 000 and in West Germany 1 , 000 tonnes .',\n",
       " 'Egypt purchased 46 , 000 tonnes of optional origin sunflowerseed oil at its import tender yesterday , all for May arrival , traders said . The business comprised 41 , 000 tonnes of crude sunflowerseed oil in bulk at prices ranging from 344 . 25 to 348 dlrs and 5 , 000 tonnes of refined oil in drums at from 517 . 50 to 522 . 50 dlrs per tonne , cost and freight Alexandria , delivered quality terms .',\n",
       " 'Thailand exported 1 , 816 tonnes of tin metal in January , up from 1 , 731 in December and 1 , 330 a year ago , the Mineral Resources Department said . It said major buyers last month were Singapore , Japan , Britain , the Netherlands , Malaysia and the U . S .',\n",
       " \"About 9 , 000 miners employed by the state corporation , Comibol , declared a general strike as from midnight ( 0400 gmt ) to press for higher salaries , a statement by the federation for Bolivian mine workers said . It said the strike was called to defend the nationalised mining industry . The miners were willing to negotiate with the government of President Victor Paz Estenssoro , but only if it showed an intention to meet the strikers ' demands . The government said the strike was designed to cause it embarrassment during the four - day visit of West German President Richard Von Weizsaecker , which starts on Friday . The miners statement said police had violently evicted Comibol office workers in the city of Oruro after they began a hunger strike yesterday . The government has sacked about 20 , 000 miners from its deficit - ridden corporation since the collapse in the international price of tin . The lay - offs represent about two - thirds of the original workforce .\",\n",
       " 'March 1 , a government official said . The agreement by the seven - member Association of Tin Producing Countries ( ATPC ) aimed to cut the world surplus and boost prices . Following the accord , ATPC Chairman Subroto appealed to the United States to restrict its tin releases from its strategic stockpile . \" We don \\' t think that ( the U . S . government ) has a large influence in the ( tin ) market at this stage of the game ,\" said Thomas O \\' Donnell , Director of International Commodities at the State Department . Last year the United States released about 4 , 900 tonnes of tin to two ferroalloy firms .',\n",
       " \"Pakistan ' s trade deficit narrowed to 2 . 64 billion rupees ( provisional ) in February 1987 from 2 . 85 billion ( final ) in January and compared with 2 . 94 billion in February 1986 , the Federal Bureau of Statistics figures show . Exports fell to 5 . 04 billion rupees ( provisional ) in February from 5 . 34 billion ( final ) in January and compared with 3 . 90 billion in February 1986 . Imports fell to 7 . 68 billion rupees ( provisional ) in February from 8 . 19 billion ( final ) in January and compared with 6 . 84 billion in February 1986 .\",\n",
       " \"Turkey ' s trade deficit rose to 3 . 65 billion dlrs in 1986 from 3 . 39 billion in 1985 following increased imports from Western countries , figures from the State Statistics Institute show . Exports were down 6 . 3 pct at 7 . 45 billion dlrs , compared with 7 . 95 billion in 1985 , while imports were down 2 . 1 pct at 11 . 10 billion dlrs from 11 . 34 billion . Total trade with Mid - East Gulf states fell some 40 pct due to lower oil prices , with imports at 1 . 55 billion dlrs , compared with 2 . 74 billion , and exports at 1 . 65 billion after 2 . 72 billion . Exports to Organisation for Economic Cooperation and Development countries rose to 4 . 29 billion dlrs from 4 . 11 billion in 1985 , while imports were 4 . 56 billion after 3 . 55 billion . Turkey ' s trade deficit in December narrowed to 216 mln dlrs from 340 mln in November , and compared with 277 mln in December 1985 .\",\n",
       " \"Undersecretary of State Michael Armacost will visit Tokyo next week for meetings with high - level officials that will include discussions of a growing trade row over Japanese semiconductor electronics products . He is the first high - level U . S . official to visit Japan since President Reagan announced last week plans to impose tariffs worth up to 30 mln dls on Japanese electronic goods on April 17 in retaliation for Tokyo ' s alleged failure to live up to a pact on microchip trade signed last September . The trip is set for April 6 - 8 , the state department said .\",\n",
       " \"Japan ' s customs - cleared trade surplus in the first 20 days of February jumped to 3 . 58 billion dlrs from 1 . 94 billion a year earlier , the Finance Ministry said . The February interim surplus was sharply up from a 965 . 04 mln dlr surplus in the same January period . FOB exports rose 14 . 6 pct from a year earlier in the first 20 days of February to 10 . 91 billion , while CIF imports fell 3 . 2 pct to 7 . 33 billion . The average dollar / yen rates were 152 . 32 for exports and 152 . 31 for imports against 196 . 61 for exports and 196 . 27 for imports a year earlier .\",\n",
       " 'The Senate voted to condemn the proposed European common market tax on vegetable and fish fats and oils and said it would result in retaliation . The non binding Senate resolution , a sense of Senate sentiment , was approved on a 99 to 0 vote . \" The administration should communciate to the European Community the message that the United States will view the establishment of such a tax as inconsistent with the European Community \\' s obligations under the General Agreement on Tariffs and Trade that will result in the adoption of strong and immediate countermeasures ,\" the resolution stated .',\n",
       " 'The Commodity Credit Corporation , CCC , has reallocated two mln dlrs in credit gurantees previously earmarked for sales of U . S . protein meals to cover sales of vegetable oil and tallow to El Salvador , the U . S . Agriculture Department said . The action reduces coverage for sales of protein meals to 14 mln dlrs from 16 mln dlrs and creates new lines of one mln dlrs for tallow and / or greases and one mln dlrs for vegetable oils , the department said . All sales under the credit guarantee lines must be registered and exported by Sepember 30 , 1987 , it said . The guarantee rates include a charge to provide for a yearly interest rate coverage of up to 4 . 5 pct on the guaranteed value , the department said .',\n",
       " 'Agriculture Department proposals to offer 260 , 000 tonnes of subsidized vegetable oil to four countries are still under consideration by an interagency trade policy group , a USDA official close to the group said . The official , who asked not to be identified , dismissed a report circulating in markets today that the interagency trade policy review group had rejected the proposals . Under the proposals , USDA would offer vegetable oil under the export enhancement program , EEP , to four countries , including 80 , 000 tonnes to Turkey and 60 , 000 tonnes to Algeria , Morocco and Tunisia , industry sources said . The proposals \" are still under review \" by the interagency working group , the USDA official said .',\n",
       " \"Enough European Community ( EC ) states appear to be opposed to the proposals by the EC Commission for a 330 European currency unit ( Ecu ) a tonne tax on vegetable oils , fats and marine oils to block adoption by EC ministers , British Farm Minister Michael Jopling said . He told a news conference held during a meeting here of EC agriculture ministers that Britain , West Germany , the Netherlands , Denmark , and Portugal were all against the tax . Between them , these five countries had more than enough votes in the weighted voting system used in EC ministers ' meetings to block a decision , Jopling said .\",\n",
       " \"Denmark ' s wholesale price index fell 0 . 5 pct in February , giving a year - on - year fall of 4 . 9 pct , the National Statistics Office said . The index , base 1980 , stood at 135 in February , a fall of one point compared to January , against 142 in February 1986 .\",\n",
       " 'The wholesale price index rose 1 . 1 pct month - on - month in January 1987 after increasing by 0 . 3 pct in December 1986 , the national statistics institute Istat said . The index , base 1980 equals 100 , registered 172 . 8 in January compared with 170 . 9 in December . The January 1987 figure represents a fall over January 1986 of 1 . 7 pct after a year - on - year decrease in December 1986 of 2 . 5 pct .',\n",
       " \"South Korea ' s wholesale price index , base 1980 , rose 0 . 2 pct to 125 . 1 in March after a 0 . 2 pct rise in February but was 0 . 6 pct lower than its March 1986 level , the Bank of Korea said . The March consumer price index , same base , rose 0 . 5 pct to 146 . 0 after a 0 . 1 pct gain in February , for a year - on - year rise of 1 . 7 pct .\",\n",
       " 'Swiss wholesale prices fell by 0 . 3 pct in February , giving a drop of 4 . 3 pct from February 1986 , the Federal Office of Industry , Trade and Labour said . Prices had been unchanged in January , giving an annual drop of 4 . 6 pct . They fell by 2 . 6 pct in the year to February 1986 . The wholesale price index , base 1963 , stood at 168 . 5 in February from 176 . 1 last year . The office said the fall was largely due to lower prices for energy , raw materials and semi - finished goods . Consumer goods prices rose slightly .',\n",
       " 'Hudson Bay Mining and Smelting Co Ltd > said it cut prices for all grades of zinc sold in North America by one U . S . ct a pound and by one Canadian ct a pound , effective immediately . The new price for high grade zinc is 37 U . S . cts and 49 - 1 / 2 Canadian cts a pound , the company said . Special high grade , prime western and continuous galvanizing grade with controlled lead now costs 37 - 1 / 2 U . S . cts and 50 Canadian cts a pound . The new price for continuous galvanizing grade alloyed with controlled lead and aluminum additions is 37 - 3 / 4 U . S . cts and 50 - 1 / 4 Canadian cts a pound .',\n",
       " 'The U . S . Mint said it is seeking offers on 4 , 784 , 000 lbs of special high - grade zinc that it intends to purchase . It said selling offers will be due at 1100 hrs EST , March 24 . The Mint said two increments of 1 , 300 , 000 lbs each are for delivery the weeks of April 13 and april 20 to Ball Corp , Greeneville , Tenn ., and two increments of 1 , 092 , 000 lbs each are to be delivered the weeks of April 20 and April 27 to LaSalle Rolling Mills , LaSalle , Ill . Firms , in submitting offers , may elect to receive payment from the Mint by standard check or by wire transfer . Awards will be based on whichever method is most cost advantageous to the goverment at the time the awards are determined . The offers will have a minimum acceptance period of 10 calendar days , the Mint said .',\n",
       " 'Hudson Bay Mining and Smelting Co Ltd said it cut prices for all grades of zinc sold in North America by one U . S . cent a pound and by one Canadian cent a pound , effective immediately . The new price for high grade zinc is 37 U . S . cents and 49 - 1 / 2 Canadian cents a pound , the company said . Special high grade , prime western and continuous galvanizing grade with controlled lead now costs 37 - 1 / 2 U . S . cents and 50 Canadian cents a pound . The new price for continuous galvanizing grade alloyed with controlled lead and aluminum additions is 37 - 3 / 4 U . S . cents and 50 - 1 / 4 Canadian cents a pound .']"
      ]
     },
     "execution_count": 32,
     "metadata": {},
     "output_type": "execute_result"
    },
    {
     "data": {
      "application/javascript": [
       "\n",
       "            setTimeout(function() {\n",
       "                var nbb_cell_id = 32;\n",
       "                var nbb_unformatted_code = \"class_con_list\";\n",
       "                var nbb_formatted_code = \"class_con_list\";\n",
       "                var nbb_cells = Jupyter.notebook.get_cells();\n",
       "                for (var i = 0; i < nbb_cells.length; ++i) {\n",
       "                    if (nbb_cells[i].input_prompt_number == nbb_cell_id) {\n",
       "                        if (nbb_cells[i].get_text() == nbb_unformatted_code) {\n",
       "                             nbb_cells[i].set_text(nbb_formatted_code);\n",
       "                        }\n",
       "                        break;\n",
       "                    }\n",
       "                }\n",
       "            }, 500);\n",
       "            "
      ],
      "text/plain": [
       "<IPython.core.display.Javascript object>"
      ]
     },
     "metadata": {},
     "output_type": "display_data"
    }
   ],
   "source": [
    "class_con_list"
   ]
  },
  {
   "cell_type": "code",
   "execution_count": 28,
   "id": "04a1cda2",
   "metadata": {},
   "outputs": [
    {
     "data": {
      "text/html": [
       "<div>\n",
       "<style scoped>\n",
       "    .dataframe tbody tr th:only-of-type {\n",
       "        vertical-align: middle;\n",
       "    }\n",
       "\n",
       "    .dataframe tbody tr th {\n",
       "        vertical-align: top;\n",
       "    }\n",
       "\n",
       "    .dataframe thead th {\n",
       "        text-align: right;\n",
       "    }\n",
       "</style>\n",
       "<table border=\"1\" class=\"dataframe\">\n",
       "  <thead>\n",
       "    <tr style=\"text-align: right;\">\n",
       "      <th></th>\n",
       "      <th>DocID</th>\n",
       "      <th>Title</th>\n",
       "      <th>Content</th>\n",
       "      <th>top_label</th>\n",
       "      <th>title_length</th>\n",
       "      <th>con_length</th>\n",
       "    </tr>\n",
       "  </thead>\n",
       "  <tbody>\n",
       "    <tr>\n",
       "      <th>0</th>\n",
       "      <td>7789</td>\n",
       "      <td>WASTE MANAGEMENT &amp; lt ; WMX &gt; HIKES CHEMLAWN &amp;...</td>\n",
       "      <td>Waste Management Inc said it amended its offer...</td>\n",
       "      <td>acq</td>\n",
       "      <td>62</td>\n",
       "      <td>665</td>\n",
       "    </tr>\n",
       "    <tr>\n",
       "      <th>1</th>\n",
       "      <td>6103</td>\n",
       "      <td>GROUP BOOSTS GELCO &amp; lt ; GEL &gt; STAKE TO 8 . 2...</td>\n",
       "      <td>An investor group including New York - based M...</td>\n",
       "      <td>acq</td>\n",
       "      <td>50</td>\n",
       "      <td>424</td>\n",
       "    </tr>\n",
       "    <tr>\n",
       "      <th>2</th>\n",
       "      <td>3384</td>\n",
       "      <td>UNITED SECURITY &amp; lt ; UNSE &gt; TO BUY ROBERT BR...</td>\n",
       "      <td>United Security Financial Corp of Illinois sai...</td>\n",
       "      <td>acq</td>\n",
       "      <td>54</td>\n",
       "      <td>567</td>\n",
       "    </tr>\n",
       "    <tr>\n",
       "      <th>3</th>\n",
       "      <td>9064</td>\n",
       "      <td>MARYLAND NATIONAL &amp; lt ; MDNT &gt; SEES NEW NAME</td>\n",
       "      <td>Maryland National Corp , the parent of Marylan...</td>\n",
       "      <td>acq</td>\n",
       "      <td>45</td>\n",
       "      <td>578</td>\n",
       "    </tr>\n",
       "    <tr>\n",
       "      <th>4</th>\n",
       "      <td>12484</td>\n",
       "      <td>LME DETAILS MARCH 1987 TURNOVER</td>\n",
       "      <td>The London Metal Exchange , LME , issued turno...</td>\n",
       "      <td>alum</td>\n",
       "      <td>31</td>\n",
       "      <td>967</td>\n",
       "    </tr>\n",
       "    <tr>\n",
       "      <th>...</th>\n",
       "      <td>...</td>\n",
       "      <td>...</td>\n",
       "      <td>...</td>\n",
       "      <td>...</td>\n",
       "      <td>...</td>\n",
       "      <td>...</td>\n",
       "    </tr>\n",
       "    <tr>\n",
       "      <th>262</th>\n",
       "      <td>13232</td>\n",
       "      <td>SOUTH KOREAN WHOLESALE PRICES UP 0 . 2 PCT IN ...</td>\n",
       "      <td>South Korea ' s wholesale price index , base 1...</td>\n",
       "      <td>wpi</td>\n",
       "      <td>51</td>\n",
       "      <td>349</td>\n",
       "    </tr>\n",
       "    <tr>\n",
       "      <th>263</th>\n",
       "      <td>4641</td>\n",
       "      <td>SWISS WHOLESALE PRICES FALL 0 . 3 PCT IN FEBRUARY</td>\n",
       "      <td>Swiss wholesale prices fell by 0 . 3 pct in Fe...</td>\n",
       "      <td>wpi</td>\n",
       "      <td>49</td>\n",
       "      <td>533</td>\n",
       "    </tr>\n",
       "    <tr>\n",
       "      <th>264</th>\n",
       "      <td>3183</td>\n",
       "      <td>HUDSON BAY MINING CUTS U . S ., CANADA ZINC PR...</td>\n",
       "      <td>Hudson Bay Mining and Smelting Co Ltd &gt; said i...</td>\n",
       "      <td>zinc</td>\n",
       "      <td>57</td>\n",
       "      <td>610</td>\n",
       "    </tr>\n",
       "    <tr>\n",
       "      <th>266</th>\n",
       "      <td>3104</td>\n",
       "      <td>U . S . MINT SEEKING 4 , 784 , 000 LBS ZINC</td>\n",
       "      <td>The U . S . Mint said it is seeking offers on ...</td>\n",
       "      <td>zinc</td>\n",
       "      <td>43</td>\n",
       "      <td>798</td>\n",
       "    </tr>\n",
       "    <tr>\n",
       "      <th>267</th>\n",
       "      <td>3163</td>\n",
       "      <td>HUDSON BAY MINING CUTS U . S ., CANADA ZINC PR...</td>\n",
       "      <td>Hudson Bay Mining and Smelting Co Ltd said it ...</td>\n",
       "      <td>zinc</td>\n",
       "      <td>50</td>\n",
       "      <td>624</td>\n",
       "    </tr>\n",
       "  </tbody>\n",
       "</table>\n",
       "<p>204 rows × 6 columns</p>\n",
       "</div>"
      ],
      "text/plain": [
       "     DocID                                              Title  \\\n",
       "0     7789  WASTE MANAGEMENT & lt ; WMX > HIKES CHEMLAWN &...   \n",
       "1     6103  GROUP BOOSTS GELCO & lt ; GEL > STAKE TO 8 . 2...   \n",
       "2     3384  UNITED SECURITY & lt ; UNSE > TO BUY ROBERT BR...   \n",
       "3     9064      MARYLAND NATIONAL & lt ; MDNT > SEES NEW NAME   \n",
       "4    12484                    LME DETAILS MARCH 1987 TURNOVER   \n",
       "..     ...                                                ...   \n",
       "262  13232  SOUTH KOREAN WHOLESALE PRICES UP 0 . 2 PCT IN ...   \n",
       "263   4641  SWISS WHOLESALE PRICES FALL 0 . 3 PCT IN FEBRUARY   \n",
       "264   3183  HUDSON BAY MINING CUTS U . S ., CANADA ZINC PR...   \n",
       "266   3104        U . S . MINT SEEKING 4 , 784 , 000 LBS ZINC   \n",
       "267   3163  HUDSON BAY MINING CUTS U . S ., CANADA ZINC PR...   \n",
       "\n",
       "                                               Content top_label  \\\n",
       "0    Waste Management Inc said it amended its offer...       acq   \n",
       "1    An investor group including New York - based M...       acq   \n",
       "2    United Security Financial Corp of Illinois sai...       acq   \n",
       "3    Maryland National Corp , the parent of Marylan...       acq   \n",
       "4    The London Metal Exchange , LME , issued turno...      alum   \n",
       "..                                                 ...       ...   \n",
       "262  South Korea ' s wholesale price index , base 1...       wpi   \n",
       "263  Swiss wholesale prices fell by 0 . 3 pct in Fe...       wpi   \n",
       "264  Hudson Bay Mining and Smelting Co Ltd > said i...      zinc   \n",
       "266  The U . S . Mint said it is seeking offers on ...      zinc   \n",
       "267  Hudson Bay Mining and Smelting Co Ltd said it ...      zinc   \n",
       "\n",
       "     title_length  con_length  \n",
       "0              62         665  \n",
       "1              50         424  \n",
       "2              54         567  \n",
       "3              45         578  \n",
       "4              31         967  \n",
       "..            ...         ...  \n",
       "262            51         349  \n",
       "263            49         533  \n",
       "264            57         610  \n",
       "266            43         798  \n",
       "267            50         624  \n",
       "\n",
       "[204 rows x 6 columns]"
      ]
     },
     "execution_count": 28,
     "metadata": {},
     "output_type": "execute_result"
    },
    {
     "data": {
      "application/javascript": [
       "\n",
       "            setTimeout(function() {\n",
       "                var nbb_cell_id = 28;\n",
       "                var nbb_unformatted_code = \"sample_con_df\";\n",
       "                var nbb_formatted_code = \"sample_con_df\";\n",
       "                var nbb_cells = Jupyter.notebook.get_cells();\n",
       "                for (var i = 0; i < nbb_cells.length; ++i) {\n",
       "                    if (nbb_cells[i].input_prompt_number == nbb_cell_id) {\n",
       "                        if (nbb_cells[i].get_text() == nbb_unformatted_code) {\n",
       "                             nbb_cells[i].set_text(nbb_formatted_code);\n",
       "                        }\n",
       "                        break;\n",
       "                    }\n",
       "                }\n",
       "            }, 500);\n",
       "            "
      ],
      "text/plain": [
       "<IPython.core.display.Javascript object>"
      ]
     },
     "metadata": {},
     "output_type": "display_data"
    }
   ],
   "source": [
    "clfd_dict_list2 = [\n",
    "    classifier(title, new_cats, multi_label=True) for title in class_title_list\n",
    "]\n",
    "categorized_df = pd.DataFrame.from_records(clfd_dict_list2)\n",
    "categorized_df.to_pickle(\"C:/Users/rparg/Documents/Data/Reuters/categorized2.pkl\")"
   ]
  },
  {
   "cell_type": "code",
   "execution_count": null,
   "id": "1a0d9ff2",
   "metadata": {},
   "outputs": [],
   "source": []
  }
 ],
 "metadata": {
  "kernelspec": {
   "display_name": "Python 3 (ipykernel)",
   "language": "python",
   "name": "python3"
  },
  "language_info": {
   "codemirror_mode": {
    "name": "ipython",
    "version": 3
   },
   "file_extension": ".py",
   "mimetype": "text/x-python",
   "name": "python",
   "nbconvert_exporter": "python",
   "pygments_lexer": "ipython3",
   "version": "3.9.15"
  }
 },
 "nbformat": 4,
 "nbformat_minor": 5
}
